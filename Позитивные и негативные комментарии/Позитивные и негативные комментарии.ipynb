{
 "cells": [
  {
   "cell_type": "markdown",
   "metadata": {
    "toc": true
   },
   "source": [
    "<h1>Содержание<span class=\"tocSkip\"></span></h1>\n",
    "<div class=\"toc\"><ul class=\"toc-item\"><li><span><a href=\"#Подготовка\" data-toc-modified-id=\"Подготовка-1\"><span class=\"toc-item-num\">1&nbsp;&nbsp;</span>Подготовка</a></span><ul class=\"toc-item\"><li><span><a href=\"#Импорт-библиотек\" data-toc-modified-id=\"Импорт-библиотек-1.1\"><span class=\"toc-item-num\">1.1&nbsp;&nbsp;</span>Импорт библиотек</a></span></li><li><span><a href=\"#Открытие-файла\" data-toc-modified-id=\"Открытие-файла-1.2\"><span class=\"toc-item-num\">1.2&nbsp;&nbsp;</span>Открытие файла</a></span></li><li><span><a href=\"#Изучение-данных\" data-toc-modified-id=\"Изучение-данных-1.3\"><span class=\"toc-item-num\">1.3&nbsp;&nbsp;</span>Изучение данных</a></span></li><li><span><a href=\"#Лемматизация\" data-toc-modified-id=\"Лемматизация-1.4\"><span class=\"toc-item-num\">1.4&nbsp;&nbsp;</span>Лемматизация</a></span></li><li><span><a href=\"#Разделение-на-выборки\" data-toc-modified-id=\"Разделение-на-выборки-1.5\"><span class=\"toc-item-num\">1.5&nbsp;&nbsp;</span>Разделение на выборки</a></span></li><li><span><a href=\"#Вывод\" data-toc-modified-id=\"Вывод-1.6\"><span class=\"toc-item-num\">1.6&nbsp;&nbsp;</span>Вывод</a></span></li></ul></li><li><span><a href=\"#Обучение\" data-toc-modified-id=\"Обучение-2\"><span class=\"toc-item-num\">2&nbsp;&nbsp;</span>Обучение</a></span><ul class=\"toc-item\"><li><span><a href=\"#Логистическая-регрессия\" data-toc-modified-id=\"Логистическая-регрессия-2.1\"><span class=\"toc-item-num\">2.1&nbsp;&nbsp;</span>Логистическая регрессия</a></span></li><li><span><a href=\"#Классификация-деревом-решений\" data-toc-modified-id=\"Классификация-деревом-решений-2.2\"><span class=\"toc-item-num\">2.2&nbsp;&nbsp;</span>Классификация деревом решений</a></span></li><li><span><a href=\"#CatBoostClassifier\" data-toc-modified-id=\"CatBoostClassifier-2.3\"><span class=\"toc-item-num\">2.3&nbsp;&nbsp;</span>CatBoostClassifier</a></span></li><li><span><a href=\"#Вывод\" data-toc-modified-id=\"Вывод-2.4\"><span class=\"toc-item-num\">2.4&nbsp;&nbsp;</span>Вывод</a></span></li></ul></li><li><span><a href=\"#Тестирование\" data-toc-modified-id=\"Тестирование-3\"><span class=\"toc-item-num\">3&nbsp;&nbsp;</span>Тестирование</a></span></li><li><span><a href=\"#Выводы\" data-toc-modified-id=\"Выводы-4\"><span class=\"toc-item-num\">4&nbsp;&nbsp;</span>Выводы</a></span></li></ul></div>"
   ]
  },
  {
   "cell_type": "markdown",
   "metadata": {},
   "source": [
    "# Определение позитивных и негативных комментариев"
   ]
  },
  {
   "cell_type": "markdown",
   "metadata": {},
   "source": [
    "Интернет-магазин запускает новый сервис. Теперь пользователи могут редактировать и дополнять описания товаров. То есть клиенты предлагают свои правки и комментируют изменения других. Магазину нужен инструмент, который будет искать токсичные комментарии и отправлять их на модерацию. \n",
    "\n",
    "Необходимо обучить модель классифицировать комментарии на позитивные и негативные. "
   ]
  },
  {
   "cell_type": "markdown",
   "metadata": {},
   "source": [
    "## Подготовка"
   ]
  },
  {
   "cell_type": "markdown",
   "metadata": {},
   "source": [
    "### Импорт библиотек"
   ]
  },
  {
   "cell_type": "code",
   "execution_count": 1,
   "metadata": {},
   "outputs": [],
   "source": [
    "import nltk\n",
    "import pandas as pd\n",
    "import re\n",
    "\n",
    "\n",
    "from catboost import CatBoostClassifier\n",
    "from nltk.corpus import stopwords as nltk_stopwords\n",
    "from nltk.stem import WordNetLemmatizer\n",
    "from sklearn.feature_extraction.text import TfidfVectorizer\n",
    "from sklearn.linear_model import LogisticRegression\n",
    "from sklearn.model_selection import train_test_split, cross_val_score, GridSearchCV\n",
    "from sklearn.metrics import f1_score\n",
    "from sklearn.tree import DecisionTreeClassifier\n",
    "from sklearn.utils import shuffle"
   ]
  },
  {
   "cell_type": "markdown",
   "metadata": {},
   "source": [
    "### Открытие файла"
   ]
  },
  {
   "cell_type": "code",
   "execution_count": 2,
   "metadata": {},
   "outputs": [
    {
     "data": {
      "text/html": [
       "<div>\n",
       "<style scoped>\n",
       "    .dataframe tbody tr th:only-of-type {\n",
       "        vertical-align: middle;\n",
       "    }\n",
       "\n",
       "    .dataframe tbody tr th {\n",
       "        vertical-align: top;\n",
       "    }\n",
       "\n",
       "    .dataframe thead th {\n",
       "        text-align: right;\n",
       "    }\n",
       "</style>\n",
       "<table border=\"1\" class=\"dataframe\">\n",
       "  <thead>\n",
       "    <tr style=\"text-align: right;\">\n",
       "      <th></th>\n",
       "      <th>text</th>\n",
       "      <th>toxic</th>\n",
       "    </tr>\n",
       "  </thead>\n",
       "  <tbody>\n",
       "    <tr>\n",
       "      <th>0</th>\n",
       "      <td>Explanation\\nWhy the edits made under my usern...</td>\n",
       "      <td>0</td>\n",
       "    </tr>\n",
       "    <tr>\n",
       "      <th>1</th>\n",
       "      <td>D'aww! He matches this background colour I'm s...</td>\n",
       "      <td>0</td>\n",
       "    </tr>\n",
       "    <tr>\n",
       "      <th>2</th>\n",
       "      <td>Hey man, I'm really not trying to edit war. It...</td>\n",
       "      <td>0</td>\n",
       "    </tr>\n",
       "    <tr>\n",
       "      <th>3</th>\n",
       "      <td>\"\\nMore\\nI can't make any real suggestions on ...</td>\n",
       "      <td>0</td>\n",
       "    </tr>\n",
       "    <tr>\n",
       "      <th>4</th>\n",
       "      <td>You, sir, are my hero. Any chance you remember...</td>\n",
       "      <td>0</td>\n",
       "    </tr>\n",
       "  </tbody>\n",
       "</table>\n",
       "</div>"
      ],
      "text/plain": [
       "                                                text  toxic\n",
       "0  Explanation\\nWhy the edits made under my usern...      0\n",
       "1  D'aww! He matches this background colour I'm s...      0\n",
       "2  Hey man, I'm really not trying to edit war. It...      0\n",
       "3  \"\\nMore\\nI can't make any real suggestions on ...      0\n",
       "4  You, sir, are my hero. Any chance you remember...      0"
      ]
     },
     "execution_count": 2,
     "metadata": {},
     "output_type": "execute_result"
    }
   ],
   "source": [
    "data = pd.read_csv('/datasets/toxic_comments.csv')\n",
    "data.head()"
   ]
  },
  {
   "cell_type": "markdown",
   "metadata": {},
   "source": [
    "### Изучение данных"
   ]
  },
  {
   "cell_type": "markdown",
   "metadata": {},
   "source": [
    "Столбец text - текст комментария, toxic — целевой признак."
   ]
  },
  {
   "cell_type": "code",
   "execution_count": 3,
   "metadata": {},
   "outputs": [
    {
     "name": "stdout",
     "output_type": "stream",
     "text": [
      "<class 'pandas.core.frame.DataFrame'>\n",
      "RangeIndex: 159571 entries, 0 to 159570\n",
      "Data columns (total 2 columns):\n",
      " #   Column  Non-Null Count   Dtype \n",
      "---  ------  --------------   ----- \n",
      " 0   text    159571 non-null  object\n",
      " 1   toxic   159571 non-null  int64 \n",
      "dtypes: int64(1), object(1)\n",
      "memory usage: 2.4+ MB\n"
     ]
    }
   ],
   "source": [
    "data.info()"
   ]
  },
  {
   "cell_type": "code",
   "execution_count": 4,
   "metadata": {},
   "outputs": [
    {
     "data": {
      "text/html": [
       "<div>\n",
       "<style scoped>\n",
       "    .dataframe tbody tr th:only-of-type {\n",
       "        vertical-align: middle;\n",
       "    }\n",
       "\n",
       "    .dataframe tbody tr th {\n",
       "        vertical-align: top;\n",
       "    }\n",
       "\n",
       "    .dataframe thead th {\n",
       "        text-align: right;\n",
       "    }\n",
       "</style>\n",
       "<table border=\"1\" class=\"dataframe\">\n",
       "  <thead>\n",
       "    <tr style=\"text-align: right;\">\n",
       "      <th></th>\n",
       "      <th>toxic</th>\n",
       "    </tr>\n",
       "  </thead>\n",
       "  <tbody>\n",
       "    <tr>\n",
       "      <th>count</th>\n",
       "      <td>159571.000000</td>\n",
       "    </tr>\n",
       "    <tr>\n",
       "      <th>mean</th>\n",
       "      <td>0.101679</td>\n",
       "    </tr>\n",
       "    <tr>\n",
       "      <th>std</th>\n",
       "      <td>0.302226</td>\n",
       "    </tr>\n",
       "    <tr>\n",
       "      <th>min</th>\n",
       "      <td>0.000000</td>\n",
       "    </tr>\n",
       "    <tr>\n",
       "      <th>25%</th>\n",
       "      <td>0.000000</td>\n",
       "    </tr>\n",
       "    <tr>\n",
       "      <th>50%</th>\n",
       "      <td>0.000000</td>\n",
       "    </tr>\n",
       "    <tr>\n",
       "      <th>75%</th>\n",
       "      <td>0.000000</td>\n",
       "    </tr>\n",
       "    <tr>\n",
       "      <th>max</th>\n",
       "      <td>1.000000</td>\n",
       "    </tr>\n",
       "  </tbody>\n",
       "</table>\n",
       "</div>"
      ],
      "text/plain": [
       "               toxic\n",
       "count  159571.000000\n",
       "mean        0.101679\n",
       "std         0.302226\n",
       "min         0.000000\n",
       "25%         0.000000\n",
       "50%         0.000000\n",
       "75%         0.000000\n",
       "max         1.000000"
      ]
     },
     "execution_count": 4,
     "metadata": {},
     "output_type": "execute_result"
    }
   ],
   "source": [
    "data.describe()"
   ]
  },
  {
   "cell_type": "markdown",
   "metadata": {},
   "source": [
    "Датасет содержит 159571 строку, большая часть текстов комментариев позитивные."
   ]
  },
  {
   "cell_type": "code",
   "execution_count": 5,
   "metadata": {},
   "outputs": [
    {
     "data": {
      "text/plain": [
       "0    143346\n",
       "1     16225\n",
       "Name: toxic, dtype: int64"
      ]
     },
     "execution_count": 5,
     "metadata": {},
     "output_type": "execute_result"
    }
   ],
   "source": [
    "data['toxic'].value_counts()"
   ]
  },
  {
   "cell_type": "markdown",
   "metadata": {},
   "source": [
    "В столбце toxic присутствует дисбаланс классов."
   ]
  },
  {
   "cell_type": "markdown",
   "metadata": {},
   "source": [
    "### Лемматизация"
   ]
  },
  {
   "cell_type": "code",
   "execution_count": 6,
   "metadata": {},
   "outputs": [],
   "source": [
    "m = nltk.WordNetLemmatizer()\n",
    "\n",
    "def lemmatize(text):\n",
    "    re_text = re.sub(r'[^a-zA-Z]', ' ', text)\n",
    "    word_list = nltk.word_tokenize(re_text)\n",
    "    lemmatized = \" \".join([m.lemmatize(word) for word in word_list])\n",
    "    return \" \".join(lemmatized.split())\n",
    "\n",
    "data['text_lem'] = data['text'].apply(lemmatize)"
   ]
  },
  {
   "cell_type": "code",
   "execution_count": 7,
   "metadata": {},
   "outputs": [
    {
     "data": {
      "text/html": [
       "<div>\n",
       "<style scoped>\n",
       "    .dataframe tbody tr th:only-of-type {\n",
       "        vertical-align: middle;\n",
       "    }\n",
       "\n",
       "    .dataframe tbody tr th {\n",
       "        vertical-align: top;\n",
       "    }\n",
       "\n",
       "    .dataframe thead th {\n",
       "        text-align: right;\n",
       "    }\n",
       "</style>\n",
       "<table border=\"1\" class=\"dataframe\">\n",
       "  <thead>\n",
       "    <tr style=\"text-align: right;\">\n",
       "      <th></th>\n",
       "      <th>text</th>\n",
       "      <th>toxic</th>\n",
       "      <th>text_lem</th>\n",
       "    </tr>\n",
       "  </thead>\n",
       "  <tbody>\n",
       "    <tr>\n",
       "      <th>0</th>\n",
       "      <td>Explanation\\nWhy the edits made under my usern...</td>\n",
       "      <td>0</td>\n",
       "      <td>Explanation Why the edits made under my userna...</td>\n",
       "    </tr>\n",
       "    <tr>\n",
       "      <th>1</th>\n",
       "      <td>D'aww! He matches this background colour I'm s...</td>\n",
       "      <td>0</td>\n",
       "      <td>D aww He match this background colour I m seem...</td>\n",
       "    </tr>\n",
       "    <tr>\n",
       "      <th>2</th>\n",
       "      <td>Hey man, I'm really not trying to edit war. It...</td>\n",
       "      <td>0</td>\n",
       "      <td>Hey man I m really not trying to edit war It s...</td>\n",
       "    </tr>\n",
       "    <tr>\n",
       "      <th>3</th>\n",
       "      <td>\"\\nMore\\nI can't make any real suggestions on ...</td>\n",
       "      <td>0</td>\n",
       "      <td>More I can t make any real suggestion on impro...</td>\n",
       "    </tr>\n",
       "    <tr>\n",
       "      <th>4</th>\n",
       "      <td>You, sir, are my hero. Any chance you remember...</td>\n",
       "      <td>0</td>\n",
       "      <td>You sir are my hero Any chance you remember wh...</td>\n",
       "    </tr>\n",
       "  </tbody>\n",
       "</table>\n",
       "</div>"
      ],
      "text/plain": [
       "                                                text  toxic  \\\n",
       "0  Explanation\\nWhy the edits made under my usern...      0   \n",
       "1  D'aww! He matches this background colour I'm s...      0   \n",
       "2  Hey man, I'm really not trying to edit war. It...      0   \n",
       "3  \"\\nMore\\nI can't make any real suggestions on ...      0   \n",
       "4  You, sir, are my hero. Any chance you remember...      0   \n",
       "\n",
       "                                            text_lem  \n",
       "0  Explanation Why the edits made under my userna...  \n",
       "1  D aww He match this background colour I m seem...  \n",
       "2  Hey man I m really not trying to edit war It s...  \n",
       "3  More I can t make any real suggestion on impro...  \n",
       "4  You sir are my hero Any chance you remember wh...  "
      ]
     },
     "execution_count": 7,
     "metadata": {},
     "output_type": "execute_result"
    }
   ],
   "source": [
    "data.head()"
   ]
  },
  {
   "cell_type": "code",
   "execution_count": 8,
   "metadata": {},
   "outputs": [],
   "source": [
    "data = data.drop(['text'], axis=1)"
   ]
  },
  {
   "cell_type": "markdown",
   "metadata": {},
   "source": [
    "### Разделение на выборки"
   ]
  },
  {
   "cell_type": "code",
   "execution_count": 9,
   "metadata": {},
   "outputs": [],
   "source": [
    "target = data['toxic']\n",
    "features = data['text_lem']"
   ]
  },
  {
   "cell_type": "code",
   "execution_count": 10,
   "metadata": {},
   "outputs": [],
   "source": [
    "features_train, features_valid, target_train, target_valid = train_test_split(features, \n",
    "                                                                              target, \n",
    "                                                                              test_size=0.4, \n",
    "                                                                              random_state=12345)\n",
    "features_valid, features_test, target_valid, target_test = train_test_split(features_valid, \n",
    "                                                                            target_valid, \n",
    "                                                                            test_size=0.5,\n",
    "                                                                            random_state=12345)"
   ]
  },
  {
   "cell_type": "code",
   "execution_count": 11,
   "metadata": {},
   "outputs": [
    {
     "name": "stderr",
     "output_type": "stream",
     "text": [
      "[nltk_data] Downloading package stopwords to /home/jovyan/nltk_data...\n",
      "[nltk_data]   Package stopwords is already up-to-date!\n"
     ]
    }
   ],
   "source": [
    "nltk.download('stopwords')\n",
    "stopwords = set(nltk_stopwords.words('english'))\n",
    "\n",
    "count_tf_idf = TfidfVectorizer(stop_words=stopwords)"
   ]
  },
  {
   "cell_type": "code",
   "execution_count": 12,
   "metadata": {},
   "outputs": [
    {
     "name": "stdout",
     "output_type": "stream",
     "text": [
      "(95742, 121737)\n",
      "(31914, 121737)\n",
      "(31915, 121737)\n"
     ]
    }
   ],
   "source": [
    "features_train = count_tf_idf.fit_transform(features_train.values)\n",
    "features_valid = count_tf_idf.transform(features_valid.values)\n",
    "features_test = count_tf_idf.transform(features_test.values)\n",
    "print(features_train.shape)\n",
    "print(features_valid.shape)\n",
    "print(features_test.shape)"
   ]
  },
  {
   "cell_type": "markdown",
   "metadata": {},
   "source": [
    "### Вывод\n",
    "\n",
    "Датасет содержит 159571 строку, большая часть текстов комментариев позитивные.\n",
    "\n",
    "Столбец text - текст комментария, toxic — целевой признак.\n",
    "\n",
    "В столбце toxic присутствует дисбаланс классов. При обучении моделей при подборе гиперпараметров учтем его.\n",
    "\n",
    "Проведена леметизация и раделение на выборки."
   ]
  },
  {
   "cell_type": "markdown",
   "metadata": {},
   "source": [
    "## Обучение"
   ]
  },
  {
   "cell_type": "markdown",
   "metadata": {},
   "source": [
    "### Логистическая регрессия"
   ]
  },
  {
   "cell_type": "code",
   "execution_count": 17,
   "metadata": {},
   "outputs": [
    {
     "name": "stderr",
     "output_type": "stream",
     "text": [
      "/opt/conda/lib/python3.9/site-packages/sklearn/linear_model/_sag.py:328: ConvergenceWarning: The max_iter was reached which means the coef_ did not converge\n",
      "  warnings.warn(\"The max_iter was reached which means \"\n",
      "/opt/conda/lib/python3.9/site-packages/sklearn/linear_model/_sag.py:328: ConvergenceWarning: The max_iter was reached which means the coef_ did not converge\n",
      "  warnings.warn(\"The max_iter was reached which means \"\n",
      "/opt/conda/lib/python3.9/site-packages/sklearn/linear_model/_sag.py:328: ConvergenceWarning: The max_iter was reached which means the coef_ did not converge\n",
      "  warnings.warn(\"The max_iter was reached which means \"\n",
      "/opt/conda/lib/python3.9/site-packages/sklearn/linear_model/_sag.py:328: ConvergenceWarning: The max_iter was reached which means the coef_ did not converge\n",
      "  warnings.warn(\"The max_iter was reached which means \"\n",
      "/opt/conda/lib/python3.9/site-packages/sklearn/linear_model/_sag.py:328: ConvergenceWarning: The max_iter was reached which means the coef_ did not converge\n",
      "  warnings.warn(\"The max_iter was reached which means \"\n",
      "/opt/conda/lib/python3.9/site-packages/sklearn/linear_model/_sag.py:328: ConvergenceWarning: The max_iter was reached which means the coef_ did not converge\n",
      "  warnings.warn(\"The max_iter was reached which means \"\n",
      "/opt/conda/lib/python3.9/site-packages/sklearn/linear_model/_logistic.py:763: ConvergenceWarning: lbfgs failed to converge (status=1):\n",
      "STOP: TOTAL NO. of ITERATIONS REACHED LIMIT.\n",
      "\n",
      "Increase the number of iterations (max_iter) or scale the data as shown in:\n",
      "    https://scikit-learn.org/stable/modules/preprocessing.html\n",
      "Please also refer to the documentation for alternative solver options:\n",
      "    https://scikit-learn.org/stable/modules/linear_model.html#logistic-regression\n",
      "  n_iter_i = _check_optimize_result(\n",
      "/opt/conda/lib/python3.9/site-packages/sklearn/linear_model/_logistic.py:763: ConvergenceWarning: lbfgs failed to converge (status=1):\n",
      "STOP: TOTAL NO. of ITERATIONS REACHED LIMIT.\n",
      "\n",
      "Increase the number of iterations (max_iter) or scale the data as shown in:\n",
      "    https://scikit-learn.org/stable/modules/preprocessing.html\n",
      "Please also refer to the documentation for alternative solver options:\n",
      "    https://scikit-learn.org/stable/modules/linear_model.html#logistic-regression\n",
      "  n_iter_i = _check_optimize_result(\n",
      "/opt/conda/lib/python3.9/site-packages/sklearn/linear_model/_logistic.py:763: ConvergenceWarning: lbfgs failed to converge (status=1):\n",
      "STOP: TOTAL NO. of ITERATIONS REACHED LIMIT.\n",
      "\n",
      "Increase the number of iterations (max_iter) or scale the data as shown in:\n",
      "    https://scikit-learn.org/stable/modules/preprocessing.html\n",
      "Please also refer to the documentation for alternative solver options:\n",
      "    https://scikit-learn.org/stable/modules/linear_model.html#logistic-regression\n",
      "  n_iter_i = _check_optimize_result(\n",
      "/opt/conda/lib/python3.9/site-packages/sklearn/linear_model/_logistic.py:763: ConvergenceWarning: lbfgs failed to converge (status=1):\n",
      "STOP: TOTAL NO. of ITERATIONS REACHED LIMIT.\n",
      "\n",
      "Increase the number of iterations (max_iter) or scale the data as shown in:\n",
      "    https://scikit-learn.org/stable/modules/preprocessing.html\n",
      "Please also refer to the documentation for alternative solver options:\n",
      "    https://scikit-learn.org/stable/modules/linear_model.html#logistic-regression\n",
      "  n_iter_i = _check_optimize_result(\n",
      "/opt/conda/lib/python3.9/site-packages/sklearn/linear_model/_sag.py:328: ConvergenceWarning: The max_iter was reached which means the coef_ did not converge\n",
      "  warnings.warn(\"The max_iter was reached which means \"\n",
      "/opt/conda/lib/python3.9/site-packages/sklearn/linear_model/_sag.py:328: ConvergenceWarning: The max_iter was reached which means the coef_ did not converge\n",
      "  warnings.warn(\"The max_iter was reached which means \"\n",
      "/opt/conda/lib/python3.9/site-packages/sklearn/linear_model/_sag.py:328: ConvergenceWarning: The max_iter was reached which means the coef_ did not converge\n",
      "  warnings.warn(\"The max_iter was reached which means \"\n",
      "/opt/conda/lib/python3.9/site-packages/sklearn/linear_model/_sag.py:328: ConvergenceWarning: The max_iter was reached which means the coef_ did not converge\n",
      "  warnings.warn(\"The max_iter was reached which means \"\n",
      "/opt/conda/lib/python3.9/site-packages/sklearn/linear_model/_sag.py:328: ConvergenceWarning: The max_iter was reached which means the coef_ did not converge\n",
      "  warnings.warn(\"The max_iter was reached which means \"\n",
      "/opt/conda/lib/python3.9/site-packages/sklearn/linear_model/_sag.py:328: ConvergenceWarning: The max_iter was reached which means the coef_ did not converge\n",
      "  warnings.warn(\"The max_iter was reached which means \"\n",
      "/opt/conda/lib/python3.9/site-packages/sklearn/linear_model/_sag.py:328: ConvergenceWarning: The max_iter was reached which means the coef_ did not converge\n",
      "  warnings.warn(\"The max_iter was reached which means \"\n",
      "/opt/conda/lib/python3.9/site-packages/sklearn/linear_model/_sag.py:328: ConvergenceWarning: The max_iter was reached which means the coef_ did not converge\n",
      "  warnings.warn(\"The max_iter was reached which means \"\n",
      "/opt/conda/lib/python3.9/site-packages/sklearn/linear_model/_sag.py:328: ConvergenceWarning: The max_iter was reached which means the coef_ did not converge\n",
      "  warnings.warn(\"The max_iter was reached which means \"\n",
      "/opt/conda/lib/python3.9/site-packages/sklearn/linear_model/_sag.py:328: ConvergenceWarning: The max_iter was reached which means the coef_ did not converge\n",
      "  warnings.warn(\"The max_iter was reached which means \"\n",
      "/opt/conda/lib/python3.9/site-packages/sklearn/linear_model/_sag.py:328: ConvergenceWarning: The max_iter was reached which means the coef_ did not converge\n",
      "  warnings.warn(\"The max_iter was reached which means \"\n",
      "/opt/conda/lib/python3.9/site-packages/sklearn/linear_model/_sag.py:328: ConvergenceWarning: The max_iter was reached which means the coef_ did not converge\n",
      "  warnings.warn(\"The max_iter was reached which means \"\n",
      "/opt/conda/lib/python3.9/site-packages/sklearn/linear_model/_logistic.py:763: ConvergenceWarning: lbfgs failed to converge (status=1):\n",
      "STOP: TOTAL NO. of ITERATIONS REACHED LIMIT.\n",
      "\n",
      "Increase the number of iterations (max_iter) or scale the data as shown in:\n",
      "    https://scikit-learn.org/stable/modules/preprocessing.html\n",
      "Please also refer to the documentation for alternative solver options:\n",
      "    https://scikit-learn.org/stable/modules/linear_model.html#logistic-regression\n",
      "  n_iter_i = _check_optimize_result(\n",
      "/opt/conda/lib/python3.9/site-packages/sklearn/linear_model/_logistic.py:763: ConvergenceWarning: lbfgs failed to converge (status=1):\n",
      "STOP: TOTAL NO. of ITERATIONS REACHED LIMIT.\n",
      "\n",
      "Increase the number of iterations (max_iter) or scale the data as shown in:\n",
      "    https://scikit-learn.org/stable/modules/preprocessing.html\n",
      "Please also refer to the documentation for alternative solver options:\n",
      "    https://scikit-learn.org/stable/modules/linear_model.html#logistic-regression\n",
      "  n_iter_i = _check_optimize_result(\n",
      "/opt/conda/lib/python3.9/site-packages/sklearn/linear_model/_logistic.py:763: ConvergenceWarning: lbfgs failed to converge (status=1):\n",
      "STOP: TOTAL NO. of ITERATIONS REACHED LIMIT.\n",
      "\n",
      "Increase the number of iterations (max_iter) or scale the data as shown in:\n",
      "    https://scikit-learn.org/stable/modules/preprocessing.html\n",
      "Please also refer to the documentation for alternative solver options:\n",
      "    https://scikit-learn.org/stable/modules/linear_model.html#logistic-regression\n",
      "  n_iter_i = _check_optimize_result(\n",
      "/opt/conda/lib/python3.9/site-packages/sklearn/linear_model/_logistic.py:763: ConvergenceWarning: lbfgs failed to converge (status=1):\n",
      "STOP: TOTAL NO. of ITERATIONS REACHED LIMIT.\n",
      "\n",
      "Increase the number of iterations (max_iter) or scale the data as shown in:\n",
      "    https://scikit-learn.org/stable/modules/preprocessing.html\n",
      "Please also refer to the documentation for alternative solver options:\n",
      "    https://scikit-learn.org/stable/modules/linear_model.html#logistic-regression\n",
      "  n_iter_i = _check_optimize_result(\n",
      "/opt/conda/lib/python3.9/site-packages/sklearn/linear_model/_logistic.py:763: ConvergenceWarning: lbfgs failed to converge (status=1):\n",
      "STOP: TOTAL NO. of ITERATIONS REACHED LIMIT.\n",
      "\n",
      "Increase the number of iterations (max_iter) or scale the data as shown in:\n",
      "    https://scikit-learn.org/stable/modules/preprocessing.html\n",
      "Please also refer to the documentation for alternative solver options:\n",
      "    https://scikit-learn.org/stable/modules/linear_model.html#logistic-regression\n",
      "  n_iter_i = _check_optimize_result(\n",
      "/opt/conda/lib/python3.9/site-packages/sklearn/linear_model/_sag.py:328: ConvergenceWarning: The max_iter was reached which means the coef_ did not converge\n",
      "  warnings.warn(\"The max_iter was reached which means \"\n",
      "/opt/conda/lib/python3.9/site-packages/sklearn/linear_model/_sag.py:328: ConvergenceWarning: The max_iter was reached which means the coef_ did not converge\n",
      "  warnings.warn(\"The max_iter was reached which means \"\n",
      "/opt/conda/lib/python3.9/site-packages/sklearn/linear_model/_sag.py:328: ConvergenceWarning: The max_iter was reached which means the coef_ did not converge\n",
      "  warnings.warn(\"The max_iter was reached which means \"\n",
      "/opt/conda/lib/python3.9/site-packages/sklearn/linear_model/_sag.py:328: ConvergenceWarning: The max_iter was reached which means the coef_ did not converge\n",
      "  warnings.warn(\"The max_iter was reached which means \"\n",
      "/opt/conda/lib/python3.9/site-packages/sklearn/linear_model/_sag.py:328: ConvergenceWarning: The max_iter was reached which means the coef_ did not converge\n",
      "  warnings.warn(\"The max_iter was reached which means \"\n",
      "/opt/conda/lib/python3.9/site-packages/sklearn/linear_model/_sag.py:328: ConvergenceWarning: The max_iter was reached which means the coef_ did not converge\n",
      "  warnings.warn(\"The max_iter was reached which means \"\n",
      "/opt/conda/lib/python3.9/site-packages/sklearn/linear_model/_sag.py:328: ConvergenceWarning: The max_iter was reached which means the coef_ did not converge\n",
      "  warnings.warn(\"The max_iter was reached which means \"\n",
      "/opt/conda/lib/python3.9/site-packages/sklearn/linear_model/_sag.py:328: ConvergenceWarning: The max_iter was reached which means the coef_ did not converge\n",
      "  warnings.warn(\"The max_iter was reached which means \"\n",
      "/opt/conda/lib/python3.9/site-packages/sklearn/linear_model/_sag.py:328: ConvergenceWarning: The max_iter was reached which means the coef_ did not converge\n",
      "  warnings.warn(\"The max_iter was reached which means \"\n",
      "/opt/conda/lib/python3.9/site-packages/sklearn/linear_model/_sag.py:328: ConvergenceWarning: The max_iter was reached which means the coef_ did not converge\n",
      "  warnings.warn(\"The max_iter was reached which means \"\n",
      "/opt/conda/lib/python3.9/site-packages/sklearn/linear_model/_sag.py:328: ConvergenceWarning: The max_iter was reached which means the coef_ did not converge\n",
      "  warnings.warn(\"The max_iter was reached which means \"\n",
      "/opt/conda/lib/python3.9/site-packages/sklearn/linear_model/_sag.py:328: ConvergenceWarning: The max_iter was reached which means the coef_ did not converge\n",
      "  warnings.warn(\"The max_iter was reached which means \"\n",
      "/opt/conda/lib/python3.9/site-packages/sklearn/linear_model/_logistic.py:763: ConvergenceWarning: lbfgs failed to converge (status=1):\n",
      "STOP: TOTAL NO. of ITERATIONS REACHED LIMIT.\n",
      "\n",
      "Increase the number of iterations (max_iter) or scale the data as shown in:\n",
      "    https://scikit-learn.org/stable/modules/preprocessing.html\n",
      "Please also refer to the documentation for alternative solver options:\n",
      "    https://scikit-learn.org/stable/modules/linear_model.html#logistic-regression\n",
      "  n_iter_i = _check_optimize_result(\n",
      "/opt/conda/lib/python3.9/site-packages/sklearn/linear_model/_logistic.py:763: ConvergenceWarning: lbfgs failed to converge (status=1):\n",
      "STOP: TOTAL NO. of ITERATIONS REACHED LIMIT.\n",
      "\n",
      "Increase the number of iterations (max_iter) or scale the data as shown in:\n",
      "    https://scikit-learn.org/stable/modules/preprocessing.html\n",
      "Please also refer to the documentation for alternative solver options:\n",
      "    https://scikit-learn.org/stable/modules/linear_model.html#logistic-regression\n",
      "  n_iter_i = _check_optimize_result(\n",
      "/opt/conda/lib/python3.9/site-packages/sklearn/linear_model/_logistic.py:763: ConvergenceWarning: lbfgs failed to converge (status=1):\n",
      "STOP: TOTAL NO. of ITERATIONS REACHED LIMIT.\n",
      "\n",
      "Increase the number of iterations (max_iter) or scale the data as shown in:\n",
      "    https://scikit-learn.org/stable/modules/preprocessing.html\n",
      "Please also refer to the documentation for alternative solver options:\n",
      "    https://scikit-learn.org/stable/modules/linear_model.html#logistic-regression\n",
      "  n_iter_i = _check_optimize_result(\n",
      "/opt/conda/lib/python3.9/site-packages/sklearn/linear_model/_logistic.py:763: ConvergenceWarning: lbfgs failed to converge (status=1):\n",
      "STOP: TOTAL NO. of ITERATIONS REACHED LIMIT.\n",
      "\n",
      "Increase the number of iterations (max_iter) or scale the data as shown in:\n",
      "    https://scikit-learn.org/stable/modules/preprocessing.html\n",
      "Please also refer to the documentation for alternative solver options:\n",
      "    https://scikit-learn.org/stable/modules/linear_model.html#logistic-regression\n",
      "  n_iter_i = _check_optimize_result(\n",
      "/opt/conda/lib/python3.9/site-packages/sklearn/linear_model/_logistic.py:763: ConvergenceWarning: lbfgs failed to converge (status=1):\n",
      "STOP: TOTAL NO. of ITERATIONS REACHED LIMIT.\n",
      "\n",
      "Increase the number of iterations (max_iter) or scale the data as shown in:\n",
      "    https://scikit-learn.org/stable/modules/preprocessing.html\n",
      "Please also refer to the documentation for alternative solver options:\n",
      "    https://scikit-learn.org/stable/modules/linear_model.html#logistic-regression\n",
      "  n_iter_i = _check_optimize_result(\n",
      "/opt/conda/lib/python3.9/site-packages/sklearn/linear_model/_logistic.py:763: ConvergenceWarning: lbfgs failed to converge (status=1):\n",
      "STOP: TOTAL NO. of ITERATIONS REACHED LIMIT.\n",
      "\n",
      "Increase the number of iterations (max_iter) or scale the data as shown in:\n",
      "    https://scikit-learn.org/stable/modules/preprocessing.html\n",
      "Please also refer to the documentation for alternative solver options:\n",
      "    https://scikit-learn.org/stable/modules/linear_model.html#logistic-regression\n",
      "  n_iter_i = _check_optimize_result(\n",
      "/opt/conda/lib/python3.9/site-packages/sklearn/linear_model/_sag.py:328: ConvergenceWarning: The max_iter was reached which means the coef_ did not converge\n",
      "  warnings.warn(\"The max_iter was reached which means \"\n",
      "/opt/conda/lib/python3.9/site-packages/sklearn/linear_model/_sag.py:328: ConvergenceWarning: The max_iter was reached which means the coef_ did not converge\n",
      "  warnings.warn(\"The max_iter was reached which means \"\n",
      "/opt/conda/lib/python3.9/site-packages/sklearn/linear_model/_sag.py:328: ConvergenceWarning: The max_iter was reached which means the coef_ did not converge\n",
      "  warnings.warn(\"The max_iter was reached which means \"\n",
      "/opt/conda/lib/python3.9/site-packages/sklearn/linear_model/_sag.py:328: ConvergenceWarning: The max_iter was reached which means the coef_ did not converge\n",
      "  warnings.warn(\"The max_iter was reached which means \"\n",
      "/opt/conda/lib/python3.9/site-packages/sklearn/linear_model/_sag.py:328: ConvergenceWarning: The max_iter was reached which means the coef_ did not converge\n",
      "  warnings.warn(\"The max_iter was reached which means \"\n",
      "/opt/conda/lib/python3.9/site-packages/sklearn/linear_model/_sag.py:328: ConvergenceWarning: The max_iter was reached which means the coef_ did not converge\n",
      "  warnings.warn(\"The max_iter was reached which means \"\n",
      "/opt/conda/lib/python3.9/site-packages/sklearn/linear_model/_logistic.py:763: ConvergenceWarning: lbfgs failed to converge (status=1):\n",
      "STOP: TOTAL NO. of ITERATIONS REACHED LIMIT.\n",
      "\n",
      "Increase the number of iterations (max_iter) or scale the data as shown in:\n",
      "    https://scikit-learn.org/stable/modules/preprocessing.html\n",
      "Please also refer to the documentation for alternative solver options:\n",
      "    https://scikit-learn.org/stable/modules/linear_model.html#logistic-regression\n",
      "  n_iter_i = _check_optimize_result(\n",
      "/opt/conda/lib/python3.9/site-packages/sklearn/linear_model/_sag.py:328: ConvergenceWarning: The max_iter was reached which means the coef_ did not converge\n",
      "  warnings.warn(\"The max_iter was reached which means \"\n",
      "/opt/conda/lib/python3.9/site-packages/sklearn/linear_model/_sag.py:328: ConvergenceWarning: The max_iter was reached which means the coef_ did not converge\n",
      "  warnings.warn(\"The max_iter was reached which means \"\n",
      "/opt/conda/lib/python3.9/site-packages/sklearn/linear_model/_sag.py:328: ConvergenceWarning: The max_iter was reached which means the coef_ did not converge\n",
      "  warnings.warn(\"The max_iter was reached which means \"\n",
      "/opt/conda/lib/python3.9/site-packages/sklearn/linear_model/_sag.py:328: ConvergenceWarning: The max_iter was reached which means the coef_ did not converge\n",
      "  warnings.warn(\"The max_iter was reached which means \"\n",
      "/opt/conda/lib/python3.9/site-packages/sklearn/linear_model/_sag.py:328: ConvergenceWarning: The max_iter was reached which means the coef_ did not converge\n",
      "  warnings.warn(\"The max_iter was reached which means \"\n",
      "/opt/conda/lib/python3.9/site-packages/sklearn/linear_model/_sag.py:328: ConvergenceWarning: The max_iter was reached which means the coef_ did not converge\n",
      "  warnings.warn(\"The max_iter was reached which means \"\n",
      "/opt/conda/lib/python3.9/site-packages/sklearn/linear_model/_logistic.py:763: ConvergenceWarning: lbfgs failed to converge (status=1):\n",
      "STOP: TOTAL NO. of ITERATIONS REACHED LIMIT.\n",
      "\n",
      "Increase the number of iterations (max_iter) or scale the data as shown in:\n",
      "    https://scikit-learn.org/stable/modules/preprocessing.html\n",
      "Please also refer to the documentation for alternative solver options:\n",
      "    https://scikit-learn.org/stable/modules/linear_model.html#logistic-regression\n",
      "  n_iter_i = _check_optimize_result(\n",
      "/opt/conda/lib/python3.9/site-packages/sklearn/linear_model/_logistic.py:763: ConvergenceWarning: lbfgs failed to converge (status=1):\n",
      "STOP: TOTAL NO. of ITERATIONS REACHED LIMIT.\n",
      "\n",
      "Increase the number of iterations (max_iter) or scale the data as shown in:\n",
      "    https://scikit-learn.org/stable/modules/preprocessing.html\n",
      "Please also refer to the documentation for alternative solver options:\n",
      "    https://scikit-learn.org/stable/modules/linear_model.html#logistic-regression\n",
      "  n_iter_i = _check_optimize_result(\n",
      "/opt/conda/lib/python3.9/site-packages/sklearn/linear_model/_logistic.py:763: ConvergenceWarning: lbfgs failed to converge (status=1):\n",
      "STOP: TOTAL NO. of ITERATIONS REACHED LIMIT.\n",
      "\n",
      "Increase the number of iterations (max_iter) or scale the data as shown in:\n",
      "    https://scikit-learn.org/stable/modules/preprocessing.html\n",
      "Please also refer to the documentation for alternative solver options:\n",
      "    https://scikit-learn.org/stable/modules/linear_model.html#logistic-regression\n",
      "  n_iter_i = _check_optimize_result(\n",
      "/opt/conda/lib/python3.9/site-packages/sklearn/linear_model/_sag.py:328: ConvergenceWarning: The max_iter was reached which means the coef_ did not converge\n",
      "  warnings.warn(\"The max_iter was reached which means \"\n",
      "/opt/conda/lib/python3.9/site-packages/sklearn/linear_model/_sag.py:328: ConvergenceWarning: The max_iter was reached which means the coef_ did not converge\n",
      "  warnings.warn(\"The max_iter was reached which means \"\n",
      "/opt/conda/lib/python3.9/site-packages/sklearn/linear_model/_sag.py:328: ConvergenceWarning: The max_iter was reached which means the coef_ did not converge\n",
      "  warnings.warn(\"The max_iter was reached which means \"\n",
      "/opt/conda/lib/python3.9/site-packages/sklearn/linear_model/_sag.py:328: ConvergenceWarning: The max_iter was reached which means the coef_ did not converge\n",
      "  warnings.warn(\"The max_iter was reached which means \"\n",
      "/opt/conda/lib/python3.9/site-packages/sklearn/linear_model/_sag.py:328: ConvergenceWarning: The max_iter was reached which means the coef_ did not converge\n",
      "  warnings.warn(\"The max_iter was reached which means \"\n",
      "/opt/conda/lib/python3.9/site-packages/sklearn/linear_model/_sag.py:328: ConvergenceWarning: The max_iter was reached which means the coef_ did not converge\n",
      "  warnings.warn(\"The max_iter was reached which means \"\n",
      "/opt/conda/lib/python3.9/site-packages/sklearn/linear_model/_sag.py:328: ConvergenceWarning: The max_iter was reached which means the coef_ did not converge\n",
      "  warnings.warn(\"The max_iter was reached which means \"\n",
      "/opt/conda/lib/python3.9/site-packages/sklearn/linear_model/_sag.py:328: ConvergenceWarning: The max_iter was reached which means the coef_ did not converge\n",
      "  warnings.warn(\"The max_iter was reached which means \"\n",
      "/opt/conda/lib/python3.9/site-packages/sklearn/linear_model/_sag.py:328: ConvergenceWarning: The max_iter was reached which means the coef_ did not converge\n",
      "  warnings.warn(\"The max_iter was reached which means \"\n",
      "/opt/conda/lib/python3.9/site-packages/sklearn/linear_model/_logistic.py:763: ConvergenceWarning: lbfgs failed to converge (status=1):\n",
      "STOP: TOTAL NO. of ITERATIONS REACHED LIMIT.\n",
      "\n",
      "Increase the number of iterations (max_iter) or scale the data as shown in:\n",
      "    https://scikit-learn.org/stable/modules/preprocessing.html\n",
      "Please also refer to the documentation for alternative solver options:\n",
      "    https://scikit-learn.org/stable/modules/linear_model.html#logistic-regression\n",
      "  n_iter_i = _check_optimize_result(\n",
      "/opt/conda/lib/python3.9/site-packages/sklearn/linear_model/_logistic.py:763: ConvergenceWarning: lbfgs failed to converge (status=1):\n",
      "STOP: TOTAL NO. of ITERATIONS REACHED LIMIT.\n",
      "\n",
      "Increase the number of iterations (max_iter) or scale the data as shown in:\n",
      "    https://scikit-learn.org/stable/modules/preprocessing.html\n",
      "Please also refer to the documentation for alternative solver options:\n",
      "    https://scikit-learn.org/stable/modules/linear_model.html#logistic-regression\n",
      "  n_iter_i = _check_optimize_result(\n",
      "/opt/conda/lib/python3.9/site-packages/sklearn/linear_model/_logistic.py:763: ConvergenceWarning: lbfgs failed to converge (status=1):\n",
      "STOP: TOTAL NO. of ITERATIONS REACHED LIMIT.\n",
      "\n",
      "Increase the number of iterations (max_iter) or scale the data as shown in:\n",
      "    https://scikit-learn.org/stable/modules/preprocessing.html\n",
      "Please also refer to the documentation for alternative solver options:\n",
      "    https://scikit-learn.org/stable/modules/linear_model.html#logistic-regression\n",
      "  n_iter_i = _check_optimize_result(\n",
      "/opt/conda/lib/python3.9/site-packages/sklearn/linear_model/_sag.py:328: ConvergenceWarning: The max_iter was reached which means the coef_ did not converge\n",
      "  warnings.warn(\"The max_iter was reached which means \"\n",
      "/opt/conda/lib/python3.9/site-packages/sklearn/linear_model/_sag.py:328: ConvergenceWarning: The max_iter was reached which means the coef_ did not converge\n",
      "  warnings.warn(\"The max_iter was reached which means \"\n",
      "/opt/conda/lib/python3.9/site-packages/sklearn/linear_model/_sag.py:328: ConvergenceWarning: The max_iter was reached which means the coef_ did not converge\n",
      "  warnings.warn(\"The max_iter was reached which means \"\n",
      "/opt/conda/lib/python3.9/site-packages/sklearn/linear_model/_sag.py:328: ConvergenceWarning: The max_iter was reached which means the coef_ did not converge\n",
      "  warnings.warn(\"The max_iter was reached which means \"\n",
      "/opt/conda/lib/python3.9/site-packages/sklearn/linear_model/_sag.py:328: ConvergenceWarning: The max_iter was reached which means the coef_ did not converge\n",
      "  warnings.warn(\"The max_iter was reached which means \"\n",
      "/opt/conda/lib/python3.9/site-packages/sklearn/linear_model/_sag.py:328: ConvergenceWarning: The max_iter was reached which means the coef_ did not converge\n",
      "  warnings.warn(\"The max_iter was reached which means \"\n",
      "/opt/conda/lib/python3.9/site-packages/sklearn/linear_model/_logistic.py:763: ConvergenceWarning: lbfgs failed to converge (status=1):\n",
      "STOP: TOTAL NO. of ITERATIONS REACHED LIMIT.\n",
      "\n",
      "Increase the number of iterations (max_iter) or scale the data as shown in:\n",
      "    https://scikit-learn.org/stable/modules/preprocessing.html\n",
      "Please also refer to the documentation for alternative solver options:\n",
      "    https://scikit-learn.org/stable/modules/linear_model.html#logistic-regression\n",
      "  n_iter_i = _check_optimize_result(\n",
      "/opt/conda/lib/python3.9/site-packages/sklearn/linear_model/_logistic.py:763: ConvergenceWarning: lbfgs failed to converge (status=1):\n",
      "STOP: TOTAL NO. of ITERATIONS REACHED LIMIT.\n",
      "\n",
      "Increase the number of iterations (max_iter) or scale the data as shown in:\n",
      "    https://scikit-learn.org/stable/modules/preprocessing.html\n",
      "Please also refer to the documentation for alternative solver options:\n",
      "    https://scikit-learn.org/stable/modules/linear_model.html#logistic-regression\n",
      "  n_iter_i = _check_optimize_result(\n",
      "/opt/conda/lib/python3.9/site-packages/sklearn/linear_model/_logistic.py:763: ConvergenceWarning: lbfgs failed to converge (status=1):\n",
      "STOP: TOTAL NO. of ITERATIONS REACHED LIMIT.\n",
      "\n",
      "Increase the number of iterations (max_iter) or scale the data as shown in:\n",
      "    https://scikit-learn.org/stable/modules/preprocessing.html\n",
      "Please also refer to the documentation for alternative solver options:\n",
      "    https://scikit-learn.org/stable/modules/linear_model.html#logistic-regression\n",
      "  n_iter_i = _check_optimize_result(\n",
      "/opt/conda/lib/python3.9/site-packages/sklearn/linear_model/_sag.py:328: ConvergenceWarning: The max_iter was reached which means the coef_ did not converge\n",
      "  warnings.warn(\"The max_iter was reached which means \"\n",
      "/opt/conda/lib/python3.9/site-packages/sklearn/linear_model/_sag.py:328: ConvergenceWarning: The max_iter was reached which means the coef_ did not converge\n",
      "  warnings.warn(\"The max_iter was reached which means \"\n",
      "/opt/conda/lib/python3.9/site-packages/sklearn/linear_model/_sag.py:328: ConvergenceWarning: The max_iter was reached which means the coef_ did not converge\n",
      "  warnings.warn(\"The max_iter was reached which means \"\n",
      "/opt/conda/lib/python3.9/site-packages/sklearn/linear_model/_sag.py:328: ConvergenceWarning: The max_iter was reached which means the coef_ did not converge\n",
      "  warnings.warn(\"The max_iter was reached which means \"\n",
      "/opt/conda/lib/python3.9/site-packages/sklearn/linear_model/_sag.py:328: ConvergenceWarning: The max_iter was reached which means the coef_ did not converge\n",
      "  warnings.warn(\"The max_iter was reached which means \"\n",
      "/opt/conda/lib/python3.9/site-packages/sklearn/linear_model/_sag.py:328: ConvergenceWarning: The max_iter was reached which means the coef_ did not converge\n",
      "  warnings.warn(\"The max_iter was reached which means \"\n",
      "/opt/conda/lib/python3.9/site-packages/sklearn/linear_model/_logistic.py:763: ConvergenceWarning: lbfgs failed to converge (status=1):\n",
      "STOP: TOTAL NO. of ITERATIONS REACHED LIMIT.\n",
      "\n",
      "Increase the number of iterations (max_iter) or scale the data as shown in:\n",
      "    https://scikit-learn.org/stable/modules/preprocessing.html\n",
      "Please also refer to the documentation for alternative solver options:\n",
      "    https://scikit-learn.org/stable/modules/linear_model.html#logistic-regression\n",
      "  n_iter_i = _check_optimize_result(\n",
      "/opt/conda/lib/python3.9/site-packages/sklearn/linear_model/_logistic.py:763: ConvergenceWarning: lbfgs failed to converge (status=1):\n",
      "STOP: TOTAL NO. of ITERATIONS REACHED LIMIT.\n",
      "\n",
      "Increase the number of iterations (max_iter) or scale the data as shown in:\n",
      "    https://scikit-learn.org/stable/modules/preprocessing.html\n",
      "Please also refer to the documentation for alternative solver options:\n",
      "    https://scikit-learn.org/stable/modules/linear_model.html#logistic-regression\n",
      "  n_iter_i = _check_optimize_result(\n",
      "/opt/conda/lib/python3.9/site-packages/sklearn/linear_model/_logistic.py:763: ConvergenceWarning: lbfgs failed to converge (status=1):\n",
      "STOP: TOTAL NO. of ITERATIONS REACHED LIMIT.\n",
      "\n",
      "Increase the number of iterations (max_iter) or scale the data as shown in:\n",
      "    https://scikit-learn.org/stable/modules/preprocessing.html\n",
      "Please also refer to the documentation for alternative solver options:\n",
      "    https://scikit-learn.org/stable/modules/linear_model.html#logistic-regression\n",
      "  n_iter_i = _check_optimize_result(\n",
      "/opt/conda/lib/python3.9/site-packages/sklearn/linear_model/_sag.py:328: ConvergenceWarning: The max_iter was reached which means the coef_ did not converge\n",
      "  warnings.warn(\"The max_iter was reached which means \"\n",
      "/opt/conda/lib/python3.9/site-packages/sklearn/linear_model/_sag.py:328: ConvergenceWarning: The max_iter was reached which means the coef_ did not converge\n",
      "  warnings.warn(\"The max_iter was reached which means \"\n",
      "/opt/conda/lib/python3.9/site-packages/sklearn/linear_model/_sag.py:328: ConvergenceWarning: The max_iter was reached which means the coef_ did not converge\n",
      "  warnings.warn(\"The max_iter was reached which means \"\n",
      "/opt/conda/lib/python3.9/site-packages/sklearn/linear_model/_sag.py:328: ConvergenceWarning: The max_iter was reached which means the coef_ did not converge\n",
      "  warnings.warn(\"The max_iter was reached which means \"\n",
      "/opt/conda/lib/python3.9/site-packages/sklearn/linear_model/_sag.py:328: ConvergenceWarning: The max_iter was reached which means the coef_ did not converge\n",
      "  warnings.warn(\"The max_iter was reached which means \"\n",
      "/opt/conda/lib/python3.9/site-packages/sklearn/linear_model/_sag.py:328: ConvergenceWarning: The max_iter was reached which means the coef_ did not converge\n",
      "  warnings.warn(\"The max_iter was reached which means \"\n",
      "/opt/conda/lib/python3.9/site-packages/sklearn/linear_model/_logistic.py:763: ConvergenceWarning: lbfgs failed to converge (status=1):\n",
      "STOP: TOTAL NO. of ITERATIONS REACHED LIMIT.\n",
      "\n",
      "Increase the number of iterations (max_iter) or scale the data as shown in:\n",
      "    https://scikit-learn.org/stable/modules/preprocessing.html\n",
      "Please also refer to the documentation for alternative solver options:\n",
      "    https://scikit-learn.org/stable/modules/linear_model.html#logistic-regression\n",
      "  n_iter_i = _check_optimize_result(\n",
      "/opt/conda/lib/python3.9/site-packages/sklearn/linear_model/_logistic.py:763: ConvergenceWarning: lbfgs failed to converge (status=1):\n",
      "STOP: TOTAL NO. of ITERATIONS REACHED LIMIT.\n",
      "\n",
      "Increase the number of iterations (max_iter) or scale the data as shown in:\n",
      "    https://scikit-learn.org/stable/modules/preprocessing.html\n",
      "Please also refer to the documentation for alternative solver options:\n",
      "    https://scikit-learn.org/stable/modules/linear_model.html#logistic-regression\n",
      "  n_iter_i = _check_optimize_result(\n",
      "/opt/conda/lib/python3.9/site-packages/sklearn/linear_model/_logistic.py:763: ConvergenceWarning: lbfgs failed to converge (status=1):\n",
      "STOP: TOTAL NO. of ITERATIONS REACHED LIMIT.\n",
      "\n",
      "Increase the number of iterations (max_iter) or scale the data as shown in:\n",
      "    https://scikit-learn.org/stable/modules/preprocessing.html\n",
      "Please also refer to the documentation for alternative solver options:\n",
      "    https://scikit-learn.org/stable/modules/linear_model.html#logistic-regression\n",
      "  n_iter_i = _check_optimize_result(\n",
      "/opt/conda/lib/python3.9/site-packages/sklearn/linear_model/_sag.py:328: ConvergenceWarning: The max_iter was reached which means the coef_ did not converge\n",
      "  warnings.warn(\"The max_iter was reached which means \"\n",
      "/opt/conda/lib/python3.9/site-packages/sklearn/linear_model/_sag.py:328: ConvergenceWarning: The max_iter was reached which means the coef_ did not converge\n",
      "  warnings.warn(\"The max_iter was reached which means \"\n",
      "/opt/conda/lib/python3.9/site-packages/sklearn/linear_model/_sag.py:328: ConvergenceWarning: The max_iter was reached which means the coef_ did not converge\n",
      "  warnings.warn(\"The max_iter was reached which means \"\n",
      "/opt/conda/lib/python3.9/site-packages/sklearn/linear_model/_sag.py:328: ConvergenceWarning: The max_iter was reached which means the coef_ did not converge\n",
      "  warnings.warn(\"The max_iter was reached which means \"\n",
      "/opt/conda/lib/python3.9/site-packages/sklearn/linear_model/_sag.py:328: ConvergenceWarning: The max_iter was reached which means the coef_ did not converge\n",
      "  warnings.warn(\"The max_iter was reached which means \"\n",
      "/opt/conda/lib/python3.9/site-packages/sklearn/linear_model/_sag.py:328: ConvergenceWarning: The max_iter was reached which means the coef_ did not converge\n",
      "  warnings.warn(\"The max_iter was reached which means \"\n",
      "/opt/conda/lib/python3.9/site-packages/sklearn/linear_model/_logistic.py:763: ConvergenceWarning: lbfgs failed to converge (status=1):\n",
      "STOP: TOTAL NO. of ITERATIONS REACHED LIMIT.\n",
      "\n",
      "Increase the number of iterations (max_iter) or scale the data as shown in:\n",
      "    https://scikit-learn.org/stable/modules/preprocessing.html\n",
      "Please also refer to the documentation for alternative solver options:\n",
      "    https://scikit-learn.org/stable/modules/linear_model.html#logistic-regression\n",
      "  n_iter_i = _check_optimize_result(\n",
      "/opt/conda/lib/python3.9/site-packages/sklearn/linear_model/_logistic.py:763: ConvergenceWarning: lbfgs failed to converge (status=1):\n",
      "STOP: TOTAL NO. of ITERATIONS REACHED LIMIT.\n",
      "\n",
      "Increase the number of iterations (max_iter) or scale the data as shown in:\n",
      "    https://scikit-learn.org/stable/modules/preprocessing.html\n",
      "Please also refer to the documentation for alternative solver options:\n",
      "    https://scikit-learn.org/stable/modules/linear_model.html#logistic-regression\n",
      "  n_iter_i = _check_optimize_result(\n",
      "/opt/conda/lib/python3.9/site-packages/sklearn/linear_model/_logistic.py:763: ConvergenceWarning: lbfgs failed to converge (status=1):\n",
      "STOP: TOTAL NO. of ITERATIONS REACHED LIMIT.\n",
      "\n",
      "Increase the number of iterations (max_iter) or scale the data as shown in:\n",
      "    https://scikit-learn.org/stable/modules/preprocessing.html\n",
      "Please also refer to the documentation for alternative solver options:\n",
      "    https://scikit-learn.org/stable/modules/linear_model.html#logistic-regression\n",
      "  n_iter_i = _check_optimize_result(\n",
      "/opt/conda/lib/python3.9/site-packages/sklearn/linear_model/_sag.py:328: ConvergenceWarning: The max_iter was reached which means the coef_ did not converge\n",
      "  warnings.warn(\"The max_iter was reached which means \"\n",
      "/opt/conda/lib/python3.9/site-packages/sklearn/linear_model/_sag.py:328: ConvergenceWarning: The max_iter was reached which means the coef_ did not converge\n",
      "  warnings.warn(\"The max_iter was reached which means \"\n",
      "/opt/conda/lib/python3.9/site-packages/sklearn/linear_model/_sag.py:328: ConvergenceWarning: The max_iter was reached which means the coef_ did not converge\n",
      "  warnings.warn(\"The max_iter was reached which means \"\n",
      "/opt/conda/lib/python3.9/site-packages/sklearn/linear_model/_sag.py:328: ConvergenceWarning: The max_iter was reached which means the coef_ did not converge\n",
      "  warnings.warn(\"The max_iter was reached which means \"\n",
      "/opt/conda/lib/python3.9/site-packages/sklearn/linear_model/_sag.py:328: ConvergenceWarning: The max_iter was reached which means the coef_ did not converge\n",
      "  warnings.warn(\"The max_iter was reached which means \"\n",
      "/opt/conda/lib/python3.9/site-packages/sklearn/linear_model/_sag.py:328: ConvergenceWarning: The max_iter was reached which means the coef_ did not converge\n",
      "  warnings.warn(\"The max_iter was reached which means \"\n",
      "/opt/conda/lib/python3.9/site-packages/sklearn/linear_model/_logistic.py:763: ConvergenceWarning: lbfgs failed to converge (status=1):\n",
      "STOP: TOTAL NO. of ITERATIONS REACHED LIMIT.\n",
      "\n",
      "Increase the number of iterations (max_iter) or scale the data as shown in:\n",
      "    https://scikit-learn.org/stable/modules/preprocessing.html\n",
      "Please also refer to the documentation for alternative solver options:\n",
      "    https://scikit-learn.org/stable/modules/linear_model.html#logistic-regression\n",
      "  n_iter_i = _check_optimize_result(\n",
      "/opt/conda/lib/python3.9/site-packages/sklearn/linear_model/_logistic.py:763: ConvergenceWarning: lbfgs failed to converge (status=1):\n",
      "STOP: TOTAL NO. of ITERATIONS REACHED LIMIT.\n",
      "\n",
      "Increase the number of iterations (max_iter) or scale the data as shown in:\n",
      "    https://scikit-learn.org/stable/modules/preprocessing.html\n",
      "Please also refer to the documentation for alternative solver options:\n",
      "    https://scikit-learn.org/stable/modules/linear_model.html#logistic-regression\n",
      "  n_iter_i = _check_optimize_result(\n",
      "/opt/conda/lib/python3.9/site-packages/sklearn/linear_model/_logistic.py:763: ConvergenceWarning: lbfgs failed to converge (status=1):\n",
      "STOP: TOTAL NO. of ITERATIONS REACHED LIMIT.\n",
      "\n",
      "Increase the number of iterations (max_iter) or scale the data as shown in:\n",
      "    https://scikit-learn.org/stable/modules/preprocessing.html\n",
      "Please also refer to the documentation for alternative solver options:\n",
      "    https://scikit-learn.org/stable/modules/linear_model.html#logistic-regression\n",
      "  n_iter_i = _check_optimize_result(\n",
      "/opt/conda/lib/python3.9/site-packages/sklearn/linear_model/_sag.py:328: ConvergenceWarning: The max_iter was reached which means the coef_ did not converge\n",
      "  warnings.warn(\"The max_iter was reached which means \"\n",
      "/opt/conda/lib/python3.9/site-packages/sklearn/linear_model/_sag.py:328: ConvergenceWarning: The max_iter was reached which means the coef_ did not converge\n",
      "  warnings.warn(\"The max_iter was reached which means \"\n",
      "/opt/conda/lib/python3.9/site-packages/sklearn/linear_model/_sag.py:328: ConvergenceWarning: The max_iter was reached which means the coef_ did not converge\n",
      "  warnings.warn(\"The max_iter was reached which means \"\n",
      "/opt/conda/lib/python3.9/site-packages/sklearn/linear_model/_sag.py:328: ConvergenceWarning: The max_iter was reached which means the coef_ did not converge\n",
      "  warnings.warn(\"The max_iter was reached which means \"\n",
      "/opt/conda/lib/python3.9/site-packages/sklearn/linear_model/_sag.py:328: ConvergenceWarning: The max_iter was reached which means the coef_ did not converge\n",
      "  warnings.warn(\"The max_iter was reached which means \"\n",
      "/opt/conda/lib/python3.9/site-packages/sklearn/linear_model/_sag.py:328: ConvergenceWarning: The max_iter was reached which means the coef_ did not converge\n",
      "  warnings.warn(\"The max_iter was reached which means \"\n",
      "/opt/conda/lib/python3.9/site-packages/sklearn/linear_model/_logistic.py:763: ConvergenceWarning: lbfgs failed to converge (status=1):\n",
      "STOP: TOTAL NO. of ITERATIONS REACHED LIMIT.\n",
      "\n",
      "Increase the number of iterations (max_iter) or scale the data as shown in:\n",
      "    https://scikit-learn.org/stable/modules/preprocessing.html\n",
      "Please also refer to the documentation for alternative solver options:\n",
      "    https://scikit-learn.org/stable/modules/linear_model.html#logistic-regression\n",
      "  n_iter_i = _check_optimize_result(\n",
      "/opt/conda/lib/python3.9/site-packages/sklearn/linear_model/_logistic.py:763: ConvergenceWarning: lbfgs failed to converge (status=1):\n",
      "STOP: TOTAL NO. of ITERATIONS REACHED LIMIT.\n",
      "\n",
      "Increase the number of iterations (max_iter) or scale the data as shown in:\n",
      "    https://scikit-learn.org/stable/modules/preprocessing.html\n",
      "Please also refer to the documentation for alternative solver options:\n",
      "    https://scikit-learn.org/stable/modules/linear_model.html#logistic-regression\n",
      "  n_iter_i = _check_optimize_result(\n",
      "/opt/conda/lib/python3.9/site-packages/sklearn/linear_model/_logistic.py:763: ConvergenceWarning: lbfgs failed to converge (status=1):\n",
      "STOP: TOTAL NO. of ITERATIONS REACHED LIMIT.\n",
      "\n",
      "Increase the number of iterations (max_iter) or scale the data as shown in:\n",
      "    https://scikit-learn.org/stable/modules/preprocessing.html\n",
      "Please also refer to the documentation for alternative solver options:\n",
      "    https://scikit-learn.org/stable/modules/linear_model.html#logistic-regression\n",
      "  n_iter_i = _check_optimize_result(\n",
      "/opt/conda/lib/python3.9/site-packages/sklearn/linear_model/_sag.py:328: ConvergenceWarning: The max_iter was reached which means the coef_ did not converge\n",
      "  warnings.warn(\"The max_iter was reached which means \"\n",
      "/opt/conda/lib/python3.9/site-packages/sklearn/linear_model/_sag.py:328: ConvergenceWarning: The max_iter was reached which means the coef_ did not converge\n",
      "  warnings.warn(\"The max_iter was reached which means \"\n",
      "/opt/conda/lib/python3.9/site-packages/sklearn/linear_model/_sag.py:328: ConvergenceWarning: The max_iter was reached which means the coef_ did not converge\n",
      "  warnings.warn(\"The max_iter was reached which means \"\n",
      "/opt/conda/lib/python3.9/site-packages/sklearn/linear_model/_sag.py:328: ConvergenceWarning: The max_iter was reached which means the coef_ did not converge\n",
      "  warnings.warn(\"The max_iter was reached which means \"\n",
      "/opt/conda/lib/python3.9/site-packages/sklearn/linear_model/_sag.py:328: ConvergenceWarning: The max_iter was reached which means the coef_ did not converge\n",
      "  warnings.warn(\"The max_iter was reached which means \"\n",
      "/opt/conda/lib/python3.9/site-packages/sklearn/linear_model/_sag.py:328: ConvergenceWarning: The max_iter was reached which means the coef_ did not converge\n",
      "  warnings.warn(\"The max_iter was reached which means \"\n",
      "/opt/conda/lib/python3.9/site-packages/sklearn/linear_model/_logistic.py:763: ConvergenceWarning: lbfgs failed to converge (status=1):\n",
      "STOP: TOTAL NO. of ITERATIONS REACHED LIMIT.\n",
      "\n",
      "Increase the number of iterations (max_iter) or scale the data as shown in:\n",
      "    https://scikit-learn.org/stable/modules/preprocessing.html\n",
      "Please also refer to the documentation for alternative solver options:\n",
      "    https://scikit-learn.org/stable/modules/linear_model.html#logistic-regression\n",
      "  n_iter_i = _check_optimize_result(\n",
      "/opt/conda/lib/python3.9/site-packages/sklearn/linear_model/_logistic.py:763: ConvergenceWarning: lbfgs failed to converge (status=1):\n",
      "STOP: TOTAL NO. of ITERATIONS REACHED LIMIT.\n",
      "\n",
      "Increase the number of iterations (max_iter) or scale the data as shown in:\n",
      "    https://scikit-learn.org/stable/modules/preprocessing.html\n",
      "Please also refer to the documentation for alternative solver options:\n",
      "    https://scikit-learn.org/stable/modules/linear_model.html#logistic-regression\n",
      "  n_iter_i = _check_optimize_result(\n",
      "/opt/conda/lib/python3.9/site-packages/sklearn/linear_model/_logistic.py:763: ConvergenceWarning: lbfgs failed to converge (status=1):\n",
      "STOP: TOTAL NO. of ITERATIONS REACHED LIMIT.\n",
      "\n",
      "Increase the number of iterations (max_iter) or scale the data as shown in:\n",
      "    https://scikit-learn.org/stable/modules/preprocessing.html\n",
      "Please also refer to the documentation for alternative solver options:\n",
      "    https://scikit-learn.org/stable/modules/linear_model.html#logistic-regression\n",
      "  n_iter_i = _check_optimize_result(\n",
      "/opt/conda/lib/python3.9/site-packages/sklearn/linear_model/_sag.py:328: ConvergenceWarning: The max_iter was reached which means the coef_ did not converge\n",
      "  warnings.warn(\"The max_iter was reached which means \"\n",
      "/opt/conda/lib/python3.9/site-packages/sklearn/linear_model/_sag.py:328: ConvergenceWarning: The max_iter was reached which means the coef_ did not converge\n",
      "  warnings.warn(\"The max_iter was reached which means \"\n",
      "/opt/conda/lib/python3.9/site-packages/sklearn/linear_model/_sag.py:328: ConvergenceWarning: The max_iter was reached which means the coef_ did not converge\n",
      "  warnings.warn(\"The max_iter was reached which means \"\n",
      "/opt/conda/lib/python3.9/site-packages/sklearn/linear_model/_sag.py:328: ConvergenceWarning: The max_iter was reached which means the coef_ did not converge\n",
      "  warnings.warn(\"The max_iter was reached which means \"\n",
      "/opt/conda/lib/python3.9/site-packages/sklearn/linear_model/_sag.py:328: ConvergenceWarning: The max_iter was reached which means the coef_ did not converge\n",
      "  warnings.warn(\"The max_iter was reached which means \"\n",
      "/opt/conda/lib/python3.9/site-packages/sklearn/linear_model/_sag.py:328: ConvergenceWarning: The max_iter was reached which means the coef_ did not converge\n",
      "  warnings.warn(\"The max_iter was reached which means \"\n"
     ]
    },
    {
     "name": "stdout",
     "output_type": "stream",
     "text": [
      "Лучшие параметры логистической регрессии: {'C': 10, 'class_weight': 'balanced', 'fit_intercept': True, 'solver': 'newton-cg'}\n"
     ]
    }
   ],
   "source": [
    "model_lr = LogisticRegression()\n",
    "\n",
    "\n",
    "hyperparams = [{'solver':['newton-cg', 'lbfgs', 'liblinear','sag','saga'],\n",
    "                'C':[0.1, 1, 4, 10, 50, 100, 120],\n",
    "                'fit_intercept':[True, False],\n",
    "                'class_weight':['balanced', None]}]\n",
    "\n",
    "grid = GridSearchCV(model_lr, hyperparams, scoring='f1', cv=3)\n",
    "grid.fit(features_train, target_train)\n",
    "\n",
    "lr_best_params = grid.best_params_\n",
    "\n",
    "print(\"Лучшие параметры логистической регрессии:\", lr_best_params)"
   ]
  },
  {
   "cell_type": "code",
   "execution_count": 28,
   "metadata": {},
   "outputs": [
    {
     "name": "stdout",
     "output_type": "stream",
     "text": [
      "F1-мера модели логистической регрессии: 0.7597749242533546\n"
     ]
    }
   ],
   "source": [
    "model_lr = LogisticRegression(random_state=12345, class_weight='balanced', C=10, fit_intercept=True, solver='newton-cg')\n",
    "model_lr.fit(features_train, target_train)\n",
    "predictions_lr = model_lr.predict(features_valid)\n",
    "\n",
    "print('F1-мера модели логистической регрессии:', f1_score(target_valid, predictions_lr))"
   ]
  },
  {
   "cell_type": "markdown",
   "metadata": {},
   "source": [
    "F1-мера модели логистической регрессии: 0.75"
   ]
  },
  {
   "cell_type": "markdown",
   "metadata": {},
   "source": [
    "### Классификация деревом решений"
   ]
  },
  {
   "cell_type": "code",
   "execution_count": 29,
   "metadata": {},
   "outputs": [
    {
     "name": "stdout",
     "output_type": "stream",
     "text": [
      "Лучшие параметры классификации деревом решений: {'class_weight': None, 'max_depth': 75}\n"
     ]
    }
   ],
   "source": [
    "model_dtc = DecisionTreeClassifier()\n",
    "\n",
    "\n",
    "hyperparams = [{'max_depth':[x for x in range(65,81,5)],\n",
    "                'class_weight':['balanced', None]}]\n",
    "\n",
    "grid = GridSearchCV(model_dtc, hyperparams, scoring='f1', cv=3)\n",
    "grid.fit(features_train, target_train)\n",
    "\n",
    "lr_best_params = grid.best_params_\n",
    "\n",
    "print(\"Лучшие параметры классификации деревом решений:\", lr_best_params)"
   ]
  },
  {
   "cell_type": "code",
   "execution_count": 30,
   "metadata": {},
   "outputs": [
    {
     "name": "stdout",
     "output_type": "stream",
     "text": [
      "F1-мера модели классификации деревом решений: 0.7118994317203376\n"
     ]
    }
   ],
   "source": [
    "model_dtc = DecisionTreeClassifier(random_state=12345, class_weight=None, max_depth=75)\n",
    "model_dtc.fit(features_train, target_train)\n",
    "predictions_dtc = model_dtc.predict(features_valid)\n",
    "\n",
    "print('F1-мера модели классификации деревом решений:', f1_score(target_valid, predictions_dtc))"
   ]
  },
  {
   "cell_type": "markdown",
   "metadata": {},
   "source": [
    "F1-мера модели классификации деревом решений: 0.71"
   ]
  },
  {
   "cell_type": "markdown",
   "metadata": {},
   "source": [
    "### CatBoostClassifier"
   ]
  },
  {
   "cell_type": "code",
   "execution_count": 31,
   "metadata": {},
   "outputs": [
    {
     "name": "stdout",
     "output_type": "stream",
     "text": [
      "F1-мера модели CatBoostClassifier: 0.7482040229885057\n"
     ]
    }
   ],
   "source": [
    "model_cat = CatBoostClassifier(verbose=False, iterations=300)\n",
    "model_cat.fit(features_train, target_train)\n",
    "predictions_cat = model_cat.predict(features_valid)\n",
    "\n",
    "print('F1-мера модели CatBoostClassifier:', f1_score(target_valid, predictions_cat))"
   ]
  },
  {
   "cell_type": "markdown",
   "metadata": {},
   "source": [
    "F1-мера модели CatBoostClassifier: 0.74"
   ]
  },
  {
   "cell_type": "markdown",
   "metadata": {},
   "source": [
    "### Вывод\n",
    "\n",
    "Нами было обучено три модели:\n",
    "\n",
    "- Логистическая регрессия\n",
    "- Классификация деревом решений\n",
    "- CatBoostClassifier\n",
    "\n",
    "Лучшая F1-мера из обученных моделей у логистической регрессии и CatBoostClassifier. Передадим им тестовые данные и посмотрим на результат."
   ]
  },
  {
   "cell_type": "markdown",
   "metadata": {},
   "source": [
    "## Тестирование"
   ]
  },
  {
   "cell_type": "code",
   "execution_count": 32,
   "metadata": {},
   "outputs": [
    {
     "name": "stdout",
     "output_type": "stream",
     "text": [
      "F1-мера модели логистической регрессии: 0.7594788464353681\n"
     ]
    }
   ],
   "source": [
    "predictions_lr_test = model_lr.predict(features_test)\n",
    "\n",
    "print('F1-мера модели логистической регрессии:', f1_score(target_test, predictions_lr_test))"
   ]
  },
  {
   "cell_type": "code",
   "execution_count": 33,
   "metadata": {},
   "outputs": [
    {
     "name": "stdout",
     "output_type": "stream",
     "text": [
      "F1-мера CatBoostClassifier: 0.742305590967037\n"
     ]
    }
   ],
   "source": [
    "predictions_cat_test = model_cat.predict(features_test)\n",
    "\n",
    "print('F1-мера CatBoostClassifier:', f1_score(target_test, predictions_cat_test))"
   ]
  },
  {
   "cell_type": "markdown",
   "metadata": {},
   "source": [
    "## Выводы\n",
    "\n",
    "Нами были импортированы библиотеки, открыт и изучен файл.\n",
    "\n",
    "Датасет содержит 159571 строку, большая часть текстов комментариев позитивные.\n",
    "\n",
    "Столбец text - текст комментария, toxic — целевой признак.\n",
    "\n",
    "В столбце toxic присутствует дисбаланс классов, мы учли это при обучении моделей и подборе гиперпараметров.\n",
    "\n",
    "Проведена леметизация и раделение на выборки.\n",
    "\n",
    "Нами было обучено три модели:\n",
    "\n",
    "- Логистическая регрессия\n",
    "- Классификация деревом решений\n",
    "- CatBoostClassifier\n",
    "\n",
    "Лучшая F1-мера из обученных моделей оказалась у логистической регрессии. Передав ей тестовые данные мы получили F1-меру: 0.759."
   ]
  }
 ],
 "metadata": {
  "ExecuteTimeLog": [
   {
    "duration": 359,
    "start_time": "2022-06-19T20:31:45.282Z"
   },
   {
    "duration": 79,
    "start_time": "2022-06-19T20:34:01.906Z"
   },
   {
    "duration": 2137,
    "start_time": "2022-06-19T20:34:43.966Z"
   },
   {
    "duration": 34,
    "start_time": "2022-06-19T20:35:45.274Z"
   },
   {
    "duration": 15,
    "start_time": "2022-06-19T20:36:13.282Z"
   },
   {
    "duration": 17,
    "start_time": "2022-06-19T20:43:16.688Z"
   },
   {
    "duration": 377,
    "start_time": "2022-06-19T20:46:33.713Z"
   },
   {
    "duration": 2259,
    "start_time": "2022-06-19T20:46:34.092Z"
   },
   {
    "duration": 32,
    "start_time": "2022-06-19T20:46:36.352Z"
   },
   {
    "duration": 18,
    "start_time": "2022-06-19T20:46:36.386Z"
   },
   {
    "duration": 47,
    "start_time": "2022-06-23T09:18:11.431Z"
   },
   {
    "duration": 393,
    "start_time": "2022-06-23T09:18:21.359Z"
   },
   {
    "duration": 3157,
    "start_time": "2022-06-23T09:18:22.806Z"
   },
   {
    "duration": 31,
    "start_time": "2022-06-23T09:18:25.964Z"
   },
   {
    "duration": 16,
    "start_time": "2022-06-23T09:18:26.199Z"
   },
   {
    "duration": 37,
    "start_time": "2022-06-23T09:18:28.276Z"
   },
   {
    "duration": 17,
    "start_time": "2022-06-23T09:18:43.099Z"
   },
   {
    "duration": 6,
    "start_time": "2022-06-23T09:19:04.153Z"
   },
   {
    "duration": 5,
    "start_time": "2022-06-23T09:19:40.974Z"
   },
   {
    "duration": 946,
    "start_time": "2022-06-23T09:41:24.696Z"
   },
   {
    "duration": 1082,
    "start_time": "2022-06-23T09:41:39.383Z"
   },
   {
    "duration": 1087,
    "start_time": "2022-06-23T09:41:52.194Z"
   },
   {
    "duration": 3,
    "start_time": "2022-06-23T09:42:23.932Z"
   },
   {
    "duration": 1133,
    "start_time": "2022-06-23T09:42:28.716Z"
   },
   {
    "duration": 1642,
    "start_time": "2022-06-23T09:54:46.492Z"
   },
   {
    "duration": 1422,
    "start_time": "2022-06-23T09:55:51.349Z"
   },
   {
    "duration": 1464,
    "start_time": "2022-06-23T09:56:33.383Z"
   },
   {
    "duration": 3,
    "start_time": "2022-06-23T09:56:46.424Z"
   },
   {
    "duration": 723,
    "start_time": "2022-06-23T09:56:48.126Z"
   },
   {
    "duration": 33,
    "start_time": "2022-06-23T09:56:51.952Z"
   },
   {
    "duration": 15,
    "start_time": "2022-06-23T09:56:54.129Z"
   },
   {
    "duration": 5,
    "start_time": "2022-06-23T09:56:56.986Z"
   },
   {
    "duration": 37,
    "start_time": "2022-06-23T09:58:41.016Z"
   },
   {
    "duration": 12,
    "start_time": "2022-06-23T10:00:09.145Z"
   },
   {
    "duration": 3,
    "start_time": "2022-06-23T10:01:02.811Z"
   },
   {
    "duration": 14,
    "start_time": "2022-06-23T10:01:53.556Z"
   },
   {
    "duration": 14,
    "start_time": "2022-06-23T10:02:03.772Z"
   },
   {
    "duration": 5,
    "start_time": "2022-06-23T10:02:19.735Z"
   },
   {
    "duration": 84377,
    "start_time": "2022-06-23T10:03:47.405Z"
   },
   {
    "duration": 1480,
    "start_time": "2022-06-23T10:06:22.738Z"
   },
   {
    "duration": 1322,
    "start_time": "2022-06-23T10:07:18.634Z"
   },
   {
    "duration": 381,
    "start_time": "2022-06-23T10:07:49.239Z"
   },
   {
    "duration": 753,
    "start_time": "2022-06-23T10:07:49.622Z"
   },
   {
    "duration": 34,
    "start_time": "2022-06-23T10:07:50.376Z"
   },
   {
    "duration": 28,
    "start_time": "2022-06-23T10:07:50.412Z"
   },
   {
    "duration": 9,
    "start_time": "2022-06-23T10:07:50.442Z"
   },
   {
    "duration": 1558,
    "start_time": "2022-06-23T10:09:15.717Z"
   },
   {
    "duration": 0,
    "start_time": "2022-06-23T10:09:17.276Z"
   },
   {
    "duration": 398,
    "start_time": "2022-06-23T10:11:41.109Z"
   },
   {
    "duration": 754,
    "start_time": "2022-06-23T10:11:41.509Z"
   },
   {
    "duration": 31,
    "start_time": "2022-06-23T10:11:42.264Z"
   },
   {
    "duration": 29,
    "start_time": "2022-06-23T10:11:42.296Z"
   },
   {
    "duration": 7,
    "start_time": "2022-06-23T10:11:42.327Z"
   },
   {
    "duration": 85654,
    "start_time": "2022-06-23T10:11:42.335Z"
   },
   {
    "duration": 84345,
    "start_time": "2022-06-23T10:13:07.991Z"
   },
   {
    "duration": 0,
    "start_time": "2022-06-23T10:14:32.452Z"
   },
   {
    "duration": 0,
    "start_time": "2022-06-23T10:14:32.453Z"
   },
   {
    "duration": 6,
    "start_time": "2022-06-23T10:14:36.058Z"
   },
   {
    "duration": 3,
    "start_time": "2022-06-23T10:18:50.428Z"
   },
   {
    "duration": 1266,
    "start_time": "2022-06-23T10:20:09.106Z"
   },
   {
    "duration": 827,
    "start_time": "2022-06-23T10:20:10.373Z"
   },
   {
    "duration": 36,
    "start_time": "2022-06-23T10:20:11.201Z"
   },
   {
    "duration": 15,
    "start_time": "2022-06-23T10:20:11.238Z"
   },
   {
    "duration": 6,
    "start_time": "2022-06-23T10:20:11.255Z"
   },
   {
    "duration": 86750,
    "start_time": "2022-06-23T10:20:11.262Z"
   },
   {
    "duration": 16,
    "start_time": "2022-06-23T10:21:38.014Z"
   },
   {
    "duration": 35,
    "start_time": "2022-06-23T10:21:38.031Z"
   },
   {
    "duration": 2,
    "start_time": "2022-06-23T10:21:38.068Z"
   },
   {
    "duration": 195,
    "start_time": "2022-06-23T10:22:12.545Z"
   },
   {
    "duration": 46,
    "start_time": "2022-06-23T10:22:17.504Z"
   },
   {
    "duration": 338,
    "start_time": "2022-06-23T10:23:14.497Z"
   },
   {
    "duration": 3,
    "start_time": "2022-06-23T10:24:00.140Z"
   },
   {
    "duration": 5,
    "start_time": "2022-06-23T10:24:05.802Z"
   },
   {
    "duration": 9947,
    "start_time": "2022-06-23T10:26:16.946Z"
   },
   {
    "duration": 3,
    "start_time": "2022-06-23T10:27:36.859Z"
   },
   {
    "duration": 98664,
    "start_time": "2022-06-23T10:30:12.866Z"
   },
   {
    "duration": 26,
    "start_time": "2022-06-23T10:36:37.020Z"
   },
   {
    "duration": 25,
    "start_time": "2022-06-23T10:40:11.267Z"
   },
   {
    "duration": 10,
    "start_time": "2022-06-23T10:43:34.526Z"
   },
   {
    "duration": 31,
    "start_time": "2022-06-23T10:43:46.746Z"
   },
   {
    "duration": 1186,
    "start_time": "2022-06-23T10:43:47.364Z"
   },
   {
    "duration": 28811,
    "start_time": "2022-06-23T10:44:58.816Z"
   },
   {
    "duration": 9,
    "start_time": "2022-06-23T11:06:42.724Z"
   },
   {
    "duration": 9,
    "start_time": "2022-06-23T11:07:39.064Z"
   },
   {
    "duration": 143398,
    "start_time": "2022-06-23T11:10:13.865Z"
   },
   {
    "duration": 18121,
    "start_time": "2022-06-23T11:13:57.954Z"
   },
   {
    "duration": 18444,
    "start_time": "2022-06-23T11:15:02.438Z"
   },
   {
    "duration": 22,
    "start_time": "2022-06-23T11:18:47.142Z"
   },
   {
    "duration": 84,
    "start_time": "2022-06-23T11:21:02.051Z"
   },
   {
    "duration": 1336,
    "start_time": "2022-06-23T11:45:08.602Z"
   },
   {
    "duration": 826,
    "start_time": "2022-06-23T11:45:09.940Z"
   },
   {
    "duration": 32,
    "start_time": "2022-06-23T11:45:10.768Z"
   },
   {
    "duration": 41,
    "start_time": "2022-06-23T11:45:10.802Z"
   },
   {
    "duration": 6,
    "start_time": "2022-06-23T11:45:10.845Z"
   },
   {
    "duration": 95145,
    "start_time": "2022-06-23T11:45:10.853Z"
   },
   {
    "duration": 8,
    "start_time": "2022-06-23T11:46:46.001Z"
   },
   {
    "duration": 56,
    "start_time": "2022-06-23T11:46:46.011Z"
   },
   {
    "duration": 3,
    "start_time": "2022-06-23T11:46:46.069Z"
   },
   {
    "duration": 59,
    "start_time": "2022-06-23T11:46:46.074Z"
   },
   {
    "duration": 237,
    "start_time": "2022-06-23T11:46:46.135Z"
   },
   {
    "duration": 11177,
    "start_time": "2022-06-23T11:46:46.374Z"
   },
   {
    "duration": 105685,
    "start_time": "2022-06-23T11:46:57.553Z"
   },
   {
    "duration": 26,
    "start_time": "2022-06-23T11:48:43.241Z"
   },
   {
    "duration": 1247,
    "start_time": "2022-06-23T11:48:43.269Z"
   },
   {
    "duration": 35110,
    "start_time": "2022-06-23T11:48:44.518Z"
   },
   {
    "duration": 153362,
    "start_time": "2022-06-23T11:49:19.633Z"
   },
   {
    "duration": 18880,
    "start_time": "2022-06-23T11:51:52.996Z"
   },
   {
    "duration": 304996,
    "start_time": "2022-06-23T11:52:11.878Z"
   },
   {
    "duration": 19955,
    "start_time": "2022-06-23T12:31:29.517Z"
   },
   {
    "duration": 105,
    "start_time": "2022-06-23T12:36:19.391Z"
   },
   {
    "duration": 73,
    "start_time": "2022-06-23T12:36:44.967Z"
   },
   {
    "duration": 200665,
    "start_time": "2022-06-23T12:36:52.615Z"
   },
   {
    "duration": 24,
    "start_time": "2022-06-23T12:53:13.616Z"
   },
   {
    "duration": 1463,
    "start_time": "2022-06-23T12:59:32.586Z"
   },
   {
    "duration": 756,
    "start_time": "2022-06-23T12:59:34.051Z"
   },
   {
    "duration": 30,
    "start_time": "2022-06-23T12:59:34.809Z"
   },
   {
    "duration": 20,
    "start_time": "2022-06-23T12:59:34.841Z"
   },
   {
    "duration": 11,
    "start_time": "2022-06-23T12:59:34.862Z"
   },
   {
    "duration": 92588,
    "start_time": "2022-06-23T12:59:34.874Z"
   },
   {
    "duration": 8,
    "start_time": "2022-06-23T13:01:07.464Z"
   },
   {
    "duration": 50,
    "start_time": "2022-06-23T13:01:07.475Z"
   },
   {
    "duration": 3,
    "start_time": "2022-06-23T13:01:07.527Z"
   },
   {
    "duration": 48,
    "start_time": "2022-06-23T13:01:07.533Z"
   },
   {
    "duration": 234,
    "start_time": "2022-06-23T13:01:07.583Z"
   },
   {
    "duration": 10282,
    "start_time": "2022-06-23T13:01:07.819Z"
   },
   {
    "duration": 101540,
    "start_time": "2022-06-23T13:01:18.102Z"
   },
   {
    "duration": 25,
    "start_time": "2022-06-23T13:02:59.643Z"
   },
   {
    "duration": 1159,
    "start_time": "2022-06-23T13:02:59.669Z"
   },
   {
    "duration": 27704,
    "start_time": "2022-06-23T13:03:00.830Z"
   },
   {
    "duration": 138229,
    "start_time": "2022-06-23T13:03:28.536Z"
   },
   {
    "duration": 18500,
    "start_time": "2022-06-23T13:05:46.767Z"
   },
   {
    "duration": 312982,
    "start_time": "2022-06-23T13:06:05.268Z"
   },
   {
    "duration": 23016,
    "start_time": "2022-06-23T13:11:18.251Z"
   },
   {
    "duration": 231376,
    "start_time": "2022-06-23T13:11:41.269Z"
   },
   {
    "duration": 15,
    "start_time": "2022-06-23T13:15:32.647Z"
   },
   {
    "duration": 1352,
    "start_time": "2022-06-24T02:36:13.149Z"
   },
   {
    "duration": 2975,
    "start_time": "2022-06-24T02:36:14.504Z"
   },
   {
    "duration": 34,
    "start_time": "2022-06-24T02:36:17.486Z"
   },
   {
    "duration": 19,
    "start_time": "2022-06-24T02:36:17.522Z"
   },
   {
    "duration": 6,
    "start_time": "2022-06-24T02:36:17.542Z"
   },
   {
    "duration": 7272,
    "start_time": "2022-06-24T02:36:17.550Z"
   },
   {
    "duration": 7,
    "start_time": "2022-06-24T02:36:24.824Z"
   },
   {
    "duration": 60,
    "start_time": "2022-06-24T02:36:24.832Z"
   },
   {
    "duration": 2,
    "start_time": "2022-06-24T02:36:24.894Z"
   },
   {
    "duration": 42,
    "start_time": "2022-06-24T02:36:24.898Z"
   },
   {
    "duration": 231,
    "start_time": "2022-06-24T02:36:24.941Z"
   },
   {
    "duration": 7069,
    "start_time": "2022-06-24T02:36:25.176Z"
   },
   {
    "duration": 32736,
    "start_time": "2022-06-24T02:36:32.246Z"
   },
   {
    "duration": 43,
    "start_time": "2022-06-24T02:37:05.059Z"
   },
   {
    "duration": 1414,
    "start_time": "2022-06-24T02:37:05.104Z"
   },
   {
    "duration": 12159,
    "start_time": "2022-06-24T02:37:06.520Z"
   },
   {
    "duration": 161040,
    "start_time": "2022-06-24T02:37:18.681Z"
   },
   {
    "duration": 18619,
    "start_time": "2022-06-24T02:39:59.723Z"
   },
   {
    "duration": 334677,
    "start_time": "2022-06-24T02:40:18.343Z"
   },
   {
    "duration": 23915,
    "start_time": "2022-06-24T02:45:53.022Z"
   },
   {
    "duration": 1488,
    "start_time": "2022-06-24T02:49:39.339Z"
   },
   {
    "duration": 1002,
    "start_time": "2022-06-24T02:49:40.829Z"
   },
   {
    "duration": 41,
    "start_time": "2022-06-24T02:49:41.833Z"
   },
   {
    "duration": 32,
    "start_time": "2022-06-24T02:49:41.876Z"
   },
   {
    "duration": 6,
    "start_time": "2022-06-24T02:49:41.911Z"
   },
   {
    "duration": 7637,
    "start_time": "2022-06-24T02:49:41.918Z"
   },
   {
    "duration": 15,
    "start_time": "2022-06-24T02:49:49.557Z"
   },
   {
    "duration": 55,
    "start_time": "2022-06-24T02:49:49.574Z"
   },
   {
    "duration": 3,
    "start_time": "2022-06-24T02:49:49.630Z"
   },
   {
    "duration": 64,
    "start_time": "2022-06-24T02:49:49.635Z"
   },
   {
    "duration": 218,
    "start_time": "2022-06-24T02:49:49.701Z"
   },
   {
    "duration": 7012,
    "start_time": "2022-06-24T02:49:49.921Z"
   },
   {
    "duration": 2,
    "start_time": "2022-06-24T02:49:56.935Z"
   },
   {
    "duration": 6,
    "start_time": "2022-06-24T02:49:56.939Z"
   },
   {
    "duration": 37,
    "start_time": "2022-06-24T02:49:56.946Z"
   },
   {
    "duration": 5,
    "start_time": "2022-06-24T02:49:56.985Z"
   },
   {
    "duration": 320723,
    "start_time": "2022-06-24T02:49:56.991Z"
   },
   {
    "duration": 18507,
    "start_time": "2022-06-24T02:55:17.716Z"
   },
   {
    "duration": 540093,
    "start_time": "2022-06-24T02:55:36.225Z"
   },
   {
    "duration": 22362,
    "start_time": "2022-06-24T03:04:36.320Z"
   },
   {
    "duration": 25720,
    "start_time": "2022-06-24T03:04:58.683Z"
   },
   {
    "duration": 0,
    "start_time": "2022-06-24T03:05:24.404Z"
   },
   {
    "duration": 0,
    "start_time": "2022-06-24T03:05:24.408Z"
   },
   {
    "duration": 13436,
    "start_time": "2022-06-24T03:05:29.235Z"
   },
   {
    "duration": 163031,
    "start_time": "2022-06-24T03:06:00.197Z"
   },
   {
    "duration": 19172,
    "start_time": "2022-06-24T03:08:46.875Z"
   },
   {
    "duration": 213229,
    "start_time": "2022-06-24T03:09:06.049Z"
   },
   {
    "duration": 15,
    "start_time": "2022-06-24T03:12:39.280Z"
   },
   {
    "duration": 56284,
    "start_time": "2022-06-25T06:40:00.619Z"
   },
   {
    "duration": 52,
    "start_time": "2022-06-25T06:41:12.559Z"
   },
   {
    "duration": 59,
    "start_time": "2022-06-25T06:41:23.111Z"
   },
   {
    "duration": 37855,
    "start_time": "2022-06-25T06:41:29.062Z"
   },
   {
    "duration": 84780,
    "start_time": "2022-06-25T06:47:07.467Z"
   },
   {
    "duration": 2338,
    "start_time": "2022-06-25T06:48:32.249Z"
   },
   {
    "duration": 36,
    "start_time": "2022-06-25T06:48:34.589Z"
   },
   {
    "duration": 17,
    "start_time": "2022-06-25T06:48:34.627Z"
   },
   {
    "duration": 6,
    "start_time": "2022-06-25T06:48:34.646Z"
   },
   {
    "duration": 731,
    "start_time": "2022-06-25T06:48:34.653Z"
   },
   {
    "duration": 0,
    "start_time": "2022-06-25T06:48:35.386Z"
   },
   {
    "duration": 0,
    "start_time": "2022-06-25T06:48:35.387Z"
   },
   {
    "duration": 0,
    "start_time": "2022-06-25T06:48:35.388Z"
   },
   {
    "duration": 0,
    "start_time": "2022-06-25T06:48:35.389Z"
   },
   {
    "duration": 0,
    "start_time": "2022-06-25T06:48:35.390Z"
   },
   {
    "duration": 0,
    "start_time": "2022-06-25T06:48:35.391Z"
   },
   {
    "duration": 0,
    "start_time": "2022-06-25T06:48:35.392Z"
   },
   {
    "duration": 0,
    "start_time": "2022-06-25T06:48:35.393Z"
   },
   {
    "duration": 0,
    "start_time": "2022-06-25T06:48:35.394Z"
   },
   {
    "duration": 0,
    "start_time": "2022-06-25T06:48:35.396Z"
   },
   {
    "duration": 0,
    "start_time": "2022-06-25T06:48:35.397Z"
   },
   {
    "duration": 0,
    "start_time": "2022-06-25T06:48:35.398Z"
   },
   {
    "duration": 0,
    "start_time": "2022-06-25T06:48:35.399Z"
   },
   {
    "duration": 0,
    "start_time": "2022-06-25T06:48:35.400Z"
   },
   {
    "duration": 0,
    "start_time": "2022-06-25T06:48:35.402Z"
   },
   {
    "duration": 0,
    "start_time": "2022-06-25T06:48:35.402Z"
   },
   {
    "duration": 469,
    "start_time": "2022-06-25T06:50:05.709Z"
   },
   {
    "duration": 618,
    "start_time": "2022-06-25T06:51:04.183Z"
   },
   {
    "duration": 19,
    "start_time": "2022-06-25T06:53:59.528Z"
   },
   {
    "duration": 91040,
    "start_time": "2022-06-25T06:54:39.310Z"
   },
   {
    "duration": 811,
    "start_time": "2022-06-25T06:56:10.352Z"
   },
   {
    "duration": 37,
    "start_time": "2022-06-25T06:56:11.164Z"
   },
   {
    "duration": 41,
    "start_time": "2022-06-25T06:56:11.203Z"
   },
   {
    "duration": 7,
    "start_time": "2022-06-25T06:56:11.247Z"
   },
   {
    "duration": 1071,
    "start_time": "2022-06-25T06:56:11.256Z"
   },
   {
    "duration": 0,
    "start_time": "2022-06-25T06:56:12.329Z"
   },
   {
    "duration": 0,
    "start_time": "2022-06-25T06:56:12.330Z"
   },
   {
    "duration": 0,
    "start_time": "2022-06-25T06:56:12.331Z"
   },
   {
    "duration": 0,
    "start_time": "2022-06-25T06:56:12.333Z"
   },
   {
    "duration": 0,
    "start_time": "2022-06-25T06:56:12.334Z"
   },
   {
    "duration": 0,
    "start_time": "2022-06-25T06:56:12.335Z"
   },
   {
    "duration": 0,
    "start_time": "2022-06-25T06:56:12.336Z"
   },
   {
    "duration": 0,
    "start_time": "2022-06-25T06:56:12.338Z"
   },
   {
    "duration": 0,
    "start_time": "2022-06-25T06:56:12.339Z"
   },
   {
    "duration": 0,
    "start_time": "2022-06-25T06:56:12.343Z"
   },
   {
    "duration": 0,
    "start_time": "2022-06-25T06:56:12.344Z"
   },
   {
    "duration": 0,
    "start_time": "2022-06-25T06:56:12.345Z"
   },
   {
    "duration": 0,
    "start_time": "2022-06-25T06:56:12.347Z"
   },
   {
    "duration": 0,
    "start_time": "2022-06-25T06:56:12.349Z"
   },
   {
    "duration": 0,
    "start_time": "2022-06-25T06:56:12.351Z"
   },
   {
    "duration": 0,
    "start_time": "2022-06-25T06:56:12.352Z"
   },
   {
    "duration": 283,
    "start_time": "2022-06-25T07:12:26.666Z"
   },
   {
    "duration": 340,
    "start_time": "2022-06-25T07:17:42.029Z"
   },
   {
    "duration": 377,
    "start_time": "2022-06-25T07:28:48.324Z"
   },
   {
    "duration": 281,
    "start_time": "2022-06-25T07:29:17.695Z"
   },
   {
    "duration": 50,
    "start_time": "2022-06-25T07:29:43.500Z"
   },
   {
    "duration": 308,
    "start_time": "2022-06-25T07:32:00.326Z"
   },
   {
    "duration": 240,
    "start_time": "2022-06-25T07:32:10.990Z"
   },
   {
    "duration": 310,
    "start_time": "2022-06-25T07:36:09.512Z"
   },
   {
    "duration": 1390,
    "start_time": "2022-06-25T07:36:52.080Z"
   },
   {
    "duration": 908,
    "start_time": "2022-06-25T07:36:53.472Z"
   },
   {
    "duration": 46,
    "start_time": "2022-06-25T07:36:54.382Z"
   },
   {
    "duration": 21,
    "start_time": "2022-06-25T07:36:54.431Z"
   },
   {
    "duration": 7,
    "start_time": "2022-06-25T07:36:54.455Z"
   },
   {
    "duration": 420,
    "start_time": "2022-06-25T07:36:54.464Z"
   },
   {
    "duration": 0,
    "start_time": "2022-06-25T07:36:54.886Z"
   },
   {
    "duration": 0,
    "start_time": "2022-06-25T07:36:54.887Z"
   },
   {
    "duration": 0,
    "start_time": "2022-06-25T07:36:54.889Z"
   },
   {
    "duration": 1,
    "start_time": "2022-06-25T07:36:54.890Z"
   },
   {
    "duration": 0,
    "start_time": "2022-06-25T07:36:54.892Z"
   },
   {
    "duration": 0,
    "start_time": "2022-06-25T07:36:54.894Z"
   },
   {
    "duration": 0,
    "start_time": "2022-06-25T07:36:54.895Z"
   },
   {
    "duration": 0,
    "start_time": "2022-06-25T07:36:54.896Z"
   },
   {
    "duration": 0,
    "start_time": "2022-06-25T07:36:54.897Z"
   },
   {
    "duration": 0,
    "start_time": "2022-06-25T07:36:54.898Z"
   },
   {
    "duration": 0,
    "start_time": "2022-06-25T07:36:54.899Z"
   },
   {
    "duration": 0,
    "start_time": "2022-06-25T07:36:54.900Z"
   },
   {
    "duration": 0,
    "start_time": "2022-06-25T07:36:54.901Z"
   },
   {
    "duration": 0,
    "start_time": "2022-06-25T07:36:54.902Z"
   },
   {
    "duration": 0,
    "start_time": "2022-06-25T07:36:54.903Z"
   },
   {
    "duration": 0,
    "start_time": "2022-06-25T07:36:54.905Z"
   },
   {
    "duration": 0,
    "start_time": "2022-06-25T07:36:54.905Z"
   },
   {
    "duration": 1380,
    "start_time": "2022-06-25T07:37:45.528Z"
   },
   {
    "duration": 829,
    "start_time": "2022-06-25T07:37:46.910Z"
   },
   {
    "duration": 35,
    "start_time": "2022-06-25T07:37:47.741Z"
   },
   {
    "duration": 16,
    "start_time": "2022-06-25T07:37:47.778Z"
   },
   {
    "duration": 6,
    "start_time": "2022-06-25T07:37:47.796Z"
   },
   {
    "duration": 333,
    "start_time": "2022-06-25T07:37:47.803Z"
   },
   {
    "duration": 0,
    "start_time": "2022-06-25T07:37:48.138Z"
   },
   {
    "duration": 0,
    "start_time": "2022-06-25T07:37:48.139Z"
   },
   {
    "duration": 0,
    "start_time": "2022-06-25T07:37:48.140Z"
   },
   {
    "duration": 0,
    "start_time": "2022-06-25T07:37:48.142Z"
   },
   {
    "duration": 0,
    "start_time": "2022-06-25T07:37:48.143Z"
   },
   {
    "duration": 0,
    "start_time": "2022-06-25T07:37:48.144Z"
   },
   {
    "duration": 0,
    "start_time": "2022-06-25T07:37:48.145Z"
   },
   {
    "duration": 0,
    "start_time": "2022-06-25T07:37:48.146Z"
   },
   {
    "duration": 0,
    "start_time": "2022-06-25T07:37:48.147Z"
   },
   {
    "duration": 0,
    "start_time": "2022-06-25T07:37:48.149Z"
   },
   {
    "duration": 0,
    "start_time": "2022-06-25T07:37:48.150Z"
   },
   {
    "duration": 0,
    "start_time": "2022-06-25T07:37:48.151Z"
   },
   {
    "duration": 0,
    "start_time": "2022-06-25T07:37:48.152Z"
   },
   {
    "duration": 0,
    "start_time": "2022-06-25T07:37:48.153Z"
   },
   {
    "duration": 1,
    "start_time": "2022-06-25T07:37:48.154Z"
   },
   {
    "duration": 0,
    "start_time": "2022-06-25T07:37:48.155Z"
   },
   {
    "duration": 1,
    "start_time": "2022-06-25T07:37:48.156Z"
   },
   {
    "duration": 275,
    "start_time": "2022-06-25T07:39:14.440Z"
   },
   {
    "duration": 224,
    "start_time": "2022-06-25T07:43:31.944Z"
   },
   {
    "duration": 1413,
    "start_time": "2022-06-25T07:45:16.237Z"
   },
   {
    "duration": 851,
    "start_time": "2022-06-25T07:45:17.652Z"
   },
   {
    "duration": 38,
    "start_time": "2022-06-25T07:45:18.505Z"
   },
   {
    "duration": 18,
    "start_time": "2022-06-25T07:45:18.545Z"
   },
   {
    "duration": 6,
    "start_time": "2022-06-25T07:45:18.565Z"
   },
   {
    "duration": 357,
    "start_time": "2022-06-25T07:45:18.573Z"
   },
   {
    "duration": 0,
    "start_time": "2022-06-25T07:45:18.932Z"
   },
   {
    "duration": 0,
    "start_time": "2022-06-25T07:45:18.933Z"
   },
   {
    "duration": 1,
    "start_time": "2022-06-25T07:45:18.934Z"
   },
   {
    "duration": 1,
    "start_time": "2022-06-25T07:45:18.935Z"
   },
   {
    "duration": 0,
    "start_time": "2022-06-25T07:45:18.936Z"
   },
   {
    "duration": 0,
    "start_time": "2022-06-25T07:45:18.938Z"
   },
   {
    "duration": 0,
    "start_time": "2022-06-25T07:45:18.939Z"
   },
   {
    "duration": 0,
    "start_time": "2022-06-25T07:45:18.940Z"
   },
   {
    "duration": 0,
    "start_time": "2022-06-25T07:45:18.941Z"
   },
   {
    "duration": 0,
    "start_time": "2022-06-25T07:45:18.942Z"
   },
   {
    "duration": 0,
    "start_time": "2022-06-25T07:45:18.944Z"
   },
   {
    "duration": 0,
    "start_time": "2022-06-25T07:45:18.945Z"
   },
   {
    "duration": 0,
    "start_time": "2022-06-25T07:45:18.946Z"
   },
   {
    "duration": 0,
    "start_time": "2022-06-25T07:45:18.948Z"
   },
   {
    "duration": 0,
    "start_time": "2022-06-25T07:45:18.949Z"
   },
   {
    "duration": 0,
    "start_time": "2022-06-25T07:45:18.950Z"
   },
   {
    "duration": 235,
    "start_time": "2022-06-25T07:45:43.133Z"
   },
   {
    "duration": 260,
    "start_time": "2022-06-25T07:46:50.335Z"
   },
   {
    "duration": 1442,
    "start_time": "2022-06-25T07:47:03.816Z"
   },
   {
    "duration": 855,
    "start_time": "2022-06-25T07:47:05.260Z"
   },
   {
    "duration": 36,
    "start_time": "2022-06-25T07:47:06.117Z"
   },
   {
    "duration": 17,
    "start_time": "2022-06-25T07:47:06.154Z"
   },
   {
    "duration": 12,
    "start_time": "2022-06-25T07:47:06.174Z"
   },
   {
    "duration": 477,
    "start_time": "2022-06-25T07:47:06.188Z"
   },
   {
    "duration": 0,
    "start_time": "2022-06-25T07:47:06.667Z"
   },
   {
    "duration": 0,
    "start_time": "2022-06-25T07:47:06.668Z"
   },
   {
    "duration": 0,
    "start_time": "2022-06-25T07:47:06.669Z"
   },
   {
    "duration": 0,
    "start_time": "2022-06-25T07:47:06.670Z"
   },
   {
    "duration": 0,
    "start_time": "2022-06-25T07:47:06.671Z"
   },
   {
    "duration": 0,
    "start_time": "2022-06-25T07:47:06.672Z"
   },
   {
    "duration": 0,
    "start_time": "2022-06-25T07:47:06.673Z"
   },
   {
    "duration": 0,
    "start_time": "2022-06-25T07:47:06.674Z"
   },
   {
    "duration": 0,
    "start_time": "2022-06-25T07:47:06.675Z"
   },
   {
    "duration": 0,
    "start_time": "2022-06-25T07:47:06.676Z"
   },
   {
    "duration": 0,
    "start_time": "2022-06-25T07:47:06.677Z"
   },
   {
    "duration": 0,
    "start_time": "2022-06-25T07:47:06.678Z"
   },
   {
    "duration": 0,
    "start_time": "2022-06-25T07:47:06.680Z"
   },
   {
    "duration": 0,
    "start_time": "2022-06-25T07:47:06.681Z"
   },
   {
    "duration": 1,
    "start_time": "2022-06-25T07:47:06.682Z"
   },
   {
    "duration": 0,
    "start_time": "2022-06-25T07:47:06.684Z"
   },
   {
    "duration": 1478,
    "start_time": "2022-06-25T07:50:19.843Z"
   },
   {
    "duration": 238,
    "start_time": "2022-06-25T07:50:33.517Z"
   },
   {
    "duration": 1378,
    "start_time": "2022-06-25T07:59:20.788Z"
   },
   {
    "duration": 834,
    "start_time": "2022-06-25T07:59:22.168Z"
   },
   {
    "duration": 41,
    "start_time": "2022-06-25T07:59:23.004Z"
   },
   {
    "duration": 21,
    "start_time": "2022-06-25T07:59:23.047Z"
   },
   {
    "duration": 7,
    "start_time": "2022-06-25T07:59:23.071Z"
   },
   {
    "duration": 89177,
    "start_time": "2022-06-25T07:59:23.080Z"
   },
   {
    "duration": 9,
    "start_time": "2022-06-25T08:00:52.259Z"
   },
   {
    "duration": 67,
    "start_time": "2022-06-25T08:00:52.269Z"
   },
   {
    "duration": 3,
    "start_time": "2022-06-25T08:00:52.338Z"
   },
   {
    "duration": 54,
    "start_time": "2022-06-25T08:00:52.344Z"
   },
   {
    "duration": 209,
    "start_time": "2022-06-25T08:00:52.399Z"
   },
   {
    "duration": 6948,
    "start_time": "2022-06-25T08:00:52.610Z"
   },
   {
    "duration": 3,
    "start_time": "2022-06-25T08:00:59.559Z"
   },
   {
    "duration": 8,
    "start_time": "2022-06-25T08:00:59.564Z"
   },
   {
    "duration": 6,
    "start_time": "2022-06-25T08:00:59.574Z"
   },
   {
    "duration": 6,
    "start_time": "2022-06-25T08:00:59.581Z"
   },
   {
    "duration": 360694,
    "start_time": "2022-06-25T08:00:59.589Z"
   },
   {
    "duration": 25196,
    "start_time": "2022-06-25T08:07:00.285Z"
   },
   {
    "duration": 539301,
    "start_time": "2022-06-25T08:07:25.483Z"
   },
   {
    "duration": 21740,
    "start_time": "2022-06-25T08:16:24.787Z"
   },
   {
    "duration": 217257,
    "start_time": "2022-06-25T08:16:46.530Z"
   },
   {
    "duration": 17,
    "start_time": "2022-06-25T08:20:23.789Z"
   },
   {
    "duration": 711938,
    "start_time": "2022-06-25T08:24:19.110Z"
   },
   {
    "duration": 20421,
    "start_time": "2022-06-25T08:36:11.050Z"
   },
   {
    "duration": 15,
    "start_time": "2022-06-25T08:43:19.378Z"
   },
   {
    "duration": 1502,
    "start_time": "2022-06-25T09:04:51.814Z"
   },
   {
    "duration": 943,
    "start_time": "2022-06-25T09:04:53.318Z"
   },
   {
    "duration": 42,
    "start_time": "2022-06-25T09:04:54.263Z"
   },
   {
    "duration": 30,
    "start_time": "2022-06-25T09:04:54.310Z"
   },
   {
    "duration": 18,
    "start_time": "2022-06-25T09:04:54.344Z"
   },
   {
    "duration": 89891,
    "start_time": "2022-06-25T09:04:54.364Z"
   },
   {
    "duration": 8,
    "start_time": "2022-06-25T09:06:24.257Z"
   },
   {
    "duration": 44,
    "start_time": "2022-06-25T09:06:24.266Z"
   },
   {
    "duration": 16,
    "start_time": "2022-06-25T09:06:24.312Z"
   },
   {
    "duration": 65,
    "start_time": "2022-06-25T09:06:24.329Z"
   },
   {
    "duration": 136,
    "start_time": "2022-06-25T09:06:24.396Z"
   },
   {
    "duration": 6636,
    "start_time": "2022-06-25T09:06:24.535Z"
   },
   {
    "duration": 2,
    "start_time": "2022-06-25T09:06:31.173Z"
   },
   {
    "duration": 27,
    "start_time": "2022-06-25T09:06:31.178Z"
   },
   {
    "duration": 54,
    "start_time": "2022-06-25T09:06:31.207Z"
   },
   {
    "duration": 36,
    "start_time": "2022-06-25T09:06:31.263Z"
   },
   {
    "duration": 355678,
    "start_time": "2022-06-25T09:06:31.302Z"
   },
   {
    "duration": 20808,
    "start_time": "2022-06-25T09:12:26.983Z"
   },
   {
    "duration": 697238,
    "start_time": "2022-06-25T09:12:47.793Z"
   },
   {
    "duration": 28668,
    "start_time": "2022-06-25T09:24:25.033Z"
   },
   {
    "duration": 416240,
    "start_time": "2022-06-25T09:24:53.702Z"
   },
   {
    "duration": 16,
    "start_time": "2022-06-25T09:31:49.945Z"
   },
   {
    "duration": 32067,
    "start_time": "2022-06-25T09:56:50.031Z"
   },
   {
    "duration": 395,
    "start_time": "2022-06-25T10:09:29.276Z"
   },
   {
    "duration": 612594,
    "start_time": "2022-06-25T10:16:41.086Z"
   },
   {
    "duration": 21450,
    "start_time": "2022-06-25T10:36:26.106Z"
   },
   {
    "duration": 23,
    "start_time": "2022-06-25T10:57:26.628Z"
   },
   {
    "duration": 1436,
    "start_time": "2022-06-25T10:59:06.709Z"
   },
   {
    "duration": 955,
    "start_time": "2022-06-25T10:59:08.149Z"
   },
   {
    "duration": 43,
    "start_time": "2022-06-25T10:59:09.107Z"
   },
   {
    "duration": 16,
    "start_time": "2022-06-25T10:59:09.153Z"
   },
   {
    "duration": 6,
    "start_time": "2022-06-25T10:59:09.171Z"
   },
   {
    "duration": 95882,
    "start_time": "2022-06-25T10:59:09.179Z"
   },
   {
    "duration": 7,
    "start_time": "2022-06-25T11:00:45.062Z"
   },
   {
    "duration": 51,
    "start_time": "2022-06-25T11:00:45.071Z"
   },
   {
    "duration": 7,
    "start_time": "2022-06-25T11:00:45.125Z"
   },
   {
    "duration": 64,
    "start_time": "2022-06-25T11:00:45.134Z"
   },
   {
    "duration": 216,
    "start_time": "2022-06-25T11:00:45.200Z"
   },
   {
    "duration": 7604,
    "start_time": "2022-06-25T11:00:45.418Z"
   },
   {
    "duration": 6,
    "start_time": "2022-06-25T11:00:53.026Z"
   },
   {
    "duration": 10,
    "start_time": "2022-06-25T11:00:53.037Z"
   },
   {
    "duration": 6,
    "start_time": "2022-06-25T11:00:53.048Z"
   },
   {
    "duration": 8,
    "start_time": "2022-06-25T11:00:53.056Z"
   },
   {
    "duration": 653808,
    "start_time": "2022-06-25T11:00:53.066Z"
   },
   {
    "duration": 21664,
    "start_time": "2022-06-25T11:11:46.876Z"
   },
   {
    "duration": 743077,
    "start_time": "2022-06-25T11:12:08.542Z"
   },
   {
    "duration": 33492,
    "start_time": "2022-06-25T11:24:31.621Z"
   },
   {
    "duration": 421192,
    "start_time": "2022-06-25T11:25:05.115Z"
   },
   {
    "duration": 26,
    "start_time": "2022-06-25T11:32:06.309Z"
   },
   {
    "duration": 423,
    "start_time": "2022-06-25T11:32:06.337Z"
   },
   {
    "duration": 32909,
    "start_time": "2022-06-25T11:37:34.034Z"
   },
   {
    "duration": 1531,
    "start_time": "2022-06-25T11:41:34.642Z"
   },
   {
    "duration": 941,
    "start_time": "2022-06-25T11:41:36.175Z"
   },
   {
    "duration": 42,
    "start_time": "2022-06-25T11:41:37.118Z"
   },
   {
    "duration": 20,
    "start_time": "2022-06-25T11:41:37.162Z"
   },
   {
    "duration": 8,
    "start_time": "2022-06-25T11:41:37.185Z"
   },
   {
    "duration": 90662,
    "start_time": "2022-06-25T11:41:37.195Z"
   },
   {
    "duration": 8,
    "start_time": "2022-06-25T11:43:07.860Z"
   },
   {
    "duration": 56,
    "start_time": "2022-06-25T11:43:07.871Z"
   },
   {
    "duration": 4,
    "start_time": "2022-06-25T11:43:07.929Z"
   },
   {
    "duration": 60,
    "start_time": "2022-06-25T11:43:07.935Z"
   },
   {
    "duration": 175,
    "start_time": "2022-06-25T11:43:07.997Z"
   },
   {
    "duration": 8207,
    "start_time": "2022-06-25T11:43:08.173Z"
   },
   {
    "duration": 3,
    "start_time": "2022-06-25T11:43:16.382Z"
   },
   {
    "duration": 34,
    "start_time": "2022-06-25T11:43:16.388Z"
   },
   {
    "duration": 25,
    "start_time": "2022-06-25T11:43:16.423Z"
   },
   {
    "duration": 39,
    "start_time": "2022-06-25T11:43:16.451Z"
   },
   {
    "duration": 1882594,
    "start_time": "2022-06-25T11:43:16.492Z"
   },
   {
    "duration": 21081,
    "start_time": "2022-06-25T12:14:39.088Z"
   },
   {
    "duration": 10026,
    "start_time": "2022-06-25T12:37:54.279Z"
   },
   {
    "duration": 683872,
    "start_time": "2022-06-25T12:38:04.307Z"
   },
   {
    "duration": 33228,
    "start_time": "2022-06-25T12:49:28.181Z"
   },
   {
    "duration": 656587,
    "start_time": "2022-06-25T12:50:01.411Z"
   },
   {
    "duration": 38,
    "start_time": "2022-06-25T13:00:58.001Z"
   },
   {
    "duration": 556,
    "start_time": "2022-06-25T13:00:58.041Z"
   },
   {
    "duration": 1682,
    "start_time": "2022-06-26T15:06:37.830Z"
   },
   {
    "duration": 3116,
    "start_time": "2022-06-26T15:06:39.514Z"
   },
   {
    "duration": 32,
    "start_time": "2022-06-26T15:06:42.631Z"
   },
   {
    "duration": 27,
    "start_time": "2022-06-26T15:06:42.665Z"
   },
   {
    "duration": 23,
    "start_time": "2022-06-26T15:06:42.696Z"
   },
   {
    "duration": 100865,
    "start_time": "2022-06-26T15:06:42.721Z"
   },
   {
    "duration": 9,
    "start_time": "2022-06-26T15:08:23.588Z"
   },
   {
    "duration": 44,
    "start_time": "2022-06-26T15:08:23.599Z"
   },
   {
    "duration": 3,
    "start_time": "2022-06-26T15:08:23.645Z"
   },
   {
    "duration": 79,
    "start_time": "2022-06-26T15:08:23.650Z"
   },
   {
    "duration": 220,
    "start_time": "2022-06-26T15:08:23.731Z"
   },
   {
    "duration": 7507,
    "start_time": "2022-06-26T15:08:23.952Z"
   },
   {
    "duration": 2,
    "start_time": "2022-06-26T15:08:31.461Z"
   },
   {
    "duration": 75,
    "start_time": "2022-06-26T15:08:31.465Z"
   },
   {
    "duration": 24,
    "start_time": "2022-06-26T15:08:31.542Z"
   },
   {
    "duration": 53,
    "start_time": "2022-06-26T15:08:31.568Z"
   },
   {
    "duration": 6211483,
    "start_time": "2022-06-26T15:08:31.623Z"
   },
   {
    "duration": 9496,
    "start_time": "2022-06-26T16:52:03.107Z"
   },
   {
    "duration": 627715,
    "start_time": "2022-06-26T16:52:12.604Z"
   },
   {
    "duration": 32543,
    "start_time": "2022-06-26T17:02:40.321Z"
   },
   {
    "duration": 26921,
    "start_time": "2022-06-26T17:23:47.516Z"
   },
   {
    "duration": 625371,
    "start_time": "2022-06-26T17:24:14.439Z"
   },
   {
    "duration": 30724,
    "start_time": "2022-06-26T17:34:39.812Z"
   },
   {
    "duration": 559479,
    "start_time": "2022-06-26T17:35:10.538Z"
   },
   {
    "duration": 16,
    "start_time": "2022-06-26T17:44:30.019Z"
   },
   {
    "duration": 369,
    "start_time": "2022-06-26T17:44:30.037Z"
   }
  ],
  "kernelspec": {
   "display_name": "Python 3 (ipykernel)",
   "language": "python",
   "name": "python3"
  },
  "language_info": {
   "codemirror_mode": {
    "name": "ipython",
    "version": 3
   },
   "file_extension": ".py",
   "mimetype": "text/x-python",
   "name": "python",
   "nbconvert_exporter": "python",
   "pygments_lexer": "ipython3",
   "version": "3.9.5"
  },
  "toc": {
   "base_numbering": 1,
   "nav_menu": {},
   "number_sections": true,
   "sideBar": true,
   "skip_h1_title": true,
   "title_cell": "Содержание",
   "title_sidebar": "Contents",
   "toc_cell": true,
   "toc_position": {
    "height": "calc(100% - 180px)",
    "left": "10px",
    "top": "150px",
    "width": "302.388px"
   },
   "toc_section_display": true,
   "toc_window_display": false
  }
 },
 "nbformat": 4,
 "nbformat_minor": 2
}
