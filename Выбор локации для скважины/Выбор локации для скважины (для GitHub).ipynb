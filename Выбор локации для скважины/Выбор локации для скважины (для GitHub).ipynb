{
 "cells": [
  {
   "cell_type": "markdown",
   "metadata": {},
   "source": [
    "# Выбор локации для скважины"
   ]
  },
  {
   "cell_type": "markdown",
   "metadata": {},
   "source": [
    "Задача проекта:\n",
    "\n",
    "На основе данных о пробах нефти в трех регионах (в каждом 10 000 месторождений, где измерили качество нефти и объём её запасов) построить модель машинного обучения, которая поможет определить регион, где добыча принесёт наибольшую прибыль.\n",
    "\n",
    "Основные шаги:\n",
    "\n",
    "- Загрузка библиотек;\n",
    "- Открытие файлов и знакомство с данными;\n",
    "- Предобработка данных;\n",
    "- Разделение на выборки;\n",
    "- Обучение модели линейной регрессии и рассчет RMSE;\n",
    "- Рассчет безубыточной разработки скважины;\n",
    "- Расчет прибыли и рисков, формулирование общего вывода."
   ]
  },
  {
   "cell_type": "markdown",
   "metadata": {},
   "source": [
    "## Загрузка и подготовка данных\n",
    "### Загрузка библиотек"
   ]
  },
  {
   "cell_type": "code",
   "execution_count": 1,
   "metadata": {},
   "outputs": [],
   "source": [
    "import matplotlib.pyplot as plt\n",
    "import pandas as pd\n",
    "import numpy as np\n",
    "import seaborn as sns\n",
    "\n",
    "from numpy.random import RandomState\n",
    "from sklearn.linear_model import LinearRegression\n",
    "from sklearn.metrics import mean_squared_error\n",
    "from sklearn.model_selection import train_test_split\n",
    "from tqdm import tqdm"
   ]
  },
  {
   "cell_type": "markdown",
   "metadata": {},
   "source": [
    "### Открытие файлов"
   ]
  },
  {
   "cell_type": "code",
   "execution_count": 2,
   "metadata": {},
   "outputs": [
    {
     "data": {
      "text/html": [
       "<div>\n",
       "<style scoped>\n",
       "    .dataframe tbody tr th:only-of-type {\n",
       "        vertical-align: middle;\n",
       "    }\n",
       "\n",
       "    .dataframe tbody tr th {\n",
       "        vertical-align: top;\n",
       "    }\n",
       "\n",
       "    .dataframe thead th {\n",
       "        text-align: right;\n",
       "    }\n",
       "</style>\n",
       "<table border=\"1\" class=\"dataframe\">\n",
       "  <thead>\n",
       "    <tr style=\"text-align: right;\">\n",
       "      <th></th>\n",
       "      <th>id</th>\n",
       "      <th>f0</th>\n",
       "      <th>f1</th>\n",
       "      <th>f2</th>\n",
       "      <th>product</th>\n",
       "    </tr>\n",
       "  </thead>\n",
       "  <tbody>\n",
       "    <tr>\n",
       "      <th>0</th>\n",
       "      <td>txEyH</td>\n",
       "      <td>0.705745</td>\n",
       "      <td>-0.497823</td>\n",
       "      <td>1.221170</td>\n",
       "      <td>105.280062</td>\n",
       "    </tr>\n",
       "    <tr>\n",
       "      <th>1</th>\n",
       "      <td>2acmU</td>\n",
       "      <td>1.334711</td>\n",
       "      <td>-0.340164</td>\n",
       "      <td>4.365080</td>\n",
       "      <td>73.037750</td>\n",
       "    </tr>\n",
       "    <tr>\n",
       "      <th>2</th>\n",
       "      <td>409Wp</td>\n",
       "      <td>1.022732</td>\n",
       "      <td>0.151990</td>\n",
       "      <td>1.419926</td>\n",
       "      <td>85.265647</td>\n",
       "    </tr>\n",
       "    <tr>\n",
       "      <th>3</th>\n",
       "      <td>iJLyR</td>\n",
       "      <td>-0.032172</td>\n",
       "      <td>0.139033</td>\n",
       "      <td>2.978566</td>\n",
       "      <td>168.620776</td>\n",
       "    </tr>\n",
       "    <tr>\n",
       "      <th>4</th>\n",
       "      <td>Xdl7t</td>\n",
       "      <td>1.988431</td>\n",
       "      <td>0.155413</td>\n",
       "      <td>4.751769</td>\n",
       "      <td>154.036647</td>\n",
       "    </tr>\n",
       "  </tbody>\n",
       "</table>\n",
       "</div>"
      ],
      "text/plain": [
       "      id        f0        f1        f2     product\n",
       "0  txEyH  0.705745 -0.497823  1.221170  105.280062\n",
       "1  2acmU  1.334711 -0.340164  4.365080   73.037750\n",
       "2  409Wp  1.022732  0.151990  1.419926   85.265647\n",
       "3  iJLyR -0.032172  0.139033  2.978566  168.620776\n",
       "4  Xdl7t  1.988431  0.155413  4.751769  154.036647"
      ]
     },
     "execution_count": 2,
     "metadata": {},
     "output_type": "execute_result"
    }
   ],
   "source": [
    "tqdm.pandas()\n",
    "\n",
    "data_0 = pd.read_csv('/datasets/geo_data_0.csv')\n",
    "data_0.head()"
   ]
  },
  {
   "cell_type": "code",
   "execution_count": 3,
   "metadata": {},
   "outputs": [
    {
     "data": {
      "text/html": [
       "<div>\n",
       "<style scoped>\n",
       "    .dataframe tbody tr th:only-of-type {\n",
       "        vertical-align: middle;\n",
       "    }\n",
       "\n",
       "    .dataframe tbody tr th {\n",
       "        vertical-align: top;\n",
       "    }\n",
       "\n",
       "    .dataframe thead th {\n",
       "        text-align: right;\n",
       "    }\n",
       "</style>\n",
       "<table border=\"1\" class=\"dataframe\">\n",
       "  <thead>\n",
       "    <tr style=\"text-align: right;\">\n",
       "      <th></th>\n",
       "      <th>id</th>\n",
       "      <th>f0</th>\n",
       "      <th>f1</th>\n",
       "      <th>f2</th>\n",
       "      <th>product</th>\n",
       "    </tr>\n",
       "  </thead>\n",
       "  <tbody>\n",
       "    <tr>\n",
       "      <th>0</th>\n",
       "      <td>kBEdx</td>\n",
       "      <td>-15.001348</td>\n",
       "      <td>-8.276000</td>\n",
       "      <td>-0.005876</td>\n",
       "      <td>3.179103</td>\n",
       "    </tr>\n",
       "    <tr>\n",
       "      <th>1</th>\n",
       "      <td>62mP7</td>\n",
       "      <td>14.272088</td>\n",
       "      <td>-3.475083</td>\n",
       "      <td>0.999183</td>\n",
       "      <td>26.953261</td>\n",
       "    </tr>\n",
       "    <tr>\n",
       "      <th>2</th>\n",
       "      <td>vyE1P</td>\n",
       "      <td>6.263187</td>\n",
       "      <td>-5.948386</td>\n",
       "      <td>5.001160</td>\n",
       "      <td>134.766305</td>\n",
       "    </tr>\n",
       "    <tr>\n",
       "      <th>3</th>\n",
       "      <td>KcrkZ</td>\n",
       "      <td>-13.081196</td>\n",
       "      <td>-11.506057</td>\n",
       "      <td>4.999415</td>\n",
       "      <td>137.945408</td>\n",
       "    </tr>\n",
       "    <tr>\n",
       "      <th>4</th>\n",
       "      <td>AHL4O</td>\n",
       "      <td>12.702195</td>\n",
       "      <td>-8.147433</td>\n",
       "      <td>5.004363</td>\n",
       "      <td>134.766305</td>\n",
       "    </tr>\n",
       "  </tbody>\n",
       "</table>\n",
       "</div>"
      ],
      "text/plain": [
       "      id         f0         f1        f2     product\n",
       "0  kBEdx -15.001348  -8.276000 -0.005876    3.179103\n",
       "1  62mP7  14.272088  -3.475083  0.999183   26.953261\n",
       "2  vyE1P   6.263187  -5.948386  5.001160  134.766305\n",
       "3  KcrkZ -13.081196 -11.506057  4.999415  137.945408\n",
       "4  AHL4O  12.702195  -8.147433  5.004363  134.766305"
      ]
     },
     "execution_count": 3,
     "metadata": {},
     "output_type": "execute_result"
    }
   ],
   "source": [
    "data_1 = pd.read_csv('/datasets/geo_data_1.csv')\n",
    "data_1.head()"
   ]
  },
  {
   "cell_type": "code",
   "execution_count": 4,
   "metadata": {},
   "outputs": [
    {
     "data": {
      "text/html": [
       "<div>\n",
       "<style scoped>\n",
       "    .dataframe tbody tr th:only-of-type {\n",
       "        vertical-align: middle;\n",
       "    }\n",
       "\n",
       "    .dataframe tbody tr th {\n",
       "        vertical-align: top;\n",
       "    }\n",
       "\n",
       "    .dataframe thead th {\n",
       "        text-align: right;\n",
       "    }\n",
       "</style>\n",
       "<table border=\"1\" class=\"dataframe\">\n",
       "  <thead>\n",
       "    <tr style=\"text-align: right;\">\n",
       "      <th></th>\n",
       "      <th>id</th>\n",
       "      <th>f0</th>\n",
       "      <th>f1</th>\n",
       "      <th>f2</th>\n",
       "      <th>product</th>\n",
       "    </tr>\n",
       "  </thead>\n",
       "  <tbody>\n",
       "    <tr>\n",
       "      <th>0</th>\n",
       "      <td>fwXo0</td>\n",
       "      <td>-1.146987</td>\n",
       "      <td>0.963328</td>\n",
       "      <td>-0.828965</td>\n",
       "      <td>27.758673</td>\n",
       "    </tr>\n",
       "    <tr>\n",
       "      <th>1</th>\n",
       "      <td>WJtFt</td>\n",
       "      <td>0.262778</td>\n",
       "      <td>0.269839</td>\n",
       "      <td>-2.530187</td>\n",
       "      <td>56.069697</td>\n",
       "    </tr>\n",
       "    <tr>\n",
       "      <th>2</th>\n",
       "      <td>ovLUW</td>\n",
       "      <td>0.194587</td>\n",
       "      <td>0.289035</td>\n",
       "      <td>-5.586433</td>\n",
       "      <td>62.871910</td>\n",
       "    </tr>\n",
       "    <tr>\n",
       "      <th>3</th>\n",
       "      <td>q6cA6</td>\n",
       "      <td>2.236060</td>\n",
       "      <td>-0.553760</td>\n",
       "      <td>0.930038</td>\n",
       "      <td>114.572842</td>\n",
       "    </tr>\n",
       "    <tr>\n",
       "      <th>4</th>\n",
       "      <td>WPMUX</td>\n",
       "      <td>-0.515993</td>\n",
       "      <td>1.716266</td>\n",
       "      <td>5.899011</td>\n",
       "      <td>149.600746</td>\n",
       "    </tr>\n",
       "  </tbody>\n",
       "</table>\n",
       "</div>"
      ],
      "text/plain": [
       "      id        f0        f1        f2     product\n",
       "0  fwXo0 -1.146987  0.963328 -0.828965   27.758673\n",
       "1  WJtFt  0.262778  0.269839 -2.530187   56.069697\n",
       "2  ovLUW  0.194587  0.289035 -5.586433   62.871910\n",
       "3  q6cA6  2.236060 -0.553760  0.930038  114.572842\n",
       "4  WPMUX -0.515993  1.716266  5.899011  149.600746"
      ]
     },
     "execution_count": 4,
     "metadata": {},
     "output_type": "execute_result"
    }
   ],
   "source": [
    "data_2 = pd.read_csv('/datasets/geo_data_2.csv')\n",
    "data_2.head()"
   ]
  },
  {
   "cell_type": "markdown",
   "metadata": {},
   "source": [
    "### Описание данных\n",
    "\n",
    "В трех таблицах содержатся данные геологоразведки трёх регионов.\n",
    "\n",
    "Названия столбцов:\n",
    "\n",
    "- id — уникальный идентификатор скважины;\n",
    "- f0, f1, f2 — три признака точек (неважно, что они означают, но сами признаки значимы);\n",
    "- product — объём запасов в скважине (тыс. баррелей)."
   ]
  },
  {
   "cell_type": "markdown",
   "metadata": {},
   "source": [
    "### Знакомство с данными"
   ]
  },
  {
   "cell_type": "code",
   "execution_count": 5,
   "metadata": {},
   "outputs": [
    {
     "name": "stdout",
     "output_type": "stream",
     "text": [
      "<class 'pandas.core.frame.DataFrame'>\n",
      "RangeIndex: 100000 entries, 0 to 99999\n",
      "Data columns (total 5 columns):\n",
      " #   Column   Non-Null Count   Dtype  \n",
      "---  ------   --------------   -----  \n",
      " 0   id       100000 non-null  object \n",
      " 1   f0       100000 non-null  float64\n",
      " 2   f1       100000 non-null  float64\n",
      " 3   f2       100000 non-null  float64\n",
      " 4   product  100000 non-null  float64\n",
      "dtypes: float64(4), object(1)\n",
      "memory usage: 3.8+ MB\n"
     ]
    }
   ],
   "source": [
    "data_0.info()"
   ]
  },
  {
   "cell_type": "code",
   "execution_count": 6,
   "metadata": {},
   "outputs": [
    {
     "name": "stdout",
     "output_type": "stream",
     "text": [
      "<class 'pandas.core.frame.DataFrame'>\n",
      "RangeIndex: 100000 entries, 0 to 99999\n",
      "Data columns (total 5 columns):\n",
      " #   Column   Non-Null Count   Dtype  \n",
      "---  ------   --------------   -----  \n",
      " 0   id       100000 non-null  object \n",
      " 1   f0       100000 non-null  float64\n",
      " 2   f1       100000 non-null  float64\n",
      " 3   f2       100000 non-null  float64\n",
      " 4   product  100000 non-null  float64\n",
      "dtypes: float64(4), object(1)\n",
      "memory usage: 3.8+ MB\n"
     ]
    }
   ],
   "source": [
    "data_1.info()"
   ]
  },
  {
   "cell_type": "code",
   "execution_count": 7,
   "metadata": {},
   "outputs": [
    {
     "name": "stdout",
     "output_type": "stream",
     "text": [
      "<class 'pandas.core.frame.DataFrame'>\n",
      "RangeIndex: 100000 entries, 0 to 99999\n",
      "Data columns (total 5 columns):\n",
      " #   Column   Non-Null Count   Dtype  \n",
      "---  ------   --------------   -----  \n",
      " 0   id       100000 non-null  object \n",
      " 1   f0       100000 non-null  float64\n",
      " 2   f1       100000 non-null  float64\n",
      " 3   f2       100000 non-null  float64\n",
      " 4   product  100000 non-null  float64\n",
      "dtypes: float64(4), object(1)\n",
      "memory usage: 3.8+ MB\n"
     ]
    }
   ],
   "source": [
    "data_2.info()"
   ]
  },
  {
   "cell_type": "code",
   "execution_count": 8,
   "metadata": {},
   "outputs": [
    {
     "data": {
      "text/plain": [
       "0"
      ]
     },
     "execution_count": 8,
     "metadata": {},
     "output_type": "execute_result"
    }
   ],
   "source": [
    "data_0.duplicated().sum()"
   ]
  },
  {
   "cell_type": "code",
   "execution_count": 9,
   "metadata": {},
   "outputs": [
    {
     "data": {
      "text/plain": [
       "0"
      ]
     },
     "execution_count": 9,
     "metadata": {},
     "output_type": "execute_result"
    }
   ],
   "source": [
    "data_1.duplicated().sum()"
   ]
  },
  {
   "cell_type": "code",
   "execution_count": 10,
   "metadata": {},
   "outputs": [
    {
     "data": {
      "text/plain": [
       "0"
      ]
     },
     "execution_count": 10,
     "metadata": {},
     "output_type": "execute_result"
    }
   ],
   "source": [
    "data_2.duplicated().sum()"
   ]
  },
  {
   "cell_type": "code",
   "execution_count": 11,
   "metadata": {},
   "outputs": [
    {
     "data": {
      "text/html": [
       "<div>\n",
       "<style scoped>\n",
       "    .dataframe tbody tr th:only-of-type {\n",
       "        vertical-align: middle;\n",
       "    }\n",
       "\n",
       "    .dataframe tbody tr th {\n",
       "        vertical-align: top;\n",
       "    }\n",
       "\n",
       "    .dataframe thead th {\n",
       "        text-align: right;\n",
       "    }\n",
       "</style>\n",
       "<table border=\"1\" class=\"dataframe\">\n",
       "  <thead>\n",
       "    <tr style=\"text-align: right;\">\n",
       "      <th></th>\n",
       "      <th>f0</th>\n",
       "      <th>f1</th>\n",
       "      <th>f2</th>\n",
       "      <th>product</th>\n",
       "    </tr>\n",
       "  </thead>\n",
       "  <tbody>\n",
       "    <tr>\n",
       "      <th>count</th>\n",
       "      <td>100000.000000</td>\n",
       "      <td>100000.000000</td>\n",
       "      <td>100000.000000</td>\n",
       "      <td>100000.000000</td>\n",
       "    </tr>\n",
       "    <tr>\n",
       "      <th>mean</th>\n",
       "      <td>0.500419</td>\n",
       "      <td>0.250143</td>\n",
       "      <td>2.502647</td>\n",
       "      <td>92.500000</td>\n",
       "    </tr>\n",
       "    <tr>\n",
       "      <th>std</th>\n",
       "      <td>0.871832</td>\n",
       "      <td>0.504433</td>\n",
       "      <td>3.248248</td>\n",
       "      <td>44.288691</td>\n",
       "    </tr>\n",
       "    <tr>\n",
       "      <th>min</th>\n",
       "      <td>-1.408605</td>\n",
       "      <td>-0.848218</td>\n",
       "      <td>-12.088328</td>\n",
       "      <td>0.000000</td>\n",
       "    </tr>\n",
       "    <tr>\n",
       "      <th>25%</th>\n",
       "      <td>-0.072580</td>\n",
       "      <td>-0.200881</td>\n",
       "      <td>0.287748</td>\n",
       "      <td>56.497507</td>\n",
       "    </tr>\n",
       "    <tr>\n",
       "      <th>50%</th>\n",
       "      <td>0.502360</td>\n",
       "      <td>0.250252</td>\n",
       "      <td>2.515969</td>\n",
       "      <td>91.849972</td>\n",
       "    </tr>\n",
       "    <tr>\n",
       "      <th>75%</th>\n",
       "      <td>1.073581</td>\n",
       "      <td>0.700646</td>\n",
       "      <td>4.715088</td>\n",
       "      <td>128.564089</td>\n",
       "    </tr>\n",
       "    <tr>\n",
       "      <th>max</th>\n",
       "      <td>2.362331</td>\n",
       "      <td>1.343769</td>\n",
       "      <td>16.003790</td>\n",
       "      <td>185.364347</td>\n",
       "    </tr>\n",
       "  </tbody>\n",
       "</table>\n",
       "</div>"
      ],
      "text/plain": [
       "                  f0             f1             f2        product\n",
       "count  100000.000000  100000.000000  100000.000000  100000.000000\n",
       "mean        0.500419       0.250143       2.502647      92.500000\n",
       "std         0.871832       0.504433       3.248248      44.288691\n",
       "min        -1.408605      -0.848218     -12.088328       0.000000\n",
       "25%        -0.072580      -0.200881       0.287748      56.497507\n",
       "50%         0.502360       0.250252       2.515969      91.849972\n",
       "75%         1.073581       0.700646       4.715088     128.564089\n",
       "max         2.362331       1.343769      16.003790     185.364347"
      ]
     },
     "execution_count": 11,
     "metadata": {},
     "output_type": "execute_result"
    }
   ],
   "source": [
    "data_0.describe()"
   ]
  },
  {
   "cell_type": "code",
   "execution_count": 12,
   "metadata": {},
   "outputs": [
    {
     "data": {
      "text/html": [
       "<div>\n",
       "<style scoped>\n",
       "    .dataframe tbody tr th:only-of-type {\n",
       "        vertical-align: middle;\n",
       "    }\n",
       "\n",
       "    .dataframe tbody tr th {\n",
       "        vertical-align: top;\n",
       "    }\n",
       "\n",
       "    .dataframe thead th {\n",
       "        text-align: right;\n",
       "    }\n",
       "</style>\n",
       "<table border=\"1\" class=\"dataframe\">\n",
       "  <thead>\n",
       "    <tr style=\"text-align: right;\">\n",
       "      <th></th>\n",
       "      <th>f0</th>\n",
       "      <th>f1</th>\n",
       "      <th>f2</th>\n",
       "      <th>product</th>\n",
       "    </tr>\n",
       "  </thead>\n",
       "  <tbody>\n",
       "    <tr>\n",
       "      <th>count</th>\n",
       "      <td>100000.000000</td>\n",
       "      <td>100000.000000</td>\n",
       "      <td>100000.000000</td>\n",
       "      <td>100000.000000</td>\n",
       "    </tr>\n",
       "    <tr>\n",
       "      <th>mean</th>\n",
       "      <td>1.141296</td>\n",
       "      <td>-4.796579</td>\n",
       "      <td>2.494541</td>\n",
       "      <td>68.825000</td>\n",
       "    </tr>\n",
       "    <tr>\n",
       "      <th>std</th>\n",
       "      <td>8.965932</td>\n",
       "      <td>5.119872</td>\n",
       "      <td>1.703572</td>\n",
       "      <td>45.944423</td>\n",
       "    </tr>\n",
       "    <tr>\n",
       "      <th>min</th>\n",
       "      <td>-31.609576</td>\n",
       "      <td>-26.358598</td>\n",
       "      <td>-0.018144</td>\n",
       "      <td>0.000000</td>\n",
       "    </tr>\n",
       "    <tr>\n",
       "      <th>25%</th>\n",
       "      <td>-6.298551</td>\n",
       "      <td>-8.267985</td>\n",
       "      <td>1.000021</td>\n",
       "      <td>26.953261</td>\n",
       "    </tr>\n",
       "    <tr>\n",
       "      <th>50%</th>\n",
       "      <td>1.153055</td>\n",
       "      <td>-4.813172</td>\n",
       "      <td>2.011479</td>\n",
       "      <td>57.085625</td>\n",
       "    </tr>\n",
       "    <tr>\n",
       "      <th>75%</th>\n",
       "      <td>8.621015</td>\n",
       "      <td>-1.332816</td>\n",
       "      <td>3.999904</td>\n",
       "      <td>107.813044</td>\n",
       "    </tr>\n",
       "    <tr>\n",
       "      <th>max</th>\n",
       "      <td>29.421755</td>\n",
       "      <td>18.734063</td>\n",
       "      <td>5.019721</td>\n",
       "      <td>137.945408</td>\n",
       "    </tr>\n",
       "  </tbody>\n",
       "</table>\n",
       "</div>"
      ],
      "text/plain": [
       "                  f0             f1             f2        product\n",
       "count  100000.000000  100000.000000  100000.000000  100000.000000\n",
       "mean        1.141296      -4.796579       2.494541      68.825000\n",
       "std         8.965932       5.119872       1.703572      45.944423\n",
       "min       -31.609576     -26.358598      -0.018144       0.000000\n",
       "25%        -6.298551      -8.267985       1.000021      26.953261\n",
       "50%         1.153055      -4.813172       2.011479      57.085625\n",
       "75%         8.621015      -1.332816       3.999904     107.813044\n",
       "max        29.421755      18.734063       5.019721     137.945408"
      ]
     },
     "execution_count": 12,
     "metadata": {},
     "output_type": "execute_result"
    }
   ],
   "source": [
    "data_1.describe()"
   ]
  },
  {
   "cell_type": "code",
   "execution_count": 13,
   "metadata": {},
   "outputs": [
    {
     "data": {
      "text/html": [
       "<div>\n",
       "<style scoped>\n",
       "    .dataframe tbody tr th:only-of-type {\n",
       "        vertical-align: middle;\n",
       "    }\n",
       "\n",
       "    .dataframe tbody tr th {\n",
       "        vertical-align: top;\n",
       "    }\n",
       "\n",
       "    .dataframe thead th {\n",
       "        text-align: right;\n",
       "    }\n",
       "</style>\n",
       "<table border=\"1\" class=\"dataframe\">\n",
       "  <thead>\n",
       "    <tr style=\"text-align: right;\">\n",
       "      <th></th>\n",
       "      <th>f0</th>\n",
       "      <th>f1</th>\n",
       "      <th>f2</th>\n",
       "      <th>product</th>\n",
       "    </tr>\n",
       "  </thead>\n",
       "  <tbody>\n",
       "    <tr>\n",
       "      <th>count</th>\n",
       "      <td>100000.000000</td>\n",
       "      <td>100000.000000</td>\n",
       "      <td>100000.000000</td>\n",
       "      <td>100000.000000</td>\n",
       "    </tr>\n",
       "    <tr>\n",
       "      <th>mean</th>\n",
       "      <td>0.002023</td>\n",
       "      <td>-0.002081</td>\n",
       "      <td>2.495128</td>\n",
       "      <td>95.000000</td>\n",
       "    </tr>\n",
       "    <tr>\n",
       "      <th>std</th>\n",
       "      <td>1.732045</td>\n",
       "      <td>1.730417</td>\n",
       "      <td>3.473445</td>\n",
       "      <td>44.749921</td>\n",
       "    </tr>\n",
       "    <tr>\n",
       "      <th>min</th>\n",
       "      <td>-8.760004</td>\n",
       "      <td>-7.084020</td>\n",
       "      <td>-11.970335</td>\n",
       "      <td>0.000000</td>\n",
       "    </tr>\n",
       "    <tr>\n",
       "      <th>25%</th>\n",
       "      <td>-1.162288</td>\n",
       "      <td>-1.174820</td>\n",
       "      <td>0.130359</td>\n",
       "      <td>59.450441</td>\n",
       "    </tr>\n",
       "    <tr>\n",
       "      <th>50%</th>\n",
       "      <td>0.009424</td>\n",
       "      <td>-0.009482</td>\n",
       "      <td>2.484236</td>\n",
       "      <td>94.925613</td>\n",
       "    </tr>\n",
       "    <tr>\n",
       "      <th>75%</th>\n",
       "      <td>1.158535</td>\n",
       "      <td>1.163678</td>\n",
       "      <td>4.858794</td>\n",
       "      <td>130.595027</td>\n",
       "    </tr>\n",
       "    <tr>\n",
       "      <th>max</th>\n",
       "      <td>7.238262</td>\n",
       "      <td>7.844801</td>\n",
       "      <td>16.739402</td>\n",
       "      <td>190.029838</td>\n",
       "    </tr>\n",
       "  </tbody>\n",
       "</table>\n",
       "</div>"
      ],
      "text/plain": [
       "                  f0             f1             f2        product\n",
       "count  100000.000000  100000.000000  100000.000000  100000.000000\n",
       "mean        0.002023      -0.002081       2.495128      95.000000\n",
       "std         1.732045       1.730417       3.473445      44.749921\n",
       "min        -8.760004      -7.084020     -11.970335       0.000000\n",
       "25%        -1.162288      -1.174820       0.130359      59.450441\n",
       "50%         0.009424      -0.009482       2.484236      94.925613\n",
       "75%         1.158535       1.163678       4.858794     130.595027\n",
       "max         7.238262       7.844801      16.739402     190.029838"
      ]
     },
     "execution_count": 13,
     "metadata": {},
     "output_type": "execute_result"
    }
   ],
   "source": [
    "data_2.describe()"
   ]
  },
  {
   "cell_type": "code",
   "execution_count": 14,
   "metadata": {},
   "outputs": [
    {
     "data": {
      "image/png": "[encoded data removed]",
      "text/plain": [
       "<Figure size 432x432 with 2 Axes>"
      ]
     },
     "metadata": {
      "needs_background": "light"
     },
     "output_type": "display_data"
    }
   ],
   "source": [
    "plt.figure(figsize=(6,6))\n",
    "sns.heatmap(data_0.corr(), annot=True, fmt='.2f'); \n",
    "plt.title('Попарная корреляция всех столбцов в data_0');"
   ]
  },
  {
   "cell_type": "code",
   "execution_count": 15,
   "metadata": {},
   "outputs": [
    {
     "data": {
      "image/png": "[encoded data removed]",
      "text/plain": [
       "<Figure size 432x432 with 2 Axes>"
      ]
     },
     "metadata": {
      "needs_background": "light"
     },
     "output_type": "display_data"
    }
   ],
   "source": [
    "plt.figure(figsize=(6,6))\n",
    "sns.heatmap(data_1.corr(), annot=True, fmt='.2f');\n",
    "plt.title('Попарная корреляция всех столбцов в data_1');"
   ]
  },
  {
   "cell_type": "code",
   "execution_count": 16,
   "metadata": {},
   "outputs": [
    {
     "data": {
      "image/png": "[encoded data removed]",
      "text/plain": [
       "<Figure size 432x432 with 2 Axes>"
      ]
     },
     "metadata": {
      "needs_background": "light"
     },
     "output_type": "display_data"
    }
   ],
   "source": [
    "plt.figure(figsize=(6,6))\n",
    "sns.heatmap(data_2.corr(), annot=True, fmt='.2f');\n",
    "plt.title('Попарная корреляция всех столбцов в data_2');"
   ]
  },
  {
   "cell_type": "markdown",
   "metadata": {},
   "source": [
    "### Вывод\n",
    "\n",
    "- В каждой из  таблиц - 100 тыс. строк.\n",
    "- Столбец id имеет тип object, остальные - float64.\n",
    "- Дубликаты отсутствуют.\n",
    "- Данные в столбцах f0, f1, f2 почти не отличаются по масштабу, поэтому масштабирование не потребуется.\n",
    "- Столбец id помешает обучению модели, на этапе предобработки его необходимо удалить.\n",
    "- В таблице data_1 наблюдается очень высокая положительная корреляция между столбцами f2 и product.\n",
    "- В таблицах  data_0 и data_2 наблюдается средняя положительная корреляция между столбцами f2 и product.\n",
    "- В таблице data_0 наблюдается средняя отрицательная корреляция между столбцами f0 и f1.\n",
    "- В регионе 2 объём запасов в скважинах максимальный, в регионе 1 - минимальный. В регионе 0 - объем близок к максимальному."
   ]
  },
  {
   "cell_type": "markdown",
   "metadata": {},
   "source": [
    "### Предобработка данных"
   ]
  },
  {
   "cell_type": "code",
   "execution_count": 17,
   "metadata": {},
   "outputs": [
    {
     "data": {
      "text/plain": [
       "(100000, 4)"
      ]
     },
     "metadata": {},
     "output_type": "display_data"
    },
    {
     "data": {
      "text/plain": [
       "(100000, 4)"
      ]
     },
     "metadata": {},
     "output_type": "display_data"
    },
    {
     "data": {
      "text/plain": [
       "(100000, 4)"
      ]
     },
     "execution_count": 17,
     "metadata": {},
     "output_type": "execute_result"
    }
   ],
   "source": [
    "data_0 = data_0.drop('id', 1)\n",
    "data_1 = data_1.drop('id', 1)\n",
    "data_2 = data_2.drop('id', 1)\n",
    "display(data_0.shape)\n",
    "display(data_1.shape)\n",
    "data_2.shape"
   ]
  },
  {
   "cell_type": "markdown",
   "metadata": {},
   "source": [
    "### Разделение данных на выборки"
   ]
  },
  {
   "cell_type": "code",
   "execution_count": 18,
   "metadata": {},
   "outputs": [
    {
     "data": {
      "text/plain": [
       "(75000, 4)"
      ]
     },
     "metadata": {},
     "output_type": "display_data"
    },
    {
     "data": {
      "text/plain": [
       "(25000, 4)"
      ]
     },
     "metadata": {},
     "output_type": "display_data"
    },
    {
     "data": {
      "text/plain": [
       "(75000, 4)"
      ]
     },
     "metadata": {},
     "output_type": "display_data"
    },
    {
     "data": {
      "text/plain": [
       "(25000, 4)"
      ]
     },
     "metadata": {},
     "output_type": "display_data"
    },
    {
     "data": {
      "text/plain": [
       "(75000, 4)"
      ]
     },
     "metadata": {},
     "output_type": "display_data"
    },
    {
     "data": {
      "text/plain": [
       "(25000, 4)"
      ]
     },
     "execution_count": 18,
     "metadata": {},
     "output_type": "execute_result"
    }
   ],
   "source": [
    "data_train_0, data_valid_0 = train_test_split(data_0, test_size=0.25, random_state=12345)\n",
    "data_train_1, data_valid_1 = train_test_split(data_1, test_size=0.25, random_state=12345)\n",
    "data_train_2, data_valid_2 = train_test_split(data_2, test_size=0.25, random_state=12345)\n",
    "\n",
    "display(data_train_0.shape)\n",
    "display(data_valid_0.shape)\n",
    "display(data_train_1.shape)\n",
    "display(data_valid_1.shape)\n",
    "display(data_train_2.shape)\n",
    "data_valid_2.shape"
   ]
  },
  {
   "cell_type": "markdown",
   "metadata": {},
   "source": [
    "### Вывод\n",
    "\n",
    "Файлы загружены и подготовлены к обучению модели."
   ]
  },
  {
   "cell_type": "markdown",
   "metadata": {},
   "source": [
    "## Обучение и проверка модели\n",
    "### Обучение модели"
   ]
  },
  {
   "cell_type": "code",
   "execution_count": 19,
   "metadata": {},
   "outputs": [],
   "source": [
    "features_train_0 = data_train_0.drop(['product'],axis=1)\n",
    "target_train_0 = data_train_0['product']\n",
    "\n",
    "features_valid_0 = data_valid_0.drop(['product'],axis=1)\n",
    "target_valid_0 = data_valid_0['product']\n",
    "\n",
    "features_train_1 = data_train_1.drop(['product'],axis=1)\n",
    "target_train_1 = data_train_1['product']\n",
    "\n",
    "features_valid_1 = data_valid_1.drop(['product'],axis=1)\n",
    "target_valid_1 = data_valid_1['product']\n",
    "\n",
    "features_train_2 = data_train_2.drop(['product'],axis=1)\n",
    "target_train_2 = data_train_2['product']\n",
    "\n",
    "features_valid_2 = data_valid_2.drop(['product'],axis=1)\n",
    "target_valid_2 = data_valid_2['product']"
   ]
  },
  {
   "cell_type": "code",
   "execution_count": 20,
   "metadata": {},
   "outputs": [
    {
     "name": "stdout",
     "output_type": "stream",
     "text": [
      "Cредний запас предсказанного сырья для региона 0: 92.59256778438035\n",
      "RMSE модели для региона 0: 37.5794217150813\n"
     ]
    }
   ],
   "source": [
    "model_0 = LinearRegression()\n",
    "model_0.fit(features_train_0, target_train_0)\n",
    "answer_0 = model_0.predict(features_valid_0)\n",
    "rmse_0 = mean_squared_error(target_valid_0, answer_0) ** 0.5 \n",
    "\n",
    "print('Cредний запас предсказанного сырья для региона 0:', answer_0.mean())\n",
    "print('RMSE модели для региона 0:', rmse_0)"
   ]
  },
  {
   "cell_type": "code",
   "execution_count": 21,
   "metadata": {},
   "outputs": [
    {
     "name": "stdout",
     "output_type": "stream",
     "text": [
      "Cредний запас предсказанного сырья для региона 1: 68.728546895446\n",
      "RMSE модели для региона 1: 0.893099286775617\n"
     ]
    }
   ],
   "source": [
    "model_1 = LinearRegression()\n",
    "model_1.fit(features_train_1, target_train_1)\n",
    "answer_1 = model_1.predict(features_valid_1)\n",
    "rmse_1 = mean_squared_error(target_valid_1, answer_1) ** 0.5 \n",
    "\n",
    "print('Cредний запас предсказанного сырья для региона 1:', answer_1.mean())\n",
    "print('RMSE модели для региона 1:', rmse_1)"
   ]
  },
  {
   "cell_type": "code",
   "execution_count": 22,
   "metadata": {},
   "outputs": [
    {
     "name": "stdout",
     "output_type": "stream",
     "text": [
      "Cредний запас предсказанного сырья для региона 1: 94.96504596800489\n",
      "RMSE модели для региона 1: 40.02970873393434\n"
     ]
    }
   ],
   "source": [
    "model_2 = LinearRegression()\n",
    "model_2.fit(features_train_2, target_train_2)\n",
    "answer_2 = model_2.predict(features_valid_2)\n",
    "rmse_2 = mean_squared_error(target_valid_2, answer_2) ** 0.5 \n",
    "\n",
    "print('Cредний запас предсказанного сырья для региона 1:', answer_2.mean())\n",
    "print('RMSE модели для региона 1:', rmse_2)"
   ]
  },
  {
   "cell_type": "markdown",
   "metadata": {},
   "source": [
    "### Вывод"
   ]
  },
  {
   "cell_type": "code",
   "execution_count": 23,
   "metadata": {},
   "outputs": [
    {
     "data": {
      "text/html": [
       "<div>\n",
       "<style scoped>\n",
       "    .dataframe tbody tr th:only-of-type {\n",
       "        vertical-align: middle;\n",
       "    }\n",
       "\n",
       "    .dataframe tbody tr th {\n",
       "        vertical-align: top;\n",
       "    }\n",
       "\n",
       "    .dataframe thead th {\n",
       "        text-align: right;\n",
       "    }\n",
       "</style>\n",
       "<table border=\"1\" class=\"dataframe\">\n",
       "  <thead>\n",
       "    <tr style=\"text-align: right;\">\n",
       "      <th></th>\n",
       "      <th>Регион</th>\n",
       "      <th>Cредний запас предсказанного сырья</th>\n",
       "      <th>RMSE модели</th>\n",
       "    </tr>\n",
       "  </thead>\n",
       "  <tbody>\n",
       "    <tr>\n",
       "      <th>0</th>\n",
       "      <td>0</td>\n",
       "      <td>92.592568</td>\n",
       "      <td>37.579422</td>\n",
       "    </tr>\n",
       "    <tr>\n",
       "      <th>1</th>\n",
       "      <td>1</td>\n",
       "      <td>68.728547</td>\n",
       "      <td>0.893099</td>\n",
       "    </tr>\n",
       "    <tr>\n",
       "      <th>2</th>\n",
       "      <td>2</td>\n",
       "      <td>94.965046</td>\n",
       "      <td>40.029709</td>\n",
       "    </tr>\n",
       "  </tbody>\n",
       "</table>\n",
       "</div>"
      ],
      "text/plain": [
       "  Регион  Cредний запас предсказанного сырья  RMSE модели\n",
       "0      0                           92.592568    37.579422\n",
       "1      1                           68.728547     0.893099\n",
       "2      2                           94.965046    40.029709"
      ]
     },
     "execution_count": 23,
     "metadata": {},
     "output_type": "execute_result"
    }
   ],
   "source": [
    "df = pd.DataFrame({'Регион': ['0', '1', '2'], 'Cредний запас предсказанного сырья': [answer_0.mean(), answer_1.mean(), answer_2.mean()], 'RMSE модели': [rmse_0, rmse_1, rmse_2]})\n",
    "df"
   ]
  },
  {
   "cell_type": "markdown",
   "metadata": {},
   "source": [
    "Самая высокая точность модели для региона 1 (RMSE модели: 0.89) при самом низком среднем запасе предсказанного сырья 68.72 тыс. баррелей.\n",
    "\n",
    "Показатели моделей для регионов 0 и 2 незначительно отличаются между собой (RMSE: 37.57, запас: 92.59 тыс. баррелей; RMSE: 40.02, запас: 94.96 тыс. баррелей). С увеличением среднего запаса предсказанного сырья увеличивается и корень средней квадратичной ошибки."
   ]
  },
  {
   "cell_type": "markdown",
   "metadata": {},
   "source": [
    "## Подготовка к расчёту прибыли\n",
    "### Введение новых переменных"
   ]
  },
  {
   "cell_type": "code",
   "execution_count": 24,
   "metadata": {},
   "outputs": [],
   "source": [
    "n_borehole = 500\n",
    "n_best_borehole = 200\n",
    "budget = 10000000000\n",
    "income = 450000\n",
    "loss = 0.025"
   ]
  },
  {
   "cell_type": "markdown",
   "metadata": {},
   "source": [
    "### Рассчет безубыточной разработки скважины"
   ]
  },
  {
   "cell_type": "code",
   "execution_count": 25,
   "metadata": {},
   "outputs": [
    {
     "data": {
      "text/plain": [
       "111.11111111111111"
      ]
     },
     "execution_count": 25,
     "metadata": {},
     "output_type": "execute_result"
    }
   ],
   "source": [
    "n_borehole_null = budget/income/n_best_borehole\n",
    "n_borehole_null"
   ]
  },
  {
   "cell_type": "markdown",
   "metadata": {},
   "source": [
    "### Вывод\n",
    "\n",
    "При озвученных данных разработка может считаться безубыточной при обнаружении в ней запаса в 111.11 тыс. баррелей нефти. Этот показатель выше, чем средние запасы предсказанного сырья для всех трех регионов.\n",
    "\n",
    "На первый взгляд добиться безубыточности легче в регионах 0 и 2. Проверим эту гипотезу в последующих шагах."
   ]
  },
  {
   "cell_type": "markdown",
   "metadata": {},
   "source": [
    "## Расчёт прибыли и рисков "
   ]
  },
  {
   "cell_type": "markdown",
   "metadata": {},
   "source": [
    "### Bootstrap"
   ]
  },
  {
   "cell_type": "code",
   "execution_count": 26,
   "metadata": {},
   "outputs": [],
   "source": [
    "def profit(target, answer):\n",
    "    \n",
    "    profit = 0\n",
    "    answers_sort = answer.sort_values(ascending=False).head(n_best_borehole)\n",
    "    target_sort = target[answers_sort.index][:n_best_borehole]\n",
    "    \n",
    "    for raw in target_sort:\n",
    "        profit += (raw - n_borehole_null)*income\n",
    "        \n",
    "    return profit"
   ]
  },
  {
   "cell_type": "code",
   "execution_count": 27,
   "metadata": {},
   "outputs": [],
   "source": [
    "def bootstrap(target, answer):\n",
    "    \n",
    "    state = np.random.RandomState(12345)\n",
    "    values = []\n",
    "    \n",
    "    for i in range(1000):\n",
    "        target_subsample = target.sample(n=n_borehole, replace=True, random_state=state)\n",
    "        probs_subsample = (pd.Series(answer,index=target.index))[target_subsample.index] \n",
    "        values.append(profit(target_subsample, probs_subsample))\n",
    "\n",
    "    values = pd.Series(values)\n",
    "    lower = values.quantile(0.025)/1000000\n",
    "    upper = values.quantile(0.975)/1000000\n",
    "    mean = values.mean()/1000000\n",
    "    risk = (values < 0).mean()\n",
    "\n",
    "    \n",
    "    print(f'Средняя прибыль: {mean:.2f} млн. руб.')\n",
    "    print(f'95%-й доверительный интервал: от {lower:.2f} до {upper:.2f} млн. руб.')\n",
    "    print(f'Риск убытков: {risk:.1%}')"
   ]
  },
  {
   "cell_type": "code",
   "execution_count": 28,
   "metadata": {},
   "outputs": [
    {
     "name": "stdout",
     "output_type": "stream",
     "text": [
      "Регион 0:\n",
      "Средняя прибыль: 425.94 млн. руб.\n",
      "95%-й доверительный интервал: от -102.09 до 947.98 млн. руб.\n",
      "Риск убытков: 6.0%\n",
      "None\n"
     ]
    }
   ],
   "source": [
    "print('Регион 0:')\n",
    "print(bootstrap(target_valid_0, answer_0))"
   ]
  },
  {
   "cell_type": "code",
   "execution_count": 29,
   "metadata": {},
   "outputs": [
    {
     "name": "stdout",
     "output_type": "stream",
     "text": [
      "Регион 1:\n",
      "Средняя прибыль: 515.22 млн. руб.\n",
      "95%-й доверительный интервал: от 68.87 до 931.55 млн. руб.\n",
      "Риск убытков: 1.0%\n",
      "None\n"
     ]
    }
   ],
   "source": [
    "print('Регион 1:')\n",
    "print(bootstrap(target_valid_1, answer_1))"
   ]
  },
  {
   "cell_type": "code",
   "execution_count": 30,
   "metadata": {},
   "outputs": [
    {
     "name": "stdout",
     "output_type": "stream",
     "text": [
      "Регион 2:\n",
      "Средняя прибыль: 435.01 млн. руб.\n",
      "95%-й доверительный интервал: от -128.88 до 969.71 млн. руб.\n",
      "Риск убытков: 6.4%\n",
      "None\n"
     ]
    }
   ],
   "source": [
    "print('Регион 2:')\n",
    "print(bootstrap(target_valid_2, answer_2))"
   ]
  },
  {
   "cell_type": "markdown",
   "metadata": {},
   "source": [
    "### Вывод\n",
    "\n",
    "Регион 0 для разработки новых скважин является убыточным (средняя прибыль: -1727.07 млн. руб.). Регионы 1 и 2 являются прибыльными (515.22 млн. руб. и 435.01 млн. руб.). Однако риск убытков у 1 региона ниже (1.0%) и в 95%-ом доверительном интервале присутствуют только положительные значения (а значит разработка большинства скважин будет прибыльной). Риск убытков в регионе 2 выше (6.4%), а в 95%-ом доверительном интервале присутствуют отрицательные числа, поэтому часть разработки скважин будут убыточными.\n",
    "\n",
    "## Общий вывод\n",
    "\n",
    "Регион 1 принесёт наибольшую прибыль при разработке скважин. Для этого региона была построена самая точная модель (RMSE модели: 0.89). При самом низком среднем запасе предсказанного сырья в этом регионе (68.72 тыс. баррелей) предсказана самая высокая средняя прибыль (515.22 млн. руб.), а риск убытков у этого региона самый низкий (1.0%). В 95%-ом доверительном интервале присутствуют только положительные значения (значит разработка большинства скважин будет прибыльной)."
   ]
  }
 ],
 "metadata": {
  "ExecuteTimeLog": [
   {
    "duration": 1156,
    "start_time": "2022-04-25T11:04:00.264Z"
   },
   {
    "duration": 137,
    "start_time": "2022-04-25T11:06:16.602Z"
   },
   {
    "duration": 120,
    "start_time": "2022-04-25T11:06:55.688Z"
   },
   {
    "duration": 123,
    "start_time": "2022-04-25T11:07:11.757Z"
   },
   {
    "duration": 16,
    "start_time": "2022-04-25T11:10:23.101Z"
   },
   {
    "duration": 22,
    "start_time": "2022-04-25T11:10:37.578Z"
   },
   {
    "duration": 14,
    "start_time": "2022-04-25T11:10:51.478Z"
   },
   {
    "duration": 53,
    "start_time": "2022-04-25T11:11:20.853Z"
   },
   {
    "duration": 50,
    "start_time": "2022-04-25T11:11:27.408Z"
   },
   {
    "duration": 46,
    "start_time": "2022-04-25T11:11:56.870Z"
   },
   {
    "duration": 50,
    "start_time": "2022-04-25T11:12:03.722Z"
   },
   {
    "duration": 40,
    "start_time": "2022-04-25T11:21:15.051Z"
   },
   {
    "duration": 36,
    "start_time": "2022-04-25T11:21:37.162Z"
   },
   {
    "duration": 50,
    "start_time": "2022-04-25T11:22:09.503Z"
   },
   {
    "duration": 11,
    "start_time": "2022-04-25T11:26:48.022Z"
   },
   {
    "duration": 102,
    "start_time": "2022-04-25T11:27:07.864Z"
   },
   {
    "duration": 13,
    "start_time": "2022-04-25T11:27:11.624Z"
   },
   {
    "duration": 20,
    "start_time": "2022-04-25T11:27:27.225Z"
   },
   {
    "duration": 21,
    "start_time": "2022-04-25T11:27:32.696Z"
   },
   {
    "duration": 13,
    "start_time": "2022-04-25T11:30:26.272Z"
   },
   {
    "duration": 12,
    "start_time": "2022-04-25T11:30:51.964Z"
   },
   {
    "duration": 12,
    "start_time": "2022-04-25T11:31:02.928Z"
   },
   {
    "duration": 1076,
    "start_time": "2022-04-25T11:31:32.007Z"
   },
   {
    "duration": 128,
    "start_time": "2022-04-25T11:31:33.085Z"
   },
   {
    "duration": 115,
    "start_time": "2022-04-25T11:31:33.215Z"
   },
   {
    "duration": 118,
    "start_time": "2022-04-25T11:31:33.332Z"
   },
   {
    "duration": 28,
    "start_time": "2022-04-25T11:31:33.452Z"
   },
   {
    "duration": 14,
    "start_time": "2022-04-25T11:31:33.481Z"
   },
   {
    "duration": 14,
    "start_time": "2022-04-25T11:31:33.496Z"
   },
   {
    "duration": 66,
    "start_time": "2022-04-25T11:31:33.512Z"
   },
   {
    "duration": 41,
    "start_time": "2022-04-25T11:31:33.580Z"
   },
   {
    "duration": 61,
    "start_time": "2022-04-25T11:31:33.623Z"
   },
   {
    "duration": 36,
    "start_time": "2022-04-25T11:31:33.686Z"
   },
   {
    "duration": 51,
    "start_time": "2022-04-25T11:31:33.723Z"
   },
   {
    "duration": 34,
    "start_time": "2022-04-25T11:31:33.776Z"
   },
   {
    "duration": 12,
    "start_time": "2022-04-25T11:31:33.812Z"
   },
   {
    "duration": 12,
    "start_time": "2022-04-25T11:31:40.341Z"
   },
   {
    "duration": 103,
    "start_time": "2022-04-25T11:31:49.545Z"
   },
   {
    "duration": 2,
    "start_time": "2022-04-25T11:31:55.438Z"
   },
   {
    "duration": 120,
    "start_time": "2022-04-25T11:31:55.445Z"
   },
   {
    "duration": 119,
    "start_time": "2022-04-25T11:31:55.568Z"
   },
   {
    "duration": 119,
    "start_time": "2022-04-25T11:31:55.689Z"
   },
   {
    "duration": 16,
    "start_time": "2022-04-25T11:31:55.810Z"
   },
   {
    "duration": 15,
    "start_time": "2022-04-25T11:31:55.828Z"
   },
   {
    "duration": 37,
    "start_time": "2022-04-25T11:31:55.845Z"
   },
   {
    "duration": 45,
    "start_time": "2022-04-25T11:31:55.884Z"
   },
   {
    "duration": 64,
    "start_time": "2022-04-25T11:31:55.931Z"
   },
   {
    "duration": 45,
    "start_time": "2022-04-25T11:31:55.996Z"
   },
   {
    "duration": 51,
    "start_time": "2022-04-25T11:31:56.042Z"
   },
   {
    "duration": 33,
    "start_time": "2022-04-25T11:31:56.095Z"
   },
   {
    "duration": 50,
    "start_time": "2022-04-25T11:31:56.129Z"
   },
   {
    "duration": 11,
    "start_time": "2022-04-25T11:31:58.392Z"
   },
   {
    "duration": 14,
    "start_time": "2022-04-25T11:32:22.995Z"
   },
   {
    "duration": 2,
    "start_time": "2022-04-25T11:32:28.438Z"
   },
   {
    "duration": 126,
    "start_time": "2022-04-25T11:32:28.444Z"
   },
   {
    "duration": 116,
    "start_time": "2022-04-25T11:32:28.572Z"
   },
   {
    "duration": 121,
    "start_time": "2022-04-25T11:32:28.690Z"
   },
   {
    "duration": 15,
    "start_time": "2022-04-25T11:32:28.813Z"
   },
   {
    "duration": 13,
    "start_time": "2022-04-25T11:32:28.829Z"
   },
   {
    "duration": 36,
    "start_time": "2022-04-25T11:32:28.844Z"
   },
   {
    "duration": 47,
    "start_time": "2022-04-25T11:32:28.882Z"
   },
   {
    "duration": 63,
    "start_time": "2022-04-25T11:32:28.930Z"
   },
   {
    "duration": 49,
    "start_time": "2022-04-25T11:32:28.995Z"
   },
   {
    "duration": 48,
    "start_time": "2022-04-25T11:32:29.046Z"
   },
   {
    "duration": 36,
    "start_time": "2022-04-25T11:32:29.096Z"
   },
   {
    "duration": 58,
    "start_time": "2022-04-25T11:32:29.133Z"
   },
   {
    "duration": 14,
    "start_time": "2022-04-25T11:32:29.193Z"
   },
   {
    "duration": 460,
    "start_time": "2022-04-25T11:33:52.360Z"
   },
   {
    "duration": 120,
    "start_time": "2022-04-25T11:33:52.822Z"
   },
   {
    "duration": 119,
    "start_time": "2022-04-25T11:33:52.943Z"
   },
   {
    "duration": 122,
    "start_time": "2022-04-25T11:33:53.064Z"
   },
   {
    "duration": 15,
    "start_time": "2022-04-25T11:33:53.188Z"
   },
   {
    "duration": 14,
    "start_time": "2022-04-25T11:33:53.204Z"
   },
   {
    "duration": 14,
    "start_time": "2022-04-25T11:33:53.219Z"
   },
   {
    "duration": 73,
    "start_time": "2022-04-25T11:33:53.235Z"
   },
   {
    "duration": 40,
    "start_time": "2022-04-25T11:33:53.310Z"
   },
   {
    "duration": 56,
    "start_time": "2022-04-25T11:33:53.352Z"
   },
   {
    "duration": 37,
    "start_time": "2022-04-25T11:33:53.409Z"
   },
   {
    "duration": 54,
    "start_time": "2022-04-25T11:33:53.447Z"
   },
   {
    "duration": 32,
    "start_time": "2022-04-25T11:33:53.502Z"
   },
   {
    "duration": 382,
    "start_time": "2022-04-25T11:33:53.536Z"
   },
   {
    "duration": 13,
    "start_time": "2022-04-25T11:33:53.920Z"
   },
   {
    "duration": 298,
    "start_time": "2022-04-25T11:34:15.453Z"
   },
   {
    "duration": 312,
    "start_time": "2022-04-25T11:34:38.851Z"
   },
   {
    "duration": 28,
    "start_time": "2022-04-25T11:43:44.033Z"
   },
   {
    "duration": 3,
    "start_time": "2022-04-25T11:43:50.003Z"
   },
   {
    "duration": 132,
    "start_time": "2022-04-25T11:43:50.008Z"
   },
   {
    "duration": 122,
    "start_time": "2022-04-25T11:43:50.141Z"
   },
   {
    "duration": 117,
    "start_time": "2022-04-25T11:43:50.265Z"
   },
   {
    "duration": 14,
    "start_time": "2022-04-25T11:43:50.384Z"
   },
   {
    "duration": 17,
    "start_time": "2022-04-25T11:43:50.400Z"
   },
   {
    "duration": 13,
    "start_time": "2022-04-25T11:43:50.419Z"
   },
   {
    "duration": 68,
    "start_time": "2022-04-25T11:43:50.434Z"
   },
   {
    "duration": 42,
    "start_time": "2022-04-25T11:43:50.504Z"
   },
   {
    "duration": 60,
    "start_time": "2022-04-25T11:43:50.547Z"
   },
   {
    "duration": 36,
    "start_time": "2022-04-25T11:43:50.610Z"
   },
   {
    "duration": 53,
    "start_time": "2022-04-25T11:43:50.647Z"
   },
   {
    "duration": 35,
    "start_time": "2022-04-25T11:43:50.702Z"
   },
   {
    "duration": 344,
    "start_time": "2022-04-25T11:43:50.738Z"
   },
   {
    "duration": 395,
    "start_time": "2022-04-25T11:43:51.084Z"
   },
   {
    "duration": 285,
    "start_time": "2022-04-25T11:43:51.481Z"
   },
   {
    "duration": 14,
    "start_time": "2022-04-25T11:43:51.772Z"
   },
   {
    "duration": 11,
    "start_time": "2022-04-25T11:46:18.780Z"
   },
   {
    "duration": 1377,
    "start_time": "2022-04-25T11:46:47.991Z"
   },
   {
    "duration": 134,
    "start_time": "2022-04-25T11:46:49.371Z"
   },
   {
    "duration": 117,
    "start_time": "2022-04-25T11:46:49.507Z"
   },
   {
    "duration": 118,
    "start_time": "2022-04-25T11:46:49.625Z"
   },
   {
    "duration": 16,
    "start_time": "2022-04-25T11:46:49.745Z"
   },
   {
    "duration": 22,
    "start_time": "2022-04-25T11:46:49.763Z"
   },
   {
    "duration": 14,
    "start_time": "2022-04-25T11:46:49.786Z"
   },
   {
    "duration": 48,
    "start_time": "2022-04-25T11:46:49.801Z"
   },
   {
    "duration": 44,
    "start_time": "2022-04-25T11:46:49.873Z"
   },
   {
    "duration": 56,
    "start_time": "2022-04-25T11:46:49.919Z"
   },
   {
    "duration": 39,
    "start_time": "2022-04-25T11:46:49.977Z"
   },
   {
    "duration": 55,
    "start_time": "2022-04-25T11:46:50.018Z"
   },
   {
    "duration": 34,
    "start_time": "2022-04-25T11:46:50.075Z"
   },
   {
    "duration": 316,
    "start_time": "2022-04-25T11:46:50.112Z"
   },
   {
    "duration": 321,
    "start_time": "2022-04-25T11:46:50.430Z"
   },
   {
    "duration": 320,
    "start_time": "2022-04-25T11:46:50.753Z"
   },
   {
    "duration": 15,
    "start_time": "2022-04-25T11:46:51.075Z"
   },
   {
    "duration": 36,
    "start_time": "2022-04-25T11:46:51.092Z"
   },
   {
    "duration": 2,
    "start_time": "2022-04-25T11:50:22.694Z"
   },
   {
    "duration": 14,
    "start_time": "2022-04-25T11:52:51.749Z"
   },
   {
    "duration": 3,
    "start_time": "2022-04-25T11:52:53.908Z"
   },
   {
    "duration": 15,
    "start_time": "2022-04-25T11:55:27.584Z"
   },
   {
    "duration": 16,
    "start_time": "2022-04-25T11:56:23.429Z"
   },
   {
    "duration": 14,
    "start_time": "2022-04-25T11:57:13.388Z"
   },
   {
    "duration": 16,
    "start_time": "2022-04-25T11:58:06.856Z"
   },
   {
    "duration": 13,
    "start_time": "2022-04-25T11:58:13.661Z"
   },
   {
    "duration": 13,
    "start_time": "2022-04-25T11:58:30.295Z"
   },
   {
    "duration": 295,
    "start_time": "2022-04-25T12:02:34.368Z"
   },
   {
    "duration": 1481,
    "start_time": "2022-04-25T12:02:43.954Z"
   },
   {
    "duration": 138,
    "start_time": "2022-04-25T12:02:45.437Z"
   },
   {
    "duration": 136,
    "start_time": "2022-04-25T12:02:45.577Z"
   },
   {
    "duration": 149,
    "start_time": "2022-04-25T12:02:45.715Z"
   },
   {
    "duration": 20,
    "start_time": "2022-04-25T12:02:45.867Z"
   },
   {
    "duration": 15,
    "start_time": "2022-04-25T12:02:45.889Z"
   },
   {
    "duration": 15,
    "start_time": "2022-04-25T12:02:45.906Z"
   },
   {
    "duration": 84,
    "start_time": "2022-04-25T12:02:45.923Z"
   },
   {
    "duration": 51,
    "start_time": "2022-04-25T12:02:46.008Z"
   },
   {
    "duration": 66,
    "start_time": "2022-04-25T12:02:46.061Z"
   },
   {
    "duration": 63,
    "start_time": "2022-04-25T12:02:46.129Z"
   },
   {
    "duration": 38,
    "start_time": "2022-04-25T12:02:46.194Z"
   },
   {
    "duration": 60,
    "start_time": "2022-04-25T12:02:46.234Z"
   },
   {
    "duration": 353,
    "start_time": "2022-04-25T12:02:46.297Z"
   },
   {
    "duration": 322,
    "start_time": "2022-04-25T12:02:46.651Z"
   },
   {
    "duration": 304,
    "start_time": "2022-04-25T12:02:46.975Z"
   },
   {
    "duration": 15,
    "start_time": "2022-04-25T12:02:47.280Z"
   },
   {
    "duration": 47,
    "start_time": "2022-04-25T12:02:47.297Z"
   },
   {
    "duration": 31,
    "start_time": "2022-04-25T12:02:47.346Z"
   },
   {
    "duration": 98,
    "start_time": "2022-04-25T12:02:47.379Z"
   },
   {
    "duration": 2376,
    "start_time": "2022-04-25T15:37:25.886Z"
   },
   {
    "duration": 173,
    "start_time": "2022-04-25T15:37:28.265Z"
   },
   {
    "duration": 155,
    "start_time": "2022-04-25T15:37:28.440Z"
   },
   {
    "duration": 153,
    "start_time": "2022-04-25T15:37:28.598Z"
   },
   {
    "duration": 21,
    "start_time": "2022-04-25T15:37:28.754Z"
   },
   {
    "duration": 33,
    "start_time": "2022-04-25T15:37:28.777Z"
   },
   {
    "duration": 20,
    "start_time": "2022-04-25T15:37:28.812Z"
   },
   {
    "duration": 106,
    "start_time": "2022-04-25T15:37:28.834Z"
   },
   {
    "duration": 82,
    "start_time": "2022-04-25T15:37:28.942Z"
   },
   {
    "duration": 87,
    "start_time": "2022-04-25T15:37:29.028Z"
   },
   {
    "duration": 47,
    "start_time": "2022-04-25T15:37:29.117Z"
   },
   {
    "duration": 64,
    "start_time": "2022-04-25T15:37:29.167Z"
   },
   {
    "duration": 60,
    "start_time": "2022-04-25T15:37:29.233Z"
   },
   {
    "duration": 515,
    "start_time": "2022-04-25T15:37:29.296Z"
   },
   {
    "duration": 411,
    "start_time": "2022-04-25T15:37:29.813Z"
   },
   {
    "duration": 439,
    "start_time": "2022-04-25T15:37:30.226Z"
   },
   {
    "duration": 28,
    "start_time": "2022-04-25T15:37:30.667Z"
   },
   {
    "duration": 57,
    "start_time": "2022-04-25T15:37:30.697Z"
   },
   {
    "duration": 43,
    "start_time": "2022-04-25T15:37:30.756Z"
   },
   {
    "duration": 196,
    "start_time": "2022-04-25T15:37:30.802Z"
   },
   {
    "duration": 22,
    "start_time": "2022-04-25T15:38:01.554Z"
   },
   {
    "duration": 18,
    "start_time": "2022-04-25T15:38:06.892Z"
   },
   {
    "duration": 50,
    "start_time": "2022-04-25T15:38:08.246Z"
   },
   {
    "duration": 64,
    "start_time": "2022-04-25T15:38:41.231Z"
   },
   {
    "duration": 54,
    "start_time": "2022-04-25T15:39:42.244Z"
   },
   {
    "duration": 444,
    "start_time": "2022-04-25T15:42:10.339Z"
   },
   {
    "duration": 506,
    "start_time": "2022-04-25T15:42:19.680Z"
   },
   {
    "duration": 460,
    "start_time": "2022-04-25T15:43:27.971Z"
   },
   {
    "duration": 408,
    "start_time": "2022-04-25T15:43:35.586Z"
   },
   {
    "duration": 392,
    "start_time": "2022-04-25T15:43:38.395Z"
   },
   {
    "duration": 463,
    "start_time": "2022-04-25T15:43:47.685Z"
   },
   {
    "duration": 8,
    "start_time": "2022-04-25T15:49:05.931Z"
   },
   {
    "duration": 15,
    "start_time": "2022-04-25T15:49:16.633Z"
   },
   {
    "duration": 4,
    "start_time": "2022-04-25T17:53:10.661Z"
   },
   {
    "duration": 4,
    "start_time": "2022-04-25T17:55:56.573Z"
   },
   {
    "duration": 3,
    "start_time": "2022-04-25T17:59:01.624Z"
   },
   {
    "duration": 5,
    "start_time": "2022-04-25T17:59:06.243Z"
   },
   {
    "duration": 5,
    "start_time": "2022-04-25T17:59:51.024Z"
   },
   {
    "duration": 6,
    "start_time": "2022-04-25T18:28:05.208Z"
   },
   {
    "duration": 8,
    "start_time": "2022-04-25T18:28:47.290Z"
   },
   {
    "duration": 8,
    "start_time": "2022-04-25T18:30:01.099Z"
   },
   {
    "duration": 17,
    "start_time": "2022-04-25T18:30:09.877Z"
   },
   {
    "duration": 20,
    "start_time": "2022-04-25T18:30:24.091Z"
   },
   {
    "duration": 21,
    "start_time": "2022-04-25T18:30:58.352Z"
   },
   {
    "duration": 2449,
    "start_time": "2022-04-26T15:03:57.168Z"
   },
   {
    "duration": 201,
    "start_time": "2022-04-26T15:03:59.621Z"
   },
   {
    "duration": 185,
    "start_time": "2022-04-26T15:03:59.824Z"
   },
   {
    "duration": 195,
    "start_time": "2022-04-26T15:04:00.012Z"
   },
   {
    "duration": 32,
    "start_time": "2022-04-26T15:04:00.225Z"
   },
   {
    "duration": 37,
    "start_time": "2022-04-26T15:04:00.263Z"
   },
   {
    "duration": 81,
    "start_time": "2022-04-26T15:04:00.302Z"
   },
   {
    "duration": 102,
    "start_time": "2022-04-26T15:04:00.385Z"
   },
   {
    "duration": 89,
    "start_time": "2022-04-26T15:04:00.490Z"
   },
   {
    "duration": 95,
    "start_time": "2022-04-26T15:04:00.581Z"
   },
   {
    "duration": 61,
    "start_time": "2022-04-26T15:04:00.678Z"
   },
   {
    "duration": 52,
    "start_time": "2022-04-26T15:04:00.741Z"
   },
   {
    "duration": 65,
    "start_time": "2022-04-26T15:04:00.795Z"
   },
   {
    "duration": 528,
    "start_time": "2022-04-26T15:04:00.866Z"
   },
   {
    "duration": 464,
    "start_time": "2022-04-26T15:04:01.396Z"
   },
   {
    "duration": 477,
    "start_time": "2022-04-26T15:04:01.863Z"
   },
   {
    "duration": 24,
    "start_time": "2022-04-26T15:04:02.345Z"
   },
   {
    "duration": 94,
    "start_time": "2022-04-26T15:04:02.372Z"
   },
   {
    "duration": 20,
    "start_time": "2022-04-26T15:04:02.469Z"
   },
   {
    "duration": 159,
    "start_time": "2022-04-26T15:04:02.491Z"
   },
   {
    "duration": 197,
    "start_time": "2022-04-26T15:04:02.663Z"
   },
   {
    "duration": 112,
    "start_time": "2022-04-26T15:04:02.924Z"
   },
   {
    "duration": 107,
    "start_time": "2022-04-26T15:04:03.040Z"
   },
   {
    "duration": 23,
    "start_time": "2022-04-26T15:04:03.150Z"
   },
   {
    "duration": 13,
    "start_time": "2022-04-26T15:04:03.175Z"
   },
   {
    "duration": 40,
    "start_time": "2022-04-26T15:04:03.191Z"
   },
   {
    "duration": 22,
    "start_time": "2022-04-26T15:04:34.850Z"
   },
   {
    "duration": 8,
    "start_time": "2022-04-26T15:04:50.706Z"
   },
   {
    "duration": 21,
    "start_time": "2022-04-26T15:05:27.873Z"
   },
   {
    "duration": 8,
    "start_time": "2022-04-26T15:08:01.976Z"
   },
   {
    "duration": 6,
    "start_time": "2022-04-26T15:25:35.845Z"
   },
   {
    "duration": 209,
    "start_time": "2022-04-26T15:27:41.346Z"
   },
   {
    "duration": 36,
    "start_time": "2022-04-26T15:28:31.766Z"
   },
   {
    "duration": 2163,
    "start_time": "2022-04-26T15:29:05.200Z"
   },
   {
    "duration": 202,
    "start_time": "2022-04-26T15:29:07.367Z"
   },
   {
    "duration": 177,
    "start_time": "2022-04-26T15:29:07.571Z"
   },
   {
    "duration": 171,
    "start_time": "2022-04-26T15:29:07.751Z"
   },
   {
    "duration": 33,
    "start_time": "2022-04-26T15:29:07.929Z"
   },
   {
    "duration": 23,
    "start_time": "2022-04-26T15:29:07.965Z"
   },
   {
    "duration": 39,
    "start_time": "2022-04-26T15:29:07.990Z"
   },
   {
    "duration": 87,
    "start_time": "2022-04-26T15:29:08.037Z"
   },
   {
    "duration": 76,
    "start_time": "2022-04-26T15:29:08.131Z"
   },
   {
    "duration": 95,
    "start_time": "2022-04-26T15:29:08.211Z"
   },
   {
    "duration": 66,
    "start_time": "2022-04-26T15:29:08.308Z"
   },
   {
    "duration": 71,
    "start_time": "2022-04-26T15:29:08.376Z"
   },
   {
    "duration": 52,
    "start_time": "2022-04-26T15:29:08.449Z"
   },
   {
    "duration": 512,
    "start_time": "2022-04-26T15:29:08.504Z"
   },
   {
    "duration": 449,
    "start_time": "2022-04-26T15:29:09.018Z"
   },
   {
    "duration": 486,
    "start_time": "2022-04-26T15:29:09.469Z"
   },
   {
    "duration": 23,
    "start_time": "2022-04-26T15:29:09.958Z"
   },
   {
    "duration": 85,
    "start_time": "2022-04-26T15:29:09.984Z"
   },
   {
    "duration": 19,
    "start_time": "2022-04-26T15:29:10.071Z"
   },
   {
    "duration": 81,
    "start_time": "2022-04-26T15:29:10.093Z"
   },
   {
    "duration": 131,
    "start_time": "2022-04-26T15:29:10.234Z"
   },
   {
    "duration": 202,
    "start_time": "2022-04-26T15:29:10.370Z"
   },
   {
    "duration": 111,
    "start_time": "2022-04-26T15:29:10.631Z"
   },
   {
    "duration": 21,
    "start_time": "2022-04-26T15:29:10.750Z"
   },
   {
    "duration": 10,
    "start_time": "2022-04-26T15:29:10.773Z"
   },
   {
    "duration": 11,
    "start_time": "2022-04-26T15:29:10.785Z"
   },
   {
    "duration": 242,
    "start_time": "2022-04-26T15:29:10.799Z"
   },
   {
    "duration": 8,
    "start_time": "2022-04-26T15:30:24.582Z"
   },
   {
    "duration": 4,
    "start_time": "2022-04-26T15:30:30.969Z"
   },
   {
    "duration": 2101,
    "start_time": "2022-04-26T15:35:32.297Z"
   },
   {
    "duration": 204,
    "start_time": "2022-04-26T15:35:34.401Z"
   },
   {
    "duration": 187,
    "start_time": "2022-04-26T15:35:34.607Z"
   },
   {
    "duration": 192,
    "start_time": "2022-04-26T15:35:34.797Z"
   },
   {
    "duration": 33,
    "start_time": "2022-04-26T15:35:34.993Z"
   },
   {
    "duration": 36,
    "start_time": "2022-04-26T15:35:35.031Z"
   },
   {
    "duration": 22,
    "start_time": "2022-04-26T15:35:35.069Z"
   },
   {
    "duration": 101,
    "start_time": "2022-04-26T15:35:35.094Z"
   },
   {
    "duration": 92,
    "start_time": "2022-04-26T15:35:35.197Z"
   },
   {
    "duration": 99,
    "start_time": "2022-04-26T15:35:35.292Z"
   },
   {
    "duration": 69,
    "start_time": "2022-04-26T15:35:35.393Z"
   },
   {
    "duration": 45,
    "start_time": "2022-04-26T15:35:35.465Z"
   },
   {
    "duration": 62,
    "start_time": "2022-04-26T15:35:35.512Z"
   },
   {
    "duration": 522,
    "start_time": "2022-04-26T15:35:35.579Z"
   },
   {
    "duration": 451,
    "start_time": "2022-04-26T15:35:36.103Z"
   },
   {
    "duration": 463,
    "start_time": "2022-04-26T15:35:36.562Z"
   },
   {
    "duration": 23,
    "start_time": "2022-04-26T15:35:37.027Z"
   },
   {
    "duration": 88,
    "start_time": "2022-04-26T15:35:37.052Z"
   },
   {
    "duration": 25,
    "start_time": "2022-04-26T15:35:37.144Z"
   },
   {
    "duration": 66,
    "start_time": "2022-04-26T15:35:37.171Z"
   },
   {
    "duration": 137,
    "start_time": "2022-04-26T15:35:37.241Z"
   },
   {
    "duration": 130,
    "start_time": "2022-04-26T15:35:37.427Z"
   },
   {
    "duration": 198,
    "start_time": "2022-04-26T15:35:37.566Z"
   },
   {
    "duration": 6,
    "start_time": "2022-04-26T15:35:37.769Z"
   },
   {
    "duration": 9,
    "start_time": "2022-04-26T15:35:37.777Z"
   },
   {
    "duration": 5,
    "start_time": "2022-04-26T15:35:37.788Z"
   },
   {
    "duration": 206,
    "start_time": "2022-04-26T15:35:37.796Z"
   },
   {
    "duration": 200,
    "start_time": "2022-04-26T15:37:11.621Z"
   },
   {
    "duration": 39,
    "start_time": "2022-04-26T15:38:17.006Z"
   },
   {
    "duration": 10,
    "start_time": "2022-04-26T15:55:58.246Z"
   },
   {
    "duration": 9,
    "start_time": "2022-04-26T16:10:38.162Z"
   },
   {
    "duration": 146,
    "start_time": "2022-04-26T16:14:54.663Z"
   },
   {
    "duration": 3562,
    "start_time": "2022-04-26T16:15:13.200Z"
   },
   {
    "duration": 7,
    "start_time": "2022-04-26T16:15:37.890Z"
   },
   {
    "duration": 3526,
    "start_time": "2022-04-26T16:15:40.149Z"
   },
   {
    "duration": 3565,
    "start_time": "2022-04-26T16:16:09.698Z"
   },
   {
    "duration": 3584,
    "start_time": "2022-04-26T16:16:36.148Z"
   },
   {
    "duration": 1893,
    "start_time": "2022-04-26T16:16:57.656Z"
   },
   {
    "duration": 1879,
    "start_time": "2022-04-26T16:17:18.354Z"
   },
   {
    "duration": 3482,
    "start_time": "2022-04-26T16:18:36.800Z"
   },
   {
    "duration": 3619,
    "start_time": "2022-04-26T16:18:45.579Z"
   },
   {
    "duration": 10,
    "start_time": "2022-04-26T16:22:17.351Z"
   },
   {
    "duration": 3551,
    "start_time": "2022-04-26T16:22:18.051Z"
   },
   {
    "duration": 1883,
    "start_time": "2022-04-26T16:22:21.604Z"
   },
   {
    "duration": 1887,
    "start_time": "2022-04-26T16:22:23.489Z"
   },
   {
    "duration": 2343,
    "start_time": "2022-04-26T16:30:27.378Z"
   },
   {
    "duration": 205,
    "start_time": "2022-04-26T16:30:29.729Z"
   },
   {
    "duration": 247,
    "start_time": "2022-04-26T16:30:29.942Z"
   },
   {
    "duration": 207,
    "start_time": "2022-04-26T16:30:30.193Z"
   },
   {
    "duration": 40,
    "start_time": "2022-04-26T16:30:30.402Z"
   },
   {
    "duration": 55,
    "start_time": "2022-04-26T16:30:30.444Z"
   },
   {
    "duration": 25,
    "start_time": "2022-04-26T16:30:30.501Z"
   },
   {
    "duration": 102,
    "start_time": "2022-04-26T16:30:30.528Z"
   },
   {
    "duration": 103,
    "start_time": "2022-04-26T16:30:30.634Z"
   },
   {
    "duration": 105,
    "start_time": "2022-04-26T16:30:30.743Z"
   },
   {
    "duration": 57,
    "start_time": "2022-04-26T16:30:30.851Z"
   },
   {
    "duration": 76,
    "start_time": "2022-04-26T16:30:30.910Z"
   },
   {
    "duration": 54,
    "start_time": "2022-04-26T16:30:30.988Z"
   },
   {
    "duration": 507,
    "start_time": "2022-04-26T16:30:31.053Z"
   },
   {
    "duration": 504,
    "start_time": "2022-04-26T16:30:31.562Z"
   },
   {
    "duration": 475,
    "start_time": "2022-04-26T16:30:32.071Z"
   },
   {
    "duration": 27,
    "start_time": "2022-04-26T16:30:32.552Z"
   },
   {
    "duration": 81,
    "start_time": "2022-04-26T16:30:32.581Z"
   },
   {
    "duration": 21,
    "start_time": "2022-04-26T16:30:32.666Z"
   },
   {
    "duration": 57,
    "start_time": "2022-04-26T16:30:32.689Z"
   },
   {
    "duration": 174,
    "start_time": "2022-04-26T16:30:32.753Z"
   },
   {
    "duration": 133,
    "start_time": "2022-04-26T16:30:32.941Z"
   },
   {
    "duration": 165,
    "start_time": "2022-04-26T16:30:33.078Z"
   },
   {
    "duration": 6,
    "start_time": "2022-04-26T16:30:33.245Z"
   },
   {
    "duration": 39,
    "start_time": "2022-04-26T16:30:33.254Z"
   },
   {
    "duration": 44,
    "start_time": "2022-04-26T16:30:33.297Z"
   },
   {
    "duration": 44,
    "start_time": "2022-04-26T16:30:33.348Z"
   },
   {
    "duration": 2110,
    "start_time": "2022-04-26T16:30:33.398Z"
   },
   {
    "duration": 1986,
    "start_time": "2022-04-26T16:30:35.510Z"
   },
   {
    "duration": 2093,
    "start_time": "2022-04-26T16:30:37.499Z"
   },
   {
    "duration": 1320,
    "start_time": "2022-05-22T10:34:41.559Z"
   },
   {
    "duration": 492,
    "start_time": "2022-05-22T10:34:54.611Z"
   },
   {
    "duration": 570,
    "start_time": "2022-05-22T10:34:57.027Z"
   }
  ],
  "kernelspec": {
   "display_name": "Python 3",
   "language": "python",
   "name": "python3"
  },
  "language_info": {
   "codemirror_mode": {
    "name": "ipython",
    "version": 3
   },
   "file_extension": ".py",
   "mimetype": "text/x-python",
   "name": "python",
   "nbconvert_exporter": "python",
   "pygments_lexer": "ipython3",
   "version": "3.7.4"
  },
  "toc": {
   "base_numbering": 1,
   "nav_menu": {},
   "number_sections": true,
   "sideBar": true,
   "skip_h1_title": true,
   "title_cell": "Table of Contents",
   "title_sidebar": "Contents",
   "toc_cell": false,
   "toc_position": {},
   "toc_section_display": true,
   "toc_window_display": true
  }
 },
 "nbformat": 4,
 "nbformat_minor": 2
}
