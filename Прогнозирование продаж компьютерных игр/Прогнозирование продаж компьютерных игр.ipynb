{
 "cells": [
  {
   "cell_type": "markdown",
   "metadata": {},
   "source": [
    "## Введение"
   ]
  },
  {
   "cell_type": "markdown",
   "metadata": {},
   "source": [
    "Задачи проекта:\n",
    "- Выявить определяющие успешность игры закономерности. \n",
    "- Найти потенциально популярные игры и спланировать рекламную кампанию на 2017 год.\n",
    "\n",
    "Основные шаги:\n",
    "- загрузка библиотек;\n",
    "- открытие файлов;\n",
    "- знакомство с данными;\n",
    "- выявление аномалий;\n",
    "- предобработка данных;\n",
    "- составление портрета пользователя регионов NA, EU, JP;\n",
    "- проверка двух гипотез (Средние пользовательские рейтинги платформ Xbox One и PC одинаковые; Средние пользовательские рейтинги жанров Action (англ. «действие», экшен-игры) и Sports (англ. «спортивные соревнования») разные);\n",
    "- обобщение результатов, формулирование общего вывода."
   ]
  },
  {
   "cell_type": "markdown",
   "metadata": {},
   "source": [
    "## Загрузка библиотек"
   ]
  },
  {
   "cell_type": "code",
   "execution_count": 1,
   "metadata": {},
   "outputs": [],
   "source": [
    "import matplotlib.pyplot as plt\n",
    "import numpy as np\n",
    "import pandas as pd\n",
    "import seaborn as sns\n",
    "import warnings\n",
    "\n",
    "from scipy import stats as st"
   ]
  },
  {
   "cell_type": "markdown",
   "metadata": {},
   "source": [
    "## Открытие файла csv, изучение данных "
   ]
  },
  {
   "cell_type": "code",
   "execution_count": 1,
   "metadata": {},
   "outputs": [
    {
     "data": {
      "text/html": [
       "<div>\n",
       "<style scoped>\n",
       "    .dataframe tbody tr th:only-of-type {\n",
       "        vertical-align: middle;\n",
       "    }\n",
       "\n",
       "    .dataframe tbody tr th {\n",
       "        vertical-align: top;\n",
       "    }\n",
       "\n",
       "    .dataframe thead th {\n",
       "        text-align: right;\n",
       "    }\n",
       "</style>\n",
       "<table border=\"1\" class=\"dataframe\">\n",
       "  <thead>\n",
       "    <tr style=\"text-align: right;\">\n",
       "      <th></th>\n",
       "      <th>Name</th>\n",
       "      <th>Platform</th>\n",
       "      <th>Year_of_Release</th>\n",
       "      <th>Genre</th>\n",
       "      <th>NA_sales</th>\n",
       "      <th>EU_sales</th>\n",
       "      <th>JP_sales</th>\n",
       "      <th>Other_sales</th>\n",
       "      <th>Critic_Score</th>\n",
       "      <th>User_Score</th>\n",
       "      <th>Rating</th>\n",
       "    </tr>\n",
       "  </thead>\n",
       "  <tbody>\n",
       "    <tr>\n",
       "      <th>0</th>\n",
       "      <td>Wii Sports</td>\n",
       "      <td>Wii</td>\n",
       "      <td>2006.0</td>\n",
       "      <td>Sports</td>\n",
       "      <td>41.36</td>\n",
       "      <td>28.96</td>\n",
       "      <td>3.77</td>\n",
       "      <td>8.45</td>\n",
       "      <td>76.0</td>\n",
       "      <td>8</td>\n",
       "      <td>E</td>\n",
       "    </tr>\n",
       "    <tr>\n",
       "      <th>1</th>\n",
       "      <td>Super Mario Bros.</td>\n",
       "      <td>NES</td>\n",
       "      <td>1985.0</td>\n",
       "      <td>Platform</td>\n",
       "      <td>29.08</td>\n",
       "      <td>3.58</td>\n",
       "      <td>6.81</td>\n",
       "      <td>0.77</td>\n",
       "      <td>NaN</td>\n",
       "      <td>NaN</td>\n",
       "      <td>NaN</td>\n",
       "    </tr>\n",
       "    <tr>\n",
       "      <th>2</th>\n",
       "      <td>Mario Kart Wii</td>\n",
       "      <td>Wii</td>\n",
       "      <td>2008.0</td>\n",
       "      <td>Racing</td>\n",
       "      <td>15.68</td>\n",
       "      <td>12.76</td>\n",
       "      <td>3.79</td>\n",
       "      <td>3.29</td>\n",
       "      <td>82.0</td>\n",
       "      <td>8.3</td>\n",
       "      <td>E</td>\n",
       "    </tr>\n",
       "    <tr>\n",
       "      <th>3</th>\n",
       "      <td>Wii Sports Resort</td>\n",
       "      <td>Wii</td>\n",
       "      <td>2009.0</td>\n",
       "      <td>Sports</td>\n",
       "      <td>15.61</td>\n",
       "      <td>10.93</td>\n",
       "      <td>3.28</td>\n",
       "      <td>2.95</td>\n",
       "      <td>80.0</td>\n",
       "      <td>8</td>\n",
       "      <td>E</td>\n",
       "    </tr>\n",
       "    <tr>\n",
       "      <th>4</th>\n",
       "      <td>Pokemon Red/Pokemon Blue</td>\n",
       "      <td>GB</td>\n",
       "      <td>1996.0</td>\n",
       "      <td>Role-Playing</td>\n",
       "      <td>11.27</td>\n",
       "      <td>8.89</td>\n",
       "      <td>10.22</td>\n",
       "      <td>1.00</td>\n",
       "      <td>NaN</td>\n",
       "      <td>NaN</td>\n",
       "      <td>NaN</td>\n",
       "    </tr>\n",
       "  </tbody>\n",
       "</table>\n",
       "</div>"
      ],
      "text/plain": [
       "                       Name Platform  Year_of_Release         Genre  NA_sales  \\\n",
       "0                Wii Sports      Wii           2006.0        Sports     41.36   \n",
       "1         Super Mario Bros.      NES           1985.0      Platform     29.08   \n",
       "2            Mario Kart Wii      Wii           2008.0        Racing     15.68   \n",
       "3         Wii Sports Resort      Wii           2009.0        Sports     15.61   \n",
       "4  Pokemon Red/Pokemon Blue       GB           1996.0  Role-Playing     11.27   \n",
       "\n",
       "   EU_sales  JP_sales  Other_sales  Critic_Score User_Score Rating  \n",
       "0     28.96      3.77         8.45          76.0          8      E  \n",
       "1      3.58      6.81         0.77           NaN        NaN    NaN  \n",
       "2     12.76      3.79         3.29          82.0        8.3      E  \n",
       "3     10.93      3.28         2.95          80.0          8      E  \n",
       "4      8.89     10.22         1.00           NaN        NaN    NaN  "
      ]
     },
     "execution_count": 1,
     "metadata": {},
     "output_type": "execute_result"
    }
   ],
   "source": [
    "data = pd.read_csv('/datasets/games.csv') \n",
    "data.head()"
   ]
  },
  {
   "cell_type": "markdown",
   "metadata": {},
   "source": [
    "### Описание данных "
   ]
  },
  {
   "cell_type": "markdown",
   "metadata": {},
   "source": [
    "- Name — название игры \n",
    "- Platform — платформа \n",
    "- Year_of_Release — год выпуска \n",
    "- Genre — жанр игры \n",
    "- NA_sales — продажи в Северной Америке (миллионы проданных копий) \n",
    "- EU_sales — продажи в Европе (миллионы проданных копий) \n",
    "- JP_sales — продажи в Японии (миллионы проданных копий) \n",
    "- Other_sales — продажи в других странах (миллионы проданных копий) \n",
    "- Critic_Score — оценка критиков (максимум 100) \n",
    "- User_Score — оценка пользователей (максимум 10) \n",
    "- Rating — рейтинг от организации ESRB (англ. Entertainment Software Rating \n",
    "Board). Эта ассоциация определяет рейтинг компьютерных игр и присваивает \n",
    "им подходящую возрастную категорию. "
   ]
  },
  {
   "cell_type": "code",
   "execution_count": 2,
   "metadata": {},
   "outputs": [
    {
     "data": {
      "text/plain": [
       "Name                  2\n",
       "Platform              0\n",
       "Year_of_Release     269\n",
       "Genre                 2\n",
       "NA_sales              0\n",
       "EU_sales              0\n",
       "JP_sales              0\n",
       "Other_sales           0\n",
       "Critic_Score       8578\n",
       "User_Score         6701\n",
       "Rating             6766\n",
       "dtype: int64"
      ]
     },
     "execution_count": 2,
     "metadata": {},
     "output_type": "execute_result"
    }
   ],
   "source": [
    "data.isna().sum() "
   ]
  },
  {
   "cell_type": "code",
   "execution_count": 3,
   "metadata": {},
   "outputs": [
    {
     "name": "stdout",
     "output_type": "stream",
     "text": [
      "<class 'pandas.core.frame.DataFrame'>\n",
      "RangeIndex: 16715 entries, 0 to 16714\n",
      "Data columns (total 11 columns):\n",
      " #   Column           Non-Null Count  Dtype  \n",
      "---  ------           --------------  -----  \n",
      " 0   Name             16713 non-null  object \n",
      " 1   Platform         16715 non-null  object \n",
      " 2   Year_of_Release  16446 non-null  float64\n",
      " 3   Genre            16713 non-null  object \n",
      " 4   NA_sales         16715 non-null  float64\n",
      " 5   EU_sales         16715 non-null  float64\n",
      " 6   JP_sales         16715 non-null  float64\n",
      " 7   Other_sales      16715 non-null  float64\n",
      " 8   Critic_Score     8137 non-null   float64\n",
      " 9   User_Score       10014 non-null  object \n",
      " 10  Rating           9949 non-null   object \n",
      "dtypes: float64(6), object(5)\n",
      "memory usage: 1.4+ MB\n"
     ]
    }
   ],
   "source": [
    "data.info()"
   ]
  },
  {
   "cell_type": "markdown",
   "metadata": {},
   "source": [
    "### Вывод \n",
    "\n",
    "- Название столбцов имеет прописные буквы (необходимо в будущем привести к нижнему регистру) \n",
    "- Столбецы `Year_of_Release, Critic_Score ` имеют тип данных float (необходимо заменить на int) \n",
    "- Столбец `User_Score` имеет тип данных object (необходимо заменить на float), также в нем найдено значение 'tbd' \n",
    "- В пяти столбцах обнаружены пропуски"
   ]
  },
  {
   "cell_type": "markdown",
   "metadata": {},
   "source": [
    "## Предобработка данных"
   ]
  },
  {
   "cell_type": "code",
   "execution_count": 4,
   "metadata": {},
   "outputs": [],
   "source": [
    "data = data.rename( \n",
    "    columns = { \n",
    "        'Name' : 'name', \n",
    "        'Platform' : 'platform', \n",
    "        'Year_of_Release' : 'year_of_release', \n",
    "        'Genre' : 'genre', \n",
    "        'NA_sales' : 'na_sales', \n",
    "        'EU_sales' : 'eu_sales', \n",
    "        'JP_sales' : 'jp_sales', \n",
    "        'Other_sales' : 'other_sales', \n",
    "        'Critic_Score' : 'critic_score', \n",
    "        'User_Score' : 'user_score', \n",
    "        'Rating' : 'rating', \n",
    "    } \n",
    ")"
   ]
  },
  {
   "cell_type": "markdown",
   "metadata": {},
   "source": [
    "Данные по году и названию игр восстановить средними показателями невозможно, поэтому удаляем их. \n",
    "\n",
    "Логически год выпуска не может иметь дробное число, поэтому заменяем тип данных на целочисленный.  "
   ]
  },
  {
   "cell_type": "code",
   "execution_count": 5,
   "metadata": {},
   "outputs": [],
   "source": [
    "data.dropna(subset = ['year_of_release'], inplace=True)\n",
    "data.dropna(subset = ['name'], inplace=True)\n",
    "data['year_of_release'] = data['year_of_release'].astype('int')"
   ]
  },
  {
   "cell_type": "code",
   "execution_count": 6,
   "metadata": {},
   "outputs": [
    {
     "data": {
      "text/html": [
       "<div>\n",
       "<style scoped>\n",
       "    .dataframe tbody tr th:only-of-type {\n",
       "        vertical-align: middle;\n",
       "    }\n",
       "\n",
       "    .dataframe tbody tr th {\n",
       "        vertical-align: top;\n",
       "    }\n",
       "\n",
       "    .dataframe thead th {\n",
       "        text-align: right;\n",
       "    }\n",
       "</style>\n",
       "<table border=\"1\" class=\"dataframe\">\n",
       "  <thead>\n",
       "    <tr style=\"text-align: right;\">\n",
       "      <th></th>\n",
       "      <th>name</th>\n",
       "      <th>platform</th>\n",
       "      <th>year_of_release</th>\n",
       "      <th>genre</th>\n",
       "      <th>na_sales</th>\n",
       "      <th>eu_sales</th>\n",
       "      <th>jp_sales</th>\n",
       "      <th>other_sales</th>\n",
       "      <th>critic_score</th>\n",
       "      <th>user_score</th>\n",
       "      <th>rating</th>\n",
       "    </tr>\n",
       "  </thead>\n",
       "  <tbody>\n",
       "    <tr>\n",
       "      <th>119</th>\n",
       "      <td>Zumba Fitness</td>\n",
       "      <td>Wii</td>\n",
       "      <td>2010</td>\n",
       "      <td>Sports</td>\n",
       "      <td>3.45</td>\n",
       "      <td>2.59</td>\n",
       "      <td>0.0</td>\n",
       "      <td>0.66</td>\n",
       "      <td>NaN</td>\n",
       "      <td>tbd</td>\n",
       "      <td>E</td>\n",
       "    </tr>\n",
       "    <tr>\n",
       "      <th>301</th>\n",
       "      <td>Namco Museum: 50th Anniversary</td>\n",
       "      <td>PS2</td>\n",
       "      <td>2005</td>\n",
       "      <td>Misc</td>\n",
       "      <td>2.08</td>\n",
       "      <td>1.35</td>\n",
       "      <td>0.0</td>\n",
       "      <td>0.54</td>\n",
       "      <td>61.0</td>\n",
       "      <td>tbd</td>\n",
       "      <td>E10+</td>\n",
       "    </tr>\n",
       "    <tr>\n",
       "      <th>520</th>\n",
       "      <td>Zumba Fitness 2</td>\n",
       "      <td>Wii</td>\n",
       "      <td>2011</td>\n",
       "      <td>Sports</td>\n",
       "      <td>1.51</td>\n",
       "      <td>1.03</td>\n",
       "      <td>0.0</td>\n",
       "      <td>0.27</td>\n",
       "      <td>NaN</td>\n",
       "      <td>tbd</td>\n",
       "      <td>T</td>\n",
       "    </tr>\n",
       "    <tr>\n",
       "      <th>645</th>\n",
       "      <td>uDraw Studio</td>\n",
       "      <td>Wii</td>\n",
       "      <td>2010</td>\n",
       "      <td>Misc</td>\n",
       "      <td>1.65</td>\n",
       "      <td>0.57</td>\n",
       "      <td>0.0</td>\n",
       "      <td>0.20</td>\n",
       "      <td>71.0</td>\n",
       "      <td>tbd</td>\n",
       "      <td>E</td>\n",
       "    </tr>\n",
       "    <tr>\n",
       "      <th>718</th>\n",
       "      <td>Just Dance Kids</td>\n",
       "      <td>Wii</td>\n",
       "      <td>2010</td>\n",
       "      <td>Misc</td>\n",
       "      <td>1.52</td>\n",
       "      <td>0.54</td>\n",
       "      <td>0.0</td>\n",
       "      <td>0.18</td>\n",
       "      <td>NaN</td>\n",
       "      <td>tbd</td>\n",
       "      <td>E</td>\n",
       "    </tr>\n",
       "    <tr>\n",
       "      <th>...</th>\n",
       "      <td>...</td>\n",
       "      <td>...</td>\n",
       "      <td>...</td>\n",
       "      <td>...</td>\n",
       "      <td>...</td>\n",
       "      <td>...</td>\n",
       "      <td>...</td>\n",
       "      <td>...</td>\n",
       "      <td>...</td>\n",
       "      <td>...</td>\n",
       "      <td>...</td>\n",
       "    </tr>\n",
       "    <tr>\n",
       "      <th>16695</th>\n",
       "      <td>Planet Monsters</td>\n",
       "      <td>GBA</td>\n",
       "      <td>2001</td>\n",
       "      <td>Action</td>\n",
       "      <td>0.01</td>\n",
       "      <td>0.00</td>\n",
       "      <td>0.0</td>\n",
       "      <td>0.00</td>\n",
       "      <td>67.0</td>\n",
       "      <td>tbd</td>\n",
       "      <td>E</td>\n",
       "    </tr>\n",
       "    <tr>\n",
       "      <th>16697</th>\n",
       "      <td>Bust-A-Move 3000</td>\n",
       "      <td>GC</td>\n",
       "      <td>2003</td>\n",
       "      <td>Puzzle</td>\n",
       "      <td>0.01</td>\n",
       "      <td>0.00</td>\n",
       "      <td>0.0</td>\n",
       "      <td>0.00</td>\n",
       "      <td>53.0</td>\n",
       "      <td>tbd</td>\n",
       "      <td>E</td>\n",
       "    </tr>\n",
       "    <tr>\n",
       "      <th>16698</th>\n",
       "      <td>Mega Brain Boost</td>\n",
       "      <td>DS</td>\n",
       "      <td>2008</td>\n",
       "      <td>Puzzle</td>\n",
       "      <td>0.01</td>\n",
       "      <td>0.00</td>\n",
       "      <td>0.0</td>\n",
       "      <td>0.00</td>\n",
       "      <td>48.0</td>\n",
       "      <td>tbd</td>\n",
       "      <td>E</td>\n",
       "    </tr>\n",
       "    <tr>\n",
       "      <th>16704</th>\n",
       "      <td>Plushees</td>\n",
       "      <td>DS</td>\n",
       "      <td>2008</td>\n",
       "      <td>Simulation</td>\n",
       "      <td>0.01</td>\n",
       "      <td>0.00</td>\n",
       "      <td>0.0</td>\n",
       "      <td>0.00</td>\n",
       "      <td>NaN</td>\n",
       "      <td>tbd</td>\n",
       "      <td>E</td>\n",
       "    </tr>\n",
       "    <tr>\n",
       "      <th>16706</th>\n",
       "      <td>Men in Black II: Alien Escape</td>\n",
       "      <td>GC</td>\n",
       "      <td>2003</td>\n",
       "      <td>Shooter</td>\n",
       "      <td>0.01</td>\n",
       "      <td>0.00</td>\n",
       "      <td>0.0</td>\n",
       "      <td>0.00</td>\n",
       "      <td>NaN</td>\n",
       "      <td>tbd</td>\n",
       "      <td>T</td>\n",
       "    </tr>\n",
       "  </tbody>\n",
       "</table>\n",
       "<p>2376 rows × 11 columns</p>\n",
       "</div>"
      ],
      "text/plain": [
       "                                 name platform  year_of_release       genre  \\\n",
       "119                     Zumba Fitness      Wii             2010      Sports   \n",
       "301    Namco Museum: 50th Anniversary      PS2             2005        Misc   \n",
       "520                   Zumba Fitness 2      Wii             2011      Sports   \n",
       "645                      uDraw Studio      Wii             2010        Misc   \n",
       "718                   Just Dance Kids      Wii             2010        Misc   \n",
       "...                               ...      ...              ...         ...   \n",
       "16695                 Planet Monsters      GBA             2001      Action   \n",
       "16697                Bust-A-Move 3000       GC             2003      Puzzle   \n",
       "16698                Mega Brain Boost       DS             2008      Puzzle   \n",
       "16704                        Plushees       DS             2008  Simulation   \n",
       "16706   Men in Black II: Alien Escape       GC             2003     Shooter   \n",
       "\n",
       "       na_sales  eu_sales  jp_sales  other_sales  critic_score user_score  \\\n",
       "119        3.45      2.59       0.0         0.66           NaN        tbd   \n",
       "301        2.08      1.35       0.0         0.54          61.0        tbd   \n",
       "520        1.51      1.03       0.0         0.27           NaN        tbd   \n",
       "645        1.65      0.57       0.0         0.20          71.0        tbd   \n",
       "718        1.52      0.54       0.0         0.18           NaN        tbd   \n",
       "...         ...       ...       ...          ...           ...        ...   \n",
       "16695      0.01      0.00       0.0         0.00          67.0        tbd   \n",
       "16697      0.01      0.00       0.0         0.00          53.0        tbd   \n",
       "16698      0.01      0.00       0.0         0.00          48.0        tbd   \n",
       "16704      0.01      0.00       0.0         0.00           NaN        tbd   \n",
       "16706      0.01      0.00       0.0         0.00           NaN        tbd   \n",
       "\n",
       "      rating  \n",
       "119        E  \n",
       "301     E10+  \n",
       "520        T  \n",
       "645        E  \n",
       "718        E  \n",
       "...      ...  \n",
       "16695      E  \n",
       "16697      E  \n",
       "16698      E  \n",
       "16704      E  \n",
       "16706      T  \n",
       "\n",
       "[2376 rows x 11 columns]"
      ]
     },
     "execution_count": 6,
     "metadata": {},
     "output_type": "execute_result"
    }
   ],
   "source": [
    "data.query('user_score == \"tbd\"')"
   ]
  },
  {
   "cell_type": "markdown",
   "metadata": {},
   "source": [
    "Вероятно значение 'tbd' в столбце `user_score` появляется, когда количество оценок пользователей не достаточно, чтобы вычислить объективную пользовательскую оценку. Так как это значение имеет тип object и мешает нам работать с данными, заменим его на NaN.\n",
    "\n",
    "Добавляем столбец `all_sales` с суммарными продажами во всех регионах."
   ]
  },
  {
   "cell_type": "code",
   "execution_count": 7,
   "metadata": {},
   "outputs": [],
   "source": [
    "data = data.replace('tbd', 'NaN')\n",
    "data['all_sales'] = data[['na_sales', 'eu_sales', 'jp_sales', 'other_sales']].sum(axis=1)"
   ]
  },
  {
   "cell_type": "code",
   "execution_count": 8,
   "metadata": {},
   "outputs": [
    {
     "data": {
      "text/plain": [
       "name                  0\n",
       "platform              0\n",
       "year_of_release       0\n",
       "genre                 0\n",
       "na_sales              0\n",
       "eu_sales              0\n",
       "jp_sales              0\n",
       "other_sales           0\n",
       "critic_score       8461\n",
       "user_score         6605\n",
       "rating             6676\n",
       "all_sales             0\n",
       "dtype: int64"
      ]
     },
     "execution_count": 8,
     "metadata": {},
     "output_type": "execute_result"
    }
   ],
   "source": [
    "data.isna().sum()"
   ]
  },
  {
   "cell_type": "code",
   "execution_count": 9,
   "metadata": {},
   "outputs": [
    {
     "data": {
      "text/html": [
       "<div>\n",
       "<style scoped>\n",
       "    .dataframe tbody tr th:only-of-type {\n",
       "        vertical-align: middle;\n",
       "    }\n",
       "\n",
       "    .dataframe tbody tr th {\n",
       "        vertical-align: top;\n",
       "    }\n",
       "\n",
       "    .dataframe thead th {\n",
       "        text-align: right;\n",
       "    }\n",
       "</style>\n",
       "<table border=\"1\" class=\"dataframe\">\n",
       "  <thead>\n",
       "    <tr style=\"text-align: right;\">\n",
       "      <th></th>\n",
       "      <th>name</th>\n",
       "      <th>platform</th>\n",
       "      <th>year_of_release</th>\n",
       "      <th>genre</th>\n",
       "      <th>na_sales</th>\n",
       "      <th>eu_sales</th>\n",
       "      <th>jp_sales</th>\n",
       "      <th>other_sales</th>\n",
       "      <th>critic_score</th>\n",
       "      <th>user_score</th>\n",
       "      <th>rating</th>\n",
       "      <th>all_sales</th>\n",
       "    </tr>\n",
       "  </thead>\n",
       "  <tbody>\n",
       "  </tbody>\n",
       "</table>\n",
       "</div>"
      ],
      "text/plain": [
       "Empty DataFrame\n",
       "Columns: [name, platform, year_of_release, genre, na_sales, eu_sales, jp_sales, other_sales, critic_score, user_score, rating, all_sales]\n",
       "Index: []"
      ]
     },
     "execution_count": 9,
     "metadata": {},
     "output_type": "execute_result"
    }
   ],
   "source": [
    "data.query('critic_score == \"NaN\"')"
   ]
  },
  {
   "cell_type": "markdown",
   "metadata": {},
   "source": [
    "Так как в данных `critic_score` присутствуют только целые числа, заменяем их тип на Int64, а в `user_score` на Float64."
   ]
  },
  {
   "cell_type": "code",
   "execution_count": 10,
   "metadata": {
    "scrolled": true
   },
   "outputs": [
    {
     "name": "stdout",
     "output_type": "stream",
     "text": [
      "<class 'pandas.core.frame.DataFrame'>\n",
      "Int64Index: 16444 entries, 0 to 16714\n",
      "Data columns (total 12 columns):\n",
      " #   Column           Non-Null Count  Dtype  \n",
      "---  ------           --------------  -----  \n",
      " 0   name             16444 non-null  object \n",
      " 1   platform         16444 non-null  object \n",
      " 2   year_of_release  16444 non-null  int64  \n",
      " 3   genre            16444 non-null  object \n",
      " 4   na_sales         16444 non-null  float64\n",
      " 5   eu_sales         16444 non-null  float64\n",
      " 6   jp_sales         16444 non-null  float64\n",
      " 7   other_sales      16444 non-null  float64\n",
      " 8   critic_score     7983 non-null   Int64  \n",
      " 9   user_score       7463 non-null   float64\n",
      " 10  rating           9768 non-null   object \n",
      " 11  all_sales        16444 non-null  float64\n",
      "dtypes: Int64(1), float64(6), int64(1), object(4)\n",
      "memory usage: 1.6+ MB\n"
     ]
    }
   ],
   "source": [
    "data['critic_score'] = data['critic_score'].astype('Int64')\n",
    "#FIXIT\n",
    "data['user_score'] = data['user_score'].astype('float64')\n",
    "data.info()"
   ]
  },
  {
   "cell_type": "markdown",
   "metadata": {},
   "source": [
    "### Вывод\n",
    "\n",
    "- Данные по году и названию игр восстановить средними показателями невозможно, поэтому они были удалены. \n",
    "- Логически год выпуска не может иметь дробное число, поэтому тип данных заменен на целочисленный.  \n",
    "- В столбце `user_score` 'tbd' имеет тип object и мешает нам работать с данными. Значение было заменено на NaN, а весь столбец переведен в тип данных Float64.\n",
    "- Так как в данных `critic_score` присутствуют только целые числа, тип данных столбца был заменен на Int64.\n",
    "- Добавлен столбец `all_sales` с суммарными продажами во всех регионах.\n",
    "- Так как большинство отсутствующих данных в `critic_score, user_score` и `rating` взаимосвязаны между собой, а корреляция между количеством проданных игр и их рейтингом, а также оценками слабая, восстановить их без потери качества данных невозможно."
   ]
  },
  {
   "cell_type": "markdown",
   "metadata": {},
   "source": [
    "## Исследовательский анализ данных\n",
    "### Год выпуска игр"
   ]
  },
  {
   "cell_type": "code",
   "execution_count": 11,
   "metadata": {},
   "outputs": [
    {
     "data": {
      "text/html": [
       "<div>\n",
       "<style scoped>\n",
       "    .dataframe tbody tr th:only-of-type {\n",
       "        vertical-align: middle;\n",
       "    }\n",
       "\n",
       "    .dataframe tbody tr th {\n",
       "        vertical-align: top;\n",
       "    }\n",
       "\n",
       "    .dataframe thead th {\n",
       "        text-align: right;\n",
       "    }\n",
       "</style>\n",
       "<table border=\"1\" class=\"dataframe\">\n",
       "  <thead>\n",
       "    <tr style=\"text-align: right;\">\n",
       "      <th></th>\n",
       "      <th>name</th>\n",
       "    </tr>\n",
       "    <tr>\n",
       "      <th>year_of_release</th>\n",
       "      <th></th>\n",
       "    </tr>\n",
       "  </thead>\n",
       "  <tbody>\n",
       "    <tr>\n",
       "      <th>1980</th>\n",
       "      <td>9</td>\n",
       "    </tr>\n",
       "    <tr>\n",
       "      <th>1981</th>\n",
       "      <td>46</td>\n",
       "    </tr>\n",
       "    <tr>\n",
       "      <th>1982</th>\n",
       "      <td>36</td>\n",
       "    </tr>\n",
       "    <tr>\n",
       "      <th>1983</th>\n",
       "      <td>17</td>\n",
       "    </tr>\n",
       "    <tr>\n",
       "      <th>1984</th>\n",
       "      <td>14</td>\n",
       "    </tr>\n",
       "    <tr>\n",
       "      <th>1985</th>\n",
       "      <td>14</td>\n",
       "    </tr>\n",
       "    <tr>\n",
       "      <th>1986</th>\n",
       "      <td>21</td>\n",
       "    </tr>\n",
       "    <tr>\n",
       "      <th>1987</th>\n",
       "      <td>16</td>\n",
       "    </tr>\n",
       "    <tr>\n",
       "      <th>1988</th>\n",
       "      <td>15</td>\n",
       "    </tr>\n",
       "    <tr>\n",
       "      <th>1989</th>\n",
       "      <td>17</td>\n",
       "    </tr>\n",
       "    <tr>\n",
       "      <th>1990</th>\n",
       "      <td>16</td>\n",
       "    </tr>\n",
       "    <tr>\n",
       "      <th>1991</th>\n",
       "      <td>41</td>\n",
       "    </tr>\n",
       "    <tr>\n",
       "      <th>1992</th>\n",
       "      <td>43</td>\n",
       "    </tr>\n",
       "    <tr>\n",
       "      <th>1993</th>\n",
       "      <td>60</td>\n",
       "    </tr>\n",
       "    <tr>\n",
       "      <th>1994</th>\n",
       "      <td>121</td>\n",
       "    </tr>\n",
       "    <tr>\n",
       "      <th>1995</th>\n",
       "      <td>219</td>\n",
       "    </tr>\n",
       "    <tr>\n",
       "      <th>1996</th>\n",
       "      <td>263</td>\n",
       "    </tr>\n",
       "    <tr>\n",
       "      <th>1997</th>\n",
       "      <td>289</td>\n",
       "    </tr>\n",
       "    <tr>\n",
       "      <th>1998</th>\n",
       "      <td>379</td>\n",
       "    </tr>\n",
       "    <tr>\n",
       "      <th>1999</th>\n",
       "      <td>338</td>\n",
       "    </tr>\n",
       "    <tr>\n",
       "      <th>2000</th>\n",
       "      <td>350</td>\n",
       "    </tr>\n",
       "    <tr>\n",
       "      <th>2001</th>\n",
       "      <td>482</td>\n",
       "    </tr>\n",
       "    <tr>\n",
       "      <th>2002</th>\n",
       "      <td>829</td>\n",
       "    </tr>\n",
       "    <tr>\n",
       "      <th>2003</th>\n",
       "      <td>775</td>\n",
       "    </tr>\n",
       "    <tr>\n",
       "      <th>2004</th>\n",
       "      <td>762</td>\n",
       "    </tr>\n",
       "    <tr>\n",
       "      <th>2005</th>\n",
       "      <td>939</td>\n",
       "    </tr>\n",
       "    <tr>\n",
       "      <th>2006</th>\n",
       "      <td>1006</td>\n",
       "    </tr>\n",
       "    <tr>\n",
       "      <th>2007</th>\n",
       "      <td>1197</td>\n",
       "    </tr>\n",
       "    <tr>\n",
       "      <th>2008</th>\n",
       "      <td>1427</td>\n",
       "    </tr>\n",
       "    <tr>\n",
       "      <th>2009</th>\n",
       "      <td>1426</td>\n",
       "    </tr>\n",
       "    <tr>\n",
       "      <th>2010</th>\n",
       "      <td>1255</td>\n",
       "    </tr>\n",
       "    <tr>\n",
       "      <th>2011</th>\n",
       "      <td>1136</td>\n",
       "    </tr>\n",
       "    <tr>\n",
       "      <th>2012</th>\n",
       "      <td>653</td>\n",
       "    </tr>\n",
       "    <tr>\n",
       "      <th>2013</th>\n",
       "      <td>544</td>\n",
       "    </tr>\n",
       "    <tr>\n",
       "      <th>2014</th>\n",
       "      <td>581</td>\n",
       "    </tr>\n",
       "    <tr>\n",
       "      <th>2015</th>\n",
       "      <td>606</td>\n",
       "    </tr>\n",
       "    <tr>\n",
       "      <th>2016</th>\n",
       "      <td>502</td>\n",
       "    </tr>\n",
       "  </tbody>\n",
       "</table>\n",
       "</div>"
      ],
      "text/plain": [
       "                 name\n",
       "year_of_release      \n",
       "1980                9\n",
       "1981               46\n",
       "1982               36\n",
       "1983               17\n",
       "1984               14\n",
       "1985               14\n",
       "1986               21\n",
       "1987               16\n",
       "1988               15\n",
       "1989               17\n",
       "1990               16\n",
       "1991               41\n",
       "1992               43\n",
       "1993               60\n",
       "1994              121\n",
       "1995              219\n",
       "1996              263\n",
       "1997              289\n",
       "1998              379\n",
       "1999              338\n",
       "2000              350\n",
       "2001              482\n",
       "2002              829\n",
       "2003              775\n",
       "2004              762\n",
       "2005              939\n",
       "2006             1006\n",
       "2007             1197\n",
       "2008             1427\n",
       "2009             1426\n",
       "2010             1255\n",
       "2011             1136\n",
       "2012              653\n",
       "2013              544\n",
       "2014              581\n",
       "2015              606\n",
       "2016              502"
      ]
     },
     "execution_count": 11,
     "metadata": {},
     "output_type": "execute_result"
    }
   ],
   "source": [
    "data_year = data.pivot_table(index='year_of_release',values='name',aggfunc='count')\n",
    "data_year"
   ]
  },
  {
   "cell_type": "code",
   "execution_count": 12,
   "metadata": {},
   "outputs": [
    {
     "data": {
      "image/png": "[encoded data removed]",
      "text/plain": [
       "<Figure size 432x288 with 1 Axes>"
      ]
     },
     "metadata": {
      "needs_background": "light"
     },
     "output_type": "display_data"
    }
   ],
   "source": [
    "plot = data_year.plot(style='o-', grid=True, title='Количество выпущенных игр по годам');\n",
    "plot.set_xlabel(\"Год\") \n",
    "plot.set_ylabel(\"Количество игр\"); "
   ]
  },
  {
   "cell_type": "markdown",
   "metadata": {},
   "source": [
    "С 2000 года по 2008 наблюдался значительный рос количества выпусков компьютерных игр (с 350 до 1427 игр в год), с 2009 по 2016 год наблюдается спад количества выпусков компьютерных игр (с 1426 до 502 игр в год). Пик по выпускам игр: 2008-2009 годы.\n",
    "\n",
    "Это может быть связано с улучшением их качества с 2009 года, и как следствие, увеличением времени их разработки (что напрямую влияет на уменьшение их количества). В таком случае качество должно коррелировать с оценками пользователей и критиков, а также количеством продаж. Подтвердить или опровергнуть эту гипотезу мы сможем изучив эти показатели."
   ]
  },
  {
   "cell_type": "code",
   "execution_count": 13,
   "metadata": {},
   "outputs": [
    {
     "data": {
      "image/png": "[encoded data removed]",
      "text/plain": [
       "<Figure size 432x288 with 1 Axes>"
      ]
     },
     "metadata": {
      "needs_background": "light"
     },
     "output_type": "display_data"
    }
   ],
   "source": [
    "data_year_score = data.pivot_table(index='year_of_release',values=['critic_score', 'user_score', 'all_sales'],aggfunc='mean')\n",
    "plot1 = data_year_score.plot(style='o-', grid=True, \n",
    "                     title='Средние значения оценок пользователей, критиков; среднее количество продаж в млн копий')\n",
    "plot1.set_xlabel(\"Год\");"
   ]
  },
  {
   "cell_type": "markdown",
   "metadata": {},
   "source": [
    "Видимо это предположение было ошибочным.\n",
    "\n",
    "Однако по данному графику видно, что значительное число данных о продажах и рейтингах отсутствует до 1996 года. Значит данные за этот период лучше не учитывать в дальнейшем анализе."
   ]
  },
  {
   "cell_type": "markdown",
   "metadata": {},
   "source": [
    "### Продажи по платформам"
   ]
  },
  {
   "cell_type": "code",
   "execution_count": 14,
   "metadata": {},
   "outputs": [
    {
     "data": {
      "text/html": [
       "<div>\n",
       "<style scoped>\n",
       "    .dataframe tbody tr th:only-of-type {\n",
       "        vertical-align: middle;\n",
       "    }\n",
       "\n",
       "    .dataframe tbody tr th {\n",
       "        vertical-align: top;\n",
       "    }\n",
       "\n",
       "    .dataframe thead th {\n",
       "        text-align: right;\n",
       "    }\n",
       "</style>\n",
       "<table border=\"1\" class=\"dataframe\">\n",
       "  <thead>\n",
       "    <tr style=\"text-align: right;\">\n",
       "      <th></th>\n",
       "      <th>all_sales</th>\n",
       "    </tr>\n",
       "    <tr>\n",
       "      <th>platform</th>\n",
       "      <th></th>\n",
       "    </tr>\n",
       "  </thead>\n",
       "  <tbody>\n",
       "    <tr>\n",
       "      <th>PS2</th>\n",
       "      <td>1233.56</td>\n",
       "    </tr>\n",
       "    <tr>\n",
       "      <th>X360</th>\n",
       "      <td>961.24</td>\n",
       "    </tr>\n",
       "    <tr>\n",
       "      <th>PS3</th>\n",
       "      <td>931.34</td>\n",
       "    </tr>\n",
       "    <tr>\n",
       "      <th>Wii</th>\n",
       "      <td>891.18</td>\n",
       "    </tr>\n",
       "    <tr>\n",
       "      <th>DS</th>\n",
       "      <td>802.78</td>\n",
       "    </tr>\n",
       "    <tr>\n",
       "      <th>PS</th>\n",
       "      <td>727.58</td>\n",
       "    </tr>\n",
       "    <tr>\n",
       "      <th>PS4</th>\n",
       "      <td>314.14</td>\n",
       "    </tr>\n",
       "    <tr>\n",
       "      <th>GBA</th>\n",
       "      <td>312.88</td>\n",
       "    </tr>\n",
       "    <tr>\n",
       "      <th>PSP</th>\n",
       "      <td>289.53</td>\n",
       "    </tr>\n",
       "    <tr>\n",
       "      <th>3DS</th>\n",
       "      <td>257.81</td>\n",
       "    </tr>\n",
       "    <tr>\n",
       "      <th>PC</th>\n",
       "      <td>255.76</td>\n",
       "    </tr>\n",
       "    <tr>\n",
       "      <th>GB</th>\n",
       "      <td>254.43</td>\n",
       "    </tr>\n",
       "    <tr>\n",
       "      <th>XB</th>\n",
       "      <td>251.57</td>\n",
       "    </tr>\n",
       "    <tr>\n",
       "      <th>NES</th>\n",
       "      <td>251.05</td>\n",
       "    </tr>\n",
       "    <tr>\n",
       "      <th>N64</th>\n",
       "      <td>218.01</td>\n",
       "    </tr>\n",
       "    <tr>\n",
       "      <th>SNES</th>\n",
       "      <td>200.04</td>\n",
       "    </tr>\n",
       "  </tbody>\n",
       "</table>\n",
       "</div>"
      ],
      "text/plain": [
       "          all_sales\n",
       "platform           \n",
       "PS2         1233.56\n",
       "X360         961.24\n",
       "PS3          931.34\n",
       "Wii          891.18\n",
       "DS           802.78\n",
       "PS           727.58\n",
       "PS4          314.14\n",
       "GBA          312.88\n",
       "PSP          289.53\n",
       "3DS          257.81\n",
       "PC           255.76\n",
       "GB           254.43\n",
       "XB           251.57\n",
       "NES          251.05\n",
       "N64          218.01\n",
       "SNES         200.04"
      ]
     },
     "execution_count": 14,
     "metadata": {},
     "output_type": "execute_result"
    }
   ],
   "source": [
    "data_platform = data.pivot_table(index='platform',values='all_sales',aggfunc='sum')\n",
    "data_platform.query('all_sales > 200').sort_values(by='all_sales', ascending=False)"
   ]
  },
  {
   "cell_type": "code",
   "execution_count": 15,
   "metadata": {},
   "outputs": [
    {
     "data": {
      "image/png": "[encoded data removed]",
      "text/plain": [
       "<Figure size 1080x360 with 1 Axes>"
      ]
     },
     "metadata": {
      "needs_background": "light"
     },
     "output_type": "display_data"
    }
   ],
   "source": [
    "popular_platform = ['SNES', 'N64','NES','XB','GB','PC','3DS','PSP','GBA','PS4', 'PS', 'DS','Wii', 'PS3', 'X360', 'PS2']\n",
    "data_platform_year = data.query('platform in @popular_platform').pivot_table(\n",
    "    index='year_of_release', columns='platform',values='all_sales',aggfunc='sum')\n",
    "plot2 = data_platform_year.plot(figsize=(15,5),style='o-', title = 'Продажи платформ по годам');\n",
    "plot2.set_xlabel(\"Год\")\n",
    "plot2.set_ylabel(\"Млн проданных копий\");"
   ]
  },
  {
   "cell_type": "code",
   "execution_count": 16,
   "metadata": {},
   "outputs": [
    {
     "data": {
      "text/plain": [
       "10.875"
      ]
     },
     "execution_count": 16,
     "metadata": {},
     "output_type": "execute_result"
    }
   ],
   "source": [
    "data_platform_year.count().mean()"
   ]
  },
  {
   "cell_type": "code",
   "execution_count": 17,
   "metadata": {},
   "outputs": [
    {
     "data": {
      "text/plain": [
       "7.67741935483871"
      ]
     },
     "execution_count": 17,
     "metadata": {},
     "output_type": "execute_result"
    }
   ],
   "source": [
    "data.pivot_table(\n",
    "    index='year_of_release', columns='platform',values='all_sales',aggfunc='sum').count().mean()"
   ]
  },
  {
   "cell_type": "markdown",
   "metadata": {},
   "source": [
    "Пять платформ с наибольшим количеством проданных копий с 1983 по 2016 гг.: \n",
    "- PS2 -\t1233.56 млн (2000-2011 гг.)\n",
    "- X360 - 961.24 млн (2005-2016 гг.)\n",
    "- PS3 -\t931.34 млн (2006-2016 гг.)\n",
    "- Wii -\t891.18 млн (2006-2016 гг.)\n",
    "- DS -\t802.78 млн (2004-2013 гг.)\n",
    "\n",
    "Средний срок жизни платформы с общими продажами более 200 миллионов копий - почти 11 лет, средний срок жизни всех анализируемых платформ - 7.67 лет.\n",
    "\n",
    "Так как ситуация на рынке компьютерных игр менятся достаточно быстро, то в качестве актуального периода можно взять половину среднего срока жизни платформы (4 года), так как условно половина срока жизни платформы занимает рост, а другая половина - спад. Для дальнейшего анализа и построения прогноза на 2017 год будут использоваться данные с 2012 по 2016 гг."
   ]
  },
  {
   "cell_type": "code",
   "execution_count": 18,
   "metadata": {},
   "outputs": [
    {
     "data": {
      "text/html": [
       "<div>\n",
       "<style scoped>\n",
       "    .dataframe tbody tr th:only-of-type {\n",
       "        vertical-align: middle;\n",
       "    }\n",
       "\n",
       "    .dataframe tbody tr th {\n",
       "        vertical-align: top;\n",
       "    }\n",
       "\n",
       "    .dataframe thead th {\n",
       "        text-align: right;\n",
       "    }\n",
       "</style>\n",
       "<table border=\"1\" class=\"dataframe\">\n",
       "  <thead>\n",
       "    <tr style=\"text-align: right;\">\n",
       "      <th></th>\n",
       "      <th>all_sales</th>\n",
       "    </tr>\n",
       "    <tr>\n",
       "      <th>platform</th>\n",
       "      <th></th>\n",
       "    </tr>\n",
       "  </thead>\n",
       "  <tbody>\n",
       "    <tr>\n",
       "      <th>PS4</th>\n",
       "      <td>314.14</td>\n",
       "    </tr>\n",
       "    <tr>\n",
       "      <th>PS3</th>\n",
       "      <td>288.79</td>\n",
       "    </tr>\n",
       "    <tr>\n",
       "      <th>X360</th>\n",
       "      <td>236.54</td>\n",
       "    </tr>\n",
       "    <tr>\n",
       "      <th>3DS</th>\n",
       "      <td>194.61</td>\n",
       "    </tr>\n",
       "    <tr>\n",
       "      <th>XOne</th>\n",
       "      <td>159.32</td>\n",
       "    </tr>\n",
       "    <tr>\n",
       "      <th>WiiU</th>\n",
       "      <td>82.19</td>\n",
       "    </tr>\n",
       "    <tr>\n",
       "      <th>PC</th>\n",
       "      <td>62.65</td>\n",
       "    </tr>\n",
       "    <tr>\n",
       "      <th>PSV</th>\n",
       "      <td>49.18</td>\n",
       "    </tr>\n",
       "    <tr>\n",
       "      <th>Wii</th>\n",
       "      <td>35.37</td>\n",
       "    </tr>\n",
       "    <tr>\n",
       "      <th>DS</th>\n",
       "      <td>12.55</td>\n",
       "    </tr>\n",
       "    <tr>\n",
       "      <th>PSP</th>\n",
       "      <td>11.19</td>\n",
       "    </tr>\n",
       "  </tbody>\n",
       "</table>\n",
       "</div>"
      ],
      "text/plain": [
       "          all_sales\n",
       "platform           \n",
       "PS4          314.14\n",
       "PS3          288.79\n",
       "X360         236.54\n",
       "3DS          194.61\n",
       "XOne         159.32\n",
       "WiiU          82.19\n",
       "PC            62.65\n",
       "PSV           49.18\n",
       "Wii           35.37\n",
       "DS            12.55\n",
       "PSP           11.19"
      ]
     },
     "execution_count": 18,
     "metadata": {},
     "output_type": "execute_result"
    }
   ],
   "source": [
    "data_relevant = data.query('year_of_release > 2011')\n",
    "data_relevant_pivot_table = data_relevant.pivot_table(index='platform',values='all_sales',aggfunc='sum')\n",
    "data_relevant_pivot_table.sort_values(by='all_sales', ascending=False)"
   ]
  },
  {
   "cell_type": "code",
   "execution_count": 19,
   "metadata": {},
   "outputs": [
    {
     "data": {
      "image/png": "[encoded data removed]",
      "text/plain": [
       "<Figure size 1080x360 with 1 Axes>"
      ]
     },
     "metadata": {
      "needs_background": "light"
     },
     "output_type": "display_data"
    }
   ],
   "source": [
    "relevant_platform = data_relevant.pivot_table(\n",
    "    index='year_of_release', columns='platform',values='all_sales',aggfunc='sum')\n",
    "plot3 = relevant_platform.plot(figsize=(15,5),style='o-',title = 'Продажи платформ по годам c 2012 по 2016 гг.');\n",
    "plot3.set_xlabel(\"Год\")\n",
    "plot3.set_ylabel(\"Млн проданных копий\");"
   ]
  },
  {
   "cell_type": "code",
   "execution_count": 20,
   "metadata": {},
   "outputs": [
    {
     "data": {
      "text/html": [
       "<div>\n",
       "<style scoped>\n",
       "    .dataframe tbody tr th:only-of-type {\n",
       "        vertical-align: middle;\n",
       "    }\n",
       "\n",
       "    .dataframe tbody tr th {\n",
       "        vertical-align: top;\n",
       "    }\n",
       "\n",
       "    .dataframe thead th {\n",
       "        text-align: right;\n",
       "    }\n",
       "</style>\n",
       "<table border=\"1\" class=\"dataframe\">\n",
       "  <thead>\n",
       "    <tr style=\"text-align: right;\">\n",
       "      <th>platform</th>\n",
       "      <th>3DS</th>\n",
       "      <th>DS</th>\n",
       "      <th>PC</th>\n",
       "      <th>PS3</th>\n",
       "      <th>PS4</th>\n",
       "      <th>PSP</th>\n",
       "      <th>PSV</th>\n",
       "      <th>Wii</th>\n",
       "      <th>WiiU</th>\n",
       "      <th>X360</th>\n",
       "      <th>XOne</th>\n",
       "    </tr>\n",
       "    <tr>\n",
       "      <th>year_of_release</th>\n",
       "      <th></th>\n",
       "      <th></th>\n",
       "      <th></th>\n",
       "      <th></th>\n",
       "      <th></th>\n",
       "      <th></th>\n",
       "      <th></th>\n",
       "      <th></th>\n",
       "      <th></th>\n",
       "      <th></th>\n",
       "      <th></th>\n",
       "    </tr>\n",
       "  </thead>\n",
       "  <tbody>\n",
       "    <tr>\n",
       "      <th>2012</th>\n",
       "      <td>51.36</td>\n",
       "      <td>11.01</td>\n",
       "      <td>23.22</td>\n",
       "      <td>107.36</td>\n",
       "      <td>NaN</td>\n",
       "      <td>7.69</td>\n",
       "      <td>16.19</td>\n",
       "      <td>21.71</td>\n",
       "      <td>17.56</td>\n",
       "      <td>99.74</td>\n",
       "      <td>NaN</td>\n",
       "    </tr>\n",
       "    <tr>\n",
       "      <th>2013</th>\n",
       "      <td>56.57</td>\n",
       "      <td>1.54</td>\n",
       "      <td>12.38</td>\n",
       "      <td>113.25</td>\n",
       "      <td>25.99</td>\n",
       "      <td>3.14</td>\n",
       "      <td>10.59</td>\n",
       "      <td>8.59</td>\n",
       "      <td>21.65</td>\n",
       "      <td>88.58</td>\n",
       "      <td>18.96</td>\n",
       "    </tr>\n",
       "    <tr>\n",
       "      <th>2014</th>\n",
       "      <td>43.76</td>\n",
       "      <td>NaN</td>\n",
       "      <td>13.28</td>\n",
       "      <td>47.76</td>\n",
       "      <td>100.00</td>\n",
       "      <td>0.24</td>\n",
       "      <td>11.90</td>\n",
       "      <td>3.75</td>\n",
       "      <td>22.03</td>\n",
       "      <td>34.74</td>\n",
       "      <td>54.07</td>\n",
       "    </tr>\n",
       "    <tr>\n",
       "      <th>2015</th>\n",
       "      <td>27.78</td>\n",
       "      <td>NaN</td>\n",
       "      <td>8.52</td>\n",
       "      <td>16.82</td>\n",
       "      <td>118.90</td>\n",
       "      <td>0.12</td>\n",
       "      <td>6.25</td>\n",
       "      <td>1.14</td>\n",
       "      <td>16.35</td>\n",
       "      <td>11.96</td>\n",
       "      <td>60.14</td>\n",
       "    </tr>\n",
       "    <tr>\n",
       "      <th>2016</th>\n",
       "      <td>15.14</td>\n",
       "      <td>NaN</td>\n",
       "      <td>5.25</td>\n",
       "      <td>3.60</td>\n",
       "      <td>69.25</td>\n",
       "      <td>NaN</td>\n",
       "      <td>4.25</td>\n",
       "      <td>0.18</td>\n",
       "      <td>4.60</td>\n",
       "      <td>1.52</td>\n",
       "      <td>26.15</td>\n",
       "    </tr>\n",
       "  </tbody>\n",
       "</table>\n",
       "</div>"
      ],
      "text/plain": [
       "platform           3DS     DS     PC     PS3     PS4   PSP    PSV    Wii  \\\n",
       "year_of_release                                                            \n",
       "2012             51.36  11.01  23.22  107.36     NaN  7.69  16.19  21.71   \n",
       "2013             56.57   1.54  12.38  113.25   25.99  3.14  10.59   8.59   \n",
       "2014             43.76    NaN  13.28   47.76  100.00  0.24  11.90   3.75   \n",
       "2015             27.78    NaN   8.52   16.82  118.90  0.12   6.25   1.14   \n",
       "2016             15.14    NaN   5.25    3.60   69.25   NaN   4.25   0.18   \n",
       "\n",
       "platform          WiiU   X360   XOne  \n",
       "year_of_release                       \n",
       "2012             17.56  99.74    NaN  \n",
       "2013             21.65  88.58  18.96  \n",
       "2014             22.03  34.74  54.07  \n",
       "2015             16.35  11.96  60.14  \n",
       "2016              4.60   1.52  26.15  "
      ]
     },
     "execution_count": 20,
     "metadata": {},
     "output_type": "execute_result"
    }
   ],
   "source": [
    "relevant_platform"
   ]
  },
  {
   "cell_type": "markdown",
   "metadata": {},
   "source": [
    "Пять платформ с наибольшим количеством проданных копий с 2012 по 2016 гг.: \n",
    "- PS4 -\t314.14 млн (росла до 2015 г.)\n",
    "- PS3 - 288.79 млн (на спаде с 2009 г.)\n",
    "- X360 - 236.54 млн (на спаде с 2013 г.)\n",
    "- 3DS -\t194.61 млн (на спаде с года открытия продаж, с 2011 г.)\n",
    "- XOne - 159.32 млн (росла до 2015 г.)\n",
    "\n",
    "Предположительно в фазе роста продаж находятся две платформы:\n",
    "- XOne\n",
    "- PS4"
   ]
  },
  {
   "cell_type": "code",
   "execution_count": 21,
   "metadata": {},
   "outputs": [
    {
     "data": {
      "text/plain": [
       "Text(0, 0.5, 'Количество проданных копий в млн')"
      ]
     },
     "execution_count": 21,
     "metadata": {},
     "output_type": "execute_result"
    },
    {
     "data": {
      "image/png": "[encoded data removed]",
      "text/plain": [
       "<Figure size 432x288 with 1 Axes>"
      ]
     },
     "metadata": {
      "needs_background": "light"
     },
     "output_type": "display_data"
    }
   ],
   "source": [
    "warnings.filterwarnings('ignore')\n",
    "relevant_platform.boxplot();\n",
    "plt.title('Диаграмма размаха количества проданных копий для рассматриваемых платформ')\n",
    "plt.xlabel('Платформы')\n",
    "plt.ylabel('Количество проданных копий в млн')"
   ]
  },
  {
   "cell_type": "markdown",
   "metadata": {},
   "source": [
    "Самый высокий уровень медианы и интерквартального размаха по количеству проданных копий наблюдается у платформы `PS4`. Предположительно на момент построения прогноза на 2017 год это будет самая потенциально прибыльная платформа.\n",
    "\n",
    "Другие потенциально прибыльные платформы по этим показателям:\n",
    "- PS3\n",
    "- 3DS\n",
    "- XOne\n",
    "- X360"
   ]
  },
  {
   "cell_type": "markdown",
   "metadata": {},
   "source": [
    "### Отзывы пользователей и критиков платформы PS4"
   ]
  },
  {
   "cell_type": "code",
   "execution_count": 22,
   "metadata": {
    "scrolled": true
   },
   "outputs": [
    {
     "data": {
      "text/plain": [
       "-0.031957110204556376"
      ]
     },
     "metadata": {},
     "output_type": "display_data"
    },
    {
     "data": {
      "text/plain": [
       "Text(0, 0.5, 'Количество проданных копий в млн')"
      ]
     },
     "execution_count": 22,
     "metadata": {},
     "output_type": "execute_result"
    },
    {
     "data": {
      "image/png": "[encoded data removed]",
      "text/plain": [
       "<Figure size 432x288 with 1 Axes>"
      ]
     },
     "metadata": {
      "needs_background": "light"
     },
     "output_type": "display_data"
    }
   ],
   "source": [
    "data_relevant_ps4 = data_relevant.query('platform == \"PS4\"')\n",
    "display(data_relevant_ps4['user_score'].corr(data_relevant_ps4['all_sales']))\n",
    "data_relevant_ps4.plot(x='user_score', y='all_sales', kind='scatter');\n",
    "plt.title('Корреляция количества проданных копий игр и оценок пользователей')\n",
    "plt.xlabel('Оценки пользователей в баллах')\n",
    "plt.ylabel('Количество проданных копий в млн')"
   ]
  },
  {
   "cell_type": "markdown",
   "metadata": {},
   "source": [
    "Корреляция между отзывами пользователей и количеством проданных копий платформы PS4 отсутствует."
   ]
  },
  {
   "cell_type": "code",
   "execution_count": 23,
   "metadata": {
    "scrolled": true
   },
   "outputs": [
    {
     "name": "stdout",
     "output_type": "stream",
     "text": [
      "0.40656790206178095\n"
     ]
    },
    {
     "data": {
      "text/plain": [
       "Text(0, 0.5, 'Количество проданных копий в млн')"
      ]
     },
     "execution_count": 23,
     "metadata": {},
     "output_type": "execute_result"
    },
    {
     "data": {
      "image/png": "[encoded data removed]",
      "text/plain": [
       "<Figure size 432x288 with 1 Axes>"
      ]
     },
     "metadata": {
      "needs_background": "light"
     },
     "output_type": "display_data"
    }
   ],
   "source": [
    "print(data_relevant_ps4['critic_score'].astype('float64').corr(data_relevant_ps4['all_sales']))\n",
    "data_relevant_ps4.plot(x='critic_score', y='all_sales', kind='scatter');\n",
    "plt.title('Корреляция количества проданных копий игр и оценок критиков')\n",
    "plt.xlabel('Оценки критиков в баллах')\n",
    "plt.ylabel('Количество проданных копий в млн')"
   ]
  },
  {
   "cell_type": "markdown",
   "metadata": {},
   "source": [
    "Между отзывами критиков и количеством проданных копий платформы PS4 наблюдается слабая положительная корреляция."
   ]
  },
  {
   "cell_type": "code",
   "execution_count": 24,
   "metadata": {},
   "outputs": [
    {
     "name": "stdout",
     "output_type": "stream",
     "text": [
      "0.5576539782764632\n"
     ]
    },
    {
     "data": {
      "text/plain": [
       "Text(0, 0.5, 'Оценки пользователей в баллах')"
      ]
     },
     "execution_count": 24,
     "metadata": {},
     "output_type": "execute_result"
    },
    {
     "data": {
      "image/png": "[encoded data removed]",
      "text/plain": [
       "<Figure size 432x288 with 1 Axes>"
      ]
     },
     "metadata": {
      "needs_background": "light"
     },
     "output_type": "display_data"
    }
   ],
   "source": [
    "print(data_relevant_ps4['critic_score'].astype('float64').corr(data_relevant_ps4['user_score']))\n",
    "data_relevant_ps4.plot(x='critic_score', y='user_score', kind='scatter');\n",
    "plt.title('Корреляция оценок критиков и пользователей')\n",
    "plt.xlabel('Оценки критиков в баллах')\n",
    "plt.ylabel('Оценки пользователей в баллах')"
   ]
  },
  {
   "cell_type": "markdown",
   "metadata": {},
   "source": [
    "Между отзывами критиков и отзывами пользователей платформы PS4 наблюдается положительная корреляция."
   ]
  },
  {
   "cell_type": "markdown",
   "metadata": {},
   "source": [
    "### Отзывы пользователей и критиков всех платформ"
   ]
  },
  {
   "cell_type": "code",
   "execution_count": 25,
   "metadata": {},
   "outputs": [
    {
     "data": {
      "text/plain": [
       "0.0044288176754932575"
      ]
     },
     "metadata": {},
     "output_type": "display_data"
    },
    {
     "data": {
      "text/plain": [
       "Text(0, 0.5, 'Количество проданных копий в млн')"
      ]
     },
     "execution_count": 25,
     "metadata": {},
     "output_type": "execute_result"
    },
    {
     "data": {
      "image/png": "[encoded data removed]",
      "text/plain": [
       "<Figure size 432x288 with 1 Axes>"
      ]
     },
     "metadata": {
      "needs_background": "light"
     },
     "output_type": "display_data"
    }
   ],
   "source": [
    "display(data_relevant['user_score'].corr(data_relevant['all_sales']))\n",
    "data_relevant.plot(x='user_score', y='all_sales', kind='scatter');\n",
    "plt.title('Корреляция количества проданных копий игр и оценок пользователей')\n",
    "plt.xlabel('Оценки пользователей в баллах')\n",
    "plt.ylabel('Количество проданных копий в млн')"
   ]
  },
  {
   "cell_type": "markdown",
   "metadata": {},
   "source": [
    "Корреляция между отзывами пользователей и количеством проданных копий отсутствует."
   ]
  },
  {
   "cell_type": "code",
   "execution_count": 26,
   "metadata": {},
   "outputs": [
    {
     "name": "stdout",
     "output_type": "stream",
     "text": [
      "0.3081967459207781\n"
     ]
    },
    {
     "data": {
      "text/plain": [
       "Text(0, 0.5, 'Количество проданных копий в млн')"
      ]
     },
     "execution_count": 26,
     "metadata": {},
     "output_type": "execute_result"
    },
    {
     "data": {
      "image/png": "[encoded data removed]",
      "text/plain": [
       "<Figure size 432x288 with 1 Axes>"
      ]
     },
     "metadata": {
      "needs_background": "light"
     },
     "output_type": "display_data"
    }
   ],
   "source": [
    "print(data_relevant['critic_score'].astype('float64').corr(data_relevant['all_sales']))\n",
    "data_relevant.plot(x='critic_score', y='all_sales', kind='scatter');\n",
    "plt.title('Корреляция количества проданных копий игр и оценок критиков')\n",
    "plt.xlabel('Оценки критиков в баллах')\n",
    "plt.ylabel('Количество проданных копий в млн')"
   ]
  },
  {
   "cell_type": "markdown",
   "metadata": {},
   "source": [
    "Между отзывами критиков и количеством проданных копий наблюдается слабая положительная корреляция."
   ]
  },
  {
   "cell_type": "code",
   "execution_count": 27,
   "metadata": {
    "scrolled": true
   },
   "outputs": [
    {
     "name": "stdout",
     "output_type": "stream",
     "text": [
      "0.5177272095232911\n"
     ]
    },
    {
     "data": {
      "text/plain": [
       "Text(0, 0.5, 'Оценки пользователей в баллах')"
      ]
     },
     "execution_count": 27,
     "metadata": {},
     "output_type": "execute_result"
    },
    {
     "data": {
      "image/png": "[encoded data removed]",
      "text/plain": [
       "<Figure size 432x288 with 1 Axes>"
      ]
     },
     "metadata": {
      "needs_background": "light"
     },
     "output_type": "display_data"
    }
   ],
   "source": [
    "print(data_relevant['critic_score'].astype('float64').corr(data_relevant['user_score']))\n",
    "data_relevant.plot(x='critic_score', y='user_score', kind='scatter', alpha=0.3);\n",
    "plt.title('Корреляция оценок критиков и пользователей')\n",
    "plt.xlabel('Оценки критиков в баллах')\n",
    "plt.ylabel('Оценки пользователей в баллах')"
   ]
  },
  {
   "cell_type": "code",
   "execution_count": 28,
   "metadata": {},
   "outputs": [
    {
     "data": {
      "image/png": "[encoded data removed]",
      "text/plain": [
       "<Figure size 432x432 with 2 Axes>"
      ]
     },
     "metadata": {
      "needs_background": "light"
     },
     "output_type": "display_data"
    }
   ],
   "source": [
    "plt.figure(figsize=(6,6))\n",
    "sns.heatmap(data_relevant[['all_sales', 'critic_score', 'user_score']].corr(), annot=True, fmt='.2f');  "
   ]
  },
  {
   "cell_type": "markdown",
   "metadata": {},
   "source": [
    "Между отзывами критиков и отзывами пользователей наблюдается положительная корреляция.\n",
    "\n",
    "Выводы сделанные по популярной платформе PS4 характерны и для других рассматриваемых платформ."
   ]
  },
  {
   "cell_type": "markdown",
   "metadata": {},
   "source": [
    "### Распределение по жанрам"
   ]
  },
  {
   "cell_type": "code",
   "execution_count": 29,
   "metadata": {},
   "outputs": [
    {
     "data": {
      "text/html": [
       "<div>\n",
       "<style scoped>\n",
       "    .dataframe tbody tr th:only-of-type {\n",
       "        vertical-align: middle;\n",
       "    }\n",
       "\n",
       "    .dataframe tbody tr th {\n",
       "        vertical-align: top;\n",
       "    }\n",
       "\n",
       "    .dataframe thead tr th {\n",
       "        text-align: left;\n",
       "    }\n",
       "\n",
       "    .dataframe thead tr:last-of-type th {\n",
       "        text-align: right;\n",
       "    }\n",
       "</style>\n",
       "<table border=\"1\" class=\"dataframe\">\n",
       "  <thead>\n",
       "    <tr>\n",
       "      <th></th>\n",
       "      <th>sum</th>\n",
       "      <th>count</th>\n",
       "      <th>mean_sales</th>\n",
       "    </tr>\n",
       "    <tr>\n",
       "      <th></th>\n",
       "      <th>all_sales</th>\n",
       "      <th>all_sales</th>\n",
       "      <th></th>\n",
       "    </tr>\n",
       "    <tr>\n",
       "      <th>genre</th>\n",
       "      <th></th>\n",
       "      <th></th>\n",
       "      <th></th>\n",
       "    </tr>\n",
       "  </thead>\n",
       "  <tbody>\n",
       "    <tr>\n",
       "      <th>Shooter</th>\n",
       "      <td>304.73</td>\n",
       "      <td>235</td>\n",
       "      <td>1.296723</td>\n",
       "    </tr>\n",
       "    <tr>\n",
       "      <th>Platform</th>\n",
       "      <td>61.00</td>\n",
       "      <td>85</td>\n",
       "      <td>0.717647</td>\n",
       "    </tr>\n",
       "    <tr>\n",
       "      <th>Sports</th>\n",
       "      <td>181.07</td>\n",
       "      <td>268</td>\n",
       "      <td>0.675634</td>\n",
       "    </tr>\n",
       "    <tr>\n",
       "      <th>Role-Playing</th>\n",
       "      <td>192.80</td>\n",
       "      <td>370</td>\n",
       "      <td>0.521081</td>\n",
       "    </tr>\n",
       "    <tr>\n",
       "      <th>Racing</th>\n",
       "      <td>53.50</td>\n",
       "      <td>115</td>\n",
       "      <td>0.465217</td>\n",
       "    </tr>\n",
       "    <tr>\n",
       "      <th>Misc</th>\n",
       "      <td>85.04</td>\n",
       "      <td>192</td>\n",
       "      <td>0.442917</td>\n",
       "    </tr>\n",
       "    <tr>\n",
       "      <th>Simulation</th>\n",
       "      <td>35.12</td>\n",
       "      <td>80</td>\n",
       "      <td>0.439000</td>\n",
       "    </tr>\n",
       "    <tr>\n",
       "      <th>Action</th>\n",
       "      <td>441.12</td>\n",
       "      <td>1031</td>\n",
       "      <td>0.427856</td>\n",
       "    </tr>\n",
       "    <tr>\n",
       "      <th>Fighting</th>\n",
       "      <td>44.49</td>\n",
       "      <td>109</td>\n",
       "      <td>0.408165</td>\n",
       "    </tr>\n",
       "    <tr>\n",
       "      <th>Strategy</th>\n",
       "      <td>13.34</td>\n",
       "      <td>71</td>\n",
       "      <td>0.187887</td>\n",
       "    </tr>\n",
       "    <tr>\n",
       "      <th>Puzzle</th>\n",
       "      <td>4.89</td>\n",
       "      <td>28</td>\n",
       "      <td>0.174643</td>\n",
       "    </tr>\n",
       "    <tr>\n",
       "      <th>Adventure</th>\n",
       "      <td>29.43</td>\n",
       "      <td>302</td>\n",
       "      <td>0.097450</td>\n",
       "    </tr>\n",
       "  </tbody>\n",
       "</table>\n",
       "</div>"
      ],
      "text/plain": [
       "                   sum     count mean_sales\n",
       "             all_sales all_sales           \n",
       "genre                                      \n",
       "Shooter         304.73       235   1.296723\n",
       "Platform         61.00        85   0.717647\n",
       "Sports          181.07       268   0.675634\n",
       "Role-Playing    192.80       370   0.521081\n",
       "Racing           53.50       115   0.465217\n",
       "Misc             85.04       192   0.442917\n",
       "Simulation       35.12        80   0.439000\n",
       "Action          441.12      1031   0.427856\n",
       "Fighting         44.49       109   0.408165\n",
       "Strategy         13.34        71   0.187887\n",
       "Puzzle            4.89        28   0.174643\n",
       "Adventure        29.43       302   0.097450"
      ]
     },
     "execution_count": 29,
     "metadata": {},
     "output_type": "execute_result"
    }
   ],
   "source": [
    "data_relevant_genre = data_relevant.pivot_table(index='genre',values='all_sales',aggfunc=['sum','count'])\n",
    "data_relevant_genre['mean_sales']=data_relevant_genre['sum']['all_sales'] / data_relevant_genre['count']['all_sales']\n",
    "data_relevant_genre.sort_values(by='mean_sales', ascending=False)"
   ]
  },
  {
   "cell_type": "code",
   "execution_count": 30,
   "metadata": {},
   "outputs": [
    {
     "name": "stdout",
     "output_type": "stream",
     "text": [
      "Корреляция между количеством продаж внутри одного жанра и количеством игр этого жанра: 0.8538646336191406\n",
      "Корреляция между средним количеством продаж этого жанра и количеством игр этого жанра: 0.041019508827039086\n",
      "Корреляция между количеством продаж внутри одного жанра и средним количеством продаж этого жанра: 0.5256908015039641\n"
     ]
    }
   ],
   "source": [
    "print('Корреляция между количеством продаж внутри одного жанра и количеством игр этого жанра:',\n",
    "      data_relevant_genre['sum']['all_sales'].corr(data_relevant_genre['count']['all_sales']))\n",
    "print('Корреляция между средним количеством продаж этого жанра и количеством игр этого жанра:',\n",
    "      data_relevant_genre['mean_sales'].corr(data_relevant_genre['count']['all_sales']))\n",
    "print('Корреляция между количеством продаж внутри одного жанра и средним количеством продаж этого жанра:',\n",
    "      data_relevant_genre['sum']['all_sales'].corr(data_relevant_genre['mean_sales']))"
   ]
  },
  {
   "cell_type": "markdown",
   "metadata": {},
   "source": [
    "Самое большое количество проданных копий принадлежат жанрам:\n",
    "- Action (441.12 млн копий)\n",
    "- Shooter (304.73 млн копий)\n",
    "- Role-Playing (192.80 млн копий)\n",
    "- Sports (181.07 млн копий)\n",
    "\n",
    "Однако, если рассматривать жанр Action, то количество произведенных игр в 3-4 раза больше, чем у других жанров, являющихся лидерами продаж. Это значит, что среди них есть как популярные, так и имеющие очень низкий спрос.\n",
    "\n",
    "Самые высокие средние продажи принадлежат жанрам:\n",
    "- Shooter (куплено 1.29 млн копий каждой игры этого жанра)\n",
    "- Platform (0.71 млн копий)\n",
    "- Sports (0.67 млн копий)\n",
    "- Role-Playing (0.52 млн копий)\n",
    "\n",
    "Количество продаж внутри одного жанра и количество игр этого жанра коррелируют между собой."
   ]
  },
  {
   "cell_type": "markdown",
   "metadata": {},
   "source": [
    "### Вывод"
   ]
  },
  {
   "cell_type": "markdown",
   "metadata": {},
   "source": [
    "С 2000 года по 2008 наблюдался значительный рос количества выпусков компьютерных игр (с 350 до 1427 игр в год), с 2009 по 2016 год наблюдается спад количества выпусков компьютерных игр (с 1426 до 502 игр в год). Пик по выпускам игр: 2008-2009 годы.\n",
    "\n",
    "Средний срок жизни платформы с общими продажами более 200 миллионов копий - почти 11 лет, средний срок жизни всех анализируемых платформ - 7.67 лет.\n",
    "\n",
    "Так как ситуация на рынке компьютерных игр менятся достаточно быстро, то в качестве актуального периода была принята половина среднего срока жизни платформы (4 года). Для анализа и построения прогноз на 2017 год были использованы данные с 2012 по 2016 гг.\n",
    "\n",
    "Пять платформ с наибольшим количеством проданных копий с 2012 по 2016 гг.: \n",
    "- PS4 -\t314.14 млн (росла до 2015 г.)\n",
    "- PS3 - 288.79 млн (на спаде с 2009 г.)\n",
    "- X360 - 236.54 млн (на спаде с 2013 г.)\n",
    "- 3DS -\t194.61 млн (на спаде с года открытия продаж, с 2011 г.)\n",
    "- XOne - 159.32 млн (росла до 2015 г.)\n",
    "\n",
    "Предположительно в фазе роста продаж находятся две платформы:\n",
    "- XOne\n",
    "- PS4\n",
    "\n",
    "Самый высокий уровень медианы и интерквартального размаха по количеству проданных копий наблюдается у платформы `PS4`. Предположительно на момент построения прогноза на 2017 год это будет самая потенциально прибыльная платформа.\n",
    "\n",
    "Корреляция между отзывами пользователей и количеством проданных копий отсутствует. Между отзывами критиков и количеством проданных копий наблюдается слабая положительная корреляция. Между отзывами критиков и отзывами пользователей наблюдается положительная корреляция.\n",
    "\n",
    "Самые прибыльные жанры игр:\n",
    "- Action\n",
    "- Shooter\n",
    "- Role-Playing\n",
    "- Sports\n",
    "- Platform\n",
    "\n",
    "Однако, если рассматривать жанр Action, то количество произведенных игр в 3-4 раза больше, чем у других жанров, являющихся лидерами продаж. Это значит, что среди них есть как популярные, так и имеющие очень низкий спрос.\n",
    "\n",
    "Количество продаж внутри одного жанра и количество игр этого жанра коррелируют между собой."
   ]
  },
  {
   "cell_type": "markdown",
   "metadata": {},
   "source": [
    "## Портрет пользователя регионов NA, EU, JP"
   ]
  },
  {
   "cell_type": "markdown",
   "metadata": {},
   "source": [
    "### Регион NA"
   ]
  },
  {
   "cell_type": "code",
   "execution_count": 31,
   "metadata": {},
   "outputs": [
    {
     "data": {
      "text/html": [
       "<div>\n",
       "<style scoped>\n",
       "    .dataframe tbody tr th:only-of-type {\n",
       "        vertical-align: middle;\n",
       "    }\n",
       "\n",
       "    .dataframe tbody tr th {\n",
       "        vertical-align: top;\n",
       "    }\n",
       "\n",
       "    .dataframe thead th {\n",
       "        text-align: right;\n",
       "    }\n",
       "</style>\n",
       "<table border=\"1\" class=\"dataframe\">\n",
       "  <thead>\n",
       "    <tr style=\"text-align: right;\">\n",
       "      <th></th>\n",
       "      <th>na_sales</th>\n",
       "    </tr>\n",
       "    <tr>\n",
       "      <th>platform</th>\n",
       "      <th></th>\n",
       "    </tr>\n",
       "  </thead>\n",
       "  <tbody>\n",
       "    <tr>\n",
       "      <th>X360</th>\n",
       "      <td>140.05</td>\n",
       "    </tr>\n",
       "    <tr>\n",
       "      <th>PS4</th>\n",
       "      <td>108.74</td>\n",
       "    </tr>\n",
       "    <tr>\n",
       "      <th>PS3</th>\n",
       "      <td>103.38</td>\n",
       "    </tr>\n",
       "    <tr>\n",
       "      <th>XOne</th>\n",
       "      <td>93.12</td>\n",
       "    </tr>\n",
       "    <tr>\n",
       "      <th>3DS</th>\n",
       "      <td>55.31</td>\n",
       "    </tr>\n",
       "  </tbody>\n",
       "</table>\n",
       "</div>"
      ],
      "text/plain": [
       "          na_sales\n",
       "platform          \n",
       "X360        140.05\n",
       "PS4         108.74\n",
       "PS3         103.38\n",
       "XOne         93.12\n",
       "3DS          55.31"
      ]
     },
     "execution_count": 31,
     "metadata": {},
     "output_type": "execute_result"
    }
   ],
   "source": [
    "data_relevant.pivot_table(index='platform',values='na_sales', aggfunc='sum').sort_values(\n",
    "    by='na_sales',ascending=False).head(5)"
   ]
  },
  {
   "cell_type": "code",
   "execution_count": 32,
   "metadata": {},
   "outputs": [
    {
     "data": {
      "text/html": [
       "<div>\n",
       "<style scoped>\n",
       "    .dataframe tbody tr th:only-of-type {\n",
       "        vertical-align: middle;\n",
       "    }\n",
       "\n",
       "    .dataframe tbody tr th {\n",
       "        vertical-align: top;\n",
       "    }\n",
       "\n",
       "    .dataframe thead th {\n",
       "        text-align: right;\n",
       "    }\n",
       "</style>\n",
       "<table border=\"1\" class=\"dataframe\">\n",
       "  <thead>\n",
       "    <tr style=\"text-align: right;\">\n",
       "      <th></th>\n",
       "      <th>na_sales</th>\n",
       "    </tr>\n",
       "    <tr>\n",
       "      <th>genre</th>\n",
       "      <th></th>\n",
       "    </tr>\n",
       "  </thead>\n",
       "  <tbody>\n",
       "    <tr>\n",
       "      <th>Action</th>\n",
       "      <td>177.84</td>\n",
       "    </tr>\n",
       "    <tr>\n",
       "      <th>Shooter</th>\n",
       "      <td>144.77</td>\n",
       "    </tr>\n",
       "    <tr>\n",
       "      <th>Sports</th>\n",
       "      <td>81.53</td>\n",
       "    </tr>\n",
       "    <tr>\n",
       "      <th>Role-Playing</th>\n",
       "      <td>64.00</td>\n",
       "    </tr>\n",
       "    <tr>\n",
       "      <th>Misc</th>\n",
       "      <td>38.19</td>\n",
       "    </tr>\n",
       "  </tbody>\n",
       "</table>\n",
       "</div>"
      ],
      "text/plain": [
       "              na_sales\n",
       "genre                 \n",
       "Action          177.84\n",
       "Shooter         144.77\n",
       "Sports           81.53\n",
       "Role-Playing     64.00\n",
       "Misc             38.19"
      ]
     },
     "execution_count": 32,
     "metadata": {},
     "output_type": "execute_result"
    }
   ],
   "source": [
    "data_relevant.pivot_table(index='genre',values='na_sales', aggfunc='sum').sort_values(\n",
    "    by='na_sales',ascending=False).head(5)"
   ]
  },
  {
   "cell_type": "code",
   "execution_count": 33,
   "metadata": {},
   "outputs": [
    {
     "data": {
      "text/html": [
       "<div>\n",
       "<style scoped>\n",
       "    .dataframe tbody tr th:only-of-type {\n",
       "        vertical-align: middle;\n",
       "    }\n",
       "\n",
       "    .dataframe tbody tr th {\n",
       "        vertical-align: top;\n",
       "    }\n",
       "\n",
       "    .dataframe thead th {\n",
       "        text-align: right;\n",
       "    }\n",
       "</style>\n",
       "<table border=\"1\" class=\"dataframe\">\n",
       "  <thead>\n",
       "    <tr style=\"text-align: right;\">\n",
       "      <th></th>\n",
       "      <th>na_sales</th>\n",
       "    </tr>\n",
       "    <tr>\n",
       "      <th>rating</th>\n",
       "      <th></th>\n",
       "    </tr>\n",
       "  </thead>\n",
       "  <tbody>\n",
       "    <tr>\n",
       "      <th>M</th>\n",
       "      <td>231.57</td>\n",
       "    </tr>\n",
       "    <tr>\n",
       "      <th>E</th>\n",
       "      <td>114.37</td>\n",
       "    </tr>\n",
       "    <tr>\n",
       "      <th>E10+</th>\n",
       "      <td>75.70</td>\n",
       "    </tr>\n",
       "    <tr>\n",
       "      <th>T</th>\n",
       "      <td>66.02</td>\n",
       "    </tr>\n",
       "  </tbody>\n",
       "</table>\n",
       "</div>"
      ],
      "text/plain": [
       "        na_sales\n",
       "rating          \n",
       "M         231.57\n",
       "E         114.37\n",
       "E10+       75.70\n",
       "T          66.02"
      ]
     },
     "execution_count": 33,
     "metadata": {},
     "output_type": "execute_result"
    }
   ],
   "source": [
    "data_relevant.pivot_table(index='rating',values='na_sales', aggfunc='sum').sort_values(by='na_sales',ascending=False)"
   ]
  },
  {
   "cell_type": "markdown",
   "metadata": {},
   "source": [
    "В регионе NA большее количество продаж у платформ:\n",
    "- X360\n",
    "- PS4\n",
    "- PS3\n",
    "- XOne\n",
    "- 3DS\n",
    "\n",
    "Большее количество продаж у жанров:\n",
    "- Action\n",
    "- Shooter\n",
    "- Sports\n",
    "- Role-Playing\n",
    "- Misc\n",
    "\n",
    "Из рейтинга ESRB самый популярный в регионе NA - М."
   ]
  },
  {
   "cell_type": "markdown",
   "metadata": {},
   "source": [
    "### Регион EU"
   ]
  },
  {
   "cell_type": "code",
   "execution_count": 34,
   "metadata": {},
   "outputs": [
    {
     "data": {
      "text/html": [
       "<div>\n",
       "<style scoped>\n",
       "    .dataframe tbody tr th:only-of-type {\n",
       "        vertical-align: middle;\n",
       "    }\n",
       "\n",
       "    .dataframe tbody tr th {\n",
       "        vertical-align: top;\n",
       "    }\n",
       "\n",
       "    .dataframe thead th {\n",
       "        text-align: right;\n",
       "    }\n",
       "</style>\n",
       "<table border=\"1\" class=\"dataframe\">\n",
       "  <thead>\n",
       "    <tr style=\"text-align: right;\">\n",
       "      <th></th>\n",
       "      <th>eu_sales</th>\n",
       "    </tr>\n",
       "    <tr>\n",
       "      <th>platform</th>\n",
       "      <th></th>\n",
       "    </tr>\n",
       "  </thead>\n",
       "  <tbody>\n",
       "    <tr>\n",
       "      <th>PS4</th>\n",
       "      <td>141.09</td>\n",
       "    </tr>\n",
       "    <tr>\n",
       "      <th>PS3</th>\n",
       "      <td>106.86</td>\n",
       "    </tr>\n",
       "    <tr>\n",
       "      <th>X360</th>\n",
       "      <td>74.52</td>\n",
       "    </tr>\n",
       "    <tr>\n",
       "      <th>XOne</th>\n",
       "      <td>51.59</td>\n",
       "    </tr>\n",
       "    <tr>\n",
       "      <th>3DS</th>\n",
       "      <td>42.64</td>\n",
       "    </tr>\n",
       "  </tbody>\n",
       "</table>\n",
       "</div>"
      ],
      "text/plain": [
       "          eu_sales\n",
       "platform          \n",
       "PS4         141.09\n",
       "PS3         106.86\n",
       "X360         74.52\n",
       "XOne         51.59\n",
       "3DS          42.64"
      ]
     },
     "execution_count": 34,
     "metadata": {},
     "output_type": "execute_result"
    }
   ],
   "source": [
    "data_relevant.pivot_table(index='platform',values='eu_sales', aggfunc='sum').sort_values(\n",
    "    by='eu_sales',ascending=False).head(5)"
   ]
  },
  {
   "cell_type": "code",
   "execution_count": 35,
   "metadata": {},
   "outputs": [
    {
     "data": {
      "text/html": [
       "<div>\n",
       "<style scoped>\n",
       "    .dataframe tbody tr th:only-of-type {\n",
       "        vertical-align: middle;\n",
       "    }\n",
       "\n",
       "    .dataframe tbody tr th {\n",
       "        vertical-align: top;\n",
       "    }\n",
       "\n",
       "    .dataframe thead th {\n",
       "        text-align: right;\n",
       "    }\n",
       "</style>\n",
       "<table border=\"1\" class=\"dataframe\">\n",
       "  <thead>\n",
       "    <tr style=\"text-align: right;\">\n",
       "      <th></th>\n",
       "      <th>eu_sales</th>\n",
       "    </tr>\n",
       "    <tr>\n",
       "      <th>genre</th>\n",
       "      <th></th>\n",
       "    </tr>\n",
       "  </thead>\n",
       "  <tbody>\n",
       "    <tr>\n",
       "      <th>Action</th>\n",
       "      <td>159.34</td>\n",
       "    </tr>\n",
       "    <tr>\n",
       "      <th>Shooter</th>\n",
       "      <td>113.47</td>\n",
       "    </tr>\n",
       "    <tr>\n",
       "      <th>Sports</th>\n",
       "      <td>69.09</td>\n",
       "    </tr>\n",
       "    <tr>\n",
       "      <th>Role-Playing</th>\n",
       "      <td>48.53</td>\n",
       "    </tr>\n",
       "    <tr>\n",
       "      <th>Racing</th>\n",
       "      <td>27.29</td>\n",
       "    </tr>\n",
       "  </tbody>\n",
       "</table>\n",
       "</div>"
      ],
      "text/plain": [
       "              eu_sales\n",
       "genre                 \n",
       "Action          159.34\n",
       "Shooter         113.47\n",
       "Sports           69.09\n",
       "Role-Playing     48.53\n",
       "Racing           27.29"
      ]
     },
     "execution_count": 35,
     "metadata": {},
     "output_type": "execute_result"
    }
   ],
   "source": [
    "data_relevant.pivot_table(index='genre',values='eu_sales', aggfunc='sum').sort_values(\n",
    "    by='eu_sales',ascending=False).head(5)"
   ]
  },
  {
   "cell_type": "code",
   "execution_count": 36,
   "metadata": {},
   "outputs": [
    {
     "data": {
      "text/html": [
       "<div>\n",
       "<style scoped>\n",
       "    .dataframe tbody tr th:only-of-type {\n",
       "        vertical-align: middle;\n",
       "    }\n",
       "\n",
       "    .dataframe tbody tr th {\n",
       "        vertical-align: top;\n",
       "    }\n",
       "\n",
       "    .dataframe thead th {\n",
       "        text-align: right;\n",
       "    }\n",
       "</style>\n",
       "<table border=\"1\" class=\"dataframe\">\n",
       "  <thead>\n",
       "    <tr style=\"text-align: right;\">\n",
       "      <th></th>\n",
       "      <th>eu_sales</th>\n",
       "    </tr>\n",
       "    <tr>\n",
       "      <th>rating</th>\n",
       "      <th></th>\n",
       "    </tr>\n",
       "  </thead>\n",
       "  <tbody>\n",
       "    <tr>\n",
       "      <th>M</th>\n",
       "      <td>193.96</td>\n",
       "    </tr>\n",
       "    <tr>\n",
       "      <th>E</th>\n",
       "      <td>113.03</td>\n",
       "    </tr>\n",
       "    <tr>\n",
       "      <th>E10+</th>\n",
       "      <td>55.37</td>\n",
       "    </tr>\n",
       "    <tr>\n",
       "      <th>T</th>\n",
       "      <td>52.96</td>\n",
       "    </tr>\n",
       "  </tbody>\n",
       "</table>\n",
       "</div>"
      ],
      "text/plain": [
       "        eu_sales\n",
       "rating          \n",
       "M         193.96\n",
       "E         113.03\n",
       "E10+       55.37\n",
       "T          52.96"
      ]
     },
     "execution_count": 36,
     "metadata": {},
     "output_type": "execute_result"
    }
   ],
   "source": [
    "data_relevant.pivot_table(index='rating',values='eu_sales', aggfunc='sum').sort_values(by='eu_sales',ascending=False)"
   ]
  },
  {
   "cell_type": "markdown",
   "metadata": {},
   "source": [
    "В регионе EU большее количество продаж у платформ:\n",
    "- PS4\n",
    "- PS3\n",
    "- X360\n",
    "- XOne\n",
    "- 3DS\n",
    "\n",
    "Большее количество продаж у жанров:\n",
    "- Action\n",
    "- Shooter\n",
    "- Sports\n",
    "- Role-Playing\n",
    "- Racing\n",
    "\n",
    "Из рейтинга ESRB самый популярный в регионе EU - М."
   ]
  },
  {
   "cell_type": "markdown",
   "metadata": {},
   "source": [
    "### Регион JP"
   ]
  },
  {
   "cell_type": "code",
   "execution_count": 37,
   "metadata": {},
   "outputs": [
    {
     "data": {
      "text/html": [
       "<div>\n",
       "<style scoped>\n",
       "    .dataframe tbody tr th:only-of-type {\n",
       "        vertical-align: middle;\n",
       "    }\n",
       "\n",
       "    .dataframe tbody tr th {\n",
       "        vertical-align: top;\n",
       "    }\n",
       "\n",
       "    .dataframe thead th {\n",
       "        text-align: right;\n",
       "    }\n",
       "</style>\n",
       "<table border=\"1\" class=\"dataframe\">\n",
       "  <thead>\n",
       "    <tr style=\"text-align: right;\">\n",
       "      <th></th>\n",
       "      <th>jp_sales</th>\n",
       "    </tr>\n",
       "    <tr>\n",
       "      <th>platform</th>\n",
       "      <th></th>\n",
       "    </tr>\n",
       "  </thead>\n",
       "  <tbody>\n",
       "    <tr>\n",
       "      <th>3DS</th>\n",
       "      <td>87.79</td>\n",
       "    </tr>\n",
       "    <tr>\n",
       "      <th>PS3</th>\n",
       "      <td>35.29</td>\n",
       "    </tr>\n",
       "    <tr>\n",
       "      <th>PSV</th>\n",
       "      <td>21.04</td>\n",
       "    </tr>\n",
       "    <tr>\n",
       "      <th>PS4</th>\n",
       "      <td>15.96</td>\n",
       "    </tr>\n",
       "    <tr>\n",
       "      <th>WiiU</th>\n",
       "      <td>13.01</td>\n",
       "    </tr>\n",
       "  </tbody>\n",
       "</table>\n",
       "</div>"
      ],
      "text/plain": [
       "          jp_sales\n",
       "platform          \n",
       "3DS          87.79\n",
       "PS3          35.29\n",
       "PSV          21.04\n",
       "PS4          15.96\n",
       "WiiU         13.01"
      ]
     },
     "execution_count": 37,
     "metadata": {},
     "output_type": "execute_result"
    }
   ],
   "source": [
    "data_relevant.pivot_table(index='platform',values='jp_sales', aggfunc='sum').sort_values(\n",
    "    by='jp_sales',ascending=False).head(5)"
   ]
  },
  {
   "cell_type": "code",
   "execution_count": 38,
   "metadata": {},
   "outputs": [
    {
     "data": {
      "text/html": [
       "<div>\n",
       "<style scoped>\n",
       "    .dataframe tbody tr th:only-of-type {\n",
       "        vertical-align: middle;\n",
       "    }\n",
       "\n",
       "    .dataframe tbody tr th {\n",
       "        vertical-align: top;\n",
       "    }\n",
       "\n",
       "    .dataframe thead th {\n",
       "        text-align: right;\n",
       "    }\n",
       "</style>\n",
       "<table border=\"1\" class=\"dataframe\">\n",
       "  <thead>\n",
       "    <tr style=\"text-align: right;\">\n",
       "      <th></th>\n",
       "      <th>jp_sales</th>\n",
       "    </tr>\n",
       "    <tr>\n",
       "      <th>genre</th>\n",
       "      <th></th>\n",
       "    </tr>\n",
       "  </thead>\n",
       "  <tbody>\n",
       "    <tr>\n",
       "      <th>Role-Playing</th>\n",
       "      <td>65.44</td>\n",
       "    </tr>\n",
       "    <tr>\n",
       "      <th>Action</th>\n",
       "      <td>52.80</td>\n",
       "    </tr>\n",
       "    <tr>\n",
       "      <th>Misc</th>\n",
       "      <td>12.86</td>\n",
       "    </tr>\n",
       "    <tr>\n",
       "      <th>Simulation</th>\n",
       "      <td>10.41</td>\n",
       "    </tr>\n",
       "    <tr>\n",
       "      <th>Fighting</th>\n",
       "      <td>9.44</td>\n",
       "    </tr>\n",
       "  </tbody>\n",
       "</table>\n",
       "</div>"
      ],
      "text/plain": [
       "              jp_sales\n",
       "genre                 \n",
       "Role-Playing     65.44\n",
       "Action           52.80\n",
       "Misc             12.86\n",
       "Simulation       10.41\n",
       "Fighting          9.44"
      ]
     },
     "execution_count": 38,
     "metadata": {},
     "output_type": "execute_result"
    }
   ],
   "source": [
    "data_relevant.pivot_table(index='genre',values='jp_sales', aggfunc='sum').sort_values(by='jp_sales',ascending=False).head(5)"
   ]
  },
  {
   "cell_type": "code",
   "execution_count": 39,
   "metadata": {},
   "outputs": [
    {
     "data": {
      "text/html": [
       "<div>\n",
       "<style scoped>\n",
       "    .dataframe tbody tr th:only-of-type {\n",
       "        vertical-align: middle;\n",
       "    }\n",
       "\n",
       "    .dataframe tbody tr th {\n",
       "        vertical-align: top;\n",
       "    }\n",
       "\n",
       "    .dataframe thead th {\n",
       "        text-align: right;\n",
       "    }\n",
       "</style>\n",
       "<table border=\"1\" class=\"dataframe\">\n",
       "  <thead>\n",
       "    <tr style=\"text-align: right;\">\n",
       "      <th></th>\n",
       "      <th>jp_sales</th>\n",
       "    </tr>\n",
       "    <tr>\n",
       "      <th>rating</th>\n",
       "      <th></th>\n",
       "    </tr>\n",
       "  </thead>\n",
       "  <tbody>\n",
       "    <tr>\n",
       "      <th>E</th>\n",
       "      <td>28.33</td>\n",
       "    </tr>\n",
       "    <tr>\n",
       "      <th>T</th>\n",
       "      <td>26.02</td>\n",
       "    </tr>\n",
       "    <tr>\n",
       "      <th>M</th>\n",
       "      <td>21.20</td>\n",
       "    </tr>\n",
       "    <tr>\n",
       "      <th>E10+</th>\n",
       "      <td>8.19</td>\n",
       "    </tr>\n",
       "  </tbody>\n",
       "</table>\n",
       "</div>"
      ],
      "text/plain": [
       "        jp_sales\n",
       "rating          \n",
       "E          28.33\n",
       "T          26.02\n",
       "M          21.20\n",
       "E10+        8.19"
      ]
     },
     "execution_count": 39,
     "metadata": {},
     "output_type": "execute_result"
    }
   ],
   "source": [
    "data_relevant.pivot_table(index='rating',values='jp_sales', aggfunc='sum').sort_values(by='jp_sales',ascending=False)"
   ]
  },
  {
   "cell_type": "markdown",
   "metadata": {},
   "source": [
    "В регионе JP большее количество продаж у платформ:\n",
    "- 3DS\n",
    "- PS3\n",
    "- PSV\n",
    "- PS4\n",
    "- WiiU\n",
    "\n",
    "Большее количество продаж у жанров:\n",
    "- Role-Playing\n",
    "- Action\n",
    "- Misc\n",
    "- Simulation\n",
    "- Fighting\n",
    "\n",
    "Из рейтинга ESRB самый популярный в регионе JP - E, но разница с Т и М не велика."
   ]
  },
  {
   "cell_type": "markdown",
   "metadata": {},
   "source": [
    "### Объединение портретов пользователя"
   ]
  },
  {
   "cell_type": "code",
   "execution_count": 40,
   "metadata": {},
   "outputs": [
    {
     "data": {
      "image/png": "[encoded data removed]",
      "text/plain": [
       "<Figure size 1080x360 with 1 Axes>"
      ]
     },
     "metadata": {
      "needs_background": "light"
     },
     "output_type": "display_data"
    }
   ],
   "source": [
    "data1 = data_relevant.pivot_table(index='platform',values=['na_sales','eu_sales','jp_sales','all_sales'], \n",
    "                                  aggfunc='sum').sort_values(by='all_sales',ascending=False)\n",
    "data1.plot.bar(title='Продажи игр по платформ',figsize=(15,5));"
   ]
  },
  {
   "cell_type": "code",
   "execution_count": 41,
   "metadata": {},
   "outputs": [
    {
     "data": {
      "image/png": "[encoded data removed]",
      "text/plain": [
       "<Figure size 1152x432 with 3 Axes>"
      ]
     },
     "metadata": {
      "needs_background": "light"
     },
     "output_type": "display_data"
    }
   ],
   "source": [
    "fig, axs = plt.subplots(1, 3, figsize=(16,6))\n",
    "for col, ax in  zip(['na_sales', 'eu_sales',  'jp_sales'], axs):\n",
    "    data_relevant.pivot_table(index='platform',values=col, aggfunc='sum')\\\n",
    "                 .sort_values(by=col,ascending=False)\\\n",
    "                 .head()\\\n",
    "                 .plot(kind='bar', ax=ax)"
   ]
  },
  {
   "cell_type": "markdown",
   "metadata": {},
   "source": [
    "Платформы PS4, PS3, 3DS популярны в трех представленных регионах. В JP более популярна - 3DS, а в NA и EU - две остальные."
   ]
  },
  {
   "cell_type": "code",
   "execution_count": 42,
   "metadata": {},
   "outputs": [
    {
     "data": {
      "image/png": "[encoded data removed]",
      "text/plain": [
       "<Figure size 1080x360 with 1 Axes>"
      ]
     },
     "metadata": {
      "needs_background": "light"
     },
     "output_type": "display_data"
    }
   ],
   "source": [
    "data2 = data_relevant.pivot_table(index='genre',values=['na_sales','eu_sales','jp_sales','all_sales'],\n",
    "                                  aggfunc='sum').sort_values(by='na_sales',ascending=False)\n",
    "data2.plot.bar(title='Продажи игр по жанрам',figsize=(15,5));"
   ]
  },
  {
   "cell_type": "code",
   "execution_count": 43,
   "metadata": {},
   "outputs": [
    {
     "data": {
      "image/png": "[encoded data removed]",
      "text/plain": [
       "<Figure size 1152x432 with 3 Axes>"
      ]
     },
     "metadata": {
      "needs_background": "light"
     },
     "output_type": "display_data"
    }
   ],
   "source": [
    "fig, axs = plt.subplots(1, 3, figsize=(16,6))\n",
    "for col, ax in  zip(['na_sales', 'eu_sales',  'jp_sales'], axs):\n",
    "    data_relevant.pivot_table(index='genre',values=col, aggfunc='sum')\\\n",
    "                 .sort_values(by=col,ascending=False)\\\n",
    "                 .head()\\\n",
    "                 .plot(kind='bar', ax=ax)"
   ]
  },
  {
   "cell_type": "markdown",
   "metadata": {},
   "source": [
    "Жанры Role-Playing и Action популярны в трех представленных регионах. В JP более популярен Role-Playing, а в NA и EU - Action."
   ]
  },
  {
   "cell_type": "code",
   "execution_count": 44,
   "metadata": {},
   "outputs": [
    {
     "data": {
      "image/png": "[encoded data removed]",
      "text/plain": [
       "<Figure size 1080x360 with 1 Axes>"
      ]
     },
     "metadata": {
      "needs_background": "light"
     },
     "output_type": "display_data"
    }
   ],
   "source": [
    "data3 = data_relevant.pivot_table(index='rating',values=['na_sales','eu_sales','jp_sales','all_sales'],\n",
    "                                  aggfunc='sum').sort_values(by='na_sales',ascending=False)\n",
    "data3.plot.bar(title='Продажи игр по рейтингу ESRB',figsize=(15,5));"
   ]
  },
  {
   "cell_type": "markdown",
   "metadata": {},
   "source": [
    "Продажи игр по рейтингу ESRB распределены по регионам достаточно равномерно."
   ]
  },
  {
   "cell_type": "markdown",
   "metadata": {},
   "source": [
    "### Вывод"
   ]
  },
  {
   "cell_type": "markdown",
   "metadata": {},
   "source": [
    "В регионе NA большее количество продаж у платформ: X360, PS4, PS3, XOne, 3DS.\n",
    "Большее количество продаж у жанров: Action, Shooter, Sports, Role-Playing, Misc.\n",
    "Из рейтинга ESRB самый популярный в регионе NA - М.\n",
    "\n",
    "В регионе EU большее количество продаж у платформ: PS4, PS3, X360, XOne, 3DS.\n",
    "Большее количество продаж у жанров: Action, Shooter, Sports, Role-Playing, Racing.\n",
    "Из рейтинга ESRB самый популярный в регионе EU - М.\n",
    "\n",
    "В регионе JP большее количество продаж у платформ: 3DS, PS3, PSV, PS4, WiiU.\n",
    "Большее количество продаж у жанров: Role-Playing, Action, Misc, Simulation, Fighting.\n",
    "Из рейтинга ESRB самый популярный в регионе JP - E, но разница с Т и М не велика.\n",
    "\n",
    "Платформы PS4, PS3, 3DS популярны в трех представленных регионах. В JP более популярна - 3DS, а в NA и EU - две остальные.\n",
    "\n",
    "Жанры Role-Playing и Action популярны в трех представленных регионах. В JP более популярен Role-Playing, а в NA и EU - Action.\n",
    "\n",
    "При создании портретов пользователей стало видно, что регионы NA и EU занимают большую часть рынка и имеют схожие предпочтения, а JP не только имеет меньшее количество продаж, но и достаточно обособлен от первых двух по предпочтениям.\n",
    "\n",
    "Продажи игр по рейтингу ESRB распределены по регионам достаточно равномерно."
   ]
  },
  {
   "cell_type": "markdown",
   "metadata": {},
   "source": [
    "## Проверка гипотез"
   ]
  },
  {
   "cell_type": "markdown",
   "metadata": {},
   "source": [
    "### Гипотеза \"Средние пользовательские рейтинги платформ Xbox One и PC одинаковые\""
   ]
  },
  {
   "cell_type": "markdown",
   "metadata": {},
   "source": [
    "Формулирование гипотез:\n",
    "\n",
    "- Нулевая гипотеза: Средний пользовательский рейтинг платформы Xbox One равен среднему пользовательскому рейтингу платформы PC.\n",
    "\n",
    "- Альтернативная гипотеза: Средний пользовательский рейтинг платформы Xbox One не равен среднему пользовательскому рейтингу платформы PC.\n",
    "\n",
    "Применяем t-тест, так как генеральные совокупности не зависят друг от друга и размер выборки достаточно большой."
   ]
  },
  {
   "cell_type": "code",
   "execution_count": 45,
   "metadata": {},
   "outputs": [
    {
     "name": "stdout",
     "output_type": "stream",
     "text": [
      "p-значение:  0.41668656393474524\n",
      "Не получилось отвергнуть нулевую гипотезу\n"
     ]
    }
   ],
   "source": [
    "data_xone = data_relevant[data_relevant['platform'] == 'XOne'].dropna()\n",
    "data_pc = data_relevant[data_relevant['platform'] == 'PC'].dropna()\n",
    "\n",
    "sample_1 = data_xone['user_score']\n",
    "sample_2 = data_pc['user_score']\n",
    "\n",
    "\n",
    "alpha = .05\n",
    "\n",
    "results = st.ttest_ind(\n",
    "    sample_1, \n",
    "    sample_2,\n",
    "    equal_var = False)\n",
    "\n",
    "print('p-значение: ', results.pvalue)\n",
    "\n",
    "if results.pvalue < alpha:\n",
    "    print(\"Отвергаем нулевую гипотезу\")\n",
    "else:\n",
    "    print(\"Не получилось отвергнуть нулевую гипотезу\")"
   ]
  },
  {
   "cell_type": "code",
   "execution_count": 46,
   "metadata": {},
   "outputs": [
    {
     "name": "stdout",
     "output_type": "stream",
     "text": [
      "Среднее значение ср. польз. рейтинга XOne: 6.49308176100629\n",
      "Стандартное отклонение ср. польз. рейтинга XOne: 1.3384347317846739\n",
      "Дисперсия ср. польз. рейтинга XOne: 1.7914075312475122\n",
      "\n",
      "Среднее значение ср. польз. рейтинга PC: 6.358045977011493\n",
      "Стандартное отклонение ср. польз. рейтинга PC: 1.684412962065903\n",
      "Дисперсия ср. польз. рейтинга PC: 2.837247026775629\n"
     ]
    }
   ],
   "source": [
    "print('Среднее значение ср. польз. рейтинга XOne:', data_xone['user_score'].mean())\n",
    "print('Стандартное отклонение ср. польз. рейтинга XOne:', data_xone['user_score'].std())\n",
    "print('Дисперсия ср. польз. рейтинга XOne:', data_xone['user_score'].var())\n",
    "print()\n",
    "print('Среднее значение ср. польз. рейтинга PC:', data_pc['user_score'].mean())\n",
    "print('Стандартное отклонение ср. польз. рейтинга PC:', data_pc['user_score'].std())\n",
    "print('Дисперсия ср. польз. рейтинга PC:', data_pc['user_score'].var())"
   ]
  },
  {
   "cell_type": "markdown",
   "metadata": {},
   "source": [
    "Полученное значение p-value говорит о том, что вероятность получить равные средние рейтинги случайно - 42%. \n",
    "Рассчитав средние пользовательские оценки по платформам, мы видим, что они действительно имеют близкие значения."
   ]
  },
  {
   "cell_type": "markdown",
   "metadata": {},
   "source": [
    "### Гипотеза \"Средние пользовательские рейтинги жанров Action и Sports разные\""
   ]
  },
  {
   "cell_type": "markdown",
   "metadata": {},
   "source": [
    "Формулирование гипотез:\n",
    "\n",
    "- Нулевая гипотеза: Средний пользовательский рейтинг жанра Action равен среднему пользовательскому рейтингу жанра Sports.\n",
    "\n",
    "- Альтернативная гипотеза: Средний пользовательский рейтинг жанра Action не равен среднему пользовательскому рейтингу жанра Sports\n",
    "\n",
    "Применяем t-тест, так как генеральные совокупности не зависят друг от друга и размер выборки достаточно большой."
   ]
  },
  {
   "cell_type": "code",
   "execution_count": 47,
   "metadata": {},
   "outputs": [
    {
     "name": "stdout",
     "output_type": "stream",
     "text": [
      "p-значение:  4.778145125344677e-13\n",
      "Отвергаем нулевую гипотезу\n"
     ]
    }
   ],
   "source": [
    "data_action = data_relevant[data_relevant['genre'] == 'Action'].dropna()\n",
    "data_sports = data_relevant[data_relevant['genre'] == 'Sports'].dropna()\n",
    "\n",
    "sample_1 = data_action['user_score']\n",
    "sample_2 = data_sports['user_score']\n",
    "\n",
    "\n",
    "alpha = .05\n",
    "\n",
    "results = st.ttest_ind(\n",
    "    sample_1, \n",
    "    sample_2,\n",
    "    equal_var = False)\n",
    "\n",
    "print('p-значение: ', results.pvalue)\n",
    "\n",
    "if results.pvalue < alpha:\n",
    "    print(\"Отвергаем нулевую гипотезу\")\n",
    "else:\n",
    "    print(\"Не получилось отвергнуть нулевую гипотезу\")"
   ]
  },
  {
   "cell_type": "code",
   "execution_count": 48,
   "metadata": {},
   "outputs": [
    {
     "name": "stdout",
     "output_type": "stream",
     "text": [
      "Среднее значение ср. польз. рейтинга Action: 6.874881516587677\n",
      "Стандартное отклонение ср. польз. рейтинга Action: 1.3259816818522308\n",
      "Дисперсия ср. польз. рейтинга Action: 1.7582274206076707\n",
      "\n",
      "Среднее значение ср. польз. рейтинга Sports: 5.8161764705882355\n",
      "Стандартное отклонение ср. польз. рейтинга Sports: 1.415638611983497\n",
      "Дисперсия ср. польз. рейтинга Sports: 2.004032679738562\n"
     ]
    }
   ],
   "source": [
    "print('Среднее значение ср. польз. рейтинга Action:', data_action['user_score'].mean())\n",
    "print('Стандартное отклонение ср. польз. рейтинга Action:', data_action['user_score'].std())\n",
    "print('Дисперсия ср. польз. рейтинга Action:', data_action['user_score'].var())\n",
    "print()\n",
    "print('Среднее значение ср. польз. рейтинга Sports:', data_sports['user_score'].mean())\n",
    "print('Стандартное отклонение ср. польз. рейтинга Sports:', data_sports['user_score'].std())\n",
    "print('Дисперсия ср. польз. рейтинга Sports:', data_sports['user_score'].var())"
   ]
  },
  {
   "cell_type": "markdown",
   "metadata": {},
   "source": [
    "Полученное значение p-value говорит о том, что вероятность получить для двух жанров одинаковый пользовательский рейтинг очень мала, нулевую гипотезу можно отвергнуть."
   ]
  },
  {
   "cell_type": "markdown",
   "metadata": {},
   "source": [
    "### Вывод"
   ]
  },
  {
   "cell_type": "markdown",
   "metadata": {},
   "source": [
    "Для гипотезы \"Средние пользовательские рейтинги платформ Xbox One и PC одинаковые\" была сформулирована нулевая гипотеза: Средний пользовательский рейтинг платформы Xbox One равен среднему пользовательскому рейтингу платформы PC. Ее отвергнуть не получилось, так как полученное значение p-value говорит о том, что вероятность получить равные средние рейтинги случайно - 42%. \n",
    "Рассчитав средние пользовательские оценки по платформам, мы видим, что они действительно имеют близкие значения.\n",
    "\n",
    "Для гипотезы \"Средние пользовательские рейтинги жанров Action и Sports разные\" была сформулирована нулевая гипотеза: Средний пользовательский рейтинг жанра Action равен среднему пользовательскому рейтингу жанра Sports. Она была отвергнута, так как в ходе t-теста было получено очень маленькое p-значение (9.491264299467366e-15). Гипотеза \"Средние пользовательские рейтинги жанров Action и Sports разные\" была подтверждена."
   ]
  },
  {
   "cell_type": "markdown",
   "metadata": {},
   "source": [
    "## Общий вывод"
   ]
  },
  {
   "cell_type": "markdown",
   "metadata": {},
   "source": [
    "С 2000 года по 2008 наблюдался значительный рос количества выпусков компьютерных игр (с 350 до 1427 игр в год), с 2009 по 2016 год наблюдается спад количества выпусков компьютерных игр (с 1426 до 502 игр в год). Пик по выпускам игр: 2008-2009 годы.\n",
    "\n",
    "Так как ситуация на рынке компьютерных игр менятся достаточно быстро, то в качестве актуального периода была принята половина среднего срока жизни платформы (4 года). Для анализа и построения прогноза на 2017 год были использованы данные с 2012 по 2016 гг.\n",
    "\n",
    "Пять платформ с наибольшим количеством проданных копий с 2012 по 2016 гг.: \n",
    "- PS4 -\t314.14 млн (росла до 2015 г.)\n",
    "- PS3 - 288.79 млн (на спаде с 2009 г.)\n",
    "- X360 - 236.54 млн (на спаде с 2013 г.)\n",
    "- 3DS -\t194.61 млн (на спаде с года открытия продаж, с 2011 г.)\n",
    "- XOne - 159.32 млн (росла до 2015 г.)\n",
    "\n",
    "Предположительно в фазе роста продаж находятся две платформы:\n",
    "- XOne\n",
    "- PS4\n",
    "\n",
    "Самый высокий уровень медианы и интерквартального размаха по количеству проданных копий наблюдается у платформы PS4. \n",
    "\n",
    "Предположительно на момент построения прогноза на 2017 год это будет самая потенциально прибыльная платформа.\n",
    "\n",
    "Самые прибыльные жанры игр:\n",
    "- Action\n",
    "- Shooter\n",
    "- Role-Playing\n",
    "- Sports\n",
    "- Platform\n",
    "\n",
    "Однако, если рассматривать жанр Action, то количество произведенных игр в 3-4 раза больше, чем у других жанров, являющихся лидерами продаж. Это значит, что среди них есть как популярные, так и имеющие очень низкий спрос.\n",
    "\n",
    "В регионе NA большее количество продаж у платформ: X360, PS4, PS3, XOne, 3DS.\n",
    "Большее количество продаж у жанров: Action, Shooter, Sports, Role-Playing, Misc.\n",
    "Из рейтинга ESRB самый популярный в регионе NA - М.\n",
    "\n",
    "В регионе EU большее количество продаж у платформ: PS4, PS3, X360, XOne, 3DS.\n",
    "Большее количество продаж у жанров: Action, Shooter, Sports, Role-Playing, Racing.\n",
    "Из рейтинга ESRB самый популярный в регионе EU - М.\n",
    "\n",
    "В регионе JP большее количество продаж у платформ: 3DS, PS3, PSV, PS4, WiiU.\n",
    "Большее количество продаж у жанров: Role-Playing, Action, Misc, Simulation, Fighting.\n",
    "Из рейтинга ESRB самый популярный в регионе JP - E, но разница с Т и М не велика.\n",
    "\n",
    "Платформы PS4, PS3, 3DS популярны в трех представленных регионах. В JP более популярна - 3DS, а в NA и EU - две остальные.\n",
    "\n",
    "Жанры Role-Playing и Action популярны в трех представленных регионах. В JP более популярен Role-Playing, а в NA и EU - Action.\n",
    "\n",
    "При создании портретов пользователей стало видно, что регионы NA и EU занимают большую часть рынка и имеют схожие предпочтения, а JP не только имеет меньшее количество продаж, но и достаточно обособлен от первых двух по предпочтениям.\n",
    "\n",
    "Продажи игр по рейтингу ESRB распределены по регионам достаточно равномерно."
   ]
  }
 ],
 "metadata": {
  "ExecuteTimeLog": [
   {
    "duration": 614,
    "start_time": "2022-03-12T11:21:47.724Z"
   },
   {
    "duration": 10,
    "start_time": "2022-03-12T11:22:23.839Z"
   },
   {
    "duration": 13,
    "start_time": "2022-03-12T11:22:31.460Z"
   },
   {
    "duration": 7,
    "start_time": "2022-03-12T11:23:09.263Z"
   },
   {
    "duration": 13,
    "start_time": "2022-03-12T11:23:36.605Z"
   },
   {
    "duration": 21,
    "start_time": "2022-03-12T11:23:43.590Z"
   },
   {
    "duration": 27,
    "start_time": "2022-03-12T11:24:03.752Z"
   },
   {
    "duration": 9,
    "start_time": "2022-03-12T11:24:10.801Z"
   },
   {
    "duration": 22,
    "start_time": "2022-03-12T11:24:18.831Z"
   },
   {
    "duration": 13,
    "start_time": "2022-03-12T11:24:40.530Z"
   },
   {
    "duration": 15,
    "start_time": "2022-03-12T11:26:11.576Z"
   },
   {
    "duration": 261,
    "start_time": "2022-03-12T11:26:23.883Z"
   },
   {
    "duration": 224,
    "start_time": "2022-03-12T11:26:44.542Z"
   },
   {
    "duration": 16,
    "start_time": "2022-03-12T11:27:20.816Z"
   },
   {
    "duration": 372,
    "start_time": "2022-03-12T11:27:51.876Z"
   },
   {
    "duration": 6,
    "start_time": "2022-03-12T11:28:13.214Z"
   },
   {
    "duration": 18,
    "start_time": "2022-03-12T11:28:22.944Z"
   },
   {
    "duration": 15,
    "start_time": "2022-03-12T11:28:44.024Z"
   },
   {
    "duration": 387,
    "start_time": "2022-03-12T11:28:55.711Z"
   },
   {
    "duration": 13,
    "start_time": "2022-03-12T11:29:06.186Z"
   },
   {
    "duration": 320,
    "start_time": "2022-03-12T11:29:27.248Z"
   },
   {
    "duration": 300,
    "start_time": "2022-03-12T11:34:53.048Z"
   },
   {
    "duration": 308,
    "start_time": "2022-03-12T11:35:40.231Z"
   },
   {
    "duration": 320,
    "start_time": "2022-03-12T11:36:24.139Z"
   },
   {
    "duration": 300,
    "start_time": "2022-03-12T11:36:47.649Z"
   },
   {
    "duration": 262,
    "start_time": "2022-03-12T11:37:22.780Z"
   },
   {
    "duration": 265,
    "start_time": "2022-03-12T11:37:42.477Z"
   },
   {
    "duration": 305,
    "start_time": "2022-03-12T11:38:02.947Z"
   },
   {
    "duration": 28,
    "start_time": "2022-03-12T11:38:57.989Z"
   },
   {
    "duration": 14,
    "start_time": "2022-03-12T11:39:08.332Z"
   },
   {
    "duration": 22,
    "start_time": "2022-03-12T11:40:30.231Z"
   },
   {
    "duration": 15,
    "start_time": "2022-03-12T11:40:55.186Z"
   },
   {
    "duration": 78,
    "start_time": "2022-03-12T11:41:07.959Z"
   },
   {
    "duration": 15,
    "start_time": "2022-03-12T11:41:27.147Z"
   },
   {
    "duration": 14,
    "start_time": "2022-03-12T11:42:00.650Z"
   },
   {
    "duration": 14,
    "start_time": "2022-03-12T11:42:09.234Z"
   },
   {
    "duration": 13,
    "start_time": "2022-03-12T11:42:18.677Z"
   },
   {
    "duration": 16,
    "start_time": "2022-03-12T11:42:55.402Z"
   },
   {
    "duration": 15,
    "start_time": "2022-03-12T11:43:03.694Z"
   },
   {
    "duration": 14,
    "start_time": "2022-03-12T11:43:12.913Z"
   },
   {
    "duration": 224,
    "start_time": "2022-03-12T11:47:43.695Z"
   },
   {
    "duration": 207,
    "start_time": "2022-03-12T11:47:58.856Z"
   },
   {
    "duration": 254,
    "start_time": "2022-03-12T11:50:10.746Z"
   },
   {
    "duration": 41,
    "start_time": "2022-03-12T11:50:46.914Z"
   },
   {
    "duration": 537,
    "start_time": "2022-03-12T11:50:50.482Z"
   },
   {
    "duration": 249,
    "start_time": "2022-03-12T11:51:36.938Z"
   },
   {
    "duration": 255,
    "start_time": "2022-03-12T11:51:55.013Z"
   },
   {
    "duration": 246,
    "start_time": "2022-03-12T11:52:37.588Z"
   },
   {
    "duration": 224,
    "start_time": "2022-03-12T11:52:48.219Z"
   },
   {
    "duration": 377,
    "start_time": "2022-03-12T11:53:46.797Z"
   },
   {
    "duration": 205,
    "start_time": "2022-03-12T11:54:07.565Z"
   },
   {
    "duration": 703,
    "start_time": "2022-03-12T11:54:44.078Z"
   },
   {
    "duration": 481,
    "start_time": "2022-03-12T11:55:04.775Z"
   },
   {
    "duration": 401,
    "start_time": "2022-03-12T11:55:10.583Z"
   },
   {
    "duration": 397,
    "start_time": "2022-03-12T11:55:30.271Z"
   },
   {
    "duration": 393,
    "start_time": "2022-03-12T11:55:38.190Z"
   },
   {
    "duration": 251,
    "start_time": "2022-03-12T11:56:03.920Z"
   },
   {
    "duration": 385,
    "start_time": "2022-03-12T11:56:34.055Z"
   },
   {
    "duration": 46,
    "start_time": "2022-03-12T11:57:50.683Z"
   },
   {
    "duration": 349,
    "start_time": "2022-03-12T11:58:03.927Z"
   },
   {
    "duration": 276,
    "start_time": "2022-03-12T12:00:21.307Z"
   },
   {
    "duration": 304,
    "start_time": "2022-03-12T12:01:22.732Z"
   },
   {
    "duration": 139,
    "start_time": "2022-03-12T12:01:36.197Z"
   },
   {
    "duration": 306,
    "start_time": "2022-03-12T12:01:55.671Z"
   },
   {
    "duration": 387,
    "start_time": "2022-03-12T12:02:05.661Z"
   },
   {
    "duration": 147,
    "start_time": "2022-03-12T12:02:24.408Z"
   },
   {
    "duration": 320,
    "start_time": "2022-03-12T12:02:34.774Z"
   },
   {
    "duration": 299,
    "start_time": "2022-03-12T12:03:06.461Z"
   },
   {
    "duration": 174,
    "start_time": "2022-03-12T12:17:31.084Z"
   },
   {
    "duration": 306,
    "start_time": "2022-03-12T12:18:03.029Z"
   },
   {
    "duration": 236,
    "start_time": "2022-03-12T12:18:16.722Z"
   },
   {
    "duration": 216,
    "start_time": "2022-03-12T12:18:22.980Z"
   },
   {
    "duration": 368,
    "start_time": "2022-03-12T12:19:01.193Z"
   },
   {
    "duration": 239,
    "start_time": "2022-03-12T12:20:31.052Z"
   },
   {
    "duration": 177,
    "start_time": "2022-03-12T12:21:14.194Z"
   },
   {
    "duration": 195,
    "start_time": "2022-03-12T12:21:23.008Z"
   },
   {
    "duration": 273,
    "start_time": "2022-03-12T12:21:42.071Z"
   },
   {
    "duration": 196,
    "start_time": "2022-03-12T12:21:49.494Z"
   },
   {
    "duration": 14,
    "start_time": "2022-03-12T12:22:34.850Z"
   },
   {
    "duration": 23,
    "start_time": "2022-03-12T12:23:45.201Z"
   },
   {
    "duration": 25,
    "start_time": "2022-03-12T12:24:15.156Z"
   },
   {
    "duration": 17,
    "start_time": "2022-03-12T12:24:26.932Z"
   },
   {
    "duration": 183,
    "start_time": "2022-03-12T12:24:54.820Z"
   },
   {
    "duration": 435,
    "start_time": "2022-03-12T12:25:31.851Z"
   },
   {
    "duration": 184,
    "start_time": "2022-03-12T12:25:41.363Z"
   },
   {
    "duration": 189,
    "start_time": "2022-03-12T12:25:50.906Z"
   },
   {
    "duration": 277,
    "start_time": "2022-03-12T12:26:06.875Z"
   },
   {
    "duration": 281,
    "start_time": "2022-03-12T12:26:22.860Z"
   },
   {
    "duration": 3687,
    "start_time": "2022-03-12T12:26:59.846Z"
   },
   {
    "duration": 267,
    "start_time": "2022-03-12T12:27:17.454Z"
   },
   {
    "duration": 220,
    "start_time": "2022-03-12T12:30:07.975Z"
   },
   {
    "duration": 3292,
    "start_time": "2022-03-12T12:30:33.288Z"
   },
   {
    "duration": 3135,
    "start_time": "2022-03-12T12:30:46.776Z"
   },
   {
    "duration": 149,
    "start_time": "2022-03-12T12:30:56.140Z"
   },
   {
    "duration": 299,
    "start_time": "2022-03-12T12:31:01.456Z"
   },
   {
    "duration": 210,
    "start_time": "2022-03-12T12:31:07.320Z"
   },
   {
    "duration": 8,
    "start_time": "2022-03-12T12:31:14.915Z"
   },
   {
    "duration": 148,
    "start_time": "2022-03-12T12:34:12.547Z"
   },
   {
    "duration": 3401,
    "start_time": "2022-03-12T12:34:30.235Z"
   },
   {
    "duration": 3170,
    "start_time": "2022-03-12T12:35:09.491Z"
   },
   {
    "duration": 3627,
    "start_time": "2022-03-12T12:35:16.587Z"
   },
   {
    "duration": 251,
    "start_time": "2022-03-12T12:38:55.272Z"
   },
   {
    "duration": 388,
    "start_time": "2022-03-12T12:41:14.114Z"
   },
   {
    "duration": 258,
    "start_time": "2022-03-12T12:42:21.309Z"
   },
   {
    "duration": 256,
    "start_time": "2022-03-12T12:42:31.810Z"
   },
   {
    "duration": 262,
    "start_time": "2022-03-12T12:43:17.996Z"
   },
   {
    "duration": 412,
    "start_time": "2022-03-12T12:43:48.932Z"
   },
   {
    "duration": 400,
    "start_time": "2022-03-12T12:44:32.579Z"
   },
   {
    "duration": 395,
    "start_time": "2022-03-12T12:44:40.268Z"
   },
   {
    "duration": 265,
    "start_time": "2022-03-12T12:44:47.459Z"
   },
   {
    "duration": 386,
    "start_time": "2022-03-12T12:46:20.309Z"
   },
   {
    "duration": 268,
    "start_time": "2022-03-12T12:46:35.564Z"
   },
   {
    "duration": 265,
    "start_time": "2022-03-12T12:47:30.565Z"
   },
   {
    "duration": 281,
    "start_time": "2022-03-12T12:54:12.115Z"
   },
   {
    "duration": 274,
    "start_time": "2022-03-12T12:55:26.607Z"
   },
   {
    "duration": 265,
    "start_time": "2022-03-12T12:55:37.048Z"
   },
   {
    "duration": 289,
    "start_time": "2022-03-12T12:56:39.145Z"
   },
   {
    "duration": 333,
    "start_time": "2022-03-12T12:56:50.734Z"
   },
   {
    "duration": 353,
    "start_time": "2022-03-12T12:57:09.846Z"
   },
   {
    "duration": 365,
    "start_time": "2022-03-12T12:57:41.503Z"
   },
   {
    "duration": 253,
    "start_time": "2022-03-12T12:58:23.858Z"
   },
   {
    "duration": 418,
    "start_time": "2022-03-12T12:59:04.347Z"
   },
   {
    "duration": 891,
    "start_time": "2022-03-12T17:11:20.652Z"
   },
   {
    "duration": 12,
    "start_time": "2022-03-12T17:11:21.547Z"
   },
   {
    "duration": 23,
    "start_time": "2022-03-12T17:11:21.562Z"
   },
   {
    "duration": 8,
    "start_time": "2022-03-12T17:11:21.588Z"
   },
   {
    "duration": 20,
    "start_time": "2022-03-12T17:11:21.598Z"
   },
   {
    "duration": 61,
    "start_time": "2022-03-12T17:11:21.620Z"
   },
   {
    "duration": 35,
    "start_time": "2022-03-12T17:11:21.684Z"
   },
   {
    "duration": 13,
    "start_time": "2022-03-12T17:11:21.723Z"
   },
   {
    "duration": 65,
    "start_time": "2022-03-12T17:11:21.739Z"
   },
   {
    "duration": 21,
    "start_time": "2022-03-12T17:11:21.808Z"
   },
   {
    "duration": 56,
    "start_time": "2022-03-12T17:11:21.832Z"
   },
   {
    "duration": 448,
    "start_time": "2022-03-12T17:11:21.890Z"
   },
   {
    "duration": 426,
    "start_time": "2022-03-12T17:11:22.340Z"
   },
   {
    "duration": 24,
    "start_time": "2022-03-12T17:11:22.769Z"
   },
   {
    "duration": 673,
    "start_time": "2022-03-12T17:11:22.795Z"
   },
   {
    "duration": 7,
    "start_time": "2022-03-12T17:11:23.473Z"
   },
   {
    "duration": 29,
    "start_time": "2022-03-12T17:11:23.482Z"
   },
   {
    "duration": 59,
    "start_time": "2022-03-12T17:11:23.514Z"
   },
   {
    "duration": 669,
    "start_time": "2022-03-12T17:11:23.576Z"
   },
   {
    "duration": 28,
    "start_time": "2022-03-12T17:11:24.247Z"
   },
   {
    "duration": 499,
    "start_time": "2022-03-12T17:11:24.277Z"
   },
   {
    "duration": 505,
    "start_time": "2022-03-12T17:11:24.779Z"
   },
   {
    "duration": 406,
    "start_time": "2022-03-12T17:11:25.291Z"
   },
   {
    "duration": 421,
    "start_time": "2022-03-12T17:11:25.700Z"
   },
   {
    "duration": 436,
    "start_time": "2022-03-12T17:11:26.124Z"
   },
   {
    "duration": 412,
    "start_time": "2022-03-12T17:11:26.563Z"
   },
   {
    "duration": 416,
    "start_time": "2022-03-12T17:11:26.978Z"
   },
   {
    "duration": 44,
    "start_time": "2022-03-12T17:11:27.397Z"
   },
   {
    "duration": 49,
    "start_time": "2022-03-12T17:11:27.444Z"
   },
   {
    "duration": 22,
    "start_time": "2022-03-12T17:11:27.496Z"
   },
   {
    "duration": 54,
    "start_time": "2022-03-12T17:11:27.521Z"
   },
   {
    "duration": 19,
    "start_time": "2022-03-12T17:11:27.579Z"
   },
   {
    "duration": 20,
    "start_time": "2022-03-12T17:11:27.601Z"
   },
   {
    "duration": 57,
    "start_time": "2022-03-12T17:11:27.623Z"
   },
   {
    "duration": 24,
    "start_time": "2022-03-12T17:11:27.682Z"
   },
   {
    "duration": 20,
    "start_time": "2022-03-12T17:11:27.709Z"
   },
   {
    "duration": 45,
    "start_time": "2022-03-12T17:11:27.732Z"
   },
   {
    "duration": 566,
    "start_time": "2022-03-12T17:11:27.780Z"
   },
   {
    "duration": 660,
    "start_time": "2022-03-12T17:11:28.349Z"
   },
   {
    "duration": 427,
    "start_time": "2022-03-12T17:11:29.011Z"
   },
   {
    "duration": 496,
    "start_time": "2022-03-12T17:23:43.507Z"
   },
   {
    "duration": 21,
    "start_time": "2022-03-12T17:24:37.722Z"
   },
   {
    "duration": 34,
    "start_time": "2022-03-12T17:24:52.234Z"
   },
   {
    "duration": 36,
    "start_time": "2022-03-12T17:25:06.396Z"
   },
   {
    "duration": 530,
    "start_time": "2022-03-12T17:26:35.963Z"
   },
   {
    "duration": 22,
    "start_time": "2022-03-12T17:26:50.149Z"
   },
   {
    "duration": 318,
    "start_time": "2022-03-12T17:28:57.503Z"
   },
   {
    "duration": 524,
    "start_time": "2022-03-12T17:29:22.335Z"
   },
   {
    "duration": 22,
    "start_time": "2022-03-12T17:29:32.222Z"
   },
   {
    "duration": 22,
    "start_time": "2022-03-12T17:30:52.472Z"
   },
   {
    "duration": 6,
    "start_time": "2022-03-12T17:31:22.128Z"
   },
   {
    "duration": 9,
    "start_time": "2022-03-12T17:31:30.792Z"
   },
   {
    "duration": 26,
    "start_time": "2022-03-12T17:38:52.103Z"
   },
   {
    "duration": 8,
    "start_time": "2022-03-12T17:39:27.551Z"
   },
   {
    "duration": 298,
    "start_time": "2022-03-12T17:43:27.201Z"
   },
   {
    "duration": 308,
    "start_time": "2022-03-12T17:43:54.467Z"
   },
   {
    "duration": 12,
    "start_time": "2022-03-12T17:58:39.403Z"
   },
   {
    "duration": 10,
    "start_time": "2022-03-12T18:00:16.967Z"
   },
   {
    "duration": 848,
    "start_time": "2022-03-12T18:01:33.697Z"
   },
   {
    "duration": 25,
    "start_time": "2022-03-12T18:01:34.548Z"
   },
   {
    "duration": 14,
    "start_time": "2022-03-12T18:01:34.577Z"
   },
   {
    "duration": 8,
    "start_time": "2022-03-12T18:01:34.594Z"
   },
   {
    "duration": 28,
    "start_time": "2022-03-12T18:01:34.605Z"
   },
   {
    "duration": 64,
    "start_time": "2022-03-12T18:01:34.636Z"
   },
   {
    "duration": 36,
    "start_time": "2022-03-12T18:01:34.702Z"
   },
   {
    "duration": 34,
    "start_time": "2022-03-12T18:01:34.741Z"
   },
   {
    "duration": 52,
    "start_time": "2022-03-12T18:01:34.781Z"
   },
   {
    "duration": 39,
    "start_time": "2022-03-12T18:01:34.836Z"
   },
   {
    "duration": 21,
    "start_time": "2022-03-12T18:01:34.878Z"
   },
   {
    "duration": 476,
    "start_time": "2022-03-12T18:01:34.901Z"
   },
   {
    "duration": 411,
    "start_time": "2022-03-12T18:01:35.380Z"
   },
   {
    "duration": 26,
    "start_time": "2022-03-12T18:01:35.793Z"
   },
   {
    "duration": 652,
    "start_time": "2022-03-12T18:01:35.821Z"
   },
   {
    "duration": 7,
    "start_time": "2022-03-12T18:01:36.476Z"
   },
   {
    "duration": 30,
    "start_time": "2022-03-12T18:01:36.486Z"
   },
   {
    "duration": 57,
    "start_time": "2022-03-12T18:01:36.518Z"
   },
   {
    "duration": 633,
    "start_time": "2022-03-12T18:01:36.577Z"
   },
   {
    "duration": 22,
    "start_time": "2022-03-12T18:01:37.212Z"
   },
   {
    "duration": 669,
    "start_time": "2022-03-12T18:01:37.237Z"
   },
   {
    "duration": 492,
    "start_time": "2022-03-12T18:01:37.908Z"
   },
   {
    "duration": 401,
    "start_time": "2022-03-12T18:01:38.403Z"
   },
   {
    "duration": 418,
    "start_time": "2022-03-12T18:01:38.806Z"
   },
   {
    "duration": 432,
    "start_time": "2022-03-12T18:01:39.226Z"
   },
   {
    "duration": 418,
    "start_time": "2022-03-12T18:01:39.660Z"
   },
   {
    "duration": 428,
    "start_time": "2022-03-12T18:01:40.084Z"
   },
   {
    "duration": 61,
    "start_time": "2022-03-12T18:01:40.514Z"
   },
   {
    "duration": 22,
    "start_time": "2022-03-12T18:01:40.577Z"
   },
   {
    "duration": 31,
    "start_time": "2022-03-12T18:01:40.602Z"
   },
   {
    "duration": 51,
    "start_time": "2022-03-12T18:01:40.636Z"
   },
   {
    "duration": 20,
    "start_time": "2022-03-12T18:01:40.689Z"
   },
   {
    "duration": 37,
    "start_time": "2022-03-12T18:01:40.712Z"
   },
   {
    "duration": 37,
    "start_time": "2022-03-12T18:01:40.751Z"
   },
   {
    "duration": 53,
    "start_time": "2022-03-12T18:01:40.791Z"
   },
   {
    "duration": 32,
    "start_time": "2022-03-12T18:01:40.846Z"
   },
   {
    "duration": 32,
    "start_time": "2022-03-12T18:01:40.881Z"
   },
   {
    "duration": 582,
    "start_time": "2022-03-12T18:01:40.916Z"
   },
   {
    "duration": 619,
    "start_time": "2022-03-12T18:01:41.501Z"
   },
   {
    "duration": 506,
    "start_time": "2022-03-12T18:01:42.122Z"
   },
   {
    "duration": 465,
    "start_time": "2022-03-12T18:01:42.632Z"
   },
   {
    "duration": 13,
    "start_time": "2022-03-12T18:01:43.100Z"
   },
   {
    "duration": 45,
    "start_time": "2022-03-12T18:01:43.116Z"
   },
   {
    "duration": 29,
    "start_time": "2022-03-12T18:01:43.164Z"
   },
   {
    "duration": 587,
    "start_time": "2022-03-21T17:52:53.086Z"
   },
   {
    "duration": 14,
    "start_time": "2022-03-21T17:52:53.676Z"
   },
   {
    "duration": 31,
    "start_time": "2022-03-21T17:52:53.692Z"
   },
   {
    "duration": 8,
    "start_time": "2022-03-21T17:52:53.726Z"
   },
   {
    "duration": 61,
    "start_time": "2022-03-21T17:52:53.736Z"
   },
   {
    "duration": 55,
    "start_time": "2022-03-21T17:52:53.800Z"
   },
   {
    "duration": 39,
    "start_time": "2022-03-21T17:52:53.858Z"
   },
   {
    "duration": 22,
    "start_time": "2022-03-21T17:52:53.899Z"
   },
   {
    "duration": 22,
    "start_time": "2022-03-21T17:52:53.924Z"
   },
   {
    "duration": 123,
    "start_time": "2022-03-21T17:52:53.983Z"
   },
   {
    "duration": 0,
    "start_time": "2022-03-21T17:52:54.109Z"
   },
   {
    "duration": 0,
    "start_time": "2022-03-21T17:52:54.110Z"
   },
   {
    "duration": 0,
    "start_time": "2022-03-21T17:52:54.112Z"
   },
   {
    "duration": 0,
    "start_time": "2022-03-21T17:52:54.113Z"
   },
   {
    "duration": 0,
    "start_time": "2022-03-21T17:52:54.115Z"
   },
   {
    "duration": 0,
    "start_time": "2022-03-21T17:52:54.117Z"
   },
   {
    "duration": 0,
    "start_time": "2022-03-21T17:52:54.118Z"
   },
   {
    "duration": 0,
    "start_time": "2022-03-21T17:52:54.119Z"
   },
   {
    "duration": 0,
    "start_time": "2022-03-21T17:52:54.121Z"
   },
   {
    "duration": 0,
    "start_time": "2022-03-21T17:52:54.123Z"
   },
   {
    "duration": 0,
    "start_time": "2022-03-21T17:52:54.125Z"
   },
   {
    "duration": 0,
    "start_time": "2022-03-21T17:52:54.126Z"
   },
   {
    "duration": 0,
    "start_time": "2022-03-21T17:52:54.128Z"
   },
   {
    "duration": 0,
    "start_time": "2022-03-21T17:52:54.130Z"
   },
   {
    "duration": 0,
    "start_time": "2022-03-21T17:52:54.132Z"
   },
   {
    "duration": 0,
    "start_time": "2022-03-21T17:52:54.134Z"
   },
   {
    "duration": 0,
    "start_time": "2022-03-21T17:52:54.136Z"
   },
   {
    "duration": 0,
    "start_time": "2022-03-21T17:52:54.184Z"
   },
   {
    "duration": 0,
    "start_time": "2022-03-21T17:52:54.186Z"
   },
   {
    "duration": 0,
    "start_time": "2022-03-21T17:52:54.188Z"
   },
   {
    "duration": 0,
    "start_time": "2022-03-21T17:52:54.190Z"
   },
   {
    "duration": 0,
    "start_time": "2022-03-21T17:52:54.192Z"
   },
   {
    "duration": 0,
    "start_time": "2022-03-21T17:52:54.193Z"
   },
   {
    "duration": 0,
    "start_time": "2022-03-21T17:52:54.196Z"
   },
   {
    "duration": 0,
    "start_time": "2022-03-21T17:52:54.198Z"
   },
   {
    "duration": 0,
    "start_time": "2022-03-21T17:52:54.200Z"
   },
   {
    "duration": 0,
    "start_time": "2022-03-21T17:52:54.201Z"
   },
   {
    "duration": 0,
    "start_time": "2022-03-21T17:52:54.203Z"
   },
   {
    "duration": 0,
    "start_time": "2022-03-21T17:52:54.204Z"
   },
   {
    "duration": 0,
    "start_time": "2022-03-21T17:52:54.205Z"
   },
   {
    "duration": 0,
    "start_time": "2022-03-21T17:52:54.207Z"
   },
   {
    "duration": 0,
    "start_time": "2022-03-21T17:52:54.208Z"
   },
   {
    "duration": 0,
    "start_time": "2022-03-21T17:52:54.209Z"
   },
   {
    "duration": 0,
    "start_time": "2022-03-21T17:52:54.210Z"
   },
   {
    "duration": 32,
    "start_time": "2022-03-21T18:00:48.506Z"
   },
   {
    "duration": 631,
    "start_time": "2022-03-21T18:01:32.054Z"
   },
   {
    "duration": 13,
    "start_time": "2022-03-21T18:01:32.688Z"
   },
   {
    "duration": 20,
    "start_time": "2022-03-21T18:01:32.703Z"
   },
   {
    "duration": 7,
    "start_time": "2022-03-21T18:01:32.726Z"
   },
   {
    "duration": 57,
    "start_time": "2022-03-21T18:01:32.736Z"
   },
   {
    "duration": 36,
    "start_time": "2022-03-21T18:01:32.795Z"
   },
   {
    "duration": 17,
    "start_time": "2022-03-21T18:01:32.834Z"
   },
   {
    "duration": 35,
    "start_time": "2022-03-21T18:01:32.853Z"
   },
   {
    "duration": 18,
    "start_time": "2022-03-21T18:01:32.891Z"
   },
   {
    "duration": 18,
    "start_time": "2022-03-21T18:01:32.913Z"
   },
   {
    "duration": 159,
    "start_time": "2022-03-21T18:01:32.933Z"
   },
   {
    "duration": 0,
    "start_time": "2022-03-21T18:01:33.096Z"
   },
   {
    "duration": 0,
    "start_time": "2022-03-21T18:01:33.098Z"
   },
   {
    "duration": 0,
    "start_time": "2022-03-21T18:01:33.100Z"
   },
   {
    "duration": 0,
    "start_time": "2022-03-21T18:01:33.102Z"
   },
   {
    "duration": 0,
    "start_time": "2022-03-21T18:01:33.104Z"
   },
   {
    "duration": 0,
    "start_time": "2022-03-21T18:01:33.106Z"
   },
   {
    "duration": 0,
    "start_time": "2022-03-21T18:01:33.107Z"
   },
   {
    "duration": 0,
    "start_time": "2022-03-21T18:01:33.109Z"
   },
   {
    "duration": 0,
    "start_time": "2022-03-21T18:01:33.110Z"
   },
   {
    "duration": 0,
    "start_time": "2022-03-21T18:01:33.112Z"
   },
   {
    "duration": 0,
    "start_time": "2022-03-21T18:01:33.113Z"
   },
   {
    "duration": 0,
    "start_time": "2022-03-21T18:01:33.115Z"
   },
   {
    "duration": 0,
    "start_time": "2022-03-21T18:01:33.116Z"
   },
   {
    "duration": 0,
    "start_time": "2022-03-21T18:01:33.118Z"
   },
   {
    "duration": 0,
    "start_time": "2022-03-21T18:01:33.119Z"
   },
   {
    "duration": 0,
    "start_time": "2022-03-21T18:01:33.121Z"
   },
   {
    "duration": 0,
    "start_time": "2022-03-21T18:01:33.123Z"
   },
   {
    "duration": 0,
    "start_time": "2022-03-21T18:01:33.124Z"
   },
   {
    "duration": 0,
    "start_time": "2022-03-21T18:01:33.126Z"
   },
   {
    "duration": 0,
    "start_time": "2022-03-21T18:01:33.127Z"
   },
   {
    "duration": 0,
    "start_time": "2022-03-21T18:01:33.129Z"
   },
   {
    "duration": 0,
    "start_time": "2022-03-21T18:01:33.130Z"
   },
   {
    "duration": 0,
    "start_time": "2022-03-21T18:01:33.185Z"
   },
   {
    "duration": 0,
    "start_time": "2022-03-21T18:01:33.187Z"
   },
   {
    "duration": 0,
    "start_time": "2022-03-21T18:01:33.189Z"
   },
   {
    "duration": 0,
    "start_time": "2022-03-21T18:01:33.190Z"
   },
   {
    "duration": 0,
    "start_time": "2022-03-21T18:01:33.192Z"
   },
   {
    "duration": 0,
    "start_time": "2022-03-21T18:01:33.193Z"
   },
   {
    "duration": 0,
    "start_time": "2022-03-21T18:01:33.195Z"
   },
   {
    "duration": 0,
    "start_time": "2022-03-21T18:01:33.196Z"
   },
   {
    "duration": 0,
    "start_time": "2022-03-21T18:01:33.202Z"
   },
   {
    "duration": 0,
    "start_time": "2022-03-21T18:01:33.204Z"
   },
   {
    "duration": 0,
    "start_time": "2022-03-21T18:01:33.205Z"
   },
   {
    "duration": 0,
    "start_time": "2022-03-21T18:01:33.207Z"
   },
   {
    "duration": 25,
    "start_time": "2022-03-21T18:01:56.881Z"
   },
   {
    "duration": 7,
    "start_time": "2022-03-21T18:02:22.483Z"
   },
   {
    "duration": 12,
    "start_time": "2022-03-21T18:02:30.068Z"
   },
   {
    "duration": 8,
    "start_time": "2022-03-21T18:02:34.254Z"
   },
   {
    "duration": 324,
    "start_time": "2022-03-21T18:03:11.787Z"
   },
   {
    "duration": 484,
    "start_time": "2022-03-21T18:03:12.115Z"
   },
   {
    "duration": 17,
    "start_time": "2022-03-21T18:03:12.603Z"
   },
   {
    "duration": 23,
    "start_time": "2022-03-21T18:03:12.624Z"
   },
   {
    "duration": 35,
    "start_time": "2022-03-21T18:03:12.650Z"
   },
   {
    "duration": 21,
    "start_time": "2022-03-21T18:03:12.688Z"
   },
   {
    "duration": 37,
    "start_time": "2022-03-21T18:03:12.711Z"
   },
   {
    "duration": 43,
    "start_time": "2022-03-21T18:03:12.751Z"
   },
   {
    "duration": 21,
    "start_time": "2022-03-21T18:03:12.797Z"
   },
   {
    "duration": 20,
    "start_time": "2022-03-21T18:03:12.823Z"
   },
   {
    "duration": 50,
    "start_time": "2022-03-21T18:03:12.846Z"
   },
   {
    "duration": 129,
    "start_time": "2022-03-21T18:03:12.898Z"
   },
   {
    "duration": 0,
    "start_time": "2022-03-21T18:03:13.030Z"
   },
   {
    "duration": 0,
    "start_time": "2022-03-21T18:03:13.032Z"
   },
   {
    "duration": 1,
    "start_time": "2022-03-21T18:03:13.033Z"
   },
   {
    "duration": 0,
    "start_time": "2022-03-21T18:03:13.035Z"
   },
   {
    "duration": 0,
    "start_time": "2022-03-21T18:03:13.037Z"
   },
   {
    "duration": 0,
    "start_time": "2022-03-21T18:03:13.038Z"
   },
   {
    "duration": 0,
    "start_time": "2022-03-21T18:03:13.039Z"
   },
   {
    "duration": 0,
    "start_time": "2022-03-21T18:03:13.041Z"
   },
   {
    "duration": 0,
    "start_time": "2022-03-21T18:03:13.043Z"
   },
   {
    "duration": 0,
    "start_time": "2022-03-21T18:03:13.045Z"
   },
   {
    "duration": 0,
    "start_time": "2022-03-21T18:03:13.047Z"
   },
   {
    "duration": 0,
    "start_time": "2022-03-21T18:03:13.048Z"
   },
   {
    "duration": 0,
    "start_time": "2022-03-21T18:03:13.049Z"
   },
   {
    "duration": 0,
    "start_time": "2022-03-21T18:03:13.052Z"
   },
   {
    "duration": 0,
    "start_time": "2022-03-21T18:03:13.083Z"
   },
   {
    "duration": 0,
    "start_time": "2022-03-21T18:03:13.085Z"
   },
   {
    "duration": 0,
    "start_time": "2022-03-21T18:03:13.087Z"
   },
   {
    "duration": 0,
    "start_time": "2022-03-21T18:03:13.090Z"
   },
   {
    "duration": 0,
    "start_time": "2022-03-21T18:03:13.092Z"
   },
   {
    "duration": 0,
    "start_time": "2022-03-21T18:03:13.094Z"
   },
   {
    "duration": 0,
    "start_time": "2022-03-21T18:03:13.096Z"
   },
   {
    "duration": 0,
    "start_time": "2022-03-21T18:03:13.098Z"
   },
   {
    "duration": 0,
    "start_time": "2022-03-21T18:03:13.099Z"
   },
   {
    "duration": 0,
    "start_time": "2022-03-21T18:03:13.102Z"
   },
   {
    "duration": 0,
    "start_time": "2022-03-21T18:03:13.104Z"
   },
   {
    "duration": 0,
    "start_time": "2022-03-21T18:03:13.109Z"
   },
   {
    "duration": 0,
    "start_time": "2022-03-21T18:03:13.110Z"
   },
   {
    "duration": 0,
    "start_time": "2022-03-21T18:03:13.112Z"
   },
   {
    "duration": 0,
    "start_time": "2022-03-21T18:03:13.113Z"
   },
   {
    "duration": 0,
    "start_time": "2022-03-21T18:03:13.115Z"
   },
   {
    "duration": 0,
    "start_time": "2022-03-21T18:03:13.116Z"
   },
   {
    "duration": 0,
    "start_time": "2022-03-21T18:03:13.183Z"
   },
   {
    "duration": 0,
    "start_time": "2022-03-21T18:03:13.186Z"
   },
   {
    "duration": 0,
    "start_time": "2022-03-21T18:03:13.188Z"
   },
   {
    "duration": 7,
    "start_time": "2022-03-21T18:03:51.851Z"
   },
   {
    "duration": 22,
    "start_time": "2022-03-21T18:04:27.819Z"
   },
   {
    "duration": 588,
    "start_time": "2022-03-21T18:04:54.497Z"
   },
   {
    "duration": 15,
    "start_time": "2022-03-21T18:04:55.089Z"
   },
   {
    "duration": 21,
    "start_time": "2022-03-21T18:04:55.106Z"
   },
   {
    "duration": 6,
    "start_time": "2022-03-21T18:04:55.131Z"
   },
   {
    "duration": 59,
    "start_time": "2022-03-21T18:04:55.139Z"
   },
   {
    "duration": 34,
    "start_time": "2022-03-21T18:04:55.200Z"
   },
   {
    "duration": 10,
    "start_time": "2022-03-21T18:04:55.237Z"
   },
   {
    "duration": 44,
    "start_time": "2022-03-21T18:04:55.250Z"
   },
   {
    "duration": 22,
    "start_time": "2022-03-21T18:04:55.296Z"
   },
   {
    "duration": 8,
    "start_time": "2022-03-21T18:04:55.321Z"
   },
   {
    "duration": 55,
    "start_time": "2022-03-21T18:04:55.331Z"
   },
   {
    "duration": 22,
    "start_time": "2022-03-21T18:04:55.390Z"
   },
   {
    "duration": 911,
    "start_time": "2022-03-21T18:04:55.416Z"
   },
   {
    "duration": 315,
    "start_time": "2022-03-21T18:04:56.331Z"
   },
   {
    "duration": 44,
    "start_time": "2022-03-21T18:04:56.649Z"
   },
   {
    "duration": 625,
    "start_time": "2022-03-21T18:04:56.696Z"
   },
   {
    "duration": 11,
    "start_time": "2022-03-21T18:04:57.324Z"
   },
   {
    "duration": 38,
    "start_time": "2022-03-21T18:04:57.338Z"
   },
   {
    "duration": 25,
    "start_time": "2022-03-21T18:04:57.378Z"
   },
   {
    "duration": 890,
    "start_time": "2022-03-21T18:04:57.405Z"
   },
   {
    "duration": 32,
    "start_time": "2022-03-21T18:04:58.298Z"
   },
   {
    "duration": 375,
    "start_time": "2022-03-21T18:04:58.333Z"
   },
   {
    "duration": 249,
    "start_time": "2022-03-21T18:04:58.710Z"
   },
   {
    "duration": 418,
    "start_time": "2022-03-21T18:04:58.961Z"
   },
   {
    "duration": 0,
    "start_time": "2022-03-21T18:04:59.382Z"
   },
   {
    "duration": 0,
    "start_time": "2022-03-21T18:04:59.384Z"
   },
   {
    "duration": 0,
    "start_time": "2022-03-21T18:04:59.385Z"
   },
   {
    "duration": 1,
    "start_time": "2022-03-21T18:04:59.387Z"
   },
   {
    "duration": 0,
    "start_time": "2022-03-21T18:04:59.389Z"
   },
   {
    "duration": 0,
    "start_time": "2022-03-21T18:04:59.391Z"
   },
   {
    "duration": 0,
    "start_time": "2022-03-21T18:04:59.393Z"
   },
   {
    "duration": 0,
    "start_time": "2022-03-21T18:04:59.394Z"
   },
   {
    "duration": 0,
    "start_time": "2022-03-21T18:04:59.396Z"
   },
   {
    "duration": 0,
    "start_time": "2022-03-21T18:04:59.398Z"
   },
   {
    "duration": 0,
    "start_time": "2022-03-21T18:04:59.400Z"
   },
   {
    "duration": 0,
    "start_time": "2022-03-21T18:04:59.402Z"
   },
   {
    "duration": 0,
    "start_time": "2022-03-21T18:04:59.404Z"
   },
   {
    "duration": 0,
    "start_time": "2022-03-21T18:04:59.406Z"
   },
   {
    "duration": 0,
    "start_time": "2022-03-21T18:04:59.408Z"
   },
   {
    "duration": 0,
    "start_time": "2022-03-21T18:04:59.410Z"
   },
   {
    "duration": 0,
    "start_time": "2022-03-21T18:04:59.412Z"
   },
   {
    "duration": 0,
    "start_time": "2022-03-21T18:04:59.414Z"
   },
   {
    "duration": 0,
    "start_time": "2022-03-21T18:04:59.416Z"
   },
   {
    "duration": 0,
    "start_time": "2022-03-21T18:04:59.418Z"
   },
   {
    "duration": 0,
    "start_time": "2022-03-21T18:04:59.420Z"
   },
   {
    "duration": 579,
    "start_time": "2022-03-21T18:13:41.445Z"
   },
   {
    "duration": 488,
    "start_time": "2022-03-21T18:13:56.775Z"
   },
   {
    "duration": 35,
    "start_time": "2022-03-21T18:14:28.068Z"
   },
   {
    "duration": 236,
    "start_time": "2022-03-21T18:14:57.250Z"
   },
   {
    "duration": 344,
    "start_time": "2022-03-21T18:15:52.019Z"
   },
   {
    "duration": 201,
    "start_time": "2022-03-21T18:17:09.744Z"
   },
   {
    "duration": 340,
    "start_time": "2022-03-21T18:17:11.994Z"
   },
   {
    "duration": 325,
    "start_time": "2022-03-21T18:17:16.880Z"
   },
   {
    "duration": 696,
    "start_time": "2022-03-21T18:18:35.789Z"
   },
   {
    "duration": 15,
    "start_time": "2022-03-21T18:18:53.758Z"
   },
   {
    "duration": 13,
    "start_time": "2022-03-21T18:18:59.292Z"
   },
   {
    "duration": 12,
    "start_time": "2022-03-21T18:19:04.192Z"
   },
   {
    "duration": 25,
    "start_time": "2022-03-21T18:19:07.839Z"
   },
   {
    "duration": 36,
    "start_time": "2022-03-21T18:19:20.098Z"
   },
   {
    "duration": 489,
    "start_time": "2022-03-21T18:19:30.117Z"
   },
   {
    "duration": 374,
    "start_time": "2022-03-21T18:19:42.601Z"
   },
   {
    "duration": 44,
    "start_time": "2022-03-21T18:19:56.144Z"
   },
   {
    "duration": 24,
    "start_time": "2022-03-21T18:19:57.491Z"
   },
   {
    "duration": 21,
    "start_time": "2022-03-21T18:21:17.982Z"
   },
   {
    "duration": 21,
    "start_time": "2022-03-21T18:21:19.771Z"
   },
   {
    "duration": 19,
    "start_time": "2022-03-21T18:21:21.736Z"
   },
   {
    "duration": 21,
    "start_time": "2022-03-21T18:21:29.629Z"
   },
   {
    "duration": 21,
    "start_time": "2022-03-21T18:21:30.906Z"
   },
   {
    "duration": 21,
    "start_time": "2022-03-21T18:21:33.474Z"
   },
   {
    "duration": 20,
    "start_time": "2022-03-21T18:21:35.900Z"
   },
   {
    "duration": 19,
    "start_time": "2022-03-21T18:21:37.379Z"
   },
   {
    "duration": 451,
    "start_time": "2022-03-21T18:21:41.289Z"
   },
   {
    "duration": 451,
    "start_time": "2022-03-21T18:21:44.231Z"
   },
   {
    "duration": 352,
    "start_time": "2022-03-21T18:21:46.448Z"
   },
   {
    "duration": 7,
    "start_time": "2022-03-21T18:24:58.902Z"
   },
   {
    "duration": 124,
    "start_time": "2022-03-21T18:25:34.124Z"
   },
   {
    "duration": 28,
    "start_time": "2022-03-21T18:25:38.861Z"
   },
   {
    "duration": 31,
    "start_time": "2022-03-21T18:25:46.145Z"
   },
   {
    "duration": 104,
    "start_time": "2022-03-21T18:26:45.507Z"
   },
   {
    "duration": 630,
    "start_time": "2022-03-21T18:26:53.056Z"
   },
   {
    "duration": 776,
    "start_time": "2022-03-21T18:27:12.501Z"
   },
   {
    "duration": 18,
    "start_time": "2022-03-21T18:27:54.388Z"
   },
   {
    "duration": 10,
    "start_time": "2022-03-21T18:27:56.152Z"
   },
   {
    "duration": 21,
    "start_time": "2022-03-21T18:30:51.145Z"
   },
   {
    "duration": 12,
    "start_time": "2022-03-21T18:30:55.797Z"
   },
   {
    "duration": 514,
    "start_time": "2022-03-24T10:17:34.541Z"
   },
   {
    "duration": 11,
    "start_time": "2022-03-24T10:17:35.057Z"
   },
   {
    "duration": 37,
    "start_time": "2022-03-24T10:17:35.069Z"
   },
   {
    "duration": 32,
    "start_time": "2022-03-24T10:17:35.108Z"
   },
   {
    "duration": 28,
    "start_time": "2022-03-24T10:17:35.142Z"
   },
   {
    "duration": 55,
    "start_time": "2022-03-24T10:17:35.171Z"
   },
   {
    "duration": 17,
    "start_time": "2022-03-24T10:17:35.228Z"
   },
   {
    "duration": 40,
    "start_time": "2022-03-24T10:17:35.247Z"
   },
   {
    "duration": 32,
    "start_time": "2022-03-24T10:17:35.288Z"
   },
   {
    "duration": 41,
    "start_time": "2022-03-24T10:17:35.323Z"
   },
   {
    "duration": 33,
    "start_time": "2022-03-24T10:17:35.365Z"
   },
   {
    "duration": 649,
    "start_time": "2022-03-24T10:17:35.400Z"
   },
   {
    "duration": 211,
    "start_time": "2022-03-24T10:17:36.051Z"
   },
   {
    "duration": 17,
    "start_time": "2022-03-24T10:17:36.264Z"
   },
   {
    "duration": 429,
    "start_time": "2022-03-24T10:17:36.283Z"
   },
   {
    "duration": 7,
    "start_time": "2022-03-24T10:17:36.714Z"
   },
   {
    "duration": 45,
    "start_time": "2022-03-24T10:17:36.722Z"
   },
   {
    "duration": 33,
    "start_time": "2022-03-24T10:17:36.769Z"
   },
   {
    "duration": 394,
    "start_time": "2022-03-24T10:17:36.804Z"
   },
   {
    "duration": 17,
    "start_time": "2022-03-24T10:17:37.200Z"
   },
   {
    "duration": 236,
    "start_time": "2022-03-24T10:17:37.231Z"
   },
   {
    "duration": 165,
    "start_time": "2022-03-24T10:17:37.469Z"
   },
   {
    "duration": 494,
    "start_time": "2022-03-24T10:17:37.635Z"
   },
   {
    "duration": 0,
    "start_time": "2022-03-24T10:17:38.131Z"
   },
   {
    "duration": 0,
    "start_time": "2022-03-24T10:17:38.133Z"
   },
   {
    "duration": 0,
    "start_time": "2022-03-24T10:17:38.134Z"
   },
   {
    "duration": 0,
    "start_time": "2022-03-24T10:17:38.135Z"
   },
   {
    "duration": 0,
    "start_time": "2022-03-24T10:17:38.136Z"
   },
   {
    "duration": 0,
    "start_time": "2022-03-24T10:17:38.138Z"
   },
   {
    "duration": 0,
    "start_time": "2022-03-24T10:17:38.139Z"
   },
   {
    "duration": 0,
    "start_time": "2022-03-24T10:17:38.140Z"
   },
   {
    "duration": 0,
    "start_time": "2022-03-24T10:17:38.142Z"
   },
   {
    "duration": 0,
    "start_time": "2022-03-24T10:17:38.143Z"
   },
   {
    "duration": 0,
    "start_time": "2022-03-24T10:17:38.144Z"
   },
   {
    "duration": 0,
    "start_time": "2022-03-24T10:17:38.146Z"
   },
   {
    "duration": 0,
    "start_time": "2022-03-24T10:17:38.147Z"
   },
   {
    "duration": 0,
    "start_time": "2022-03-24T10:17:38.148Z"
   },
   {
    "duration": 0,
    "start_time": "2022-03-24T10:17:38.149Z"
   },
   {
    "duration": 0,
    "start_time": "2022-03-24T10:17:38.150Z"
   },
   {
    "duration": 0,
    "start_time": "2022-03-24T10:17:38.151Z"
   },
   {
    "duration": 0,
    "start_time": "2022-03-24T10:17:38.152Z"
   },
   {
    "duration": 0,
    "start_time": "2022-03-24T10:17:38.153Z"
   },
   {
    "duration": 0,
    "start_time": "2022-03-24T10:17:38.154Z"
   },
   {
    "duration": 0,
    "start_time": "2022-03-24T10:17:38.155Z"
   },
   {
    "duration": 17,
    "start_time": "2022-03-24T10:21:35.377Z"
   },
   {
    "duration": 16,
    "start_time": "2022-03-24T10:21:49.289Z"
   },
   {
    "duration": 17,
    "start_time": "2022-03-24T10:22:05.497Z"
   },
   {
    "duration": 16,
    "start_time": "2022-03-24T10:22:11.606Z"
   },
   {
    "duration": 164,
    "start_time": "2022-03-24T10:29:33.338Z"
   },
   {
    "duration": 9,
    "start_time": "2022-03-24T10:30:21.854Z"
   },
   {
    "duration": 154,
    "start_time": "2022-03-24T10:30:49.989Z"
   },
   {
    "duration": 167,
    "start_time": "2022-03-24T10:35:30.650Z"
   },
   {
    "duration": 171,
    "start_time": "2022-03-24T10:35:50.575Z"
   },
   {
    "duration": 252,
    "start_time": "2022-03-24T10:37:19.790Z"
   },
   {
    "duration": 314,
    "start_time": "2022-03-24T10:38:48.603Z"
   },
   {
    "duration": 762,
    "start_time": "2022-03-24T10:40:39.532Z"
   },
   {
    "duration": 147,
    "start_time": "2022-03-24T10:41:28.639Z"
   },
   {
    "duration": 145,
    "start_time": "2022-03-24T10:41:36.619Z"
   },
   {
    "duration": 183,
    "start_time": "2022-03-24T10:42:31.240Z"
   },
   {
    "duration": 179,
    "start_time": "2022-03-24T10:42:57.113Z"
   },
   {
    "duration": 167,
    "start_time": "2022-03-24T10:43:06.941Z"
   },
   {
    "duration": 168,
    "start_time": "2022-03-24T10:43:21.065Z"
   },
   {
    "duration": 132,
    "start_time": "2022-03-24T10:43:35.382Z"
   },
   {
    "duration": 125,
    "start_time": "2022-03-24T10:43:38.861Z"
   },
   {
    "duration": 127,
    "start_time": "2022-03-24T10:43:41.496Z"
   },
   {
    "duration": 133,
    "start_time": "2022-03-24T10:43:43.840Z"
   },
   {
    "duration": 147,
    "start_time": "2022-03-24T10:44:11.786Z"
   },
   {
    "duration": 148,
    "start_time": "2022-03-24T10:44:36.965Z"
   },
   {
    "duration": 159,
    "start_time": "2022-03-24T10:44:56.340Z"
   },
   {
    "duration": 222,
    "start_time": "2022-03-24T10:45:11.681Z"
   },
   {
    "duration": 831,
    "start_time": "2022-03-24T10:45:42.237Z"
   },
   {
    "duration": 29,
    "start_time": "2022-03-24T10:48:02.616Z"
   },
   {
    "duration": 16,
    "start_time": "2022-03-24T10:48:05.380Z"
   },
   {
    "duration": 14,
    "start_time": "2022-03-24T10:48:12.776Z"
   },
   {
    "duration": 14,
    "start_time": "2022-03-24T10:48:15.595Z"
   },
   {
    "duration": 13,
    "start_time": "2022-03-24T10:48:17.944Z"
   },
   {
    "duration": 15,
    "start_time": "2022-03-24T10:48:21.843Z"
   },
   {
    "duration": 13,
    "start_time": "2022-03-24T10:48:25.935Z"
   },
   {
    "duration": 17,
    "start_time": "2022-03-24T10:48:25.950Z"
   },
   {
    "duration": 15,
    "start_time": "2022-03-24T10:48:25.969Z"
   },
   {
    "duration": 14,
    "start_time": "2022-03-24T10:48:25.985Z"
   },
   {
    "duration": 315,
    "start_time": "2022-03-24T10:48:26.001Z"
   },
   {
    "duration": 387,
    "start_time": "2022-03-24T10:48:26.318Z"
   },
   {
    "duration": 215,
    "start_time": "2022-03-24T10:48:26.707Z"
   },
   {
    "duration": 15,
    "start_time": "2022-03-24T10:48:26.925Z"
   },
   {
    "duration": 11,
    "start_time": "2022-03-24T10:48:26.942Z"
   },
   {
    "duration": 15,
    "start_time": "2022-03-24T10:48:26.955Z"
   },
   {
    "duration": 9,
    "start_time": "2022-03-24T10:48:26.972Z"
   },
   {
    "duration": 14,
    "start_time": "2022-03-24T10:49:54.485Z"
   },
   {
    "duration": 15,
    "start_time": "2022-03-24T10:50:02.191Z"
   },
   {
    "duration": 15,
    "start_time": "2022-03-24T10:50:38.072Z"
   },
   {
    "duration": 14,
    "start_time": "2022-03-24T10:50:59.217Z"
   },
   {
    "duration": 14,
    "start_time": "2022-03-24T10:51:05.734Z"
   },
   {
    "duration": 15,
    "start_time": "2022-03-24T10:51:34.844Z"
   },
   {
    "duration": 48,
    "start_time": "2022-03-24T10:51:49.282Z"
   },
   {
    "duration": 13,
    "start_time": "2022-03-24T10:51:56.763Z"
   },
   {
    "duration": 400,
    "start_time": "2022-03-24T10:53:11.069Z"
   },
   {
    "duration": 522,
    "start_time": "2022-03-24T10:53:25.529Z"
   },
   {
    "duration": 400,
    "start_time": "2022-03-24T10:53:36.447Z"
   },
   {
    "duration": 327,
    "start_time": "2022-03-24T10:56:12.285Z"
   },
   {
    "duration": 471,
    "start_time": "2022-03-24T10:56:20.496Z"
   },
   {
    "duration": 395,
    "start_time": "2022-03-24T10:56:27.327Z"
   },
   {
    "duration": 390,
    "start_time": "2022-03-24T10:56:57.776Z"
   },
   {
    "duration": 389,
    "start_time": "2022-03-24T10:57:42.102Z"
   },
   {
    "duration": 387,
    "start_time": "2022-03-24T10:57:53.495Z"
   },
   {
    "duration": 400,
    "start_time": "2022-03-24T10:58:04.882Z"
   },
   {
    "duration": 476,
    "start_time": "2022-03-24T10:58:33.864Z"
   },
   {
    "duration": 13,
    "start_time": "2022-03-24T11:00:15.960Z"
   },
   {
    "duration": 15,
    "start_time": "2022-03-24T11:00:30.868Z"
   },
   {
    "duration": 14,
    "start_time": "2022-03-24T11:00:39.818Z"
   },
   {
    "duration": 8,
    "start_time": "2022-03-24T11:00:52.468Z"
   },
   {
    "duration": 13,
    "start_time": "2022-03-24T11:02:17.702Z"
   },
   {
    "duration": 514,
    "start_time": "2022-03-24T11:05:04.935Z"
   },
   {
    "duration": 11,
    "start_time": "2022-03-24T11:05:05.451Z"
   },
   {
    "duration": 20,
    "start_time": "2022-03-24T11:05:05.463Z"
   },
   {
    "duration": 5,
    "start_time": "2022-03-24T11:05:05.485Z"
   },
   {
    "duration": 23,
    "start_time": "2022-03-24T11:05:05.492Z"
   },
   {
    "duration": 38,
    "start_time": "2022-03-24T11:05:05.517Z"
   },
   {
    "duration": 11,
    "start_time": "2022-03-24T11:05:05.557Z"
   },
   {
    "duration": 28,
    "start_time": "2022-03-24T11:05:05.570Z"
   },
   {
    "duration": 16,
    "start_time": "2022-03-24T11:05:05.599Z"
   },
   {
    "duration": 25,
    "start_time": "2022-03-24T11:05:05.617Z"
   },
   {
    "duration": 16,
    "start_time": "2022-03-24T11:05:05.644Z"
   },
   {
    "duration": 483,
    "start_time": "2022-03-24T11:05:05.661Z"
   },
   {
    "duration": 205,
    "start_time": "2022-03-24T11:05:06.146Z"
   },
   {
    "duration": 18,
    "start_time": "2022-03-24T11:05:06.354Z"
   },
   {
    "duration": 422,
    "start_time": "2022-03-24T11:05:06.374Z"
   },
   {
    "duration": 5,
    "start_time": "2022-03-24T11:05:06.798Z"
   },
   {
    "duration": 23,
    "start_time": "2022-03-24T11:05:06.805Z"
   },
   {
    "duration": 17,
    "start_time": "2022-03-24T11:05:06.829Z"
   },
   {
    "duration": 335,
    "start_time": "2022-03-24T11:05:06.847Z"
   },
   {
    "duration": 16,
    "start_time": "2022-03-24T11:05:07.184Z"
   },
   {
    "duration": 326,
    "start_time": "2022-03-24T11:05:07.202Z"
   },
   {
    "duration": 181,
    "start_time": "2022-03-24T11:05:07.530Z"
   },
   {
    "duration": 185,
    "start_time": "2022-03-24T11:05:07.713Z"
   },
   {
    "duration": 192,
    "start_time": "2022-03-24T11:05:07.900Z"
   },
   {
    "duration": 175,
    "start_time": "2022-03-24T11:05:08.094Z"
   },
   {
    "duration": 159,
    "start_time": "2022-03-24T11:05:08.271Z"
   },
   {
    "duration": 152,
    "start_time": "2022-03-24T11:05:08.432Z"
   },
   {
    "duration": 979,
    "start_time": "2022-03-24T11:05:08.586Z"
   },
   {
    "duration": 30,
    "start_time": "2022-03-24T11:05:09.566Z"
   },
   {
    "duration": 34,
    "start_time": "2022-03-24T11:05:09.598Z"
   },
   {
    "duration": 22,
    "start_time": "2022-03-24T11:05:09.634Z"
   },
   {
    "duration": 15,
    "start_time": "2022-03-24T11:05:09.658Z"
   },
   {
    "duration": 17,
    "start_time": "2022-03-24T11:05:09.674Z"
   },
   {
    "duration": 18,
    "start_time": "2022-03-24T11:05:09.692Z"
   },
   {
    "duration": 15,
    "start_time": "2022-03-24T11:05:09.731Z"
   },
   {
    "duration": 14,
    "start_time": "2022-03-24T11:05:09.747Z"
   },
   {
    "duration": 16,
    "start_time": "2022-03-24T11:05:09.762Z"
   },
   {
    "duration": 16,
    "start_time": "2022-03-24T11:05:09.780Z"
   },
   {
    "duration": 42,
    "start_time": "2022-03-24T11:05:09.797Z"
   },
   {
    "duration": 290,
    "start_time": "2022-03-24T11:05:09.841Z"
   },
   {
    "duration": 381,
    "start_time": "2022-03-24T11:05:10.135Z"
   },
   {
    "duration": 297,
    "start_time": "2022-03-24T11:05:10.518Z"
   },
   {
    "duration": 516,
    "start_time": "2022-03-24T11:05:10.817Z"
   },
   {
    "duration": 200,
    "start_time": "2022-03-24T11:05:11.335Z"
   },
   {
    "duration": 14,
    "start_time": "2022-03-24T11:05:11.536Z"
   },
   {
    "duration": 11,
    "start_time": "2022-03-24T11:05:11.551Z"
   },
   {
    "duration": 13,
    "start_time": "2022-03-24T11:05:11.563Z"
   },
   {
    "duration": 8,
    "start_time": "2022-03-24T11:05:11.577Z"
   }
  ],
  "kernelspec": {
   "display_name": "Python 3",
   "language": "python",
   "name": "python3"
  },
  "language_info": {
   "codemirror_mode": {
    "name": "ipython",
    "version": 3
   },
   "file_extension": ".py",
   "mimetype": "text/x-python",
   "name": "python",
   "nbconvert_exporter": "python",
   "pygments_lexer": "ipython3",
   "version": "3.7.4"
  },
  "toc": {
   "base_numbering": 1,
   "nav_menu": {},
   "number_sections": true,
   "sideBar": true,
   "skip_h1_title": true,
   "title_cell": "Table of Contents",
   "title_sidebar": "Contents",
   "toc_cell": false,
   "toc_position": {},
   "toc_section_display": true,
   "toc_window_display": true
  }
 },
 "nbformat": 4,
 "nbformat_minor": 2
}
