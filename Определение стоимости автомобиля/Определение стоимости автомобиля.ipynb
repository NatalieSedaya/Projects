{
 "cells": [
  {
   "cell_type": "markdown",
   "metadata": {},
   "source": [
    "# Определение стоимости автомобилей"
   ]
  },
  {
   "cell_type": "markdown",
   "metadata": {},
   "source": [
    "Задача проекта:\n",
    "\n",
    "Построить модель для определения рыночной стоимости автомобилей с пробегом по историческим данным (технические характеристики, комплектации и цены автомобилей).\n",
    "\n",
    "Заказчику важны:\n",
    "\n",
    "- качество предсказания;\n",
    "- скорость предсказания;\n",
    "- время обучения.\n",
    "\n",
    "Основные шаги:\n",
    "- Загрузка библиотек;\n",
    "- Открытие файлов и изучение данных;\n",
    "- Предобработка данных;\n",
    "- Кодирование категориальных признаков;\n",
    "- Разделение на выборки;\n",
    "- Обучение моделей линейной регрессии, CatBoostRegressor, LightGBM;\n",
    "- Анализ и сравнение моделей, формулирование общего вывода."
   ]
  },
  {
   "cell_type": "markdown",
   "metadata": {},
   "source": [
    "## Подготовка данных"
   ]
  },
  {
   "cell_type": "markdown",
   "metadata": {},
   "source": [
    "### Загрузка библиотек"
   ]
  },
  {
   "cell_type": "code",
   "execution_count": 1,
   "metadata": {},
   "outputs": [],
   "source": [
    "import lightgbm as lgb\n",
    "import matplotlib.pyplot as plt\n",
    "import pandas as pd\n",
    "import seaborn\n",
    "\n",
    "from catboost import CatBoostRegressor\n",
    "from lightgbm import LGBMRegressor\n",
    "from math import sqrt\n",
    "from sklearn.linear_model import LinearRegression\n",
    "from sklearn.metrics import mean_squared_error\n",
    "from sklearn.model_selection import train_test_split, GridSearchCV, cross_val_score\n",
    "from sklearn.preprocessing import OrdinalEncoder"
   ]
  },
  {
   "cell_type": "markdown",
   "metadata": {},
   "source": [
    "### Открытие файла"
   ]
  },
  {
   "cell_type": "code",
   "execution_count": 2,
   "metadata": {
    "scrolled": true
   },
   "outputs": [
    {
     "data": {
      "text/html": [
       "<div>\n",
       "<style scoped>\n",
       "    .dataframe tbody tr th:only-of-type {\n",
       "        vertical-align: middle;\n",
       "    }\n",
       "\n",
       "    .dataframe tbody tr th {\n",
       "        vertical-align: top;\n",
       "    }\n",
       "\n",
       "    .dataframe thead th {\n",
       "        text-align: right;\n",
       "    }\n",
       "</style>\n",
       "<table border=\"1\" class=\"dataframe\">\n",
       "  <thead>\n",
       "    <tr style=\"text-align: right;\">\n",
       "      <th></th>\n",
       "      <th>DateCrawled</th>\n",
       "      <th>Price</th>\n",
       "      <th>VehicleType</th>\n",
       "      <th>RegistrationYear</th>\n",
       "      <th>Gearbox</th>\n",
       "      <th>Power</th>\n",
       "      <th>Model</th>\n",
       "      <th>Kilometer</th>\n",
       "      <th>RegistrationMonth</th>\n",
       "      <th>FuelType</th>\n",
       "      <th>Brand</th>\n",
       "      <th>NotRepaired</th>\n",
       "      <th>DateCreated</th>\n",
       "      <th>NumberOfPictures</th>\n",
       "      <th>PostalCode</th>\n",
       "      <th>LastSeen</th>\n",
       "    </tr>\n",
       "  </thead>\n",
       "  <tbody>\n",
       "    <tr>\n",
       "      <th>0</th>\n",
       "      <td>2016-03-24 11:52:17</td>\n",
       "      <td>480</td>\n",
       "      <td>NaN</td>\n",
       "      <td>1993</td>\n",
       "      <td>manual</td>\n",
       "      <td>0</td>\n",
       "      <td>golf</td>\n",
       "      <td>150000</td>\n",
       "      <td>0</td>\n",
       "      <td>petrol</td>\n",
       "      <td>volkswagen</td>\n",
       "      <td>NaN</td>\n",
       "      <td>2016-03-24 00:00:00</td>\n",
       "      <td>0</td>\n",
       "      <td>70435</td>\n",
       "      <td>2016-04-07 03:16:57</td>\n",
       "    </tr>\n",
       "    <tr>\n",
       "      <th>1</th>\n",
       "      <td>2016-03-24 10:58:45</td>\n",
       "      <td>18300</td>\n",
       "      <td>coupe</td>\n",
       "      <td>2011</td>\n",
       "      <td>manual</td>\n",
       "      <td>190</td>\n",
       "      <td>NaN</td>\n",
       "      <td>125000</td>\n",
       "      <td>5</td>\n",
       "      <td>gasoline</td>\n",
       "      <td>audi</td>\n",
       "      <td>yes</td>\n",
       "      <td>2016-03-24 00:00:00</td>\n",
       "      <td>0</td>\n",
       "      <td>66954</td>\n",
       "      <td>2016-04-07 01:46:50</td>\n",
       "    </tr>\n",
       "    <tr>\n",
       "      <th>2</th>\n",
       "      <td>2016-03-14 12:52:21</td>\n",
       "      <td>9800</td>\n",
       "      <td>suv</td>\n",
       "      <td>2004</td>\n",
       "      <td>auto</td>\n",
       "      <td>163</td>\n",
       "      <td>grand</td>\n",
       "      <td>125000</td>\n",
       "      <td>8</td>\n",
       "      <td>gasoline</td>\n",
       "      <td>jeep</td>\n",
       "      <td>NaN</td>\n",
       "      <td>2016-03-14 00:00:00</td>\n",
       "      <td>0</td>\n",
       "      <td>90480</td>\n",
       "      <td>2016-04-05 12:47:46</td>\n",
       "    </tr>\n",
       "    <tr>\n",
       "      <th>3</th>\n",
       "      <td>2016-03-17 16:54:04</td>\n",
       "      <td>1500</td>\n",
       "      <td>small</td>\n",
       "      <td>2001</td>\n",
       "      <td>manual</td>\n",
       "      <td>75</td>\n",
       "      <td>golf</td>\n",
       "      <td>150000</td>\n",
       "      <td>6</td>\n",
       "      <td>petrol</td>\n",
       "      <td>volkswagen</td>\n",
       "      <td>no</td>\n",
       "      <td>2016-03-17 00:00:00</td>\n",
       "      <td>0</td>\n",
       "      <td>91074</td>\n",
       "      <td>2016-03-17 17:40:17</td>\n",
       "    </tr>\n",
       "    <tr>\n",
       "      <th>4</th>\n",
       "      <td>2016-03-31 17:25:20</td>\n",
       "      <td>3600</td>\n",
       "      <td>small</td>\n",
       "      <td>2008</td>\n",
       "      <td>manual</td>\n",
       "      <td>69</td>\n",
       "      <td>fabia</td>\n",
       "      <td>90000</td>\n",
       "      <td>7</td>\n",
       "      <td>gasoline</td>\n",
       "      <td>skoda</td>\n",
       "      <td>no</td>\n",
       "      <td>2016-03-31 00:00:00</td>\n",
       "      <td>0</td>\n",
       "      <td>60437</td>\n",
       "      <td>2016-04-06 10:17:21</td>\n",
       "    </tr>\n",
       "  </tbody>\n",
       "</table>\n",
       "</div>"
      ],
      "text/plain": [
       "           DateCrawled  Price VehicleType  RegistrationYear Gearbox  Power  \\\n",
       "0  2016-03-24 11:52:17    480         NaN              1993  manual      0   \n",
       "1  2016-03-24 10:58:45  18300       coupe              2011  manual    190   \n",
       "2  2016-03-14 12:52:21   9800         suv              2004    auto    163   \n",
       "3  2016-03-17 16:54:04   1500       small              2001  manual     75   \n",
       "4  2016-03-31 17:25:20   3600       small              2008  manual     69   \n",
       "\n",
       "   Model  Kilometer  RegistrationMonth  FuelType       Brand NotRepaired  \\\n",
       "0   golf     150000                  0    petrol  volkswagen         NaN   \n",
       "1    NaN     125000                  5  gasoline        audi         yes   \n",
       "2  grand     125000                  8  gasoline        jeep         NaN   \n",
       "3   golf     150000                  6    petrol  volkswagen          no   \n",
       "4  fabia      90000                  7  gasoline       skoda          no   \n",
       "\n",
       "           DateCreated  NumberOfPictures  PostalCode             LastSeen  \n",
       "0  2016-03-24 00:00:00                 0       70435  2016-04-07 03:16:57  \n",
       "1  2016-03-24 00:00:00                 0       66954  2016-04-07 01:46:50  \n",
       "2  2016-03-14 00:00:00                 0       90480  2016-04-05 12:47:46  \n",
       "3  2016-03-17 00:00:00                 0       91074  2016-03-17 17:40:17  \n",
       "4  2016-03-31 00:00:00                 0       60437  2016-04-06 10:17:21  "
      ]
     },
     "execution_count": 2,
     "metadata": {},
     "output_type": "execute_result"
    }
   ],
   "source": [
    "data = pd.read_csv('/datasets/autos.csv')\n",
    "data.head()"
   ]
  },
  {
   "cell_type": "markdown",
   "metadata": {},
   "source": [
    "### Описание данных\n",
    "- DateCrawled — дата скачивания анкеты из базы\n",
    "- VehicleType — тип автомобильного кузова\n",
    "- RegistrationYear — год регистрации автомобиля\n",
    "- Gearbox — тип коробки передач\n",
    "- Power — мощность (л. с.)\n",
    "- Model — модель автомобиля\n",
    "- Kilometer — пробег (км)\n",
    "- RegistrationMonth — месяц регистрации автомобиля\n",
    "- FuelType — тип топлива\n",
    "- Brand — марка автомобиля\n",
    "- NotRepaired — была машина в ремонте или нет\n",
    "- DateCreated — дата создания анкеты\n",
    "- NumberOfPictures — количество фотографий автомобиля\n",
    "- PostalCode — почтовый индекс владельца анкеты (пользователя)\n",
    "- LastSeen — дата последней активности пользователя\n",
    "- Price — цена (евро)"
   ]
  },
  {
   "cell_type": "markdown",
   "metadata": {},
   "source": [
    "### Изучение данных"
   ]
  },
  {
   "cell_type": "code",
   "execution_count": 3,
   "metadata": {},
   "outputs": [
    {
     "name": "stdout",
     "output_type": "stream",
     "text": [
      "<class 'pandas.core.frame.DataFrame'>\n",
      "RangeIndex: 354369 entries, 0 to 354368\n",
      "Data columns (total 16 columns):\n",
      " #   Column             Non-Null Count   Dtype \n",
      "---  ------             --------------   ----- \n",
      " 0   DateCrawled        354369 non-null  object\n",
      " 1   Price              354369 non-null  int64 \n",
      " 2   VehicleType        316879 non-null  object\n",
      " 3   RegistrationYear   354369 non-null  int64 \n",
      " 4   Gearbox            334536 non-null  object\n",
      " 5   Power              354369 non-null  int64 \n",
      " 6   Model              334664 non-null  object\n",
      " 7   Kilometer          354369 non-null  int64 \n",
      " 8   RegistrationMonth  354369 non-null  int64 \n",
      " 9   FuelType           321474 non-null  object\n",
      " 10  Brand              354369 non-null  object\n",
      " 11  NotRepaired        283215 non-null  object\n",
      " 12  DateCreated        354369 non-null  object\n",
      " 13  NumberOfPictures   354369 non-null  int64 \n",
      " 14  PostalCode         354369 non-null  int64 \n",
      " 15  LastSeen           354369 non-null  object\n",
      "dtypes: int64(7), object(9)\n",
      "memory usage: 43.3+ MB\n"
     ]
    }
   ],
   "source": [
    "data.info()"
   ]
  },
  {
   "cell_type": "markdown",
   "metadata": {},
   "source": [
    "В датасете 16 столбцов и 354369 строк, типы данных: int64 и object."
   ]
  },
  {
   "cell_type": "code",
   "execution_count": 4,
   "metadata": {
    "scrolled": true
   },
   "outputs": [
    {
     "data": {
      "text/html": [
       "<div>\n",
       "<style scoped>\n",
       "    .dataframe tbody tr th:only-of-type {\n",
       "        vertical-align: middle;\n",
       "    }\n",
       "\n",
       "    .dataframe tbody tr th {\n",
       "        vertical-align: top;\n",
       "    }\n",
       "\n",
       "    .dataframe thead th {\n",
       "        text-align: right;\n",
       "    }\n",
       "</style>\n",
       "<table border=\"1\" class=\"dataframe\">\n",
       "  <thead>\n",
       "    <tr style=\"text-align: right;\">\n",
       "      <th></th>\n",
       "      <th>Price</th>\n",
       "      <th>RegistrationYear</th>\n",
       "      <th>Power</th>\n",
       "      <th>Kilometer</th>\n",
       "      <th>RegistrationMonth</th>\n",
       "      <th>NumberOfPictures</th>\n",
       "      <th>PostalCode</th>\n",
       "    </tr>\n",
       "  </thead>\n",
       "  <tbody>\n",
       "    <tr>\n",
       "      <th>count</th>\n",
       "      <td>354369.000000</td>\n",
       "      <td>354369.000000</td>\n",
       "      <td>354369.000000</td>\n",
       "      <td>354369.000000</td>\n",
       "      <td>354369.000000</td>\n",
       "      <td>354369.0</td>\n",
       "      <td>354369.000000</td>\n",
       "    </tr>\n",
       "    <tr>\n",
       "      <th>mean</th>\n",
       "      <td>4416.656776</td>\n",
       "      <td>2004.234448</td>\n",
       "      <td>110.094337</td>\n",
       "      <td>128211.172535</td>\n",
       "      <td>5.714645</td>\n",
       "      <td>0.0</td>\n",
       "      <td>50508.689087</td>\n",
       "    </tr>\n",
       "    <tr>\n",
       "      <th>std</th>\n",
       "      <td>4514.158514</td>\n",
       "      <td>90.227958</td>\n",
       "      <td>189.850405</td>\n",
       "      <td>37905.341530</td>\n",
       "      <td>3.726421</td>\n",
       "      <td>0.0</td>\n",
       "      <td>25783.096248</td>\n",
       "    </tr>\n",
       "    <tr>\n",
       "      <th>min</th>\n",
       "      <td>0.000000</td>\n",
       "      <td>1000.000000</td>\n",
       "      <td>0.000000</td>\n",
       "      <td>5000.000000</td>\n",
       "      <td>0.000000</td>\n",
       "      <td>0.0</td>\n",
       "      <td>1067.000000</td>\n",
       "    </tr>\n",
       "    <tr>\n",
       "      <th>25%</th>\n",
       "      <td>1050.000000</td>\n",
       "      <td>1999.000000</td>\n",
       "      <td>69.000000</td>\n",
       "      <td>125000.000000</td>\n",
       "      <td>3.000000</td>\n",
       "      <td>0.0</td>\n",
       "      <td>30165.000000</td>\n",
       "    </tr>\n",
       "    <tr>\n",
       "      <th>50%</th>\n",
       "      <td>2700.000000</td>\n",
       "      <td>2003.000000</td>\n",
       "      <td>105.000000</td>\n",
       "      <td>150000.000000</td>\n",
       "      <td>6.000000</td>\n",
       "      <td>0.0</td>\n",
       "      <td>49413.000000</td>\n",
       "    </tr>\n",
       "    <tr>\n",
       "      <th>75%</th>\n",
       "      <td>6400.000000</td>\n",
       "      <td>2008.000000</td>\n",
       "      <td>143.000000</td>\n",
       "      <td>150000.000000</td>\n",
       "      <td>9.000000</td>\n",
       "      <td>0.0</td>\n",
       "      <td>71083.000000</td>\n",
       "    </tr>\n",
       "    <tr>\n",
       "      <th>max</th>\n",
       "      <td>20000.000000</td>\n",
       "      <td>9999.000000</td>\n",
       "      <td>20000.000000</td>\n",
       "      <td>150000.000000</td>\n",
       "      <td>12.000000</td>\n",
       "      <td>0.0</td>\n",
       "      <td>99998.000000</td>\n",
       "    </tr>\n",
       "  </tbody>\n",
       "</table>\n",
       "</div>"
      ],
      "text/plain": [
       "               Price  RegistrationYear          Power      Kilometer  \\\n",
       "count  354369.000000     354369.000000  354369.000000  354369.000000   \n",
       "mean     4416.656776       2004.234448     110.094337  128211.172535   \n",
       "std      4514.158514         90.227958     189.850405   37905.341530   \n",
       "min         0.000000       1000.000000       0.000000    5000.000000   \n",
       "25%      1050.000000       1999.000000      69.000000  125000.000000   \n",
       "50%      2700.000000       2003.000000     105.000000  150000.000000   \n",
       "75%      6400.000000       2008.000000     143.000000  150000.000000   \n",
       "max     20000.000000       9999.000000   20000.000000  150000.000000   \n",
       "\n",
       "       RegistrationMonth  NumberOfPictures     PostalCode  \n",
       "count      354369.000000          354369.0  354369.000000  \n",
       "mean            5.714645               0.0   50508.689087  \n",
       "std             3.726421               0.0   25783.096248  \n",
       "min             0.000000               0.0    1067.000000  \n",
       "25%             3.000000               0.0   30165.000000  \n",
       "50%             6.000000               0.0   49413.000000  \n",
       "75%             9.000000               0.0   71083.000000  \n",
       "max            12.000000               0.0   99998.000000  "
      ]
     },
     "execution_count": 4,
     "metadata": {},
     "output_type": "execute_result"
    }
   ],
   "source": [
    "data.describe()"
   ]
  },
  {
   "cell_type": "markdown",
   "metadata": {},
   "source": [
    "Минимальное и максимальное значение в столбце `RegistrationYear` (год регистрации автомобиля) - 1000 и 9999. Возможно являются ошибками в данных и выбросами. \n",
    "\n",
    "Cтолбец `NumberOfPictures` содержит только нули, его можно удалить.\n",
    "\n",
    "Cтолбец `Power` содержит неадекватные данные (более 2700 л.с. в реальности не встречается)."
   ]
  },
  {
   "cell_type": "code",
   "execution_count": 5,
   "metadata": {},
   "outputs": [
    {
     "data": {
      "text/plain": [
       "4"
      ]
     },
     "execution_count": 5,
     "metadata": {},
     "output_type": "execute_result"
    }
   ],
   "source": [
    "data.duplicated().sum()"
   ]
  },
  {
   "cell_type": "markdown",
   "metadata": {},
   "source": [
    "В данных присутствует 4 дубликата."
   ]
  },
  {
   "cell_type": "code",
   "execution_count": 6,
   "metadata": {},
   "outputs": [
    {
     "data": {
      "text/plain": [
       "DateCrawled              0\n",
       "Price                    0\n",
       "VehicleType          37490\n",
       "RegistrationYear         0\n",
       "Gearbox              19833\n",
       "Power                    0\n",
       "Model                19705\n",
       "Kilometer                0\n",
       "RegistrationMonth        0\n",
       "FuelType             32895\n",
       "Brand                    0\n",
       "NotRepaired          71154\n",
       "DateCreated              0\n",
       "NumberOfPictures         0\n",
       "PostalCode               0\n",
       "LastSeen                 0\n",
       "dtype: int64"
      ]
     },
     "execution_count": 6,
     "metadata": {},
     "output_type": "execute_result"
    }
   ],
   "source": [
    "data.isna().sum()"
   ]
  },
  {
   "cell_type": "markdown",
   "metadata": {},
   "source": [
    "В столбцах `VehicleType, Gearbox, Model, FuelType, NotRepaired` присутствуют пропуски."
   ]
  },
  {
   "cell_type": "code",
   "execution_count": 7,
   "metadata": {},
   "outputs": [
    {
     "data": {
      "text/plain": [
       "DateCrawled          0.000000\n",
       "Price                0.000000\n",
       "VehicleType          0.105794\n",
       "RegistrationYear     0.000000\n",
       "Gearbox              0.055967\n",
       "Power                0.000000\n",
       "Model                0.055606\n",
       "Kilometer            0.000000\n",
       "RegistrationMonth    0.000000\n",
       "FuelType             0.092827\n",
       "Brand                0.000000\n",
       "NotRepaired          0.200791\n",
       "DateCreated          0.000000\n",
       "NumberOfPictures     0.000000\n",
       "PostalCode           0.000000\n",
       "LastSeen             0.000000\n",
       "dtype: float64"
      ]
     },
     "execution_count": 7,
     "metadata": {},
     "output_type": "execute_result"
    }
   ],
   "source": [
    "data.isna().sum()/data.shape[0]"
   ]
  },
  {
   "cell_type": "markdown",
   "metadata": {},
   "source": [
    "Для столбца `NotRepaired` (была машина в ремонте или нет) доля пропусков составляет более 20%."
   ]
  },
  {
   "cell_type": "code",
   "execution_count": 8,
   "metadata": {
    "scrolled": true
   },
   "outputs": [
    {
     "data": {
      "image/png": "[encoded data removed]",
      "text/plain": [
       "<Figure size 432x288 with 2 Axes>"
      ]
     },
     "metadata": {
      "needs_background": "light"
     },
     "output_type": "display_data"
    }
   ],
   "source": [
    "seaborn.heatmap(data.corr(), annot=True)\n",
    "plt.title('Попарная корреляция столбцов в датасете');"
   ]
  },
  {
   "cell_type": "markdown",
   "metadata": {},
   "source": [
    "Высоких значений положительной или отрицательной корреляции не обнаружено."
   ]
  },
  {
   "cell_type": "code",
   "execution_count": 9,
   "metadata": {},
   "outputs": [
    {
     "data": {
      "text/plain": [
       "Timestamp('2016-04-07 14:36:58')"
      ]
     },
     "execution_count": 9,
     "metadata": {},
     "output_type": "execute_result"
    }
   ],
   "source": [
    "datecrawled = pd.to_datetime(data['DateCrawled'])\n",
    "datecrawled.max()"
   ]
  },
  {
   "cell_type": "markdown",
   "metadata": {},
   "source": [
    "Последняя дата скачивания анкеты - 7 апреля 2016, это значит, что более поздние данные о годе регистрации некорректны. "
   ]
  },
  {
   "cell_type": "markdown",
   "metadata": {},
   "source": [
    "### Предобработка данных\n",
    "\n",
    "Cтолбцы `DateCrawled, DateCreated, LastSeen, NumberOfPictures, PostalCode, RegistrationMonth` никак не повлияют на обучение модели. Удаляем их."
   ]
  },
  {
   "cell_type": "code",
   "execution_count": 10,
   "metadata": {},
   "outputs": [],
   "source": [
    "data = data.drop(['DateCrawled', 'DateCreated', 'LastSeen', 'NumberOfPictures', 'PostalCode', 'RegistrationMonth'], axis=1)"
   ]
  },
  {
   "cell_type": "markdown",
   "metadata": {},
   "source": [
    "Удаляем дубликаты"
   ]
  },
  {
   "cell_type": "code",
   "execution_count": 11,
   "metadata": {},
   "outputs": [
    {
     "data": {
      "text/plain": [
       "45040"
      ]
     },
     "execution_count": 11,
     "metadata": {},
     "output_type": "execute_result"
    }
   ],
   "source": [
    "data.duplicated().sum()"
   ]
  },
  {
   "cell_type": "code",
   "execution_count": 12,
   "metadata": {},
   "outputs": [
    {
     "data": {
      "text/plain": [
       "0.1270991537070116"
      ]
     },
     "execution_count": 12,
     "metadata": {},
     "output_type": "execute_result"
    }
   ],
   "source": [
    "data.duplicated().sum()/data.shape[0]"
   ]
  },
  {
   "cell_type": "markdown",
   "metadata": {},
   "source": [
    "После удаления неинформативных для нашей задачи столбцов количество дубликатов увеличилось с 4 до 45040, что является 12.7% данных."
   ]
  },
  {
   "cell_type": "code",
   "execution_count": 13,
   "metadata": {},
   "outputs": [],
   "source": [
    "data = data.drop_duplicates().reset_index(drop=True)"
   ]
  },
  {
   "cell_type": "markdown",
   "metadata": {},
   "source": [
    "Удаляем строки, где `Price` равно 0."
   ]
  },
  {
   "cell_type": "code",
   "execution_count": 14,
   "metadata": {},
   "outputs": [],
   "source": [
    "data = data.query('Price > 0')"
   ]
  },
  {
   "cell_type": "markdown",
   "metadata": {},
   "source": [
    "В столбцах `VehicleType, Gearbox, Model, FuelType, NotRepaired`, где присутствуют пропуски, заменим их на unknown. При кодировании этих признаков появится дополнительная категория."
   ]
  },
  {
   "cell_type": "code",
   "execution_count": 15,
   "metadata": {},
   "outputs": [],
   "source": [
    "data[['VehicleType', 'Gearbox', 'Model', 'FuelType', 'NotRepaired']] = data[[\n",
    "    'VehicleType', 'Gearbox', 'Model', 'FuelType', 'NotRepaired']].fillna('unknown')"
   ]
  },
  {
   "cell_type": "code",
   "execution_count": 16,
   "metadata": {},
   "outputs": [
    {
     "data": {
      "text/plain": [
       "Price               0\n",
       "VehicleType         0\n",
       "RegistrationYear    0\n",
       "Gearbox             0\n",
       "Power               0\n",
       "Model               0\n",
       "Kilometer           0\n",
       "FuelType            0\n",
       "Brand               0\n",
       "NotRepaired         0\n",
       "dtype: int64"
      ]
     },
     "execution_count": 16,
     "metadata": {},
     "output_type": "execute_result"
    }
   ],
   "source": [
    "data.isna().sum()"
   ]
  },
  {
   "cell_type": "code",
   "execution_count": 17,
   "metadata": {},
   "outputs": [
    {
     "data": {
      "image/png": "[encoded data removed]",
      "text/plain": [
       "<Figure size 432x288 with 1 Axes>"
      ]
     },
     "metadata": {
      "needs_background": "light"
     },
     "output_type": "display_data"
    }
   ],
   "source": [
    "data['RegistrationYear'].plot(style='o', title='График распределения годов регистрации автомобилей');"
   ]
  },
  {
   "cell_type": "markdown",
   "metadata": {},
   "source": [
    "В столбце `RegistrationYear` большое количество выбросов. Чтобы сделать данные чище, оставим только информацию с 1920 по 2020 гг."
   ]
  },
  {
   "cell_type": "code",
   "execution_count": 18,
   "metadata": {},
   "outputs": [],
   "source": [
    "data = data.query('RegistrationYear > 1920 & RegistrationYear < 2016')"
   ]
  },
  {
   "cell_type": "code",
   "execution_count": 19,
   "metadata": {},
   "outputs": [
    {
     "data": {
      "image/png": "[encoded data removed]",
      "text/plain": [
       "<Figure size 432x288 with 1 Axes>"
      ]
     },
     "metadata": {
      "needs_background": "light"
     },
     "output_type": "display_data"
    }
   ],
   "source": [
    "data['RegistrationYear'].plot(style='o', title='График распределения годов регистрации автомобилей c 1920 по 2016 гг.');"
   ]
  },
  {
   "cell_type": "markdown",
   "metadata": {},
   "source": [
    "Cтолбец `Power` содержит неадекватные данные (более 2700 л.с. в реальности не встречается). Удалим строки с данными сверх нормы."
   ]
  },
  {
   "cell_type": "code",
   "execution_count": 20,
   "metadata": {},
   "outputs": [],
   "source": [
    "data = data.query('Power < 2700')"
   ]
  },
  {
   "cell_type": "code",
   "execution_count": 21,
   "metadata": {},
   "outputs": [
    {
     "name": "stdout",
     "output_type": "stream",
     "text": [
      "<class 'pandas.core.frame.DataFrame'>\n",
      "Int64Index: 278866 entries, 0 to 309328\n",
      "Data columns (total 10 columns):\n",
      " #   Column            Non-Null Count   Dtype \n",
      "---  ------            --------------   ----- \n",
      " 0   Price             278866 non-null  int64 \n",
      " 1   VehicleType       278866 non-null  object\n",
      " 2   RegistrationYear  278866 non-null  int64 \n",
      " 3   Gearbox           278866 non-null  object\n",
      " 4   Power             278866 non-null  int64 \n",
      " 5   Model             278866 non-null  object\n",
      " 6   Kilometer         278866 non-null  int64 \n",
      " 7   FuelType          278866 non-null  object\n",
      " 8   Brand             278866 non-null  object\n",
      " 9   NotRepaired       278866 non-null  object\n",
      "dtypes: int64(4), object(6)\n",
      "memory usage: 23.4+ MB\n"
     ]
    }
   ],
   "source": [
    "data.info()"
   ]
  },
  {
   "cell_type": "markdown",
   "metadata": {},
   "source": [
    "### Кодирование категориальных признаков"
   ]
  },
  {
   "cell_type": "code",
   "execution_count": 22,
   "metadata": {},
   "outputs": [],
   "source": [
    "data = pd.get_dummies(data, drop_first=True)"
   ]
  },
  {
   "cell_type": "markdown",
   "metadata": {},
   "source": [
    "### Разделение на выборки"
   ]
  },
  {
   "cell_type": "code",
   "execution_count": 23,
   "metadata": {},
   "outputs": [
    {
     "data": {
      "text/plain": [
       "(167319, 312)"
      ]
     },
     "metadata": {},
     "output_type": "display_data"
    },
    {
     "data": {
      "text/plain": [
       "(55773, 312)"
      ]
     },
     "metadata": {},
     "output_type": "display_data"
    },
    {
     "data": {
      "text/plain": [
       "(55774, 312)"
      ]
     },
     "metadata": {},
     "output_type": "display_data"
    }
   ],
   "source": [
    "data_train, data_not_train = train_test_split(data, test_size=0.4, random_state=12345)\n",
    "data_valid, data_test = train_test_split(data_not_train, test_size=0.5, random_state=12345)\n",
    "\n",
    "display(data_train.shape)\n",
    "display(data_valid.shape)\n",
    "display(data_test.shape)"
   ]
  },
  {
   "cell_type": "code",
   "execution_count": 24,
   "metadata": {},
   "outputs": [],
   "source": [
    "features_train = data_train.drop(['Price'],axis=1)\n",
    "target_train = data_train['Price']\n",
    "\n",
    "features_valid = data_valid.drop(['Price'],axis=1)\n",
    "target_valid = data_valid['Price']\n",
    "\n",
    "features_test = data_valid.drop(['Price'],axis=1)\n",
    "target_test = data_valid['Price']"
   ]
  },
  {
   "cell_type": "markdown",
   "metadata": {},
   "source": [
    "### Вывод\n",
    "\n",
    "Нами был получен датасет с 16 столбцами и 354369 строками, типы данных: int64 и object.\n",
    "\n",
    "В нем были найдены пропуски, выбросы, дубликаты, аномальные значения и неинформативные строки.\n",
    "\n",
    "После предобработки данных, разделения их на выборки и кодирования категориальных признаков у нас получилось три датасета размерами:\n",
    "\n",
    "- 167319 rows × 311 columns\n",
    "- 55773 rows × 311 columns\n",
    "- 55774 rows × 311 columns"
   ]
  },
  {
   "cell_type": "markdown",
   "metadata": {},
   "source": [
    "## Обучение моделей"
   ]
  },
  {
   "cell_type": "markdown",
   "metadata": {},
   "source": [
    "### Линейная регрессия"
   ]
  },
  {
   "cell_type": "code",
   "execution_count": 25,
   "metadata": {},
   "outputs": [],
   "source": [
    "model_lr = LinearRegression()\n",
    "model_lr.fit(features_train, target_train)\n",
    "predictions = model_lr.predict(features_valid)"
   ]
  },
  {
   "cell_type": "code",
   "execution_count": 26,
   "metadata": {},
   "outputs": [
    {
     "name": "stdout",
     "output_type": "stream",
     "text": [
      "RMSE модели: 2791.8030685689882\n"
     ]
    }
   ],
   "source": [
    "print(\"RMSE модели:\", sqrt(mean_squared_error(predictions, target_valid)))"
   ]
  },
  {
   "cell_type": "markdown",
   "metadata": {},
   "source": [
    "RMSE модели линейной регрессии: 2791.80"
   ]
  },
  {
   "cell_type": "markdown",
   "metadata": {},
   "source": [
    "### CatBoostRegressor"
   ]
  },
  {
   "cell_type": "code",
   "execution_count": 27,
   "metadata": {
    "scrolled": true
   },
   "outputs": [
    {
     "name": "stdout",
     "output_type": "stream",
     "text": [
      "Learning rate set to 0.5\n",
      "0:\tlearn: 3146.6293705\ttotal: 114ms\tremaining: 1.03s\n",
      "9:\tlearn: 1843.0093123\ttotal: 595ms\tremaining: 0us\n",
      "RMSE, если iterations = 10 : 1859.0516021194733\n",
      "\n",
      "Learning rate set to 0.5\n",
      "0:\tlearn: 3146.6293705\ttotal: 62.5ms\tremaining: 2.12s\n",
      "10:\tlearn: 1830.3744747\ttotal: 695ms\tremaining: 1.52s\n",
      "20:\tlearn: 1731.8332594\ttotal: 1.35s\tremaining: 904ms\n",
      "30:\tlearn: 1677.9792834\ttotal: 1.94s\tremaining: 250ms\n",
      "34:\tlearn: 1659.9366115\ttotal: 2.18s\tremaining: 0us\n",
      "RMSE, если iterations = 35 : 1709.6968182545127\n",
      "\n",
      "Learning rate set to 0.5\n",
      "0:\tlearn: 3146.6293705\ttotal: 51.5ms\tremaining: 3.04s\n",
      "10:\tlearn: 1830.3744747\ttotal: 711ms\tremaining: 3.17s\n",
      "20:\tlearn: 1731.8332594\ttotal: 1.32s\tremaining: 2.44s\n",
      "30:\tlearn: 1677.9792834\ttotal: 1.99s\tremaining: 1.86s\n",
      "40:\tlearn: 1640.6147271\ttotal: 2.58s\tremaining: 1.2s\n",
      "50:\tlearn: 1614.6654202\ttotal: 3.2s\tremaining: 564ms\n",
      "59:\tlearn: 1592.0056356\ttotal: 3.73s\tremaining: 0us\n",
      "RMSE, если iterations = 60 : 1673.942166102139\n",
      "\n",
      "Learning rate set to 0.5\n",
      "0:\tlearn: 3146.6293705\ttotal: 68.6ms\tremaining: 5.76s\n",
      "10:\tlearn: 1830.3744747\ttotal: 700ms\tremaining: 4.71s\n",
      "20:\tlearn: 1731.8332594\ttotal: 1.3s\tremaining: 3.96s\n",
      "30:\tlearn: 1677.9792834\ttotal: 2.02s\tremaining: 3.51s\n",
      "40:\tlearn: 1640.6147271\ttotal: 2.65s\tremaining: 2.85s\n",
      "50:\tlearn: 1614.6654202\ttotal: 3.3s\tremaining: 2.2s\n",
      "60:\tlearn: 1589.6461958\ttotal: 3.94s\tremaining: 1.55s\n",
      "70:\tlearn: 1571.6186708\ttotal: 4.54s\tremaining: 895ms\n",
      "80:\tlearn: 1554.3786264\ttotal: 5.17s\tremaining: 255ms\n",
      "84:\tlearn: 1548.0146483\ttotal: 5.41s\tremaining: 0us\n",
      "RMSE, если iterations = 85 : 1657.7263425829094\n",
      "\n",
      "Learning rate set to 0.5\n",
      "0:\tlearn: 3146.6293705\ttotal: 69.7ms\tremaining: 7.6s\n",
      "10:\tlearn: 1830.3744747\ttotal: 663ms\tremaining: 5.96s\n",
      "20:\tlearn: 1731.8332594\ttotal: 1.29s\tremaining: 5.47s\n",
      "30:\tlearn: 1677.9792834\ttotal: 1.94s\tremaining: 4.93s\n",
      "40:\tlearn: 1640.6147271\ttotal: 2.56s\tremaining: 4.3s\n",
      "50:\tlearn: 1614.6654202\ttotal: 3.15s\tremaining: 3.65s\n",
      "60:\tlearn: 1589.6461958\ttotal: 3.77s\tremaining: 3.03s\n",
      "70:\tlearn: 1571.6186708\ttotal: 4.35s\tremaining: 2.39s\n",
      "80:\tlearn: 1554.3786264\ttotal: 5.02s\tremaining: 1.8s\n",
      "90:\tlearn: 1538.6986115\ttotal: 5.59s\tremaining: 1.17s\n",
      "100:\tlearn: 1524.2163234\ttotal: 6.21s\tremaining: 553ms\n",
      "109:\tlearn: 1512.1362821\ttotal: 6.78s\tremaining: 0us\n",
      "RMSE, если iterations = 110 : 1647.4876236992159\n",
      "\n"
     ]
    }
   ],
   "source": [
    "for iteration in range(10, 111, 25):\n",
    "    model_cat = CatBoostRegressor(loss_function=\"RMSE\", iterations=iteration, depth=10, verbose=10)\n",
    "    model_cat.fit(features_train, target_train)\n",
    "    predictions_cat = model_cat.predict(features_valid)\n",
    "    rmse_cat = sqrt(mean_squared_error(predictions_cat, target_valid))\n",
    "    print(\"RMSE, если iterations =\", iteration, \":\", rmse_cat)\n",
    "    print()"
   ]
  },
  {
   "cell_type": "markdown",
   "metadata": {},
   "source": [
    "Минимальный RMSE (1647.48) при количестве итераций 110."
   ]
  },
  {
   "cell_type": "code",
   "execution_count": 28,
   "metadata": {},
   "outputs": [
    {
     "name": "stdout",
     "output_type": "stream",
     "text": [
      "Learning rate set to 0.5\n",
      "0:\tlearn: 3591.3286634\ttotal: 17.1ms\tremaining: 1.87s\n",
      "10:\tlearn: 2346.1116124\ttotal: 196ms\tremaining: 1.77s\n",
      "20:\tlearn: 2195.8210769\ttotal: 396ms\tremaining: 1.68s\n",
      "30:\tlearn: 2100.5764279\ttotal: 583ms\tremaining: 1.49s\n",
      "40:\tlearn: 2039.6955791\ttotal: 773ms\tremaining: 1.3s\n",
      "50:\tlearn: 1994.7153598\ttotal: 972ms\tremaining: 1.12s\n",
      "60:\tlearn: 1961.2518368\ttotal: 1.18s\tremaining: 947ms\n",
      "70:\tlearn: 1941.0176802\ttotal: 1.35s\tremaining: 744ms\n",
      "80:\tlearn: 1926.9107814\ttotal: 1.51s\tremaining: 543ms\n",
      "90:\tlearn: 1907.4035327\ttotal: 1.7s\tremaining: 355ms\n",
      "100:\tlearn: 1895.8999333\ttotal: 1.88s\tremaining: 168ms\n",
      "109:\tlearn: 1886.1562448\ttotal: 2.06s\tremaining: 0us\n",
      "RMSE, если depth = 2 : 1887.0087763146964\n",
      "\n",
      "Learning rate set to 0.5\n",
      "0:\tlearn: 3350.1672490\ttotal: 19.1ms\tremaining: 2.08s\n",
      "10:\tlearn: 2101.5613101\ttotal: 253ms\tremaining: 2.27s\n",
      "20:\tlearn: 1962.0621980\ttotal: 459ms\tremaining: 1.95s\n",
      "30:\tlearn: 1890.0557250\ttotal: 681ms\tremaining: 1.74s\n",
      "40:\tlearn: 1851.5833050\ttotal: 886ms\tremaining: 1.49s\n",
      "50:\tlearn: 1817.2113020\ttotal: 1.11s\tremaining: 1.28s\n",
      "60:\tlearn: 1791.0650742\ttotal: 1.32s\tremaining: 1.06s\n",
      "70:\tlearn: 1771.0408055\ttotal: 1.54s\tremaining: 844ms\n",
      "80:\tlearn: 1757.0107068\ttotal: 1.75s\tremaining: 627ms\n",
      "90:\tlearn: 1743.5588827\ttotal: 1.97s\tremaining: 410ms\n",
      "100:\tlearn: 1732.1024086\ttotal: 2.19s\tremaining: 195ms\n",
      "109:\tlearn: 1722.6342237\ttotal: 2.4s\tremaining: 0us\n",
      "RMSE, если depth = 4 : 1745.8637963119447\n",
      "\n",
      "Learning rate set to 0.5\n",
      "0:\tlearn: 3253.4096006\ttotal: 40.1ms\tremaining: 4.37s\n",
      "10:\tlearn: 1963.5408401\ttotal: 303ms\tremaining: 2.72s\n",
      "20:\tlearn: 1853.8099285\ttotal: 565ms\tremaining: 2.39s\n",
      "30:\tlearn: 1794.3285050\ttotal: 831ms\tremaining: 2.12s\n",
      "40:\tlearn: 1753.0793659\ttotal: 1.09s\tremaining: 1.84s\n",
      "50:\tlearn: 1727.0471909\ttotal: 1.36s\tremaining: 1.57s\n",
      "60:\tlearn: 1705.3318831\ttotal: 1.62s\tremaining: 1.3s\n",
      "70:\tlearn: 1686.4544066\ttotal: 1.88s\tremaining: 1.03s\n",
      "80:\tlearn: 1669.9906470\ttotal: 2.14s\tremaining: 766ms\n",
      "90:\tlearn: 1657.8513646\ttotal: 2.42s\tremaining: 505ms\n",
      "100:\tlearn: 1646.0764118\ttotal: 2.69s\tremaining: 240ms\n",
      "109:\tlearn: 1636.2309513\ttotal: 2.93s\tremaining: 0us\n",
      "RMSE, если depth = 6 : 1687.7131465486798\n",
      "\n",
      "Learning rate set to 0.5\n",
      "0:\tlearn: 3185.3239828\ttotal: 40.6ms\tremaining: 4.43s\n",
      "10:\tlearn: 1893.1099235\ttotal: 380ms\tremaining: 3.42s\n",
      "20:\tlearn: 1788.6901718\ttotal: 719ms\tremaining: 3.05s\n",
      "30:\tlearn: 1731.5320885\ttotal: 1.03s\tremaining: 2.64s\n",
      "40:\tlearn: 1697.1279108\ttotal: 1.35s\tremaining: 2.28s\n",
      "50:\tlearn: 1665.1074201\ttotal: 1.66s\tremaining: 1.92s\n",
      "60:\tlearn: 1642.7702773\ttotal: 1.97s\tremaining: 1.59s\n",
      "70:\tlearn: 1624.6572669\ttotal: 2.27s\tremaining: 1.25s\n",
      "80:\tlearn: 1608.1163129\ttotal: 2.56s\tremaining: 919ms\n",
      "90:\tlearn: 1593.2152375\ttotal: 2.9s\tremaining: 605ms\n",
      "100:\tlearn: 1581.1225726\ttotal: 3.2s\tremaining: 286ms\n",
      "109:\tlearn: 1570.4667163\ttotal: 3.5s\tremaining: 0us\n",
      "RMSE, если depth = 8 : 1661.2576221875934\n",
      "\n",
      "Learning rate set to 0.5\n",
      "0:\tlearn: 3146.6293705\ttotal: 73ms\tremaining: 7.96s\n",
      "10:\tlearn: 1830.3744747\ttotal: 695ms\tremaining: 6.26s\n",
      "20:\tlearn: 1731.8332594\ttotal: 1.36s\tremaining: 5.76s\n",
      "30:\tlearn: 1677.9792834\ttotal: 1.99s\tremaining: 5.06s\n",
      "40:\tlearn: 1640.6147271\ttotal: 2.55s\tremaining: 4.29s\n",
      "50:\tlearn: 1614.6654202\ttotal: 3.14s\tremaining: 3.63s\n",
      "60:\tlearn: 1589.6461958\ttotal: 3.77s\tremaining: 3.03s\n",
      "70:\tlearn: 1571.6186708\ttotal: 4.48s\tremaining: 2.46s\n",
      "80:\tlearn: 1554.3786264\ttotal: 5.24s\tremaining: 1.88s\n",
      "90:\tlearn: 1538.6986115\ttotal: 5.91s\tremaining: 1.23s\n",
      "100:\tlearn: 1524.2163234\ttotal: 6.51s\tremaining: 580ms\n",
      "109:\tlearn: 1512.1362821\ttotal: 7.1s\tremaining: 0us\n",
      "RMSE, если depth = 10 : 1647.4876236992159\n",
      "\n",
      "Learning rate set to 0.5\n",
      "0:\tlearn: 3108.3436015\ttotal: 136ms\tremaining: 14.8s\n",
      "10:\tlearn: 1777.5371268\ttotal: 1.4s\tremaining: 12.6s\n",
      "20:\tlearn: 1679.4734172\ttotal: 2.57s\tremaining: 10.9s\n",
      "30:\tlearn: 1627.4898473\ttotal: 3.76s\tremaining: 9.58s\n",
      "40:\tlearn: 1582.6448636\ttotal: 4.89s\tremaining: 8.23s\n",
      "50:\tlearn: 1550.4734433\ttotal: 6.03s\tremaining: 6.98s\n",
      "60:\tlearn: 1527.9423563\ttotal: 7.13s\tremaining: 5.73s\n",
      "70:\tlearn: 1507.1950807\ttotal: 8.16s\tremaining: 4.48s\n",
      "80:\tlearn: 1487.5704561\ttotal: 9.21s\tremaining: 3.3s\n",
      "90:\tlearn: 1468.5295890\ttotal: 10.3s\tremaining: 2.14s\n",
      "100:\tlearn: 1453.3372351\ttotal: 11.3s\tremaining: 1s\n",
      "109:\tlearn: 1439.4750538\ttotal: 12.2s\tremaining: 0us\n",
      "RMSE, если depth = 12 : 1640.966485593398\n",
      "\n",
      "Learning rate set to 0.5\n",
      "0:\tlearn: 3068.7637642\ttotal: 367ms\tremaining: 40s\n",
      "10:\tlearn: 1726.3577026\ttotal: 3.8s\tremaining: 34.2s\n",
      "20:\tlearn: 1632.4072137\ttotal: 7.32s\tremaining: 31s\n",
      "30:\tlearn: 1573.8154897\ttotal: 10.7s\tremaining: 27.4s\n",
      "40:\tlearn: 1528.5283329\ttotal: 14.2s\tremaining: 23.9s\n",
      "50:\tlearn: 1492.2784541\ttotal: 17.6s\tremaining: 20.4s\n",
      "60:\tlearn: 1458.6577864\ttotal: 21s\tremaining: 16.9s\n",
      "70:\tlearn: 1432.1818956\ttotal: 24.5s\tremaining: 13.5s\n",
      "80:\tlearn: 1407.9267724\ttotal: 28s\tremaining: 10s\n",
      "90:\tlearn: 1384.3272731\ttotal: 31.4s\tremaining: 6.56s\n",
      "100:\tlearn: 1364.2989634\ttotal: 34.9s\tremaining: 3.11s\n",
      "109:\tlearn: 1349.5508883\ttotal: 38s\tremaining: 0us\n",
      "RMSE, если depth = 14 : 1648.3994552808379\n",
      "\n"
     ]
    }
   ],
   "source": [
    "for depth in range(2, 15, 2):\n",
    "    model_cat = CatBoostRegressor(loss_function=\"RMSE\", iterations=110, depth=depth, verbose=10)\n",
    "    model_cat.fit(features_train, target_train)\n",
    "    predictions_cat = model_cat.predict(features_valid)\n",
    "    rmse_cat = sqrt(mean_squared_error(predictions_cat, target_valid))\n",
    "    print(\"RMSE, если depth =\", depth, \":\", rmse_cat)\n",
    "    print()"
   ]
  },
  {
   "cell_type": "markdown",
   "metadata": {},
   "source": [
    "Минимальный RMSE (1640.96) при количестве итераций 110 и глубине 12."
   ]
  },
  {
   "cell_type": "markdown",
   "metadata": {},
   "source": [
    "### LightGBM"
   ]
  },
  {
   "cell_type": "code",
   "execution_count": 29,
   "metadata": {},
   "outputs": [],
   "source": [
    "parameters = {\n",
    "    'boosting_type': 'gbdt',\n",
    "    'objective': 'regression',\n",
    "    'metric': 'rmse',\n",
    "    'max_depth': 8, \n",
    "    'learning_rate': 0.2,\n",
    "    'verbose': 0\n",
    "}"
   ]
  },
  {
   "cell_type": "code",
   "execution_count": 30,
   "metadata": {
    "scrolled": true
   },
   "outputs": [
    {
     "name": "stdout",
     "output_type": "stream",
     "text": [
      "[LightGBM] [Warning] Accuracy may be bad since you didn't explicitly set num_leaves OR 2^max_depth > num_leaves. (num_leaves=31).\n",
      "[LightGBM] [Warning] Accuracy may be bad since you didn't explicitly set num_leaves OR 2^max_depth > num_leaves. (num_leaves=31).\n",
      "[LightGBM] [Warning] Auto-choosing row-wise multi-threading, the overhead of testing was 0.463447 seconds.\n",
      "You can set `force_row_wise=true` to remove the overhead.\n",
      "And if memory is not enough, you can set `force_col_wise=true`.\n",
      "[LightGBM] [Warning] No further splits with positive gain, best gain: -inf\n",
      "[LightGBM] [Warning] No further splits with positive gain, best gain: -inf\n",
      "[LightGBM] [Warning] No further splits with positive gain, best gain: -inf\n",
      "[LightGBM] [Warning] No further splits with positive gain, best gain: -inf\n"
     ]
    }
   ],
   "source": [
    "model_lgbm = LGBMRegressor(**parameters)\n",
    "model_lgbm.fit(features_train, target_train)\n",
    "predictions_lgbm = model_lgbm.predict(features_valid)"
   ]
  },
  {
   "cell_type": "code",
   "execution_count": 31,
   "metadata": {
    "scrolled": true
   },
   "outputs": [
    {
     "name": "stdout",
     "output_type": "stream",
     "text": [
      "RMSE модели: 1693.2544139713273\n"
     ]
    }
   ],
   "source": [
    "print(\"RMSE модели:\", sqrt(mean_squared_error(predictions_lgbm, target_valid)))"
   ]
  },
  {
   "cell_type": "markdown",
   "metadata": {},
   "source": [
    "RMSE модели: 1693.25"
   ]
  },
  {
   "cell_type": "markdown",
   "metadata": {},
   "source": [
    "### Вывод\n",
    "\n",
    "Нами были обучены три модели:\n",
    "- линейная регрессия с RMSE: 2791.80\n",
    "- CatBoostRegressor с RMSE: 1640.96\n",
    "- LightGBM  с RMSE: 1693.25\n",
    "\n",
    "Осталось сравнить время обучения моделей между собой и с константной моделью."
   ]
  },
  {
   "cell_type": "markdown",
   "metadata": {},
   "source": [
    "## Анализ моделей"
   ]
  },
  {
   "cell_type": "markdown",
   "metadata": {},
   "source": [
    "### Линейная регрессия"
   ]
  },
  {
   "cell_type": "code",
   "execution_count": 32,
   "metadata": {},
   "outputs": [
    {
     "name": "stdout",
     "output_type": "stream",
     "text": [
      "CPU times: user 18.5 s, sys: 19.2 s, total: 37.8 s\n",
      "Wall time: 37.8 s\n"
     ]
    },
    {
     "data": {
      "text/plain": [
       "LinearRegression()"
      ]
     },
     "execution_count": 32,
     "metadata": {},
     "output_type": "execute_result"
    }
   ],
   "source": [
    "%%time\n",
    "\n",
    "model_lr = LinearRegression()\n",
    "model_lr.fit(features_train, target_train)"
   ]
  },
  {
   "cell_type": "code",
   "execution_count": 33,
   "metadata": {},
   "outputs": [
    {
     "name": "stdout",
     "output_type": "stream",
     "text": [
      "CPU times: user 169 ms, sys: 303 ms, total: 472 ms\n",
      "Wall time: 460 ms\n"
     ]
    }
   ],
   "source": [
    "%%time\n",
    "\n",
    "predictions = model_lr.predict(features_test)"
   ]
  },
  {
   "cell_type": "code",
   "execution_count": 34,
   "metadata": {},
   "outputs": [
    {
     "name": "stdout",
     "output_type": "stream",
     "text": [
      "RMSE модели: 2791.8030685689882\n"
     ]
    }
   ],
   "source": [
    "print(\"RMSE модели:\", sqrt(mean_squared_error(predictions, target_test)))"
   ]
  },
  {
   "cell_type": "markdown",
   "metadata": {},
   "source": [
    "Линейная регрессия:\n",
    "- Время обучения модели: 37.8 s\n",
    "- Время предсказания: 472 ms\n",
    "- RMSE модели: 2791.80"
   ]
  },
  {
   "cell_type": "markdown",
   "metadata": {},
   "source": [
    "### CatBoostRegressor"
   ]
  },
  {
   "cell_type": "code",
   "execution_count": 35,
   "metadata": {},
   "outputs": [
    {
     "name": "stdout",
     "output_type": "stream",
     "text": [
      "Learning rate set to 0.5\n",
      "0:\tlearn: 3068.7637642\ttotal: 349ms\tremaining: 38s\n",
      "10:\tlearn: 1726.3577026\ttotal: 4.34s\tremaining: 39.1s\n",
      "20:\tlearn: 1632.4072137\ttotal: 8.56s\tremaining: 36.3s\n",
      "30:\tlearn: 1573.8154897\ttotal: 12.5s\tremaining: 31.8s\n",
      "40:\tlearn: 1528.5283329\ttotal: 16.2s\tremaining: 27.2s\n",
      "50:\tlearn: 1492.2784541\ttotal: 19.9s\tremaining: 23s\n",
      "60:\tlearn: 1458.6577864\ttotal: 23.8s\tremaining: 19.1s\n",
      "70:\tlearn: 1432.1818956\ttotal: 27.8s\tremaining: 15.2s\n",
      "80:\tlearn: 1407.9267724\ttotal: 31.9s\tremaining: 11.4s\n",
      "90:\tlearn: 1384.3272731\ttotal: 36.4s\tremaining: 7.59s\n",
      "100:\tlearn: 1364.2989634\ttotal: 40.3s\tremaining: 3.59s\n",
      "109:\tlearn: 1349.5508883\ttotal: 43.8s\tremaining: 0us\n",
      "CPU times: user 36.3 s, sys: 8.29 s, total: 44.6 s\n",
      "Wall time: 46 s\n"
     ]
    },
    {
     "data": {
      "text/plain": [
       "<catboost.core.CatBoostRegressor at 0x7f77e1e65820>"
      ]
     },
     "execution_count": 35,
     "metadata": {},
     "output_type": "execute_result"
    }
   ],
   "source": [
    "%%time\n",
    "\n",
    "model_cat = CatBoostRegressor(loss_function=\"RMSE\", iterations=110, depth=12, verbose=10)\n",
    "model_cat.fit(features_train, target_train)"
   ]
  },
  {
   "cell_type": "code",
   "execution_count": 36,
   "metadata": {},
   "outputs": [
    {
     "name": "stdout",
     "output_type": "stream",
     "text": [
      "CPU times: user 125 ms, sys: 3.05 ms, total: 128 ms\n",
      "Wall time: 133 ms\n"
     ]
    }
   ],
   "source": [
    "%%time\n",
    "\n",
    "predictions_cat = model_cat.predict(features_test)"
   ]
  },
  {
   "cell_type": "code",
   "execution_count": 37,
   "metadata": {},
   "outputs": [
    {
     "data": {
      "text/plain": [
       "('RMSE модели:', 1648.3994552808379)"
      ]
     },
     "execution_count": 37,
     "metadata": {},
     "output_type": "execute_result"
    }
   ],
   "source": [
    "\"RMSE модели:\", sqrt(mean_squared_error(predictions_cat, target_test))"
   ]
  },
  {
   "cell_type": "markdown",
   "metadata": {},
   "source": [
    "CatBoostRegressor:\n",
    "- Время обучения модели: 44.6 s\n",
    "- Время предсказания: 128 ms\n",
    "- RMSE модели: 1648.39"
   ]
  },
  {
   "cell_type": "markdown",
   "metadata": {},
   "source": [
    "### LightGBM"
   ]
  },
  {
   "cell_type": "code",
   "execution_count": 38,
   "metadata": {},
   "outputs": [],
   "source": [
    "parameters = {\n",
    "    'boosting_type': 'gbdt',\n",
    "    'objective': 'regression',\n",
    "    'metric': 'rmse',\n",
    "    'max_depth': 8, \n",
    "    'learning_rate': 0.2,\n",
    "    'verbose': 0\n",
    "}"
   ]
  },
  {
   "cell_type": "code",
   "execution_count": 39,
   "metadata": {
    "scrolled": true
   },
   "outputs": [
    {
     "name": "stdout",
     "output_type": "stream",
     "text": [
      "[LightGBM] [Warning] Accuracy may be bad since you didn't explicitly set num_leaves OR 2^max_depth > num_leaves. (num_leaves=31).\n",
      "[LightGBM] [Warning] Accuracy may be bad since you didn't explicitly set num_leaves OR 2^max_depth > num_leaves. (num_leaves=31).\n",
      "[LightGBM] [Warning] Auto-choosing row-wise multi-threading, the overhead of testing was 0.442229 seconds.\n",
      "You can set `force_row_wise=true` to remove the overhead.\n",
      "And if memory is not enough, you can set `force_col_wise=true`.\n",
      "[LightGBM] [Warning] No further splits with positive gain, best gain: -inf\n",
      "[LightGBM] [Warning] No further splits with positive gain, best gain: -inf\n",
      "[LightGBM] [Warning] No further splits with positive gain, best gain: -inf\n",
      "[LightGBM] [Warning] No further splits with positive gain, best gain: -inf\n",
      "CPU times: user 2min 38s, sys: 5.09 s, total: 2min 43s\n",
      "Wall time: 2min 44s\n"
     ]
    },
    {
     "data": {
      "text/plain": [
       "LGBMRegressor(learning_rate=0.2, max_depth=8, metric='rmse',\n",
       "              objective='regression', verbose=0)"
      ]
     },
     "execution_count": 39,
     "metadata": {},
     "output_type": "execute_result"
    }
   ],
   "source": [
    "%%time\n",
    "\n",
    "model_lgbm = LGBMRegressor(**parameters)\n",
    "model_lgbm.fit(features_train, target_train)"
   ]
  },
  {
   "cell_type": "code",
   "execution_count": 40,
   "metadata": {},
   "outputs": [
    {
     "name": "stdout",
     "output_type": "stream",
     "text": [
      "CPU times: user 576 ms, sys: 391 ms, total: 967 ms\n",
      "Wall time: 923 ms\n"
     ]
    }
   ],
   "source": [
    "%%time\n",
    "\n",
    "predictions_lgbm = model_lgbm.predict(features_test)"
   ]
  },
  {
   "cell_type": "code",
   "execution_count": 41,
   "metadata": {
    "scrolled": true
   },
   "outputs": [
    {
     "name": "stdout",
     "output_type": "stream",
     "text": [
      "RMSE модели: 1693.2544139713273\n"
     ]
    }
   ],
   "source": [
    "print(\"RMSE модели:\", sqrt(mean_squared_error(predictions_lgbm, target_test)))"
   ]
  },
  {
   "cell_type": "markdown",
   "metadata": {},
   "source": [
    "LightGBM:\n",
    "- Время обучения модели: 2min 43s\n",
    "- Время предсказания: 967 ms\n",
    "- RMSE модели: 1693.25"
   ]
  },
  {
   "cell_type": "markdown",
   "metadata": {},
   "source": [
    "### Константная модель"
   ]
  },
  {
   "cell_type": "code",
   "execution_count": 42,
   "metadata": {
    "scrolled": true
   },
   "outputs": [
    {
     "name": "stdout",
     "output_type": "stream",
     "text": [
      "CPU times: user 1.04 ms, sys: 173 µs, total: 1.21 ms\n",
      "Wall time: 947 µs\n"
     ]
    }
   ],
   "source": [
    "%%time\n",
    "\n",
    "predictions_const = pd.Series(target_test.mean(), index=target_test.index)"
   ]
  },
  {
   "cell_type": "code",
   "execution_count": 43,
   "metadata": {},
   "outputs": [
    {
     "name": "stdout",
     "output_type": "stream",
     "text": [
      "RMSE константной модели: 4613.011700997531\n"
     ]
    }
   ],
   "source": [
    "print(\"RMSE константной модели:\", sqrt(mean_squared_error(predictions_const, target_test)))"
   ]
  },
  {
   "cell_type": "markdown",
   "metadata": {},
   "source": [
    "Константная модель:\n",
    "- Время обучения модели: 0 ms\n",
    "- Время предсказания: 1.21 ms\n",
    "- RMSE модели: 4613.01"
   ]
  },
  {
   "cell_type": "markdown",
   "metadata": {},
   "source": [
    "### Сравнение моделей"
   ]
  },
  {
   "cell_type": "code",
   "execution_count": 45,
   "metadata": {
    "scrolled": true
   },
   "outputs": [
    {
     "data": {
      "text/html": [
       "<div>\n",
       "<style scoped>\n",
       "    .dataframe tbody tr th:only-of-type {\n",
       "        vertical-align: middle;\n",
       "    }\n",
       "\n",
       "    .dataframe tbody tr th {\n",
       "        vertical-align: top;\n",
       "    }\n",
       "\n",
       "    .dataframe thead th {\n",
       "        text-align: right;\n",
       "    }\n",
       "</style>\n",
       "<table border=\"1\" class=\"dataframe\">\n",
       "  <thead>\n",
       "    <tr style=\"text-align: right;\">\n",
       "      <th></th>\n",
       "      <th>Модель</th>\n",
       "      <th>Время обучения</th>\n",
       "      <th>Время предсказани</th>\n",
       "      <th>RMSE</th>\n",
       "    </tr>\n",
       "  </thead>\n",
       "  <tbody>\n",
       "    <tr>\n",
       "      <th>0</th>\n",
       "      <td>Линейная регрессия</td>\n",
       "      <td>37.8 s</td>\n",
       "      <td>472 ms</td>\n",
       "      <td>2791.80</td>\n",
       "    </tr>\n",
       "    <tr>\n",
       "      <th>1</th>\n",
       "      <td>CatBoostRegressor</td>\n",
       "      <td>44.6 s</td>\n",
       "      <td>128 ms</td>\n",
       "      <td>1648.39</td>\n",
       "    </tr>\n",
       "    <tr>\n",
       "      <th>2</th>\n",
       "      <td>LightGBM</td>\n",
       "      <td>2min 43s</td>\n",
       "      <td>967 ms</td>\n",
       "      <td>1693.25</td>\n",
       "    </tr>\n",
       "    <tr>\n",
       "      <th>3</th>\n",
       "      <td>Константная модель</td>\n",
       "      <td>0 ms</td>\n",
       "      <td>1.21 ms</td>\n",
       "      <td>4613.01</td>\n",
       "    </tr>\n",
       "  </tbody>\n",
       "</table>\n",
       "</div>"
      ],
      "text/plain": [
       "               Модель Время обучения Время предсказани     RMSE\n",
       "0  Линейная регрессия         37.8 s            472 ms  2791.80\n",
       "1   CatBoostRegressor         44.6 s            128 ms  1648.39\n",
       "2            LightGBM       2min 43s            967 ms  1693.25\n",
       "3  Константная модель           0 ms           1.21 ms  4613.01"
      ]
     },
     "execution_count": 45,
     "metadata": {},
     "output_type": "execute_result"
    }
   ],
   "source": [
    "models = [['Линейная регрессия', '37.8 s', '472 ms', 2791.80], ['CatBoostRegressor', '44.6 s', '128 ms', 1648.39], \n",
    "       ['LightGBM', '2min 43s', '967 ms', 1693.25], ['Константная модель', '0 ms', '1.21 ms', 4613.01]] \n",
    "    \n",
    "df = pd.DataFrame(models, columns =['Модель', 'Время обучения', 'Время предсказани', 'RMSE']) \n",
    "df"
   ]
  },
  {
   "cell_type": "markdown",
   "metadata": {},
   "source": [
    "### Вывод\n",
    "\n",
    "Самый лучший результат RMSE дают модели LightGBM и CatBoostRegressor, однако CatBoostRegressor обучается в четыре раза быстрее. Рекомендую для предсказания стоимости автомобилей использовать ее.\n",
    "\n",
    "Самый низкий результат RMSE у константной модели, при этом она является самой быстрой."
   ]
  },
  {
   "cell_type": "markdown",
   "metadata": {},
   "source": [
    "## Общий вывод\n",
    "\n",
    "Нами был получен датасет с 16 столбцами и 354369 строками, типы данных: int64 и object.\n",
    "\n",
    "В нем были найдены пропуски, выбросы, дубликаты, аномальные значения и неинформативные строки.\n",
    "\n",
    "После предобработки данных, разделения их на выборки и кодирования категориальных признаков у нас получилось три датасета размерами:\n",
    "\n",
    "- 167319 rows × 311 columns\n",
    "- 55773 rows × 311 columns\n",
    "- 55774 rows × 311 columns\n",
    "\n",
    "Нами были обучены четыре модели:\n",
    "- линейная регрессия с RMSE: 2791.80 и временем обучения 37.8 s\n",
    "- CatBoostRegressor с RMSE: 1648.39 и временем обучения 44.6 s\n",
    "- LightGBM  с RMSE: 1693.25 и временем обучения 2min 43s\n",
    "- константная модель с RMSE: 4613.01 и временем обучения 0 ms\n",
    "\n",
    "Самый лучший результат RMSE дают модели LightGBM и CatBoostRegressor, однако CatBoostRegressor обучается в четыре раза быстрее. Рекомендую для предсказания стоимости автомобилей использовать ее."
   ]
  }
 ],
 "metadata": {
  "ExecuteTimeLog": [
   {
    "duration": 436,
    "start_time": "2022-06-08T08:33:40.681Z"
   },
   {
    "duration": 2726,
    "start_time": "2022-06-08T08:34:22.160Z"
   },
   {
    "duration": 709,
    "start_time": "2022-06-08T08:34:42.443Z"
   },
   {
    "duration": 92,
    "start_time": "2022-06-08T08:36:41.515Z"
   },
   {
    "duration": 95,
    "start_time": "2022-06-08T08:40:55.413Z"
   },
   {
    "duration": 89,
    "start_time": "2022-06-08T08:41:47.344Z"
   },
   {
    "duration": 801,
    "start_time": "2022-06-08T08:50:30.772Z"
   },
   {
    "duration": 355,
    "start_time": "2022-06-08T08:51:17.194Z"
   },
   {
    "duration": 85,
    "start_time": "2022-06-08T08:52:38.824Z"
   },
   {
    "duration": 89,
    "start_time": "2022-06-08T08:55:35.965Z"
   },
   {
    "duration": 3,
    "start_time": "2022-06-08T08:55:39.100Z"
   },
   {
    "duration": 3,
    "start_time": "2022-06-08T08:55:43.721Z"
   },
   {
    "duration": 110,
    "start_time": "2022-06-08T08:55:53.442Z"
   },
   {
    "duration": 3,
    "start_time": "2022-06-08T08:59:13.441Z"
   },
   {
    "duration": 685,
    "start_time": "2022-06-08T09:02:50.496Z"
   },
   {
    "duration": 524,
    "start_time": "2022-06-08T09:03:05.745Z"
   },
   {
    "duration": 547,
    "start_time": "2022-06-08T09:03:15.029Z"
   },
   {
    "duration": 16,
    "start_time": "2022-06-08T09:16:27.847Z"
   },
   {
    "duration": 460,
    "start_time": "2022-06-08T09:17:10.857Z"
   },
   {
    "duration": 362,
    "start_time": "2022-06-08T09:17:27.568Z"
   },
   {
    "duration": 17,
    "start_time": "2022-06-08T09:17:55.882Z"
   },
   {
    "duration": 17,
    "start_time": "2022-06-08T09:18:11.967Z"
   },
   {
    "duration": 19,
    "start_time": "2022-06-08T09:19:03.377Z"
   },
   {
    "duration": 22,
    "start_time": "2022-06-08T09:19:24.621Z"
   },
   {
    "duration": 22,
    "start_time": "2022-06-08T09:19:29.373Z"
   },
   {
    "duration": 7,
    "start_time": "2022-06-08T09:19:50.985Z"
   },
   {
    "duration": 10,
    "start_time": "2022-06-08T09:19:56.274Z"
   },
   {
    "duration": 18,
    "start_time": "2022-06-08T09:20:02.282Z"
   },
   {
    "duration": 22,
    "start_time": "2022-06-08T09:21:06.209Z"
   },
   {
    "duration": 21,
    "start_time": "2022-06-08T09:22:56.661Z"
   },
   {
    "duration": 9,
    "start_time": "2022-06-08T09:23:06.133Z"
   },
   {
    "duration": 21,
    "start_time": "2022-06-08T09:23:16.163Z"
   },
   {
    "duration": 21,
    "start_time": "2022-06-08T09:24:03.060Z"
   },
   {
    "duration": 21,
    "start_time": "2022-06-08T09:26:32.213Z"
   },
   {
    "duration": 22,
    "start_time": "2022-06-08T09:26:43.945Z"
   },
   {
    "duration": 21,
    "start_time": "2022-06-08T09:26:49.540Z"
   },
   {
    "duration": 24,
    "start_time": "2022-06-08T09:26:53.234Z"
   },
   {
    "duration": 22,
    "start_time": "2022-06-08T09:27:22.871Z"
   },
   {
    "duration": 20,
    "start_time": "2022-06-08T09:27:32.652Z"
   },
   {
    "duration": 21,
    "start_time": "2022-06-08T09:27:39.400Z"
   },
   {
    "duration": 20,
    "start_time": "2022-06-08T09:28:19.140Z"
   },
   {
    "duration": 7,
    "start_time": "2022-06-08T09:28:37.874Z"
   },
   {
    "duration": 7,
    "start_time": "2022-06-08T09:30:35.410Z"
   },
   {
    "duration": 18,
    "start_time": "2022-06-08T09:30:42.367Z"
   },
   {
    "duration": 21,
    "start_time": "2022-06-08T09:30:58.329Z"
   },
   {
    "duration": 23,
    "start_time": "2022-06-08T09:34:55.891Z"
   },
   {
    "duration": 22,
    "start_time": "2022-06-08T09:35:17.723Z"
   },
   {
    "duration": 32,
    "start_time": "2022-06-08T09:35:31.306Z"
   },
   {
    "duration": 26,
    "start_time": "2022-06-08T09:35:39.375Z"
   },
   {
    "duration": 37,
    "start_time": "2022-06-08T09:35:48.277Z"
   },
   {
    "duration": 48,
    "start_time": "2022-06-08T09:35:54.087Z"
   },
   {
    "duration": 180,
    "start_time": "2022-06-08T09:36:02.971Z"
   },
   {
    "duration": 40,
    "start_time": "2022-06-08T09:36:06.801Z"
   },
   {
    "duration": 21,
    "start_time": "2022-06-08T09:36:11.862Z"
   },
   {
    "duration": 24,
    "start_time": "2022-06-08T09:36:23.503Z"
   },
   {
    "duration": 22,
    "start_time": "2022-06-08T09:36:30.009Z"
   },
   {
    "duration": 22,
    "start_time": "2022-06-08T09:36:40.292Z"
   },
   {
    "duration": 22,
    "start_time": "2022-06-08T09:36:49.887Z"
   },
   {
    "duration": 23,
    "start_time": "2022-06-08T09:37:50.586Z"
   },
   {
    "duration": 22,
    "start_time": "2022-06-08T09:38:00.880Z"
   },
   {
    "duration": 22,
    "start_time": "2022-06-08T09:39:19.201Z"
   },
   {
    "duration": 20,
    "start_time": "2022-06-08T09:39:49.399Z"
   },
   {
    "duration": 1407,
    "start_time": "2022-06-09T06:53:48.704Z"
   },
   {
    "duration": 1251,
    "start_time": "2022-06-09T06:53:51.608Z"
   },
   {
    "duration": 140,
    "start_time": "2022-06-09T06:53:54.596Z"
   },
   {
    "duration": 105,
    "start_time": "2022-06-09T06:53:54.934Z"
   },
   {
    "duration": 524,
    "start_time": "2022-06-09T06:53:56.179Z"
   },
   {
    "duration": 164,
    "start_time": "2022-06-09T06:53:57.416Z"
   },
   {
    "duration": 143,
    "start_time": "2022-06-09T06:53:58.644Z"
   },
   {
    "duration": 737,
    "start_time": "2022-06-09T06:53:59.933Z"
   },
   {
    "duration": 23,
    "start_time": "2022-06-09T06:54:02.233Z"
   },
   {
    "duration": 22,
    "start_time": "2022-06-09T06:54:02.826Z"
   },
   {
    "duration": 115,
    "start_time": "2022-06-09T06:54:03.403Z"
   },
   {
    "duration": 24,
    "start_time": "2022-06-09T06:54:04.004Z"
   },
   {
    "duration": 36,
    "start_time": "2022-06-09T06:54:20.927Z"
   },
   {
    "duration": 23,
    "start_time": "2022-06-09T06:59:21.759Z"
   },
   {
    "duration": 25,
    "start_time": "2022-06-09T06:59:36.385Z"
   },
   {
    "duration": 44,
    "start_time": "2022-06-09T06:59:41.432Z"
   },
   {
    "duration": 31,
    "start_time": "2022-06-09T06:59:48.129Z"
   },
   {
    "duration": 42,
    "start_time": "2022-06-09T07:00:22.627Z"
   },
   {
    "duration": 24,
    "start_time": "2022-06-09T07:01:08.365Z"
   },
   {
    "duration": 21,
    "start_time": "2022-06-09T07:02:26.617Z"
   },
   {
    "duration": 3,
    "start_time": "2022-06-09T07:16:57.212Z"
   },
   {
    "duration": 13,
    "start_time": "2022-06-09T07:17:31.257Z"
   },
   {
    "duration": 8,
    "start_time": "2022-06-09T07:17:49.564Z"
   },
   {
    "duration": 10,
    "start_time": "2022-06-09T07:17:57.880Z"
   },
   {
    "duration": 35,
    "start_time": "2022-06-09T07:19:45.200Z"
   },
   {
    "duration": 5,
    "start_time": "2022-06-09T07:20:00.404Z"
   },
   {
    "duration": 14,
    "start_time": "2022-06-09T07:22:46.760Z"
   },
   {
    "duration": 1097,
    "start_time": "2022-06-09T07:23:07.737Z"
   },
   {
    "duration": 893,
    "start_time": "2022-06-09T07:23:08.837Z"
   },
   {
    "duration": 150,
    "start_time": "2022-06-09T07:23:09.734Z"
   },
   {
    "duration": 112,
    "start_time": "2022-06-09T07:23:09.886Z"
   },
   {
    "duration": 488,
    "start_time": "2022-06-09T07:23:10.001Z"
   },
   {
    "duration": 151,
    "start_time": "2022-06-09T07:23:10.492Z"
   },
   {
    "duration": 139,
    "start_time": "2022-06-09T07:23:10.645Z"
   },
   {
    "duration": 572,
    "start_time": "2022-06-09T07:23:10.786Z"
   },
   {
    "duration": 27,
    "start_time": "2022-06-09T07:23:11.360Z"
   },
   {
    "duration": 4,
    "start_time": "2022-06-09T07:23:11.388Z"
   },
   {
    "duration": 283,
    "start_time": "2022-06-09T07:27:47.061Z"
   },
   {
    "duration": 4,
    "start_time": "2022-06-09T07:28:02.167Z"
   },
   {
    "duration": 1062,
    "start_time": "2022-06-09T07:28:41.485Z"
   },
   {
    "duration": 897,
    "start_time": "2022-06-09T07:28:42.552Z"
   },
   {
    "duration": 146,
    "start_time": "2022-06-09T07:28:43.453Z"
   },
   {
    "duration": 106,
    "start_time": "2022-06-09T07:28:43.602Z"
   },
   {
    "duration": 473,
    "start_time": "2022-06-09T07:28:43.723Z"
   },
   {
    "duration": 156,
    "start_time": "2022-06-09T07:28:44.198Z"
   },
   {
    "duration": 158,
    "start_time": "2022-06-09T07:28:44.356Z"
   },
   {
    "duration": 626,
    "start_time": "2022-06-09T07:28:44.516Z"
   },
   {
    "duration": 28,
    "start_time": "2022-06-09T07:28:45.144Z"
   },
   {
    "duration": 352,
    "start_time": "2022-06-09T07:28:45.173Z"
   },
   {
    "duration": 203,
    "start_time": "2022-06-09T07:28:45.527Z"
   },
   {
    "duration": 5,
    "start_time": "2022-06-09T07:28:45.735Z"
   },
   {
    "duration": 1036,
    "start_time": "2022-06-09T07:29:04.080Z"
   },
   {
    "duration": 835,
    "start_time": "2022-06-09T07:29:05.118Z"
   },
   {
    "duration": 142,
    "start_time": "2022-06-09T07:29:05.955Z"
   },
   {
    "duration": 102,
    "start_time": "2022-06-09T07:29:06.099Z"
   },
   {
    "duration": 462,
    "start_time": "2022-06-09T07:29:06.204Z"
   },
   {
    "duration": 129,
    "start_time": "2022-06-09T07:29:06.668Z"
   },
   {
    "duration": 151,
    "start_time": "2022-06-09T07:29:06.799Z"
   },
   {
    "duration": 610,
    "start_time": "2022-06-09T07:29:06.951Z"
   },
   {
    "duration": 27,
    "start_time": "2022-06-09T07:29:07.562Z"
   },
   {
    "duration": 246,
    "start_time": "2022-06-09T07:29:07.591Z"
   },
   {
    "duration": 287,
    "start_time": "2022-06-09T07:29:07.838Z"
   },
   {
    "duration": 12,
    "start_time": "2022-06-09T07:29:08.126Z"
   },
   {
    "duration": 208,
    "start_time": "2022-06-09T07:29:58.789Z"
   },
   {
    "duration": 1120,
    "start_time": "2022-06-09T07:30:05.540Z"
   },
   {
    "duration": 811,
    "start_time": "2022-06-09T07:30:06.661Z"
   },
   {
    "duration": 139,
    "start_time": "2022-06-09T07:30:07.474Z"
   },
   {
    "duration": 111,
    "start_time": "2022-06-09T07:30:07.615Z"
   },
   {
    "duration": 465,
    "start_time": "2022-06-09T07:30:07.734Z"
   },
   {
    "duration": 138,
    "start_time": "2022-06-09T07:30:08.201Z"
   },
   {
    "duration": 136,
    "start_time": "2022-06-09T07:30:08.341Z"
   },
   {
    "duration": 619,
    "start_time": "2022-06-09T07:30:08.479Z"
   },
   {
    "duration": 41,
    "start_time": "2022-06-09T07:30:09.100Z"
   },
   {
    "duration": 241,
    "start_time": "2022-06-09T07:30:09.143Z"
   },
   {
    "duration": 236,
    "start_time": "2022-06-09T07:30:09.385Z"
   },
   {
    "duration": 295,
    "start_time": "2022-06-09T07:30:09.628Z"
   },
   {
    "duration": 14,
    "start_time": "2022-06-09T07:30:09.926Z"
   },
   {
    "duration": 178,
    "start_time": "2022-06-09T07:34:22.767Z"
   },
   {
    "duration": 22,
    "start_time": "2022-06-09T07:44:06.791Z"
   },
   {
    "duration": 17,
    "start_time": "2022-06-09T07:44:21.929Z"
   },
   {
    "duration": 23,
    "start_time": "2022-06-09T07:50:40.402Z"
   },
   {
    "duration": 9,
    "start_time": "2022-06-09T07:52:44.872Z"
   },
   {
    "duration": 48,
    "start_time": "2022-06-09T07:53:09.087Z"
   },
   {
    "duration": 49,
    "start_time": "2022-06-09T07:53:27.604Z"
   },
   {
    "duration": 24,
    "start_time": "2022-06-09T08:10:08.443Z"
   },
   {
    "duration": 32,
    "start_time": "2022-06-09T08:10:11.320Z"
   },
   {
    "duration": 4,
    "start_time": "2022-06-09T08:10:25.879Z"
   },
   {
    "duration": 1069,
    "start_time": "2022-06-09T08:23:34.236Z"
   },
   {
    "duration": 802,
    "start_time": "2022-06-09T08:23:35.307Z"
   },
   {
    "duration": 139,
    "start_time": "2022-06-09T08:23:36.113Z"
   },
   {
    "duration": 104,
    "start_time": "2022-06-09T08:23:36.254Z"
   },
   {
    "duration": 445,
    "start_time": "2022-06-09T08:23:36.360Z"
   },
   {
    "duration": 122,
    "start_time": "2022-06-09T08:23:36.807Z"
   },
   {
    "duration": 128,
    "start_time": "2022-06-09T08:23:36.931Z"
   },
   {
    "duration": 606,
    "start_time": "2022-06-09T08:23:37.061Z"
   },
   {
    "duration": 28,
    "start_time": "2022-06-09T08:23:37.669Z"
   },
   {
    "duration": 235,
    "start_time": "2022-06-09T08:23:37.699Z"
   },
   {
    "duration": 244,
    "start_time": "2022-06-09T08:23:37.936Z"
   },
   {
    "duration": 262,
    "start_time": "2022-06-09T08:23:38.182Z"
   },
   {
    "duration": 3,
    "start_time": "2022-06-09T08:23:38.446Z"
   },
   {
    "duration": 99,
    "start_time": "2022-06-09T08:23:38.451Z"
   },
   {
    "duration": 0,
    "start_time": "2022-06-09T08:23:38.552Z"
   },
   {
    "duration": 10,
    "start_time": "2022-06-09T08:24:08.388Z"
   },
   {
    "duration": 12,
    "start_time": "2022-06-09T08:24:15.009Z"
   },
   {
    "duration": 8,
    "start_time": "2022-06-09T08:24:40.325Z"
   },
   {
    "duration": 19,
    "start_time": "2022-06-09T08:25:17.881Z"
   },
   {
    "duration": 16,
    "start_time": "2022-06-09T08:25:23.620Z"
   },
   {
    "duration": 176,
    "start_time": "2022-06-09T08:25:30.768Z"
   },
   {
    "duration": 4,
    "start_time": "2022-06-09T08:25:34.790Z"
   },
   {
    "duration": 86,
    "start_time": "2022-06-09T08:25:56.978Z"
   },
   {
    "duration": 19,
    "start_time": "2022-06-09T08:26:13.463Z"
   },
   {
    "duration": 97,
    "start_time": "2022-06-09T08:26:23.292Z"
   },
   {
    "duration": 18,
    "start_time": "2022-06-09T08:26:26.832Z"
   },
   {
    "duration": 43,
    "start_time": "2022-06-09T10:19:23.353Z"
   },
   {
    "duration": 5,
    "start_time": "2022-06-09T10:19:32.912Z"
   },
   {
    "duration": 40,
    "start_time": "2022-06-09T10:19:35.039Z"
   },
   {
    "duration": 19,
    "start_time": "2022-06-09T10:19:56.484Z"
   },
   {
    "duration": 1360,
    "start_time": "2022-06-09T10:20:03.951Z"
   },
   {
    "duration": 983,
    "start_time": "2022-06-09T10:20:05.313Z"
   },
   {
    "duration": 188,
    "start_time": "2022-06-09T10:20:06.297Z"
   },
   {
    "duration": 114,
    "start_time": "2022-06-09T10:20:06.489Z"
   },
   {
    "duration": 606,
    "start_time": "2022-06-09T10:20:06.605Z"
   },
   {
    "duration": 165,
    "start_time": "2022-06-09T10:20:07.214Z"
   },
   {
    "duration": 151,
    "start_time": "2022-06-09T10:20:07.381Z"
   },
   {
    "duration": 698,
    "start_time": "2022-06-09T10:20:07.534Z"
   },
   {
    "duration": 29,
    "start_time": "2022-06-09T10:20:08.234Z"
   },
   {
    "duration": 274,
    "start_time": "2022-06-09T10:20:08.265Z"
   },
   {
    "duration": 245,
    "start_time": "2022-06-09T10:20:08.541Z"
   },
   {
    "duration": 346,
    "start_time": "2022-06-09T10:20:08.790Z"
   },
   {
    "duration": 5,
    "start_time": "2022-06-09T10:20:09.138Z"
   },
   {
    "duration": 37,
    "start_time": "2022-06-09T10:20:09.145Z"
   },
   {
    "duration": 21,
    "start_time": "2022-06-09T10:20:09.184Z"
   },
   {
    "duration": 133,
    "start_time": "2022-06-09T10:20:45.021Z"
   },
   {
    "duration": 28,
    "start_time": "2022-06-09T10:20:52.820Z"
   },
   {
    "duration": 25,
    "start_time": "2022-06-09T10:21:13.624Z"
   },
   {
    "duration": 36,
    "start_time": "2022-06-09T10:21:19.951Z"
   },
   {
    "duration": 21,
    "start_time": "2022-06-09T10:21:20.648Z"
   },
   {
    "duration": 23,
    "start_time": "2022-06-09T10:21:24.193Z"
   },
   {
    "duration": 28,
    "start_time": "2022-06-09T10:21:25.904Z"
   },
   {
    "duration": 104,
    "start_time": "2022-06-09T10:30:52.146Z"
   },
   {
    "duration": 83,
    "start_time": "2022-06-09T10:31:13.017Z"
   },
   {
    "duration": 1144,
    "start_time": "2022-06-09T10:35:27.204Z"
   },
   {
    "duration": 859,
    "start_time": "2022-06-09T10:35:28.350Z"
   },
   {
    "duration": 154,
    "start_time": "2022-06-09T10:35:29.211Z"
   },
   {
    "duration": 107,
    "start_time": "2022-06-09T10:35:29.366Z"
   },
   {
    "duration": 490,
    "start_time": "2022-06-09T10:35:29.475Z"
   },
   {
    "duration": 147,
    "start_time": "2022-06-09T10:35:29.967Z"
   },
   {
    "duration": 136,
    "start_time": "2022-06-09T10:35:30.116Z"
   },
   {
    "duration": 586,
    "start_time": "2022-06-09T10:35:30.255Z"
   },
   {
    "duration": 27,
    "start_time": "2022-06-09T10:35:30.843Z"
   },
   {
    "duration": 233,
    "start_time": "2022-06-09T10:35:30.872Z"
   },
   {
    "duration": 205,
    "start_time": "2022-06-09T10:35:31.106Z"
   },
   {
    "duration": 264,
    "start_time": "2022-06-09T10:35:31.313Z"
   },
   {
    "duration": 28,
    "start_time": "2022-06-09T10:35:31.579Z"
   },
   {
    "duration": 100,
    "start_time": "2022-06-09T10:35:31.623Z"
   },
   {
    "duration": 68,
    "start_time": "2022-06-09T10:35:31.725Z"
   },
   {
    "duration": 194,
    "start_time": "2022-06-09T10:37:05.306Z"
   },
   {
    "duration": 23,
    "start_time": "2022-06-09T10:37:06.491Z"
   },
   {
    "duration": 85,
    "start_time": "2022-06-09T10:37:07.948Z"
   },
   {
    "duration": 85,
    "start_time": "2022-06-09T10:37:08.752Z"
   },
   {
    "duration": 5,
    "start_time": "2022-06-09T10:37:35.303Z"
   },
   {
    "duration": 20,
    "start_time": "2022-06-09T10:40:59.156Z"
   },
   {
    "duration": 5,
    "start_time": "2022-06-09T10:42:42.815Z"
   },
   {
    "duration": 22,
    "start_time": "2022-06-09T10:42:47.714Z"
   },
   {
    "duration": 164,
    "start_time": "2022-06-09T10:43:22.622Z"
   },
   {
    "duration": 179,
    "start_time": "2022-06-09T10:43:30.395Z"
   },
   {
    "duration": 642,
    "start_time": "2022-06-09T10:43:56.399Z"
   },
   {
    "duration": 66,
    "start_time": "2022-06-09T10:46:42.853Z"
   },
   {
    "duration": 32,
    "start_time": "2022-06-09T10:47:21.018Z"
   },
   {
    "duration": 5,
    "start_time": "2022-06-09T10:47:30.018Z"
   },
   {
    "duration": 552,
    "start_time": "2022-06-09T10:47:56.626Z"
   },
   {
    "duration": 30,
    "start_time": "2022-06-09T10:48:21.494Z"
   },
   {
    "duration": 630,
    "start_time": "2022-06-09T10:48:23.647Z"
   },
   {
    "duration": 564,
    "start_time": "2022-06-09T10:48:37.550Z"
   },
   {
    "duration": 141,
    "start_time": "2022-06-09T10:48:55.234Z"
   },
   {
    "duration": 655,
    "start_time": "2022-06-09T10:49:01.834Z"
   },
   {
    "duration": 724,
    "start_time": "2022-06-09T10:50:44.795Z"
   },
   {
    "duration": 1188,
    "start_time": "2022-06-09T10:51:06.235Z"
   },
   {
    "duration": 901,
    "start_time": "2022-06-09T10:51:07.425Z"
   },
   {
    "duration": 160,
    "start_time": "2022-06-09T10:51:08.329Z"
   },
   {
    "duration": 116,
    "start_time": "2022-06-09T10:51:08.492Z"
   },
   {
    "duration": 528,
    "start_time": "2022-06-09T10:51:08.610Z"
   },
   {
    "duration": 139,
    "start_time": "2022-06-09T10:51:09.140Z"
   },
   {
    "duration": 251,
    "start_time": "2022-06-09T10:51:09.281Z"
   },
   {
    "duration": 810,
    "start_time": "2022-06-09T10:51:09.535Z"
   },
   {
    "duration": 33,
    "start_time": "2022-06-09T10:51:10.347Z"
   },
   {
    "duration": 233,
    "start_time": "2022-06-09T10:51:10.383Z"
   },
   {
    "duration": 201,
    "start_time": "2022-06-09T10:51:10.617Z"
   },
   {
    "duration": 318,
    "start_time": "2022-06-09T10:51:10.822Z"
   },
   {
    "duration": 34,
    "start_time": "2022-06-09T10:51:11.143Z"
   },
   {
    "duration": 116,
    "start_time": "2022-06-09T10:51:11.179Z"
   },
   {
    "duration": 126,
    "start_time": "2022-06-09T10:51:11.297Z"
   },
   {
    "duration": 579,
    "start_time": "2022-06-09T10:51:11.425Z"
   },
   {
    "duration": 88,
    "start_time": "2022-06-09T10:51:12.006Z"
   },
   {
    "duration": 620,
    "start_time": "2022-06-09T10:51:12.096Z"
   },
   {
    "duration": 13,
    "start_time": "2022-06-09T10:51:51.106Z"
   },
   {
    "duration": 75,
    "start_time": "2022-06-09T10:51:59.543Z"
   },
   {
    "duration": 186,
    "start_time": "2022-06-09T11:05:14.330Z"
   },
   {
    "duration": 75,
    "start_time": "2022-06-09T11:05:22.097Z"
   },
   {
    "duration": 26,
    "start_time": "2022-06-09T11:06:54.466Z"
   },
   {
    "duration": 659,
    "start_time": "2022-06-09T11:10:05.123Z"
   },
   {
    "duration": 612,
    "start_time": "2022-06-09T11:11:17.759Z"
   },
   {
    "duration": 649,
    "start_time": "2022-06-09T11:22:50.676Z"
   },
   {
    "duration": 1540,
    "start_time": "2022-06-09T13:53:34.047Z"
   },
   {
    "duration": 1294,
    "start_time": "2022-06-09T13:53:46.305Z"
   },
   {
    "duration": 2792,
    "start_time": "2022-06-09T13:53:47.602Z"
   },
   {
    "duration": 151,
    "start_time": "2022-06-09T13:53:50.396Z"
   },
   {
    "duration": 100,
    "start_time": "2022-06-09T13:53:50.549Z"
   },
   {
    "duration": 480,
    "start_time": "2022-06-09T13:53:50.658Z"
   },
   {
    "duration": 135,
    "start_time": "2022-06-09T13:53:51.140Z"
   },
   {
    "duration": 137,
    "start_time": "2022-06-09T13:53:51.277Z"
   },
   {
    "duration": 688,
    "start_time": "2022-06-09T13:53:51.416Z"
   },
   {
    "duration": 30,
    "start_time": "2022-06-09T13:53:52.107Z"
   },
   {
    "duration": 224,
    "start_time": "2022-06-09T13:53:52.139Z"
   },
   {
    "duration": 200,
    "start_time": "2022-06-09T13:53:52.366Z"
   },
   {
    "duration": 255,
    "start_time": "2022-06-09T13:53:52.569Z"
   },
   {
    "duration": 25,
    "start_time": "2022-06-09T13:53:52.826Z"
   },
   {
    "duration": 111,
    "start_time": "2022-06-09T13:53:52.860Z"
   },
   {
    "duration": 98,
    "start_time": "2022-06-09T13:53:52.973Z"
   },
   {
    "duration": 592,
    "start_time": "2022-06-09T13:53:53.073Z"
   },
   {
    "duration": 61,
    "start_time": "2022-06-09T13:53:53.667Z"
   },
   {
    "duration": 604,
    "start_time": "2022-06-09T13:53:53.730Z"
   },
   {
    "duration": 86,
    "start_time": "2022-06-09T13:53:54.336Z"
   },
   {
    "duration": 82,
    "start_time": "2022-06-09T13:53:54.423Z"
   },
   {
    "duration": 22,
    "start_time": "2022-06-09T13:53:54.507Z"
   },
   {
    "duration": 681,
    "start_time": "2022-06-09T13:53:54.530Z"
   },
   {
    "duration": 3,
    "start_time": "2022-06-09T13:55:55.159Z"
   },
   {
    "duration": 1112,
    "start_time": "2022-06-09T13:56:49.706Z"
   },
   {
    "duration": 1314,
    "start_time": "2022-06-09T13:59:57.549Z"
   },
   {
    "duration": 825,
    "start_time": "2022-06-09T13:59:58.866Z"
   },
   {
    "duration": 153,
    "start_time": "2022-06-09T13:59:59.692Z"
   },
   {
    "duration": 118,
    "start_time": "2022-06-09T13:59:59.847Z"
   },
   {
    "duration": 481,
    "start_time": "2022-06-09T13:59:59.967Z"
   },
   {
    "duration": 132,
    "start_time": "2022-06-09T14:00:00.450Z"
   },
   {
    "duration": 135,
    "start_time": "2022-06-09T14:00:00.584Z"
   },
   {
    "duration": 611,
    "start_time": "2022-06-09T14:00:00.721Z"
   },
   {
    "duration": 30,
    "start_time": "2022-06-09T14:00:01.334Z"
   },
   {
    "duration": 219,
    "start_time": "2022-06-09T14:00:01.366Z"
   },
   {
    "duration": 194,
    "start_time": "2022-06-09T14:00:01.587Z"
   },
   {
    "duration": 318,
    "start_time": "2022-06-09T14:00:01.783Z"
   },
   {
    "duration": 23,
    "start_time": "2022-06-09T14:00:02.103Z"
   },
   {
    "duration": 142,
    "start_time": "2022-06-09T14:00:02.129Z"
   },
   {
    "duration": 0,
    "start_time": "2022-06-09T14:00:02.272Z"
   },
   {
    "duration": 0,
    "start_time": "2022-06-09T14:00:02.274Z"
   },
   {
    "duration": 0,
    "start_time": "2022-06-09T14:00:02.275Z"
   },
   {
    "duration": 0,
    "start_time": "2022-06-09T14:00:02.276Z"
   },
   {
    "duration": 0,
    "start_time": "2022-06-09T14:00:02.277Z"
   },
   {
    "duration": 0,
    "start_time": "2022-06-09T14:00:02.278Z"
   },
   {
    "duration": 0,
    "start_time": "2022-06-09T14:00:02.279Z"
   },
   {
    "duration": 0,
    "start_time": "2022-06-09T14:00:02.281Z"
   },
   {
    "duration": 0,
    "start_time": "2022-06-09T14:00:02.282Z"
   },
   {
    "duration": 14,
    "start_time": "2022-06-09T14:00:59.076Z"
   },
   {
    "duration": 10,
    "start_time": "2022-06-09T14:02:44.269Z"
   },
   {
    "duration": 440,
    "start_time": "2022-06-09T14:03:55.681Z"
   },
   {
    "duration": 105,
    "start_time": "2022-06-09T14:05:11.193Z"
   },
   {
    "duration": 87,
    "start_time": "2022-06-09T14:05:18.365Z"
   },
   {
    "duration": 73,
    "start_time": "2022-06-09T14:05:19.702Z"
   },
   {
    "duration": 597,
    "start_time": "2022-06-09T14:05:23.410Z"
   },
   {
    "duration": 32,
    "start_time": "2022-06-09T14:05:26.273Z"
   },
   {
    "duration": 607,
    "start_time": "2022-06-09T14:05:27.069Z"
   },
   {
    "duration": 81,
    "start_time": "2022-06-09T14:05:28.898Z"
   },
   {
    "duration": 91,
    "start_time": "2022-06-09T14:05:34.066Z"
   },
   {
    "duration": 23,
    "start_time": "2022-06-09T14:05:35.125Z"
   },
   {
    "duration": 624,
    "start_time": "2022-06-09T14:05:38.113Z"
   },
   {
    "duration": 1057,
    "start_time": "2022-06-09T14:05:48.093Z"
   },
   {
    "duration": 11,
    "start_time": "2022-06-09T14:06:27.898Z"
   },
   {
    "duration": 62,
    "start_time": "2022-06-09T14:06:34.969Z"
   },
   {
    "duration": 556,
    "start_time": "2022-06-09T14:07:20.609Z"
   },
   {
    "duration": 18,
    "start_time": "2022-06-09T14:07:23.558Z"
   },
   {
    "duration": 47,
    "start_time": "2022-06-09T14:08:03.023Z"
   },
   {
    "duration": 1339,
    "start_time": "2022-06-09T14:08:14.570Z"
   },
   {
    "duration": 2799,
    "start_time": "2022-06-09T14:08:15.911Z"
   },
   {
    "duration": 147,
    "start_time": "2022-06-09T14:08:18.711Z"
   },
   {
    "duration": 101,
    "start_time": "2022-06-09T14:08:18.859Z"
   },
   {
    "duration": 479,
    "start_time": "2022-06-09T14:08:18.963Z"
   },
   {
    "duration": 133,
    "start_time": "2022-06-09T14:08:19.443Z"
   },
   {
    "duration": 132,
    "start_time": "2022-06-09T14:08:19.578Z"
   },
   {
    "duration": 629,
    "start_time": "2022-06-09T14:08:19.711Z"
   },
   {
    "duration": 31,
    "start_time": "2022-06-09T14:08:20.342Z"
   },
   {
    "duration": 206,
    "start_time": "2022-06-09T14:08:20.376Z"
   },
   {
    "duration": 194,
    "start_time": "2022-06-09T14:08:20.584Z"
   },
   {
    "duration": 245,
    "start_time": "2022-06-09T14:08:20.780Z"
   },
   {
    "duration": 32,
    "start_time": "2022-06-09T14:08:21.027Z"
   },
   {
    "duration": 113,
    "start_time": "2022-06-09T14:08:21.062Z"
   },
   {
    "duration": 71,
    "start_time": "2022-06-09T14:08:21.177Z"
   },
   {
    "duration": 592,
    "start_time": "2022-06-09T14:08:21.258Z"
   },
   {
    "duration": 39,
    "start_time": "2022-06-09T14:08:21.852Z"
   },
   {
    "duration": 635,
    "start_time": "2022-06-09T14:08:21.894Z"
   },
   {
    "duration": 82,
    "start_time": "2022-06-09T14:08:22.531Z"
   },
   {
    "duration": 73,
    "start_time": "2022-06-09T14:08:22.615Z"
   },
   {
    "duration": 22,
    "start_time": "2022-06-09T14:08:22.689Z"
   },
   {
    "duration": 622,
    "start_time": "2022-06-09T14:08:22.713Z"
   },
   {
    "duration": 110,
    "start_time": "2022-06-09T14:08:23.337Z"
   },
   {
    "duration": 1343,
    "start_time": "2022-06-09T14:13:38.514Z"
   },
   {
    "duration": 2811,
    "start_time": "2022-06-09T14:13:39.859Z"
   },
   {
    "duration": 138,
    "start_time": "2022-06-09T14:13:42.672Z"
   },
   {
    "duration": 105,
    "start_time": "2022-06-09T14:13:42.813Z"
   },
   {
    "duration": 449,
    "start_time": "2022-06-09T14:13:42.921Z"
   },
   {
    "duration": 142,
    "start_time": "2022-06-09T14:13:43.372Z"
   },
   {
    "duration": 145,
    "start_time": "2022-06-09T14:13:43.517Z"
   },
   {
    "duration": 643,
    "start_time": "2022-06-09T14:13:43.664Z"
   },
   {
    "duration": 25,
    "start_time": "2022-06-09T14:13:44.309Z"
   },
   {
    "duration": 210,
    "start_time": "2022-06-09T14:13:44.337Z"
   },
   {
    "duration": 197,
    "start_time": "2022-06-09T14:13:44.549Z"
   },
   {
    "duration": 255,
    "start_time": "2022-06-09T14:13:44.748Z"
   },
   {
    "duration": 23,
    "start_time": "2022-06-09T14:13:45.006Z"
   },
   {
    "duration": 113,
    "start_time": "2022-06-09T14:13:45.031Z"
   },
   {
    "duration": 81,
    "start_time": "2022-06-09T14:13:45.146Z"
   },
   {
    "duration": 599,
    "start_time": "2022-06-09T14:13:45.229Z"
   },
   {
    "duration": 36,
    "start_time": "2022-06-09T14:13:45.830Z"
   },
   {
    "duration": 593,
    "start_time": "2022-06-09T14:13:45.868Z"
   },
   {
    "duration": 606,
    "start_time": "2022-06-09T14:13:52.916Z"
   },
   {
    "duration": 109,
    "start_time": "2022-06-09T14:16:32.022Z"
   },
   {
    "duration": 70,
    "start_time": "2022-06-09T14:16:33.866Z"
   },
   {
    "duration": 25,
    "start_time": "2022-06-09T14:16:34.668Z"
   },
   {
    "duration": 618,
    "start_time": "2022-06-09T14:16:37.073Z"
   },
   {
    "duration": 126,
    "start_time": "2022-06-09T14:29:35.619Z"
   },
   {
    "duration": 10,
    "start_time": "2022-06-09T14:29:51.565Z"
   },
   {
    "duration": 10,
    "start_time": "2022-06-09T14:30:01.760Z"
   },
   {
    "duration": 90,
    "start_time": "2022-06-09T14:30:22.532Z"
   },
   {
    "duration": 4,
    "start_time": "2022-06-09T14:49:36.217Z"
   },
   {
    "duration": 41,
    "start_time": "2022-06-09T14:50:47.304Z"
   },
   {
    "duration": 24728,
    "start_time": "2022-06-09T14:50:55.743Z"
   },
   {
    "duration": 28344,
    "start_time": "2022-06-09T14:51:47.863Z"
   },
   {
    "duration": 1414,
    "start_time": "2022-06-09T16:13:21.901Z"
   },
   {
    "duration": 1586,
    "start_time": "2022-06-09T16:13:23.317Z"
   },
   {
    "duration": 0,
    "start_time": "2022-06-09T16:13:24.906Z"
   },
   {
    "duration": 0,
    "start_time": "2022-06-09T16:13:24.907Z"
   },
   {
    "duration": 0,
    "start_time": "2022-06-09T16:13:24.909Z"
   },
   {
    "duration": 0,
    "start_time": "2022-06-09T16:13:24.910Z"
   },
   {
    "duration": 0,
    "start_time": "2022-06-09T16:13:24.912Z"
   },
   {
    "duration": 0,
    "start_time": "2022-06-09T16:13:24.914Z"
   },
   {
    "duration": 0,
    "start_time": "2022-06-09T16:13:24.915Z"
   },
   {
    "duration": 0,
    "start_time": "2022-06-09T16:13:24.917Z"
   },
   {
    "duration": 0,
    "start_time": "2022-06-09T16:13:24.919Z"
   },
   {
    "duration": 0,
    "start_time": "2022-06-09T16:13:24.920Z"
   },
   {
    "duration": 1,
    "start_time": "2022-06-09T16:13:24.921Z"
   },
   {
    "duration": 0,
    "start_time": "2022-06-09T16:13:24.923Z"
   },
   {
    "duration": 0,
    "start_time": "2022-06-09T16:13:24.924Z"
   },
   {
    "duration": 0,
    "start_time": "2022-06-09T16:13:24.926Z"
   },
   {
    "duration": 0,
    "start_time": "2022-06-09T16:13:24.927Z"
   },
   {
    "duration": 0,
    "start_time": "2022-06-09T16:13:24.965Z"
   },
   {
    "duration": 0,
    "start_time": "2022-06-09T16:13:24.967Z"
   },
   {
    "duration": 0,
    "start_time": "2022-06-09T16:13:24.969Z"
   },
   {
    "duration": 0,
    "start_time": "2022-06-09T16:13:24.971Z"
   },
   {
    "duration": 0,
    "start_time": "2022-06-09T16:13:24.972Z"
   },
   {
    "duration": 0,
    "start_time": "2022-06-09T16:13:24.974Z"
   },
   {
    "duration": 0,
    "start_time": "2022-06-09T16:13:24.975Z"
   },
   {
    "duration": 1383,
    "start_time": "2022-06-09T16:14:26.118Z"
   },
   {
    "duration": 1105,
    "start_time": "2022-06-09T16:14:27.503Z"
   },
   {
    "duration": 134,
    "start_time": "2022-06-09T16:14:28.610Z"
   },
   {
    "duration": 137,
    "start_time": "2022-06-09T16:14:28.746Z"
   },
   {
    "duration": 457,
    "start_time": "2022-06-09T16:14:28.885Z"
   },
   {
    "duration": 163,
    "start_time": "2022-06-09T16:14:29.343Z"
   },
   {
    "duration": 143,
    "start_time": "2022-06-09T16:14:29.508Z"
   },
   {
    "duration": 682,
    "start_time": "2022-06-09T16:14:29.659Z"
   },
   {
    "duration": 35,
    "start_time": "2022-06-09T16:14:30.343Z"
   },
   {
    "duration": 302,
    "start_time": "2022-06-09T16:14:30.383Z"
   },
   {
    "duration": 258,
    "start_time": "2022-06-09T16:14:30.687Z"
   },
   {
    "duration": 248,
    "start_time": "2022-06-09T16:14:30.947Z"
   },
   {
    "duration": 24,
    "start_time": "2022-06-09T16:14:31.197Z"
   },
   {
    "duration": 113,
    "start_time": "2022-06-09T16:14:31.223Z"
   },
   {
    "duration": 91,
    "start_time": "2022-06-09T16:14:31.338Z"
   },
   {
    "duration": 646,
    "start_time": "2022-06-09T16:14:31.431Z"
   },
   {
    "duration": 41,
    "start_time": "2022-06-09T16:14:32.080Z"
   },
   {
    "duration": 631,
    "start_time": "2022-06-09T16:14:32.125Z"
   },
   {
    "duration": 82,
    "start_time": "2022-06-09T16:14:32.757Z"
   },
   {
    "duration": 91,
    "start_time": "2022-06-09T16:14:32.842Z"
   },
   {
    "duration": 31,
    "start_time": "2022-06-09T16:14:32.935Z"
   },
   {
    "duration": 698,
    "start_time": "2022-06-09T16:14:32.969Z"
   },
   {
    "duration": 25934,
    "start_time": "2022-06-09T16:14:33.670Z"
   },
   {
    "duration": 0,
    "start_time": "2022-06-09T16:14:59.606Z"
   },
   {
    "duration": 22463,
    "start_time": "2022-06-09T16:16:03.808Z"
   },
   {
    "duration": 4,
    "start_time": "2022-06-09T16:16:42.389Z"
   },
   {
    "duration": 4,
    "start_time": "2022-06-09T16:17:03.651Z"
   },
   {
    "duration": 4,
    "start_time": "2022-06-09T16:17:16.167Z"
   },
   {
    "duration": 61,
    "start_time": "2022-06-09T16:17:37.435Z"
   },
   {
    "duration": 18,
    "start_time": "2022-06-09T16:17:39.062Z"
   },
   {
    "duration": 7,
    "start_time": "2022-06-09T16:18:31.756Z"
   },
   {
    "duration": 587,
    "start_time": "2022-06-09T16:18:39.673Z"
   },
   {
    "duration": 8,
    "start_time": "2022-06-09T16:18:49.127Z"
   },
   {
    "duration": 19,
    "start_time": "2022-06-09T16:20:28.453Z"
   },
   {
    "duration": 18,
    "start_time": "2022-06-09T16:20:33.300Z"
   },
   {
    "duration": 3,
    "start_time": "2022-06-09T16:25:03.909Z"
   },
   {
    "duration": 2,
    "start_time": "2022-06-09T16:25:49.543Z"
   },
   {
    "duration": 21,
    "start_time": "2022-06-09T16:27:13.672Z"
   },
   {
    "duration": 1407,
    "start_time": "2022-06-09T16:27:52.769Z"
   },
   {
    "duration": 846,
    "start_time": "2022-06-09T16:27:54.178Z"
   },
   {
    "duration": 138,
    "start_time": "2022-06-09T16:27:55.026Z"
   },
   {
    "duration": 111,
    "start_time": "2022-06-09T16:27:55.167Z"
   },
   {
    "duration": 486,
    "start_time": "2022-06-09T16:27:55.279Z"
   },
   {
    "duration": 144,
    "start_time": "2022-06-09T16:27:55.767Z"
   },
   {
    "duration": 156,
    "start_time": "2022-06-09T16:27:55.914Z"
   },
   {
    "duration": 649,
    "start_time": "2022-06-09T16:27:56.073Z"
   },
   {
    "duration": 25,
    "start_time": "2022-06-09T16:27:56.724Z"
   },
   {
    "duration": 209,
    "start_time": "2022-06-09T16:27:56.761Z"
   },
   {
    "duration": 199,
    "start_time": "2022-06-09T16:27:56.972Z"
   },
   {
    "duration": 245,
    "start_time": "2022-06-09T16:27:57.173Z"
   },
   {
    "duration": 25,
    "start_time": "2022-06-09T16:27:57.420Z"
   },
   {
    "duration": 115,
    "start_time": "2022-06-09T16:27:57.458Z"
   },
   {
    "duration": 74,
    "start_time": "2022-06-09T16:27:57.574Z"
   },
   {
    "duration": 613,
    "start_time": "2022-06-09T16:27:57.660Z"
   },
   {
    "duration": 38,
    "start_time": "2022-06-09T16:27:58.275Z"
   },
   {
    "duration": 657,
    "start_time": "2022-06-09T16:27:58.316Z"
   },
   {
    "duration": 92,
    "start_time": "2022-06-09T16:27:58.974Z"
   },
   {
    "duration": 69,
    "start_time": "2022-06-09T16:27:59.068Z"
   },
   {
    "duration": 42,
    "start_time": "2022-06-09T16:27:59.138Z"
   },
   {
    "duration": 9,
    "start_time": "2022-06-09T16:27:59.182Z"
   },
   {
    "duration": 149,
    "start_time": "2022-06-09T16:27:59.193Z"
   },
   {
    "duration": 0,
    "start_time": "2022-06-09T16:27:59.344Z"
   },
   {
    "duration": 0,
    "start_time": "2022-06-09T16:27:59.346Z"
   },
   {
    "duration": 0,
    "start_time": "2022-06-09T16:27:59.427Z"
   },
   {
    "duration": 0,
    "start_time": "2022-06-09T16:27:59.428Z"
   },
   {
    "duration": 0,
    "start_time": "2022-06-09T16:27:59.430Z"
   },
   {
    "duration": 0,
    "start_time": "2022-06-09T16:27:59.432Z"
   },
   {
    "duration": 583,
    "start_time": "2022-06-09T16:30:18.656Z"
   },
   {
    "duration": 8,
    "start_time": "2022-06-09T16:30:28.255Z"
   },
   {
    "duration": 8,
    "start_time": "2022-06-09T16:30:51.819Z"
   },
   {
    "duration": 6,
    "start_time": "2022-06-09T16:31:00.167Z"
   },
   {
    "duration": 5,
    "start_time": "2022-06-09T16:31:48.017Z"
   },
   {
    "duration": 6,
    "start_time": "2022-06-09T16:31:54.820Z"
   },
   {
    "duration": 70,
    "start_time": "2022-06-09T16:34:38.173Z"
   },
   {
    "duration": 21,
    "start_time": "2022-06-09T16:35:50.969Z"
   },
   {
    "duration": 23,
    "start_time": "2022-06-09T16:36:00.334Z"
   },
   {
    "duration": 24,
    "start_time": "2022-06-09T16:36:34.454Z"
   },
   {
    "duration": 5,
    "start_time": "2022-06-09T16:37:18.262Z"
   },
   {
    "duration": 37,
    "start_time": "2022-06-09T16:37:37.031Z"
   },
   {
    "duration": 30,
    "start_time": "2022-06-09T16:38:21.217Z"
   },
   {
    "duration": 45,
    "start_time": "2022-06-09T16:39:33.153Z"
   },
   {
    "duration": 30,
    "start_time": "2022-06-09T16:39:52.516Z"
   },
   {
    "duration": 31,
    "start_time": "2022-06-09T16:40:17.926Z"
   },
   {
    "duration": 3935,
    "start_time": "2022-06-09T16:41:59.905Z"
   },
   {
    "duration": 4167,
    "start_time": "2022-06-09T16:42:18.120Z"
   },
   {
    "duration": 19,
    "start_time": "2022-06-09T16:42:37.770Z"
   },
   {
    "duration": 8,
    "start_time": "2022-06-09T16:43:38.277Z"
   },
   {
    "duration": 11,
    "start_time": "2022-06-09T16:43:55.937Z"
   },
   {
    "duration": 12,
    "start_time": "2022-06-09T16:43:59.573Z"
   },
   {
    "duration": 8,
    "start_time": "2022-06-09T16:44:02.668Z"
   },
   {
    "duration": 25,
    "start_time": "2022-06-09T16:44:30.709Z"
   },
   {
    "duration": 54,
    "start_time": "2022-06-09T16:44:42.824Z"
   },
   {
    "duration": 13,
    "start_time": "2022-06-09T16:46:02.278Z"
   },
   {
    "duration": 10,
    "start_time": "2022-06-09T16:47:49.734Z"
   },
   {
    "duration": 8,
    "start_time": "2022-06-09T16:47:57.501Z"
   },
   {
    "duration": 1570,
    "start_time": "2022-06-09T16:52:05.051Z"
   },
   {
    "duration": 838,
    "start_time": "2022-06-09T16:52:06.623Z"
   },
   {
    "duration": 139,
    "start_time": "2022-06-09T16:52:07.463Z"
   },
   {
    "duration": 105,
    "start_time": "2022-06-09T16:52:07.604Z"
   },
   {
    "duration": 449,
    "start_time": "2022-06-09T16:52:07.711Z"
   },
   {
    "duration": 126,
    "start_time": "2022-06-09T16:52:08.162Z"
   },
   {
    "duration": 140,
    "start_time": "2022-06-09T16:52:08.290Z"
   },
   {
    "duration": 683,
    "start_time": "2022-06-09T16:52:08.432Z"
   },
   {
    "duration": 29,
    "start_time": "2022-06-09T16:52:09.117Z"
   },
   {
    "duration": 190,
    "start_time": "2022-06-09T16:52:09.158Z"
   },
   {
    "duration": 206,
    "start_time": "2022-06-09T16:52:09.350Z"
   },
   {
    "duration": 265,
    "start_time": "2022-06-09T16:52:09.558Z"
   },
   {
    "duration": 33,
    "start_time": "2022-06-09T16:52:09.825Z"
   },
   {
    "duration": 114,
    "start_time": "2022-06-09T16:52:09.862Z"
   },
   {
    "duration": 72,
    "start_time": "2022-06-09T16:52:09.978Z"
   },
   {
    "duration": 597,
    "start_time": "2022-06-09T16:52:10.059Z"
   },
   {
    "duration": 27,
    "start_time": "2022-06-09T16:52:10.659Z"
   },
   {
    "duration": 616,
    "start_time": "2022-06-09T16:52:10.689Z"
   },
   {
    "duration": 81,
    "start_time": "2022-06-09T16:52:11.307Z"
   },
   {
    "duration": 765,
    "start_time": "2022-06-09T16:52:11.390Z"
   },
   {
    "duration": 359,
    "start_time": "2022-06-09T16:52:12.157Z"
   },
   {
    "duration": 117,
    "start_time": "2022-06-09T16:52:12.518Z"
   },
   {
    "duration": 5,
    "start_time": "2022-06-09T16:52:12.637Z"
   },
   {
    "duration": 7,
    "start_time": "2022-06-09T16:52:12.643Z"
   },
   {
    "duration": 89,
    "start_time": "2022-06-09T16:52:44.472Z"
   },
   {
    "duration": 97,
    "start_time": "2022-06-09T16:52:44.564Z"
   },
   {
    "duration": 1438,
    "start_time": "2022-06-11T14:31:40.906Z"
   },
   {
    "duration": 1070,
    "start_time": "2022-06-11T14:31:42.346Z"
   },
   {
    "duration": 157,
    "start_time": "2022-06-11T14:31:43.418Z"
   },
   {
    "duration": 94,
    "start_time": "2022-06-11T14:31:43.577Z"
   },
   {
    "duration": 420,
    "start_time": "2022-06-11T14:31:43.673Z"
   },
   {
    "duration": 122,
    "start_time": "2022-06-11T14:31:44.094Z"
   },
   {
    "duration": 121,
    "start_time": "2022-06-11T14:31:44.218Z"
   },
   {
    "duration": 647,
    "start_time": "2022-06-11T14:31:44.341Z"
   },
   {
    "duration": 25,
    "start_time": "2022-06-11T14:31:44.990Z"
   },
   {
    "duration": 195,
    "start_time": "2022-06-11T14:31:45.017Z"
   },
   {
    "duration": 211,
    "start_time": "2022-06-11T14:31:45.214Z"
   },
   {
    "duration": 254,
    "start_time": "2022-06-11T14:31:45.427Z"
   },
   {
    "duration": 26,
    "start_time": "2022-06-11T14:31:45.682Z"
   },
   {
    "duration": 125,
    "start_time": "2022-06-11T14:31:45.711Z"
   },
   {
    "duration": 72,
    "start_time": "2022-06-11T14:31:45.838Z"
   },
   {
    "duration": 585,
    "start_time": "2022-06-11T14:31:45.912Z"
   },
   {
    "duration": 38,
    "start_time": "2022-06-11T14:31:46.499Z"
   },
   {
    "duration": 650,
    "start_time": "2022-06-11T14:31:46.539Z"
   },
   {
    "duration": 78,
    "start_time": "2022-06-11T14:31:47.190Z"
   },
   {
    "duration": 694,
    "start_time": "2022-06-11T14:31:47.270Z"
   },
   {
    "duration": 357,
    "start_time": "2022-06-11T14:31:47.966Z"
   },
   {
    "duration": 117,
    "start_time": "2022-06-11T14:31:48.326Z"
   },
   {
    "duration": 6,
    "start_time": "2022-06-11T14:31:48.445Z"
   },
   {
    "duration": 29175,
    "start_time": "2022-06-11T14:31:48.452Z"
   },
   {
    "duration": 8,
    "start_time": "2022-06-11T14:32:17.629Z"
   },
   {
    "duration": 102,
    "start_time": "2022-06-11T14:32:17.639Z"
   },
   {
    "duration": 45,
    "start_time": "2022-06-11T14:32:48.085Z"
   },
   {
    "duration": 1271,
    "start_time": "2022-06-11T14:33:01.063Z"
   },
   {
    "duration": 1026,
    "start_time": "2022-06-11T14:33:02.336Z"
   },
   {
    "duration": 122,
    "start_time": "2022-06-11T14:33:03.363Z"
   },
   {
    "duration": 78,
    "start_time": "2022-06-11T14:33:03.486Z"
   },
   {
    "duration": 427,
    "start_time": "2022-06-11T14:33:03.567Z"
   },
   {
    "duration": 113,
    "start_time": "2022-06-11T14:33:03.995Z"
   },
   {
    "duration": 124,
    "start_time": "2022-06-11T14:33:04.109Z"
   },
   {
    "duration": 597,
    "start_time": "2022-06-11T14:33:04.234Z"
   },
   {
    "duration": 22,
    "start_time": "2022-06-11T14:33:04.833Z"
   },
   {
    "duration": 179,
    "start_time": "2022-06-11T14:33:04.856Z"
   },
   {
    "duration": 152,
    "start_time": "2022-06-11T14:33:05.036Z"
   },
   {
    "duration": 192,
    "start_time": "2022-06-11T14:33:05.190Z"
   },
   {
    "duration": 26,
    "start_time": "2022-06-11T14:33:05.383Z"
   },
   {
    "duration": 105,
    "start_time": "2022-06-11T14:33:05.411Z"
   },
   {
    "duration": 68,
    "start_time": "2022-06-11T14:33:05.518Z"
   },
   {
    "duration": 532,
    "start_time": "2022-06-11T14:33:05.587Z"
   },
   {
    "duration": 27,
    "start_time": "2022-06-11T14:33:06.121Z"
   },
   {
    "duration": 595,
    "start_time": "2022-06-11T14:33:06.150Z"
   },
   {
    "duration": 68,
    "start_time": "2022-06-11T14:33:06.747Z"
   },
   {
    "duration": 628,
    "start_time": "2022-06-11T14:33:06.817Z"
   },
   {
    "duration": 338,
    "start_time": "2022-06-11T14:33:07.447Z"
   },
   {
    "duration": 110,
    "start_time": "2022-06-11T14:33:07.786Z"
   },
   {
    "duration": 5,
    "start_time": "2022-06-11T14:33:07.898Z"
   },
   {
    "duration": 19137,
    "start_time": "2022-06-11T14:33:07.904Z"
   },
   {
    "duration": 89,
    "start_time": "2022-06-11T14:33:27.043Z"
   },
   {
    "duration": 102,
    "start_time": "2022-06-11T14:33:27.133Z"
   },
   {
    "duration": 1317,
    "start_time": "2022-06-11T14:53:30.806Z"
   },
   {
    "duration": 1016,
    "start_time": "2022-06-11T14:53:32.125Z"
   },
   {
    "duration": 128,
    "start_time": "2022-06-11T14:53:33.142Z"
   },
   {
    "duration": 99,
    "start_time": "2022-06-11T14:53:33.272Z"
   },
   {
    "duration": 409,
    "start_time": "2022-06-11T14:53:33.373Z"
   },
   {
    "duration": 134,
    "start_time": "2022-06-11T14:53:33.784Z"
   },
   {
    "duration": 116,
    "start_time": "2022-06-11T14:53:33.927Z"
   },
   {
    "duration": 601,
    "start_time": "2022-06-11T14:53:34.044Z"
   },
   {
    "duration": 23,
    "start_time": "2022-06-11T14:53:34.647Z"
   },
   {
    "duration": 196,
    "start_time": "2022-06-11T14:53:34.672Z"
   },
   {
    "duration": 183,
    "start_time": "2022-06-11T14:53:34.869Z"
   },
   {
    "duration": 230,
    "start_time": "2022-06-11T14:53:35.054Z"
   },
   {
    "duration": 25,
    "start_time": "2022-06-11T14:53:35.286Z"
   },
   {
    "duration": 93,
    "start_time": "2022-06-11T14:53:35.326Z"
   },
   {
    "duration": 70,
    "start_time": "2022-06-11T14:53:35.420Z"
   },
   {
    "duration": 520,
    "start_time": "2022-06-11T14:53:35.492Z"
   },
   {
    "duration": 37,
    "start_time": "2022-06-11T14:53:36.014Z"
   },
   {
    "duration": 551,
    "start_time": "2022-06-11T14:53:36.053Z"
   },
   {
    "duration": 34,
    "start_time": "2022-06-11T14:53:36.605Z"
   },
   {
    "duration": 68,
    "start_time": "2022-06-11T14:53:36.641Z"
   },
   {
    "duration": 570,
    "start_time": "2022-06-11T14:53:36.711Z"
   },
   {
    "duration": 333,
    "start_time": "2022-06-11T14:53:37.283Z"
   },
   {
    "duration": 114,
    "start_time": "2022-06-11T14:53:37.617Z"
   },
   {
    "duration": 5,
    "start_time": "2022-06-11T14:53:37.733Z"
   },
   {
    "duration": 29108,
    "start_time": "2022-06-11T14:53:37.740Z"
   },
   {
    "duration": 177,
    "start_time": "2022-06-11T14:54:06.850Z"
   },
   {
    "duration": 17,
    "start_time": "2022-06-11T14:54:07.029Z"
   },
   {
    "duration": 29,
    "start_time": "2022-06-11T14:54:07.048Z"
   },
   {
    "duration": 1189,
    "start_time": "2022-06-11T14:59:42.390Z"
   },
   {
    "duration": 744,
    "start_time": "2022-06-11T14:59:43.580Z"
   },
   {
    "duration": 120,
    "start_time": "2022-06-11T14:59:44.325Z"
   },
   {
    "duration": 94,
    "start_time": "2022-06-11T14:59:44.447Z"
   },
   {
    "duration": 417,
    "start_time": "2022-06-11T14:59:44.543Z"
   },
   {
    "duration": 113,
    "start_time": "2022-06-11T14:59:44.962Z"
   },
   {
    "duration": 127,
    "start_time": "2022-06-11T14:59:45.077Z"
   },
   {
    "duration": 541,
    "start_time": "2022-06-11T14:59:45.205Z"
   },
   {
    "duration": 55,
    "start_time": "2022-06-11T14:59:45.747Z"
   },
   {
    "duration": 36,
    "start_time": "2022-06-11T14:59:45.803Z"
   },
   {
    "duration": 183,
    "start_time": "2022-06-11T14:59:45.840Z"
   },
   {
    "duration": 186,
    "start_time": "2022-06-11T14:59:46.025Z"
   },
   {
    "duration": 283,
    "start_time": "2022-06-11T14:59:46.213Z"
   },
   {
    "duration": 29,
    "start_time": "2022-06-11T14:59:46.498Z"
   },
   {
    "duration": 99,
    "start_time": "2022-06-11T14:59:46.528Z"
   },
   {
    "duration": 64,
    "start_time": "2022-06-11T14:59:46.628Z"
   },
   {
    "duration": 511,
    "start_time": "2022-06-11T14:59:46.693Z"
   },
   {
    "duration": 35,
    "start_time": "2022-06-11T14:59:47.206Z"
   },
   {
    "duration": 553,
    "start_time": "2022-06-11T14:59:47.243Z"
   },
   {
    "duration": 39,
    "start_time": "2022-06-11T14:59:47.798Z"
   },
   {
    "duration": 69,
    "start_time": "2022-06-11T14:59:47.839Z"
   },
   {
    "duration": 600,
    "start_time": "2022-06-11T14:59:47.910Z"
   },
   {
    "duration": 336,
    "start_time": "2022-06-11T14:59:48.511Z"
   },
   {
    "duration": 109,
    "start_time": "2022-06-11T14:59:48.848Z"
   },
   {
    "duration": 5,
    "start_time": "2022-06-11T14:59:48.958Z"
   },
   {
    "duration": 28366,
    "start_time": "2022-06-11T14:59:48.965Z"
   },
   {
    "duration": 96,
    "start_time": "2022-06-11T15:00:17.333Z"
   },
   {
    "duration": 9,
    "start_time": "2022-06-11T15:00:17.430Z"
   },
   {
    "duration": 3,
    "start_time": "2022-06-11T15:00:17.441Z"
   },
   {
    "duration": 1242,
    "start_time": "2022-06-11T15:03:52.498Z"
   },
   {
    "duration": 779,
    "start_time": "2022-06-11T15:03:53.742Z"
   },
   {
    "duration": 135,
    "start_time": "2022-06-11T15:03:54.523Z"
   },
   {
    "duration": 89,
    "start_time": "2022-06-11T15:03:54.660Z"
   },
   {
    "duration": 449,
    "start_time": "2022-06-11T15:03:54.751Z"
   },
   {
    "duration": 151,
    "start_time": "2022-06-11T15:03:55.201Z"
   },
   {
    "duration": 136,
    "start_time": "2022-06-11T15:03:55.353Z"
   },
   {
    "duration": 553,
    "start_time": "2022-06-11T15:03:55.490Z"
   },
   {
    "duration": 53,
    "start_time": "2022-06-11T15:03:56.044Z"
   },
   {
    "duration": 38,
    "start_time": "2022-06-11T15:03:56.100Z"
   },
   {
    "duration": 209,
    "start_time": "2022-06-11T15:03:56.141Z"
   },
   {
    "duration": 227,
    "start_time": "2022-06-11T15:03:56.352Z"
   },
   {
    "duration": 247,
    "start_time": "2022-06-11T15:03:56.580Z"
   },
   {
    "duration": 29,
    "start_time": "2022-06-11T15:03:56.829Z"
   },
   {
    "duration": 105,
    "start_time": "2022-06-11T15:03:56.859Z"
   },
   {
    "duration": 67,
    "start_time": "2022-06-11T15:03:56.966Z"
   },
   {
    "duration": 568,
    "start_time": "2022-06-11T15:03:57.035Z"
   },
   {
    "duration": 38,
    "start_time": "2022-06-11T15:03:57.605Z"
   },
   {
    "duration": 514,
    "start_time": "2022-06-11T15:03:57.645Z"
   },
   {
    "duration": 26,
    "start_time": "2022-06-11T15:03:58.160Z"
   },
   {
    "duration": 76,
    "start_time": "2022-06-11T15:03:58.188Z"
   },
   {
    "duration": 543,
    "start_time": "2022-06-11T15:03:58.266Z"
   },
   {
    "duration": 323,
    "start_time": "2022-06-11T15:03:58.811Z"
   },
   {
    "duration": 118,
    "start_time": "2022-06-11T15:03:59.136Z"
   },
   {
    "duration": 4,
    "start_time": "2022-06-11T15:03:59.256Z"
   },
   {
    "duration": 19868,
    "start_time": "2022-06-11T15:03:59.262Z"
   },
   {
    "duration": 5,
    "start_time": "2022-06-11T15:04:19.132Z"
   },
   {
    "duration": 3,
    "start_time": "2022-06-11T15:04:19.229Z"
   },
   {
    "duration": 17,
    "start_time": "2022-06-11T15:04:19.234Z"
   },
   {
    "duration": 21478,
    "start_time": "2022-06-11T15:09:39.359Z"
   },
   {
    "duration": 4,
    "start_time": "2022-06-11T15:19:28.648Z"
   },
   {
    "duration": 117,
    "start_time": "2022-06-11T15:27:32.737Z"
   },
   {
    "duration": 44,
    "start_time": "2022-06-11T15:28:05.323Z"
   },
   {
    "duration": 1268,
    "start_time": "2022-06-11T15:28:17.588Z"
   },
   {
    "duration": 1046,
    "start_time": "2022-06-11T15:28:18.858Z"
   },
   {
    "duration": 116,
    "start_time": "2022-06-11T15:28:19.905Z"
   },
   {
    "duration": 94,
    "start_time": "2022-06-11T15:28:20.023Z"
   },
   {
    "duration": 430,
    "start_time": "2022-06-11T15:28:20.119Z"
   },
   {
    "duration": 119,
    "start_time": "2022-06-11T15:28:20.550Z"
   },
   {
    "duration": 141,
    "start_time": "2022-06-11T15:28:20.670Z"
   },
   {
    "duration": 544,
    "start_time": "2022-06-11T15:28:20.813Z"
   },
   {
    "duration": 55,
    "start_time": "2022-06-11T15:28:21.359Z"
   },
   {
    "duration": 44,
    "start_time": "2022-06-11T15:28:21.416Z"
   },
   {
    "duration": 185,
    "start_time": "2022-06-11T15:28:21.462Z"
   },
   {
    "duration": 180,
    "start_time": "2022-06-11T15:28:21.648Z"
   },
   {
    "duration": 227,
    "start_time": "2022-06-11T15:28:21.830Z"
   },
   {
    "duration": 26,
    "start_time": "2022-06-11T15:28:22.058Z"
   },
   {
    "duration": 117,
    "start_time": "2022-06-11T15:28:22.086Z"
   },
   {
    "duration": 70,
    "start_time": "2022-06-11T15:28:22.204Z"
   },
   {
    "duration": 525,
    "start_time": "2022-06-11T15:28:22.275Z"
   },
   {
    "duration": 34,
    "start_time": "2022-06-11T15:28:22.801Z"
   },
   {
    "duration": 487,
    "start_time": "2022-06-11T15:28:22.837Z"
   },
   {
    "duration": 26,
    "start_time": "2022-06-11T15:28:23.327Z"
   },
   {
    "duration": 73,
    "start_time": "2022-06-11T15:28:23.355Z"
   },
   {
    "duration": 545,
    "start_time": "2022-06-11T15:28:23.429Z"
   },
   {
    "duration": 317,
    "start_time": "2022-06-11T15:28:23.975Z"
   },
   {
    "duration": 101,
    "start_time": "2022-06-11T15:28:24.294Z"
   },
   {
    "duration": 4,
    "start_time": "2022-06-11T15:28:24.397Z"
   },
   {
    "duration": 19025,
    "start_time": "2022-06-11T15:28:24.403Z"
   },
   {
    "duration": 6,
    "start_time": "2022-06-11T15:28:43.430Z"
   },
   {
    "duration": 220,
    "start_time": "2022-06-11T15:28:43.440Z"
   },
   {
    "duration": 1328,
    "start_time": "2022-06-11T15:55:33.659Z"
   },
   {
    "duration": 131,
    "start_time": "2022-06-11T15:59:12.735Z"
   },
   {
    "duration": 1302,
    "start_time": "2022-06-11T15:59:26.696Z"
   },
   {
    "duration": 1037,
    "start_time": "2022-06-11T15:59:28.000Z"
   },
   {
    "duration": 214,
    "start_time": "2022-06-11T15:59:29.038Z"
   },
   {
    "duration": 112,
    "start_time": "2022-06-11T15:59:29.254Z"
   },
   {
    "duration": 395,
    "start_time": "2022-06-11T15:59:29.368Z"
   },
   {
    "duration": 115,
    "start_time": "2022-06-11T15:59:29.765Z"
   },
   {
    "duration": 125,
    "start_time": "2022-06-11T15:59:29.881Z"
   },
   {
    "duration": 565,
    "start_time": "2022-06-11T15:59:30.007Z"
   },
   {
    "duration": 58,
    "start_time": "2022-06-11T15:59:30.573Z"
   },
   {
    "duration": 60,
    "start_time": "2022-06-11T15:59:30.634Z"
   },
   {
    "duration": 188,
    "start_time": "2022-06-11T15:59:30.696Z"
   },
   {
    "duration": 181,
    "start_time": "2022-06-11T15:59:30.886Z"
   },
   {
    "duration": 219,
    "start_time": "2022-06-11T15:59:31.068Z"
   },
   {
    "duration": 25,
    "start_time": "2022-06-11T15:59:31.289Z"
   },
   {
    "duration": 112,
    "start_time": "2022-06-11T15:59:31.316Z"
   },
   {
    "duration": 65,
    "start_time": "2022-06-11T15:59:31.430Z"
   },
   {
    "duration": 549,
    "start_time": "2022-06-11T15:59:31.497Z"
   },
   {
    "duration": 30,
    "start_time": "2022-06-11T15:59:32.048Z"
   },
   {
    "duration": 503,
    "start_time": "2022-06-11T15:59:32.080Z"
   },
   {
    "duration": 27,
    "start_time": "2022-06-11T15:59:32.585Z"
   },
   {
    "duration": 93,
    "start_time": "2022-06-11T15:59:32.614Z"
   },
   {
    "duration": 521,
    "start_time": "2022-06-11T15:59:32.709Z"
   },
   {
    "duration": 311,
    "start_time": "2022-06-11T15:59:33.232Z"
   },
   {
    "duration": 108,
    "start_time": "2022-06-11T15:59:33.544Z"
   },
   {
    "duration": 5,
    "start_time": "2022-06-11T15:59:33.653Z"
   },
   {
    "duration": 24895,
    "start_time": "2022-06-11T15:59:33.659Z"
   },
   {
    "duration": 7,
    "start_time": "2022-06-11T15:59:58.630Z"
   },
   {
    "duration": 11,
    "start_time": "2022-06-11T15:59:58.729Z"
   },
   {
    "duration": 0,
    "start_time": "2022-06-11T15:59:58.741Z"
   },
   {
    "duration": 4,
    "start_time": "2022-06-11T16:01:22.960Z"
   },
   {
    "duration": 1311,
    "start_time": "2022-06-11T16:14:50.506Z"
   },
   {
    "duration": 770,
    "start_time": "2022-06-11T16:14:51.819Z"
   },
   {
    "duration": 121,
    "start_time": "2022-06-11T16:14:52.590Z"
   },
   {
    "duration": 91,
    "start_time": "2022-06-11T16:14:52.712Z"
   },
   {
    "duration": 433,
    "start_time": "2022-06-11T16:14:52.805Z"
   },
   {
    "duration": 127,
    "start_time": "2022-06-11T16:14:53.240Z"
   },
   {
    "duration": 118,
    "start_time": "2022-06-11T16:14:53.368Z"
   },
   {
    "duration": 574,
    "start_time": "2022-06-11T16:14:53.488Z"
   },
   {
    "duration": 68,
    "start_time": "2022-06-11T16:14:54.063Z"
   },
   {
    "duration": 24,
    "start_time": "2022-06-11T16:14:54.133Z"
   },
   {
    "duration": 197,
    "start_time": "2022-06-11T16:14:54.160Z"
   },
   {
    "duration": 181,
    "start_time": "2022-06-11T16:14:54.359Z"
   },
   {
    "duration": 231,
    "start_time": "2022-06-11T16:14:54.542Z"
   },
   {
    "duration": 22,
    "start_time": "2022-06-11T16:14:54.777Z"
   },
   {
    "duration": 94,
    "start_time": "2022-06-11T16:14:54.801Z"
   },
   {
    "duration": 70,
    "start_time": "2022-06-11T16:14:54.897Z"
   },
   {
    "duration": 519,
    "start_time": "2022-06-11T16:14:54.968Z"
   },
   {
    "duration": 22,
    "start_time": "2022-06-11T16:14:55.488Z"
   },
   {
    "duration": 515,
    "start_time": "2022-06-11T16:14:55.512Z"
   },
   {
    "duration": 26,
    "start_time": "2022-06-11T16:14:56.029Z"
   },
   {
    "duration": 78,
    "start_time": "2022-06-11T16:14:56.057Z"
   },
   {
    "duration": 576,
    "start_time": "2022-06-11T16:14:56.137Z"
   },
   {
    "duration": 316,
    "start_time": "2022-06-11T16:14:56.715Z"
   },
   {
    "duration": 107,
    "start_time": "2022-06-11T16:14:57.033Z"
   },
   {
    "duration": 5,
    "start_time": "2022-06-11T16:14:57.142Z"
   },
   {
    "duration": 24013,
    "start_time": "2022-06-11T16:14:57.148Z"
   },
   {
    "duration": 7,
    "start_time": "2022-06-11T16:15:21.228Z"
   },
   {
    "duration": 95,
    "start_time": "2022-06-11T16:15:21.236Z"
   },
   {
    "duration": 6,
    "start_time": "2022-06-11T16:15:21.333Z"
   },
   {
    "duration": 1355,
    "start_time": "2022-06-11T16:17:16.700Z"
   },
   {
    "duration": 763,
    "start_time": "2022-06-11T16:17:18.057Z"
   },
   {
    "duration": 132,
    "start_time": "2022-06-11T16:17:18.821Z"
   },
   {
    "duration": 98,
    "start_time": "2022-06-11T16:17:18.954Z"
   },
   {
    "duration": 438,
    "start_time": "2022-06-11T16:17:19.055Z"
   },
   {
    "duration": 143,
    "start_time": "2022-06-11T16:17:19.495Z"
   },
   {
    "duration": 128,
    "start_time": "2022-06-11T16:17:19.640Z"
   },
   {
    "duration": 559,
    "start_time": "2022-06-11T16:17:19.770Z"
   },
   {
    "duration": 59,
    "start_time": "2022-06-11T16:17:20.330Z"
   },
   {
    "duration": 38,
    "start_time": "2022-06-11T16:17:20.390Z"
   },
   {
    "duration": 182,
    "start_time": "2022-06-11T16:17:20.429Z"
   },
   {
    "duration": 184,
    "start_time": "2022-06-11T16:17:20.613Z"
   },
   {
    "duration": 232,
    "start_time": "2022-06-11T16:17:20.799Z"
   },
   {
    "duration": 21,
    "start_time": "2022-06-11T16:17:21.034Z"
   },
   {
    "duration": 92,
    "start_time": "2022-06-11T16:17:21.057Z"
   },
   {
    "duration": 67,
    "start_time": "2022-06-11T16:17:21.151Z"
   },
   {
    "duration": 532,
    "start_time": "2022-06-11T16:17:21.227Z"
   },
   {
    "duration": 22,
    "start_time": "2022-06-11T16:17:21.761Z"
   },
   {
    "duration": 499,
    "start_time": "2022-06-11T16:17:21.784Z"
   },
   {
    "duration": 26,
    "start_time": "2022-06-11T16:17:22.284Z"
   },
   {
    "duration": 77,
    "start_time": "2022-06-11T16:17:22.312Z"
   },
   {
    "duration": 549,
    "start_time": "2022-06-11T16:17:22.391Z"
   },
   {
    "duration": 314,
    "start_time": "2022-06-11T16:17:22.941Z"
   },
   {
    "duration": 113,
    "start_time": "2022-06-11T16:17:23.258Z"
   },
   {
    "duration": 6,
    "start_time": "2022-06-11T16:17:23.372Z"
   },
   {
    "duration": 24547,
    "start_time": "2022-06-11T16:17:23.379Z"
   },
   {
    "duration": 5,
    "start_time": "2022-06-11T16:17:47.929Z"
   },
   {
    "duration": 93,
    "start_time": "2022-06-11T16:17:47.936Z"
   },
   {
    "duration": 11,
    "start_time": "2022-06-11T16:17:48.031Z"
   },
   {
    "duration": 22,
    "start_time": "2022-06-11T16:24:27.004Z"
   },
   {
    "duration": 6,
    "start_time": "2022-06-11T16:24:43.346Z"
   },
   {
    "duration": 4,
    "start_time": "2022-06-11T16:33:52.186Z"
   },
   {
    "duration": 1355,
    "start_time": "2022-06-11T16:34:22.736Z"
   },
   {
    "duration": 770,
    "start_time": "2022-06-11T16:34:24.093Z"
   },
   {
    "duration": 125,
    "start_time": "2022-06-11T16:34:24.865Z"
   },
   {
    "duration": 96,
    "start_time": "2022-06-11T16:34:24.992Z"
   },
   {
    "duration": 437,
    "start_time": "2022-06-11T16:34:25.090Z"
   },
   {
    "duration": 120,
    "start_time": "2022-06-11T16:34:25.529Z"
   },
   {
    "duration": 132,
    "start_time": "2022-06-11T16:34:25.651Z"
   },
   {
    "duration": 599,
    "start_time": "2022-06-11T16:34:25.784Z"
   },
   {
    "duration": 96,
    "start_time": "2022-06-11T16:34:26.385Z"
   },
   {
    "duration": 22,
    "start_time": "2022-06-11T16:34:26.483Z"
   },
   {
    "duration": 203,
    "start_time": "2022-06-11T16:34:26.507Z"
   },
   {
    "duration": 182,
    "start_time": "2022-06-11T16:34:26.711Z"
   },
   {
    "duration": 234,
    "start_time": "2022-06-11T16:34:26.894Z"
   },
   {
    "duration": 23,
    "start_time": "2022-06-11T16:34:27.131Z"
   },
   {
    "duration": 104,
    "start_time": "2022-06-11T16:34:27.156Z"
   },
   {
    "duration": 80,
    "start_time": "2022-06-11T16:34:27.261Z"
   },
   {
    "duration": 534,
    "start_time": "2022-06-11T16:34:27.343Z"
   },
   {
    "duration": 28,
    "start_time": "2022-06-11T16:34:27.878Z"
   },
   {
    "duration": 507,
    "start_time": "2022-06-11T16:34:27.907Z"
   },
   {
    "duration": 33,
    "start_time": "2022-06-11T16:34:28.416Z"
   },
   {
    "duration": 77,
    "start_time": "2022-06-11T16:34:28.451Z"
   },
   {
    "duration": 544,
    "start_time": "2022-06-11T16:34:28.530Z"
   },
   {
    "duration": 316,
    "start_time": "2022-06-11T16:34:29.076Z"
   },
   {
    "duration": 107,
    "start_time": "2022-06-11T16:34:29.393Z"
   },
   {
    "duration": 5,
    "start_time": "2022-06-11T16:34:29.502Z"
   },
   {
    "duration": 24521,
    "start_time": "2022-06-11T16:34:29.508Z"
   },
   {
    "duration": 5,
    "start_time": "2022-06-11T16:34:54.031Z"
   },
   {
    "duration": 91,
    "start_time": "2022-06-11T16:34:54.038Z"
   },
   {
    "duration": 268,
    "start_time": "2022-06-11T16:34:54.131Z"
   },
   {
    "duration": 0,
    "start_time": "2022-06-11T16:34:54.400Z"
   },
   {
    "duration": 0,
    "start_time": "2022-06-11T16:34:54.402Z"
   },
   {
    "duration": 6,
    "start_time": "2022-06-11T16:35:12.088Z"
   },
   {
    "duration": 10,
    "start_time": "2022-06-11T16:35:22.942Z"
   },
   {
    "duration": 5,
    "start_time": "2022-06-11T16:36:06.592Z"
   },
   {
    "duration": 1300,
    "start_time": "2022-06-11T16:36:15.611Z"
   },
   {
    "duration": 29247,
    "start_time": "2022-06-11T16:38:25.007Z"
   },
   {
    "duration": 479370,
    "start_time": "2022-06-11T16:39:56.442Z"
   },
   {
    "duration": 14,
    "start_time": "2022-06-11T16:47:55.813Z"
   },
   {
    "duration": 24663,
    "start_time": "2022-06-11T16:48:55.453Z"
   },
   {
    "duration": 74379,
    "start_time": "2022-06-11T16:54:33.925Z"
   },
   {
    "duration": 24991,
    "start_time": "2022-06-11T16:55:48.307Z"
   },
   {
    "duration": 1259,
    "start_time": "2022-06-11T17:00:24.185Z"
   },
   {
    "duration": 822,
    "start_time": "2022-06-11T17:00:25.446Z"
   },
   {
    "duration": 173,
    "start_time": "2022-06-11T17:00:26.269Z"
   },
   {
    "duration": 103,
    "start_time": "2022-06-11T17:00:26.444Z"
   },
   {
    "duration": 441,
    "start_time": "2022-06-11T17:00:26.549Z"
   },
   {
    "duration": 128,
    "start_time": "2022-06-11T17:00:26.991Z"
   },
   {
    "duration": 143,
    "start_time": "2022-06-11T17:00:27.120Z"
   },
   {
    "duration": 593,
    "start_time": "2022-06-11T17:00:27.265Z"
   },
   {
    "duration": 73,
    "start_time": "2022-06-11T17:00:27.859Z"
   },
   {
    "duration": 29,
    "start_time": "2022-06-11T17:00:27.939Z"
   },
   {
    "duration": 199,
    "start_time": "2022-06-11T17:00:27.969Z"
   },
   {
    "duration": 169,
    "start_time": "2022-06-11T17:00:28.170Z"
   },
   {
    "duration": 207,
    "start_time": "2022-06-11T17:00:28.341Z"
   },
   {
    "duration": 28,
    "start_time": "2022-06-11T17:00:28.552Z"
   },
   {
    "duration": 122,
    "start_time": "2022-06-11T17:00:28.583Z"
   },
   {
    "duration": 83,
    "start_time": "2022-06-11T17:00:28.706Z"
   },
   {
    "duration": 558,
    "start_time": "2022-06-11T17:00:28.791Z"
   },
   {
    "duration": 28,
    "start_time": "2022-06-11T17:00:29.350Z"
   },
   {
    "duration": 561,
    "start_time": "2022-06-11T17:00:29.379Z"
   },
   {
    "duration": 28,
    "start_time": "2022-06-11T17:00:29.942Z"
   },
   {
    "duration": 80,
    "start_time": "2022-06-11T17:00:29.972Z"
   },
   {
    "duration": 593,
    "start_time": "2022-06-11T17:00:30.054Z"
   },
   {
    "duration": 330,
    "start_time": "2022-06-11T17:00:30.649Z"
   },
   {
    "duration": 112,
    "start_time": "2022-06-11T17:00:30.981Z"
   },
   {
    "duration": 5,
    "start_time": "2022-06-11T17:00:31.095Z"
   },
   {
    "duration": 34930,
    "start_time": "2022-06-11T17:00:31.101Z"
   },
   {
    "duration": 93,
    "start_time": "2022-06-11T17:01:06.033Z"
   },
   {
    "duration": 24998,
    "start_time": "2022-06-11T17:01:06.128Z"
   },
   {
    "duration": 72315,
    "start_time": "2022-06-11T17:01:31.139Z"
   },
   {
    "duration": 4,
    "start_time": "2022-06-11T17:02:43.455Z"
   },
   {
    "duration": 8,
    "start_time": "2022-06-11T17:02:43.460Z"
   },
   {
    "duration": 31269,
    "start_time": "2022-06-11T17:02:43.470Z"
   },
   {
    "duration": 90,
    "start_time": "2022-06-11T17:03:14.742Z"
   },
   {
    "duration": 16,
    "start_time": "2022-06-11T17:03:14.834Z"
   },
   {
    "duration": 4,
    "start_time": "2022-06-11T17:04:52.602Z"
   },
   {
    "duration": 35736,
    "start_time": "2022-06-11T17:05:56.939Z"
   },
   {
    "duration": 5,
    "start_time": "2022-06-11T17:07:14.490Z"
   },
   {
    "duration": 3,
    "start_time": "2022-06-11T17:10:00.557Z"
   },
   {
    "duration": 113,
    "start_time": "2022-06-11T17:10:50.643Z"
   },
   {
    "duration": 3,
    "start_time": "2022-06-11T17:10:53.815Z"
   },
   {
    "duration": 3,
    "start_time": "2022-06-11T17:10:54.290Z"
   },
   {
    "duration": 155770,
    "start_time": "2022-06-11T17:11:48.380Z"
   },
   {
    "duration": 38909,
    "start_time": "2022-06-11T17:17:10.023Z"
   },
   {
    "duration": 4,
    "start_time": "2022-06-11T17:18:27.081Z"
   },
   {
    "duration": 32149,
    "start_time": "2022-06-11T17:20:43.385Z"
   },
   {
    "duration": 3,
    "start_time": "2022-06-11T17:30:56.788Z"
   },
   {
    "duration": 9,
    "start_time": "2022-06-11T17:37:59.818Z"
   },
   {
    "duration": 1301,
    "start_time": "2022-06-11T17:46:11.117Z"
   },
   {
    "duration": 784,
    "start_time": "2022-06-11T17:46:12.420Z"
   },
   {
    "duration": 148,
    "start_time": "2022-06-11T17:46:13.206Z"
   },
   {
    "duration": 91,
    "start_time": "2022-06-11T17:46:13.356Z"
   },
   {
    "duration": 421,
    "start_time": "2022-06-11T17:46:13.449Z"
   },
   {
    "duration": 132,
    "start_time": "2022-06-11T17:46:13.872Z"
   },
   {
    "duration": 118,
    "start_time": "2022-06-11T17:46:14.006Z"
   },
   {
    "duration": 562,
    "start_time": "2022-06-11T17:46:14.127Z"
   },
   {
    "duration": 55,
    "start_time": "2022-06-11T17:46:14.690Z"
   },
   {
    "duration": 24,
    "start_time": "2022-06-11T17:46:14.747Z"
   },
   {
    "duration": 198,
    "start_time": "2022-06-11T17:46:14.772Z"
   },
   {
    "duration": 157,
    "start_time": "2022-06-11T17:46:14.972Z"
   },
   {
    "duration": 197,
    "start_time": "2022-06-11T17:46:15.131Z"
   },
   {
    "duration": 26,
    "start_time": "2022-06-11T17:46:15.331Z"
   },
   {
    "duration": 103,
    "start_time": "2022-06-11T17:46:15.359Z"
   },
   {
    "duration": 69,
    "start_time": "2022-06-11T17:46:15.464Z"
   },
   {
    "duration": 523,
    "start_time": "2022-06-11T17:46:15.534Z"
   },
   {
    "duration": 27,
    "start_time": "2022-06-11T17:46:16.059Z"
   },
   {
    "duration": 536,
    "start_time": "2022-06-11T17:46:16.088Z"
   },
   {
    "duration": 26,
    "start_time": "2022-06-11T17:46:16.627Z"
   },
   {
    "duration": 73,
    "start_time": "2022-06-11T17:46:16.655Z"
   },
   {
    "duration": 522,
    "start_time": "2022-06-11T17:46:16.729Z"
   },
   {
    "duration": 314,
    "start_time": "2022-06-11T17:46:17.253Z"
   },
   {
    "duration": 107,
    "start_time": "2022-06-11T17:46:17.569Z"
   },
   {
    "duration": 5,
    "start_time": "2022-06-11T17:46:17.678Z"
   },
   {
    "duration": 28944,
    "start_time": "2022-06-11T17:46:17.684Z"
   },
   {
    "duration": 6,
    "start_time": "2022-06-11T17:46:46.630Z"
   },
   {
    "duration": 23308,
    "start_time": "2022-06-11T17:46:46.726Z"
   },
   {
    "duration": 68983,
    "start_time": "2022-06-11T17:47:10.035Z"
   },
   {
    "duration": 8,
    "start_time": "2022-06-11T17:48:19.020Z"
   },
   {
    "duration": 155579,
    "start_time": "2022-06-11T17:48:19.029Z"
   },
   {
    "duration": 0,
    "start_time": "2022-06-11T17:50:54.610Z"
   },
   {
    "duration": 0,
    "start_time": "2022-06-11T17:50:54.613Z"
   },
   {
    "duration": 0,
    "start_time": "2022-06-11T17:50:54.616Z"
   },
   {
    "duration": 0,
    "start_time": "2022-06-11T17:50:54.618Z"
   },
   {
    "duration": 0,
    "start_time": "2022-06-11T17:50:54.628Z"
   },
   {
    "duration": 0,
    "start_time": "2022-06-11T17:50:54.629Z"
   },
   {
    "duration": 0,
    "start_time": "2022-06-11T17:50:54.630Z"
   },
   {
    "duration": 1,
    "start_time": "2022-06-11T17:50:54.631Z"
   },
   {
    "duration": 0,
    "start_time": "2022-06-11T17:50:54.633Z"
   },
   {
    "duration": 0,
    "start_time": "2022-06-11T17:50:54.634Z"
   },
   {
    "duration": 1193,
    "start_time": "2022-06-11T17:52:31.791Z"
   },
   {
    "duration": 788,
    "start_time": "2022-06-11T17:52:32.986Z"
   },
   {
    "duration": 134,
    "start_time": "2022-06-11T17:52:33.776Z"
   },
   {
    "duration": 92,
    "start_time": "2022-06-11T17:52:33.911Z"
   },
   {
    "duration": 410,
    "start_time": "2022-06-11T17:52:34.005Z"
   },
   {
    "duration": 116,
    "start_time": "2022-06-11T17:52:34.417Z"
   },
   {
    "duration": 123,
    "start_time": "2022-06-11T17:52:34.534Z"
   },
   {
    "duration": 561,
    "start_time": "2022-06-11T17:52:34.658Z"
   },
   {
    "duration": 60,
    "start_time": "2022-06-11T17:52:35.220Z"
   },
   {
    "duration": 26,
    "start_time": "2022-06-11T17:52:35.282Z"
   },
   {
    "duration": 188,
    "start_time": "2022-06-11T17:52:35.310Z"
   },
   {
    "duration": 178,
    "start_time": "2022-06-11T17:52:35.500Z"
   },
   {
    "duration": 225,
    "start_time": "2022-06-11T17:52:35.679Z"
   },
   {
    "duration": 30,
    "start_time": "2022-06-11T17:52:35.907Z"
   },
   {
    "duration": 99,
    "start_time": "2022-06-11T17:52:35.939Z"
   },
   {
    "duration": 62,
    "start_time": "2022-06-11T17:52:36.040Z"
   },
   {
    "duration": 562,
    "start_time": "2022-06-11T17:52:36.103Z"
   },
   {
    "duration": 30,
    "start_time": "2022-06-11T17:52:36.667Z"
   },
   {
    "duration": 491,
    "start_time": "2022-06-11T17:52:36.699Z"
   },
   {
    "duration": 26,
    "start_time": "2022-06-11T17:52:37.192Z"
   },
   {
    "duration": 76,
    "start_time": "2022-06-11T17:52:37.220Z"
   },
   {
    "duration": 509,
    "start_time": "2022-06-11T17:52:37.298Z"
   },
   {
    "duration": 312,
    "start_time": "2022-06-11T17:52:37.809Z"
   },
   {
    "duration": 104,
    "start_time": "2022-06-11T17:52:38.127Z"
   },
   {
    "duration": 4,
    "start_time": "2022-06-11T17:52:38.232Z"
   },
   {
    "duration": 17590,
    "start_time": "2022-06-11T17:52:38.238Z"
   },
   {
    "duration": 9,
    "start_time": "2022-06-11T17:52:55.830Z"
   },
   {
    "duration": 22860,
    "start_time": "2022-06-11T17:52:55.928Z"
   },
   {
    "duration": 67748,
    "start_time": "2022-06-11T17:53:18.789Z"
   },
   {
    "duration": 3,
    "start_time": "2022-06-11T17:54:26.539Z"
   },
   {
    "duration": 18297,
    "start_time": "2022-06-11T17:54:26.544Z"
   },
   {
    "duration": 5,
    "start_time": "2022-06-11T17:54:44.842Z"
   },
   {
    "duration": 26990,
    "start_time": "2022-06-11T17:54:44.848Z"
   },
   {
    "duration": 303,
    "start_time": "2022-06-11T17:55:11.926Z"
   },
   {
    "duration": 7,
    "start_time": "2022-06-11T17:55:12.232Z"
   },
   {
    "duration": 36293,
    "start_time": "2022-06-11T17:55:12.328Z"
   },
   {
    "duration": 103,
    "start_time": "2022-06-11T17:55:48.627Z"
   },
   {
    "duration": 5,
    "start_time": "2022-06-11T17:55:48.731Z"
   },
   {
    "duration": 6,
    "start_time": "2022-06-11T17:55:48.738Z"
   },
   {
    "duration": 5694,
    "start_time": "2022-06-11T17:55:48.745Z"
   },
   {
    "duration": 694,
    "start_time": "2022-06-11T17:55:54.442Z"
   },
   {
    "duration": 5,
    "start_time": "2022-06-11T17:55:55.137Z"
   },
   {
    "duration": 6,
    "start_time": "2022-06-11T17:55:55.143Z"
   },
   {
    "duration": 5,
    "start_time": "2022-06-11T17:55:55.151Z"
   },
   {
    "duration": 78,
    "start_time": "2022-06-11T17:55:55.158Z"
   },
   {
    "duration": 10,
    "start_time": "2022-06-11T17:57:43.638Z"
   },
   {
    "duration": 13,
    "start_time": "2022-06-11T18:04:06.315Z"
   },
   {
    "duration": 44,
    "start_time": "2022-06-12T04:23:41.183Z"
   },
   {
    "duration": 1600,
    "start_time": "2022-06-12T10:34:51.140Z"
   },
   {
    "duration": 1316,
    "start_time": "2022-06-12T10:34:52.742Z"
   },
   {
    "duration": 173,
    "start_time": "2022-06-12T10:34:54.060Z"
   },
   {
    "duration": 108,
    "start_time": "2022-06-12T10:34:54.235Z"
   },
   {
    "duration": 535,
    "start_time": "2022-06-12T10:34:54.345Z"
   },
   {
    "duration": 140,
    "start_time": "2022-06-12T10:34:54.882Z"
   },
   {
    "duration": 167,
    "start_time": "2022-06-12T10:34:55.024Z"
   },
   {
    "duration": 680,
    "start_time": "2022-06-12T10:34:55.194Z"
   },
   {
    "duration": 74,
    "start_time": "2022-06-12T10:34:55.876Z"
   },
   {
    "duration": 41,
    "start_time": "2022-06-12T10:34:55.953Z"
   },
   {
    "duration": 291,
    "start_time": "2022-06-12T10:34:55.998Z"
   },
   {
    "duration": 203,
    "start_time": "2022-06-12T10:34:56.300Z"
   },
   {
    "duration": 248,
    "start_time": "2022-06-12T10:34:56.506Z"
   },
   {
    "duration": 27,
    "start_time": "2022-06-12T10:34:56.756Z"
   },
   {
    "duration": 129,
    "start_time": "2022-06-12T10:34:56.795Z"
   },
   {
    "duration": 84,
    "start_time": "2022-06-12T10:34:56.926Z"
   },
   {
    "duration": 583,
    "start_time": "2022-06-12T10:34:57.015Z"
   },
   {
    "duration": 33,
    "start_time": "2022-06-12T10:34:57.600Z"
   },
   {
    "duration": 726,
    "start_time": "2022-06-12T10:34:57.634Z"
   },
   {
    "duration": 34,
    "start_time": "2022-06-12T10:34:58.363Z"
   },
   {
    "duration": 77,
    "start_time": "2022-06-12T10:34:58.399Z"
   },
   {
    "duration": 1242,
    "start_time": "2022-06-12T10:34:58.478Z"
   },
   {
    "duration": 579,
    "start_time": "2022-06-12T10:34:59.722Z"
   },
   {
    "duration": 308,
    "start_time": "2022-06-12T10:35:00.308Z"
   },
   {
    "duration": 46580,
    "start_time": "2022-06-12T10:35:00.618Z"
   },
   {
    "duration": 17,
    "start_time": "2022-06-12T10:35:47.203Z"
   },
   {
    "duration": 25049,
    "start_time": "2022-06-12T10:35:47.298Z"
   },
   {
    "duration": 87484,
    "start_time": "2022-06-12T10:36:12.352Z"
   },
   {
    "duration": 3,
    "start_time": "2022-06-12T10:37:39.838Z"
   },
   {
    "duration": 1554,
    "start_time": "2022-06-12T10:38:11.254Z"
   },
   {
    "duration": 992,
    "start_time": "2022-06-12T10:38:12.814Z"
   },
   {
    "duration": 157,
    "start_time": "2022-06-12T10:38:13.808Z"
   },
   {
    "duration": 143,
    "start_time": "2022-06-12T10:38:13.967Z"
   },
   {
    "duration": 556,
    "start_time": "2022-06-12T10:38:14.112Z"
   },
   {
    "duration": 199,
    "start_time": "2022-06-12T10:38:14.670Z"
   },
   {
    "duration": 179,
    "start_time": "2022-06-12T10:38:14.871Z"
   },
   {
    "duration": 764,
    "start_time": "2022-06-12T10:38:15.052Z"
   },
   {
    "duration": 83,
    "start_time": "2022-06-12T10:38:15.818Z"
   },
   {
    "duration": 47,
    "start_time": "2022-06-12T10:38:15.904Z"
   },
   {
    "duration": 325,
    "start_time": "2022-06-12T10:38:15.953Z"
   },
   {
    "duration": 258,
    "start_time": "2022-06-12T10:38:16.280Z"
   },
   {
    "duration": 307,
    "start_time": "2022-06-12T10:38:16.540Z"
   },
   {
    "duration": 31,
    "start_time": "2022-06-12T10:38:16.849Z"
   },
   {
    "duration": 116,
    "start_time": "2022-06-12T10:38:16.882Z"
   },
   {
    "duration": 89,
    "start_time": "2022-06-12T10:38:17.002Z"
   },
   {
    "duration": 649,
    "start_time": "2022-06-12T10:38:17.098Z"
   },
   {
    "duration": 25,
    "start_time": "2022-06-12T10:38:17.749Z"
   },
   {
    "duration": 612,
    "start_time": "2022-06-12T10:38:17.776Z"
   },
   {
    "duration": 35,
    "start_time": "2022-06-12T10:38:18.390Z"
   },
   {
    "duration": 104,
    "start_time": "2022-06-12T10:38:18.427Z"
   },
   {
    "duration": 839,
    "start_time": "2022-06-12T10:38:18.533Z"
   },
   {
    "duration": 538,
    "start_time": "2022-06-12T10:38:19.374Z"
   },
   {
    "duration": 121,
    "start_time": "2022-06-12T10:38:19.914Z"
   },
   {
    "duration": 54675,
    "start_time": "2022-06-12T10:38:20.038Z"
   },
   {
    "duration": 23,
    "start_time": "2022-06-12T10:39:14.793Z"
   },
   {
    "duration": 26733,
    "start_time": "2022-06-12T10:39:14.818Z"
   },
   {
    "duration": 80359,
    "start_time": "2022-06-12T10:39:41.555Z"
   },
   {
    "duration": 4,
    "start_time": "2022-06-12T10:41:01.917Z"
   },
   {
    "duration": 135978,
    "start_time": "2022-06-12T10:41:01.923Z"
   },
   {
    "duration": 7,
    "start_time": "2022-06-12T10:43:17.907Z"
   },
   {
    "duration": 37830,
    "start_time": "2022-06-12T10:43:17.916Z"
   },
   {
    "duration": 548,
    "start_time": "2022-06-12T10:43:55.748Z"
   },
   {
    "duration": 11,
    "start_time": "2022-06-12T10:43:56.299Z"
   },
   {
    "duration": 46036,
    "start_time": "2022-06-12T10:43:56.313Z"
   },
   {
    "duration": 145,
    "start_time": "2022-06-12T10:44:42.351Z"
   },
   {
    "duration": 11,
    "start_time": "2022-06-12T10:44:42.500Z"
   },
   {
    "duration": 26,
    "start_time": "2022-06-12T10:44:42.513Z"
   },
   {
    "duration": 164564,
    "start_time": "2022-06-12T10:44:42.541Z"
   },
   {
    "duration": 929,
    "start_time": "2022-06-12T10:47:27.109Z"
   },
   {
    "duration": 57,
    "start_time": "2022-06-12T10:47:28.040Z"
   },
   {
    "duration": 30,
    "start_time": "2022-06-12T10:47:28.098Z"
   },
   {
    "duration": 8,
    "start_time": "2022-06-12T10:47:28.130Z"
   },
   {
    "duration": 14,
    "start_time": "2022-06-12T10:47:28.139Z"
   },
   {
    "duration": 13,
    "start_time": "2022-06-12T10:50:04.804Z"
   }
  ],
  "kernelspec": {
   "display_name": "Python 3",
   "language": "python",
   "name": "python3"
  },
  "language_info": {
   "codemirror_mode": {
    "name": "ipython",
    "version": 3
   },
   "file_extension": ".py",
   "mimetype": "text/x-python",
   "name": "python",
   "nbconvert_exporter": "python",
   "pygments_lexer": "ipython3",
   "version": "3.7.4"
  },
  "toc": {
   "base_numbering": 1,
   "nav_menu": {},
   "number_sections": true,
   "sideBar": true,
   "skip_h1_title": true,
   "title_cell": "Table of Contents",
   "title_sidebar": "Contents",
   "toc_cell": false,
   "toc_position": {
    "height": "calc(100% - 180px)",
    "left": "10px",
    "top": "150px",
    "width": "165px"
   },
   "toc_section_display": true,
   "toc_window_display": true
  }
 },
 "nbformat": 4,
 "nbformat_minor": 2
}
